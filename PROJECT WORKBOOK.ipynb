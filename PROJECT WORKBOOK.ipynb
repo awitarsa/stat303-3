{
 "cells": [
  {
   "cell_type": "code",
   "execution_count": 1,
   "id": "468a8e2e",
   "metadata": {},
   "outputs": [],
   "source": [
    "import warnings\n",
    "warnings.filterwarnings(\"ignore\")\n",
    "\n",
    "import pandas as pd\n",
    "import numpy as np\n",
    "import statsmodels.formula.api as smf\n",
    "import statsmodels.api as sm\n",
    "import seaborn as sns\n",
    "import matplotlib.pyplot as plt\n",
    "from patsy import dmatrix\n",
    "from sklearn.metrics import mean_squared_error\n",
    "from pyearth import Earth\n",
    "from sklearn.metrics import roc_curve, precision_recall_curve, auc, make_scorer, recall_score, accuracy_score, precision_score, confusion_matrix\n",
    "from sklearn.linear_model import LinearRegression, LogisticRegression\n",
    "from sklearn.model_selection import train_test_split, cross_val_predict, cross_val_score, cross_validate\n",
    "from patsy import dmatrix\n",
    "import statsmodels.formula.api as smf\n",
    "from sklearn.model_selection import cross_val_predict\n",
    "from sklearn.metrics import accuracy_score, mean_absolute_error, mean_squared_error, r2_score, roc_curve, auc, precision_score, recall_score, confusion_matrix\n",
    "\n",
    "from sklearn.model_selection import KFold, StratifiedKFold\n",
    "from sklearn.tree import DecisionTreeRegressor, DecisionTreeClassifier\n",
    "from sklearn.model_selection import GridSearchCV, ParameterGrid\n",
    "from sklearn.ensemble import BaggingRegressor,BaggingClassifier,RandomForestClassifier, RandomForestRegressor\n",
    "from sklearn.linear_model import LinearRegression\n",
    "from sklearn.metrics import SCORERS\n",
    "\n",
    "#Libraries for visualizing trees\n",
    "from sklearn.tree import export_graphviz\n",
    "from six import StringIO\n",
    "from IPython.display import Image\n",
    "\n",
    "#import pydotplus\n",
    "import time as tm\n",
    "\n",
    "import itertools as it"
   ]
  },
  {
   "cell_type": "code",
   "execution_count": 2,
   "id": "f444cd3d",
   "metadata": {},
   "outputs": [],
   "source": [
    "import pandas as pd\n",
    "import numpy as np\n",
    "import seaborn as sns\n",
    "import matplotlib.pyplot as plt\n",
    "from sklearn.metrics import mean_squared_error\n",
    "from sklearn.model_selection import cross_val_score,train_test_split, KFold, cross_val_predict\n",
    "from sklearn.metrics import mean_squared_error,r2_score,roc_curve,auc,precision_recall_curve, accuracy_score, \\\n",
    "recall_score, precision_score, confusion_matrix\n",
    "from sklearn.tree import DecisionTreeRegressor,DecisionTreeClassifier\n",
    "from sklearn.model_selection import GridSearchCV, ParameterGrid, StratifiedKFold, RandomizedSearchCV\n",
    "from sklearn.ensemble import VotingRegressor, VotingClassifier, StackingRegressor, StackingClassifier, GradientBoostingRegressor,GradientBoostingClassifier, BaggingRegressor,BaggingClassifier,RandomForestRegressor,RandomForestClassifier,AdaBoostRegressor,AdaBoostClassifier\n",
    "from sklearn.linear_model import LinearRegression,LogisticRegression, LassoCV, RidgeCV, ElasticNetCV\n",
    "from sklearn.neighbors import KNeighborsRegressor\n",
    "import itertools as it\n",
    "import time as time\n",
    "import xgboost as xgb"
   ]
  },
  {
   "cell_type": "code",
   "execution_count": 91,
   "id": "96493c4d",
   "metadata": {},
   "outputs": [
    {
     "data": {
      "text/html": [
       "<div>\n",
       "<style scoped>\n",
       "    .dataframe tbody tr th:only-of-type {\n",
       "        vertical-align: middle;\n",
       "    }\n",
       "\n",
       "    .dataframe tbody tr th {\n",
       "        vertical-align: top;\n",
       "    }\n",
       "\n",
       "    .dataframe thead th {\n",
       "        text-align: right;\n",
       "    }\n",
       "</style>\n",
       "<table border=\"1\" class=\"dataframe\">\n",
       "  <thead>\n",
       "    <tr style=\"text-align: right;\">\n",
       "      <th></th>\n",
       "      <th>ID</th>\n",
       "      <th>Customer_ID</th>\n",
       "      <th>Month</th>\n",
       "      <th>Name</th>\n",
       "      <th>Age</th>\n",
       "      <th>SSN</th>\n",
       "      <th>Occupation</th>\n",
       "      <th>Annual_Income</th>\n",
       "      <th>Monthly_Inhand_Salary</th>\n",
       "      <th>Num_Bank_Accounts</th>\n",
       "      <th>...</th>\n",
       "      <th>Credit_Mix</th>\n",
       "      <th>Outstanding_Debt</th>\n",
       "      <th>Credit_Utilization_Ratio</th>\n",
       "      <th>Credit_History_Age</th>\n",
       "      <th>Payment_of_Min_Amount</th>\n",
       "      <th>Total_EMI_per_month</th>\n",
       "      <th>Amount_invested_monthly</th>\n",
       "      <th>Payment_Behaviour</th>\n",
       "      <th>Monthly_Balance</th>\n",
       "      <th>Credit_Score</th>\n",
       "    </tr>\n",
       "  </thead>\n",
       "  <tbody>\n",
       "    <tr>\n",
       "      <th>0</th>\n",
       "      <td>0x1602</td>\n",
       "      <td>CUS_0xd40</td>\n",
       "      <td>January</td>\n",
       "      <td>Aaron Maashoh</td>\n",
       "      <td>23</td>\n",
       "      <td>821-00-0265</td>\n",
       "      <td>Scientist</td>\n",
       "      <td>19114.12</td>\n",
       "      <td>1824.843333</td>\n",
       "      <td>3</td>\n",
       "      <td>...</td>\n",
       "      <td>_</td>\n",
       "      <td>809.98</td>\n",
       "      <td>26.822620</td>\n",
       "      <td>22 Years and 1 Months</td>\n",
       "      <td>No</td>\n",
       "      <td>49.574949</td>\n",
       "      <td>80.41529543900253</td>\n",
       "      <td>High_spent_Small_value_payments</td>\n",
       "      <td>312.49408867943663</td>\n",
       "      <td>Good</td>\n",
       "    </tr>\n",
       "    <tr>\n",
       "      <th>1</th>\n",
       "      <td>0x1603</td>\n",
       "      <td>CUS_0xd40</td>\n",
       "      <td>February</td>\n",
       "      <td>Aaron Maashoh</td>\n",
       "      <td>23</td>\n",
       "      <td>821-00-0265</td>\n",
       "      <td>Scientist</td>\n",
       "      <td>19114.12</td>\n",
       "      <td>NaN</td>\n",
       "      <td>3</td>\n",
       "      <td>...</td>\n",
       "      <td>Good</td>\n",
       "      <td>809.98</td>\n",
       "      <td>31.944960</td>\n",
       "      <td>NaN</td>\n",
       "      <td>No</td>\n",
       "      <td>49.574949</td>\n",
       "      <td>118.28022162236736</td>\n",
       "      <td>Low_spent_Large_value_payments</td>\n",
       "      <td>284.62916249607184</td>\n",
       "      <td>Good</td>\n",
       "    </tr>\n",
       "    <tr>\n",
       "      <th>2</th>\n",
       "      <td>0x1604</td>\n",
       "      <td>CUS_0xd40</td>\n",
       "      <td>March</td>\n",
       "      <td>Aaron Maashoh</td>\n",
       "      <td>-500</td>\n",
       "      <td>821-00-0265</td>\n",
       "      <td>Scientist</td>\n",
       "      <td>19114.12</td>\n",
       "      <td>NaN</td>\n",
       "      <td>3</td>\n",
       "      <td>...</td>\n",
       "      <td>Good</td>\n",
       "      <td>809.98</td>\n",
       "      <td>28.609352</td>\n",
       "      <td>22 Years and 3 Months</td>\n",
       "      <td>No</td>\n",
       "      <td>49.574949</td>\n",
       "      <td>81.699521264648</td>\n",
       "      <td>Low_spent_Medium_value_payments</td>\n",
       "      <td>331.2098628537912</td>\n",
       "      <td>Good</td>\n",
       "    </tr>\n",
       "    <tr>\n",
       "      <th>3</th>\n",
       "      <td>0x1605</td>\n",
       "      <td>CUS_0xd40</td>\n",
       "      <td>April</td>\n",
       "      <td>Aaron Maashoh</td>\n",
       "      <td>23</td>\n",
       "      <td>821-00-0265</td>\n",
       "      <td>Scientist</td>\n",
       "      <td>19114.12</td>\n",
       "      <td>NaN</td>\n",
       "      <td>3</td>\n",
       "      <td>...</td>\n",
       "      <td>Good</td>\n",
       "      <td>809.98</td>\n",
       "      <td>31.377862</td>\n",
       "      <td>22 Years and 4 Months</td>\n",
       "      <td>No</td>\n",
       "      <td>49.574949</td>\n",
       "      <td>199.4580743910713</td>\n",
       "      <td>Low_spent_Small_value_payments</td>\n",
       "      <td>223.45130972736786</td>\n",
       "      <td>Good</td>\n",
       "    </tr>\n",
       "    <tr>\n",
       "      <th>4</th>\n",
       "      <td>0x1606</td>\n",
       "      <td>CUS_0xd40</td>\n",
       "      <td>May</td>\n",
       "      <td>Aaron Maashoh</td>\n",
       "      <td>23</td>\n",
       "      <td>821-00-0265</td>\n",
       "      <td>Scientist</td>\n",
       "      <td>19114.12</td>\n",
       "      <td>1824.843333</td>\n",
       "      <td>3</td>\n",
       "      <td>...</td>\n",
       "      <td>Good</td>\n",
       "      <td>809.98</td>\n",
       "      <td>24.797347</td>\n",
       "      <td>22 Years and 5 Months</td>\n",
       "      <td>No</td>\n",
       "      <td>49.574949</td>\n",
       "      <td>41.420153086217326</td>\n",
       "      <td>High_spent_Medium_value_payments</td>\n",
       "      <td>341.48923103222177</td>\n",
       "      <td>Good</td>\n",
       "    </tr>\n",
       "    <tr>\n",
       "      <th>...</th>\n",
       "      <td>...</td>\n",
       "      <td>...</td>\n",
       "      <td>...</td>\n",
       "      <td>...</td>\n",
       "      <td>...</td>\n",
       "      <td>...</td>\n",
       "      <td>...</td>\n",
       "      <td>...</td>\n",
       "      <td>...</td>\n",
       "      <td>...</td>\n",
       "      <td>...</td>\n",
       "      <td>...</td>\n",
       "      <td>...</td>\n",
       "      <td>...</td>\n",
       "      <td>...</td>\n",
       "      <td>...</td>\n",
       "      <td>...</td>\n",
       "      <td>...</td>\n",
       "      <td>...</td>\n",
       "      <td>...</td>\n",
       "      <td>...</td>\n",
       "    </tr>\n",
       "    <tr>\n",
       "      <th>99995</th>\n",
       "      <td>0x25fe9</td>\n",
       "      <td>CUS_0x942c</td>\n",
       "      <td>April</td>\n",
       "      <td>Nicks</td>\n",
       "      <td>25</td>\n",
       "      <td>078-73-5990</td>\n",
       "      <td>Mechanic</td>\n",
       "      <td>39628.99</td>\n",
       "      <td>3359.415833</td>\n",
       "      <td>4</td>\n",
       "      <td>...</td>\n",
       "      <td>_</td>\n",
       "      <td>502.38</td>\n",
       "      <td>34.663572</td>\n",
       "      <td>31 Years and 6 Months</td>\n",
       "      <td>No</td>\n",
       "      <td>35.104023</td>\n",
       "      <td>60.97133255718485</td>\n",
       "      <td>High_spent_Large_value_payments</td>\n",
       "      <td>479.866228</td>\n",
       "      <td>Poor</td>\n",
       "    </tr>\n",
       "    <tr>\n",
       "      <th>99996</th>\n",
       "      <td>0x25fea</td>\n",
       "      <td>CUS_0x942c</td>\n",
       "      <td>May</td>\n",
       "      <td>Nicks</td>\n",
       "      <td>25</td>\n",
       "      <td>078-73-5990</td>\n",
       "      <td>Mechanic</td>\n",
       "      <td>39628.99</td>\n",
       "      <td>3359.415833</td>\n",
       "      <td>4</td>\n",
       "      <td>...</td>\n",
       "      <td>_</td>\n",
       "      <td>502.38</td>\n",
       "      <td>40.565631</td>\n",
       "      <td>31 Years and 7 Months</td>\n",
       "      <td>No</td>\n",
       "      <td>35.104023</td>\n",
       "      <td>54.18595028760385</td>\n",
       "      <td>High_spent_Medium_value_payments</td>\n",
       "      <td>496.65161</td>\n",
       "      <td>Poor</td>\n",
       "    </tr>\n",
       "    <tr>\n",
       "      <th>99997</th>\n",
       "      <td>0x25feb</td>\n",
       "      <td>CUS_0x942c</td>\n",
       "      <td>June</td>\n",
       "      <td>Nicks</td>\n",
       "      <td>25</td>\n",
       "      <td>078-73-5990</td>\n",
       "      <td>Mechanic</td>\n",
       "      <td>39628.99</td>\n",
       "      <td>3359.415833</td>\n",
       "      <td>4</td>\n",
       "      <td>...</td>\n",
       "      <td>Good</td>\n",
       "      <td>502.38</td>\n",
       "      <td>41.255522</td>\n",
       "      <td>31 Years and 8 Months</td>\n",
       "      <td>No</td>\n",
       "      <td>35.104023</td>\n",
       "      <td>24.02847744864441</td>\n",
       "      <td>High_spent_Large_value_payments</td>\n",
       "      <td>516.809083</td>\n",
       "      <td>Poor</td>\n",
       "    </tr>\n",
       "    <tr>\n",
       "      <th>99998</th>\n",
       "      <td>0x25fec</td>\n",
       "      <td>CUS_0x942c</td>\n",
       "      <td>July</td>\n",
       "      <td>Nicks</td>\n",
       "      <td>25</td>\n",
       "      <td>078-73-5990</td>\n",
       "      <td>Mechanic</td>\n",
       "      <td>39628.99</td>\n",
       "      <td>3359.415833</td>\n",
       "      <td>4</td>\n",
       "      <td>...</td>\n",
       "      <td>Good</td>\n",
       "      <td>502.38</td>\n",
       "      <td>33.638208</td>\n",
       "      <td>31 Years and 9 Months</td>\n",
       "      <td>No</td>\n",
       "      <td>35.104023</td>\n",
       "      <td>251.67258219721603</td>\n",
       "      <td>Low_spent_Large_value_payments</td>\n",
       "      <td>319.164979</td>\n",
       "      <td>Standard</td>\n",
       "    </tr>\n",
       "    <tr>\n",
       "      <th>99999</th>\n",
       "      <td>0x25fed</td>\n",
       "      <td>CUS_0x942c</td>\n",
       "      <td>August</td>\n",
       "      <td>Nicks</td>\n",
       "      <td>25</td>\n",
       "      <td>078-73-5990</td>\n",
       "      <td>Mechanic</td>\n",
       "      <td>39628.99_</td>\n",
       "      <td>3359.415833</td>\n",
       "      <td>4</td>\n",
       "      <td>...</td>\n",
       "      <td>Good</td>\n",
       "      <td>502.38</td>\n",
       "      <td>34.192463</td>\n",
       "      <td>31 Years and 10 Months</td>\n",
       "      <td>No</td>\n",
       "      <td>35.104023</td>\n",
       "      <td>167.1638651610451</td>\n",
       "      <td>!@9#%8</td>\n",
       "      <td>393.673696</td>\n",
       "      <td>Poor</td>\n",
       "    </tr>\n",
       "  </tbody>\n",
       "</table>\n",
       "<p>100000 rows × 28 columns</p>\n",
       "</div>"
      ],
      "text/plain": [
       "            ID Customer_ID     Month           Name   Age          SSN  \\\n",
       "0       0x1602   CUS_0xd40   January  Aaron Maashoh    23  821-00-0265   \n",
       "1       0x1603   CUS_0xd40  February  Aaron Maashoh    23  821-00-0265   \n",
       "2       0x1604   CUS_0xd40     March  Aaron Maashoh  -500  821-00-0265   \n",
       "3       0x1605   CUS_0xd40     April  Aaron Maashoh    23  821-00-0265   \n",
       "4       0x1606   CUS_0xd40       May  Aaron Maashoh    23  821-00-0265   \n",
       "...        ...         ...       ...            ...   ...          ...   \n",
       "99995  0x25fe9  CUS_0x942c     April          Nicks    25  078-73-5990   \n",
       "99996  0x25fea  CUS_0x942c       May          Nicks    25  078-73-5990   \n",
       "99997  0x25feb  CUS_0x942c      June          Nicks    25  078-73-5990   \n",
       "99998  0x25fec  CUS_0x942c      July          Nicks    25  078-73-5990   \n",
       "99999  0x25fed  CUS_0x942c    August          Nicks    25  078-73-5990   \n",
       "\n",
       "      Occupation Annual_Income  Monthly_Inhand_Salary  Num_Bank_Accounts  ...  \\\n",
       "0      Scientist      19114.12            1824.843333                  3  ...   \n",
       "1      Scientist      19114.12                    NaN                  3  ...   \n",
       "2      Scientist      19114.12                    NaN                  3  ...   \n",
       "3      Scientist      19114.12                    NaN                  3  ...   \n",
       "4      Scientist      19114.12            1824.843333                  3  ...   \n",
       "...          ...           ...                    ...                ...  ...   \n",
       "99995   Mechanic      39628.99            3359.415833                  4  ...   \n",
       "99996   Mechanic      39628.99            3359.415833                  4  ...   \n",
       "99997   Mechanic      39628.99            3359.415833                  4  ...   \n",
       "99998   Mechanic      39628.99            3359.415833                  4  ...   \n",
       "99999   Mechanic     39628.99_            3359.415833                  4  ...   \n",
       "\n",
       "       Credit_Mix  Outstanding_Debt Credit_Utilization_Ratio  \\\n",
       "0               _            809.98                26.822620   \n",
       "1            Good            809.98                31.944960   \n",
       "2            Good            809.98                28.609352   \n",
       "3            Good            809.98                31.377862   \n",
       "4            Good            809.98                24.797347   \n",
       "...           ...               ...                      ...   \n",
       "99995           _            502.38                34.663572   \n",
       "99996           _            502.38                40.565631   \n",
       "99997        Good            502.38                41.255522   \n",
       "99998        Good            502.38                33.638208   \n",
       "99999        Good            502.38                34.192463   \n",
       "\n",
       "           Credit_History_Age  Payment_of_Min_Amount Total_EMI_per_month  \\\n",
       "0       22 Years and 1 Months                     No           49.574949   \n",
       "1                         NaN                     No           49.574949   \n",
       "2       22 Years and 3 Months                     No           49.574949   \n",
       "3       22 Years and 4 Months                     No           49.574949   \n",
       "4       22 Years and 5 Months                     No           49.574949   \n",
       "...                       ...                    ...                 ...   \n",
       "99995   31 Years and 6 Months                     No           35.104023   \n",
       "99996   31 Years and 7 Months                     No           35.104023   \n",
       "99997   31 Years and 8 Months                     No           35.104023   \n",
       "99998   31 Years and 9 Months                     No           35.104023   \n",
       "99999  31 Years and 10 Months                     No           35.104023   \n",
       "\n",
       "      Amount_invested_monthly                 Payment_Behaviour  \\\n",
       "0           80.41529543900253   High_spent_Small_value_payments   \n",
       "1          118.28022162236736    Low_spent_Large_value_payments   \n",
       "2             81.699521264648   Low_spent_Medium_value_payments   \n",
       "3           199.4580743910713    Low_spent_Small_value_payments   \n",
       "4          41.420153086217326  High_spent_Medium_value_payments   \n",
       "...                       ...                               ...   \n",
       "99995       60.97133255718485   High_spent_Large_value_payments   \n",
       "99996       54.18595028760385  High_spent_Medium_value_payments   \n",
       "99997       24.02847744864441   High_spent_Large_value_payments   \n",
       "99998      251.67258219721603    Low_spent_Large_value_payments   \n",
       "99999       167.1638651610451                            !@9#%8   \n",
       "\n",
       "          Monthly_Balance Credit_Score  \n",
       "0      312.49408867943663         Good  \n",
       "1      284.62916249607184         Good  \n",
       "2       331.2098628537912         Good  \n",
       "3      223.45130972736786         Good  \n",
       "4      341.48923103222177         Good  \n",
       "...                   ...          ...  \n",
       "99995          479.866228         Poor  \n",
       "99996           496.65161         Poor  \n",
       "99997          516.809083         Poor  \n",
       "99998          319.164979     Standard  \n",
       "99999          393.673696         Poor  \n",
       "\n",
       "[100000 rows x 28 columns]"
      ]
     },
     "execution_count": 91,
     "metadata": {},
     "output_type": "execute_result"
    }
   ],
   "source": [
    "train = pd.read_csv('train.csv')\n",
    "train"
   ]
  },
  {
   "cell_type": "markdown",
   "id": "6bbc8503",
   "metadata": {},
   "source": [
    "# Data quality check / cleaning / preparation¶"
   ]
  },
  {
   "cell_type": "markdown",
   "id": "e9be700c",
   "metadata": {},
   "source": [
    "### Cleaning - Training Data"
   ]
  },
  {
   "cell_type": "code",
   "execution_count": 3,
   "id": "2cb68a81",
   "metadata": {},
   "outputs": [],
   "source": [
    "train = pd.read_csv('train.csv')\n",
    "test = pd.read_csv('test.csv')\n",
    "\n",
    "\n",
    "\n",
    "# Create Credit Ratings based on Investopedia Values\n",
    "train['Credit_Rating'] = 0\n",
    "train['Credit_Rating'] = np.where(train['Credit_Score'] == 'Good',\n",
    "                          np.random.uniform(670, 730, size=len(train)),\n",
    "                          train['Credit_Rating'])\n",
    "\n",
    "train['Credit_Rating'] = np.where(train['Credit_Score'] == 'Standard',\n",
    "                          np.random.uniform(580, 670, size=len(train)),\n",
    "                          train['Credit_Rating'])\n",
    "\n",
    "train['Credit_Rating'] = np.where(train['Credit_Score'] == 'Poor',\n",
    "                          np.random.uniform(0, 580, size=len(train)),\n",
    "                          train['Credit_Rating'])\n",
    "\n",
    "\n",
    "\n",
    "# Drop irrelevant columns\n",
    "columns_to_drop = ['Customer_ID', 'ID','Month', 'Name', 'SSN', 'Interest_Rate','Occupation',\n",
    "                    'Type_of_Loan', 'Delay_from_due_date', 'Payment_Behaviour', 'Credit_History_Age', 'Credit_Score']\n",
    "\n",
    "train.drop(columns_to_drop, axis=1, inplace=True)\n",
    "\n",
    "\n",
    "\n",
    "# Removing invalid characters from columns\n",
    "mix_type_num_col = ['Age', 'Annual_Income', \n",
    "                    'Num_of_Delayed_Payment','Changed_Credit_Limit',\n",
    "                    'Outstanding_Debt', 'Amount_invested_monthly', 'Monthly_Balance', 'Num_of_Loan']\n",
    "\n",
    "def set_numeric_columns(features,df=None):\n",
    "\n",
    "    df[features]=df[features].apply(lambda x: x.replace('_','',regex=True) )\n",
    "    df[features]=df[features].apply(lambda x: x.str.strip())\n",
    "    df[features]=df[features].apply(lambda x: x.replace('',np.nan))\n",
    "    df[features[1:]]=df[features[1:]].astype('float32')\n",
    "    df[features[0]]=df[features[0]].astype('int32')\n",
    "\n",
    "set_numeric_columns(mix_type_num_col,df=train)"
   ]
  },
  {
   "cell_type": "code",
   "execution_count": 4,
   "id": "c08a5ec2",
   "metadata": {},
   "outputs": [],
   "source": [
    "train = train.dropna()\n",
    "\n",
    "train = train.loc[train.Credit_Mix != \"_\"]\n",
    "train = train.loc[train.Payment_of_Min_Amount != \"NM\"]\n",
    "\n",
    "train_dummies = pd.get_dummies(train)"
   ]
  },
  {
   "cell_type": "code",
   "execution_count": 5,
   "id": "477fc7f4",
   "metadata": {},
   "outputs": [],
   "source": [
    "y = train_dummies.Credit_Rating\n",
    "X = train_dummies.drop(columns = 'Credit_Rating')\n",
    "X_train, X_test, y_train, y_test = train_test_split(X, y, test_size = 0.2, random_state = 45)\n",
    "\n",
    "X = X_train[X_train.columns]\n",
    "y = y_train"
   ]
  },
  {
   "cell_type": "markdown",
   "id": "4437d95b",
   "metadata": {},
   "source": [
    "# Base Model"
   ]
  },
  {
   "cell_type": "code",
   "execution_count": 6,
   "id": "ea61c56f",
   "metadata": {},
   "outputs": [
    {
     "data": {
      "text/plain": [
       "DecisionTreeRegressor(random_state=1)"
      ]
     },
     "execution_count": 6,
     "metadata": {},
     "output_type": "execute_result"
    }
   ],
   "source": [
    "model = DecisionTreeRegressor(random_state=1)\n",
    "model.fit(X, y)"
   ]
  },
  {
   "cell_type": "code",
   "execution_count": 7,
   "id": "cc52dba5",
   "metadata": {},
   "outputs": [],
   "source": [
    "pred = model.predict(X_test)"
   ]
  },
  {
   "cell_type": "code",
   "execution_count": 8,
   "id": "b6d66f91",
   "metadata": {},
   "outputs": [
    {
     "name": "stdout",
     "output_type": "stream",
     "text": [
      "The RMSE of the Base Model is 209.9847067897364\n"
     ]
    }
   ],
   "source": [
    "print(\"The RMSE of the Base Model is\", np.sqrt(mean_squared_error(y_test, pred)))"
   ]
  },
  {
   "cell_type": "markdown",
   "id": "fbf6bc98",
   "metadata": {},
   "source": [
    "# Visualization"
   ]
  },
  {
   "cell_type": "code",
   "execution_count": 9,
   "id": "1bb74556",
   "metadata": {},
   "outputs": [
    {
     "name": "stdout",
     "output_type": "stream",
     "text": [
      "['Age', 'Annual_Income', 'Monthly_Inhand_Salary', 'Num_Bank_Accounts', 'Num_Credit_Card', 'Num_of_Loan', 'Num_of_Delayed_Payment', 'Changed_Credit_Limit', 'Num_Credit_Inquiries', 'Outstanding_Debt', 'Credit_Utilization_Ratio', 'Total_EMI_per_month', 'Amount_invested_monthly', 'Monthly_Balance', 'Credit_Rating']\n"
     ]
    }
   ],
   "source": [
    "# remove outliers\n",
    "\n",
    "numerics = ['int16', 'int32', 'int64', 'float16', 'float32', 'float64']\n",
    "def remove_outliers(df, columns, threshold=3):\n",
    "    print(columns)\n",
    "    outliers_indices = []\n",
    "    for column_name in columns:\n",
    "        # Calculate the Z-scores for the specified column\n",
    "        z_scores = np.abs((df[column_name] - df[column_name].mean()) / df[column_name].std())\n",
    "        # Identify outliers based on the threshold\n",
    "        outliers_indices.extend(z_scores[z_scores > threshold].index)\n",
    "    \n",
    "    df_no_outliers = df.drop(outliers_indices)\n",
    "    return df_no_outliers\n",
    "\n",
    "train = remove_outliers(train, train.select_dtypes(include = numerics).columns.tolist(), threshold = 1)\n"
   ]
  },
  {
   "cell_type": "markdown",
   "id": "ff030171",
   "metadata": {},
   "source": [
    "###  Base Model without outliers"
   ]
  },
  {
   "cell_type": "code",
   "execution_count": 10,
   "id": "02fc88bb",
   "metadata": {},
   "outputs": [],
   "source": [
    "train_final = pd.get_dummies(train)\n",
    "y = train_final.Credit_Rating\n",
    "X = train_final.drop(columns = 'Credit_Rating')\n",
    "X_train, X_test, y_train, y_test = train_test_split(X, y, test_size = 0.2, random_state = 45)\n",
    "\n",
    "X = X_train[X_train.columns]\n",
    "y = y_train"
   ]
  },
  {
   "cell_type": "code",
   "execution_count": 11,
   "id": "51554047",
   "metadata": {},
   "outputs": [
    {
     "data": {
      "text/plain": [
       "DecisionTreeRegressor(random_state=1)"
      ]
     },
     "execution_count": 11,
     "metadata": {},
     "output_type": "execute_result"
    }
   ],
   "source": [
    "model = DecisionTreeRegressor(random_state=1)\n",
    "model.fit(X, y)"
   ]
  },
  {
   "cell_type": "code",
   "execution_count": 12,
   "id": "adbc2037",
   "metadata": {},
   "outputs": [],
   "source": [
    "pred = model.predict(X_test)"
   ]
  },
  {
   "cell_type": "code",
   "execution_count": 13,
   "id": "23638a7c",
   "metadata": {},
   "outputs": [
    {
     "name": "stdout",
     "output_type": "stream",
     "text": [
      "The RMSE of the Base Model is 90.01351416029347\n"
     ]
    }
   ],
   "source": [
    "print(\"The RMSE of the Base Model is\", np.sqrt(mean_squared_error(y_test, pred)))"
   ]
  },
  {
   "cell_type": "markdown",
   "id": "7fbaea4b",
   "metadata": {},
   "source": [
    "### distribution of the response variable"
   ]
  },
  {
   "cell_type": "code",
   "execution_count": 14,
   "id": "54106ac1",
   "metadata": {
    "scrolled": true
   },
   "outputs": [
    {
     "data": {
      "text/plain": [
       "<AxesSubplot:xlabel='Credit_Rating', ylabel='Density'>"
      ]
     },
     "execution_count": 14,
     "metadata": {},
     "output_type": "execute_result"
    },
    {
     "data": {
      "image/png": "[encoded data removed]",
      "text/plain": [
       "<Figure size 432x288 with 1 Axes>"
      ]
     },
     "metadata": {
      "needs_background": "light"
     },
     "output_type": "display_data"
    }
   ],
   "source": [
    "sns.kdeplot(train_final.Credit_Rating)"
   ]
  },
  {
   "cell_type": "markdown",
   "id": "1df8e37e",
   "metadata": {},
   "source": [
    "### distribution of each predictor"
   ]
  },
  {
   "cell_type": "markdown",
   "id": "6aa7c4f6",
   "metadata": {},
   "source": [
    "#### continuous"
   ]
  },
  {
   "cell_type": "code",
   "execution_count": 90,
   "id": "f163f54b",
   "metadata": {},
   "outputs": [
    {
     "data": {
      "text/html": [
       "<div>\n",
       "<style scoped>\n",
       "    .dataframe tbody tr th:only-of-type {\n",
       "        vertical-align: middle;\n",
       "    }\n",
       "\n",
       "    .dataframe tbody tr th {\n",
       "        vertical-align: top;\n",
       "    }\n",
       "\n",
       "    .dataframe thead th {\n",
       "        text-align: right;\n",
       "    }\n",
       "</style>\n",
       "<table border=\"1\" class=\"dataframe\">\n",
       "  <thead>\n",
       "    <tr style=\"text-align: right;\">\n",
       "      <th></th>\n",
       "      <th>Age</th>\n",
       "      <th>Annual_Income</th>\n",
       "      <th>Monthly_Inhand_Salary</th>\n",
       "      <th>Num_Bank_Accounts</th>\n",
       "      <th>Num_Credit_Card</th>\n",
       "      <th>Num_of_Loan</th>\n",
       "      <th>Num_of_Delayed_Payment</th>\n",
       "      <th>Changed_Credit_Limit</th>\n",
       "      <th>Num_Credit_Inquiries</th>\n",
       "      <th>Outstanding_Debt</th>\n",
       "      <th>Credit_Utilization_Ratio</th>\n",
       "      <th>Total_EMI_per_month</th>\n",
       "      <th>Amount_invested_monthly</th>\n",
       "      <th>Monthly_Balance</th>\n",
       "      <th>Credit_Rating</th>\n",
       "      <th>Credit_Mix_Bad</th>\n",
       "      <th>Credit_Mix_Good</th>\n",
       "      <th>Credit_Mix_Standard</th>\n",
       "      <th>Payment_of_Min_Amount_No</th>\n",
       "      <th>Payment_of_Min_Amount_Yes</th>\n",
       "    </tr>\n",
       "  </thead>\n",
       "  <tbody>\n",
       "    <tr>\n",
       "      <th>6</th>\n",
       "      <td>23</td>\n",
       "      <td>19114.119141</td>\n",
       "      <td>1824.843333</td>\n",
       "      <td>3</td>\n",
       "      <td>4</td>\n",
       "      <td>4.0</td>\n",
       "      <td>8.0</td>\n",
       "      <td>11.27</td>\n",
       "      <td>4.0</td>\n",
       "      <td>809.979980</td>\n",
       "      <td>22.537593</td>\n",
       "      <td>49.574949</td>\n",
       "      <td>178.344070</td>\n",
       "      <td>244.565323</td>\n",
       "      <td>676.420317</td>\n",
       "      <td>0</td>\n",
       "      <td>1</td>\n",
       "      <td>0</td>\n",
       "      <td>1</td>\n",
       "      <td>0</td>\n",
       "    </tr>\n",
       "    <tr>\n",
       "      <th>7</th>\n",
       "      <td>23</td>\n",
       "      <td>19114.119141</td>\n",
       "      <td>1824.843333</td>\n",
       "      <td>3</td>\n",
       "      <td>4</td>\n",
       "      <td>4.0</td>\n",
       "      <td>6.0</td>\n",
       "      <td>11.27</td>\n",
       "      <td>4.0</td>\n",
       "      <td>809.979980</td>\n",
       "      <td>23.933795</td>\n",
       "      <td>49.574949</td>\n",
       "      <td>24.785217</td>\n",
       "      <td>358.124176</td>\n",
       "      <td>621.114156</td>\n",
       "      <td>0</td>\n",
       "      <td>1</td>\n",
       "      <td>0</td>\n",
       "      <td>1</td>\n",
       "      <td>0</td>\n",
       "    </tr>\n",
       "    <tr>\n",
       "      <th>8</th>\n",
       "      <td>28</td>\n",
       "      <td>34847.839844</td>\n",
       "      <td>3037.986667</td>\n",
       "      <td>2</td>\n",
       "      <td>4</td>\n",
       "      <td>1.0</td>\n",
       "      <td>4.0</td>\n",
       "      <td>5.42</td>\n",
       "      <td>2.0</td>\n",
       "      <td>605.030029</td>\n",
       "      <td>24.464031</td>\n",
       "      <td>18.816215</td>\n",
       "      <td>104.291824</td>\n",
       "      <td>470.690613</td>\n",
       "      <td>620.045172</td>\n",
       "      <td>0</td>\n",
       "      <td>1</td>\n",
       "      <td>0</td>\n",
       "      <td>1</td>\n",
       "      <td>0</td>\n",
       "    </tr>\n",
       "    <tr>\n",
       "      <th>9</th>\n",
       "      <td>28</td>\n",
       "      <td>34847.839844</td>\n",
       "      <td>3037.986667</td>\n",
       "      <td>2</td>\n",
       "      <td>4</td>\n",
       "      <td>1.0</td>\n",
       "      <td>1.0</td>\n",
       "      <td>7.42</td>\n",
       "      <td>2.0</td>\n",
       "      <td>605.030029</td>\n",
       "      <td>38.550848</td>\n",
       "      <td>18.816215</td>\n",
       "      <td>40.391239</td>\n",
       "      <td>484.591217</td>\n",
       "      <td>670.427998</td>\n",
       "      <td>0</td>\n",
       "      <td>1</td>\n",
       "      <td>0</td>\n",
       "      <td>1</td>\n",
       "      <td>0</td>\n",
       "    </tr>\n",
       "    <tr>\n",
       "      <th>12</th>\n",
       "      <td>28</td>\n",
       "      <td>34847.839844</td>\n",
       "      <td>3037.986667</td>\n",
       "      <td>2</td>\n",
       "      <td>4</td>\n",
       "      <td>1.0</td>\n",
       "      <td>1.0</td>\n",
       "      <td>6.42</td>\n",
       "      <td>2.0</td>\n",
       "      <td>605.030029</td>\n",
       "      <td>34.977895</td>\n",
       "      <td>18.816215</td>\n",
       "      <td>130.115417</td>\n",
       "      <td>444.867035</td>\n",
       "      <td>688.698591</td>\n",
       "      <td>0</td>\n",
       "      <td>1</td>\n",
       "      <td>0</td>\n",
       "      <td>1</td>\n",
       "      <td>0</td>\n",
       "    </tr>\n",
       "    <tr>\n",
       "      <th>...</th>\n",
       "      <td>...</td>\n",
       "      <td>...</td>\n",
       "      <td>...</td>\n",
       "      <td>...</td>\n",
       "      <td>...</td>\n",
       "      <td>...</td>\n",
       "      <td>...</td>\n",
       "      <td>...</td>\n",
       "      <td>...</td>\n",
       "      <td>...</td>\n",
       "      <td>...</td>\n",
       "      <td>...</td>\n",
       "      <td>...</td>\n",
       "      <td>...</td>\n",
       "      <td>...</td>\n",
       "      <td>...</td>\n",
       "      <td>...</td>\n",
       "      <td>...</td>\n",
       "      <td>...</td>\n",
       "      <td>...</td>\n",
       "    </tr>\n",
       "    <tr>\n",
       "      <th>98293</th>\n",
       "      <td>29</td>\n",
       "      <td>34599.941406</td>\n",
       "      <td>2942.328333</td>\n",
       "      <td>7</td>\n",
       "      <td>699</td>\n",
       "      <td>0.0</td>\n",
       "      <td>9.0</td>\n",
       "      <td>-3.55</td>\n",
       "      <td>1.0</td>\n",
       "      <td>942.590027</td>\n",
       "      <td>32.375813</td>\n",
       "      <td>0.000000</td>\n",
       "      <td>10000.000000</td>\n",
       "      <td>476.269745</td>\n",
       "      <td>646.942797</td>\n",
       "      <td>0</td>\n",
       "      <td>0</td>\n",
       "      <td>1</td>\n",
       "      <td>1</td>\n",
       "      <td>0</td>\n",
       "    </tr>\n",
       "    <tr>\n",
       "      <th>98295</th>\n",
       "      <td>29</td>\n",
       "      <td>34599.941406</td>\n",
       "      <td>2942.328333</td>\n",
       "      <td>7</td>\n",
       "      <td>6</td>\n",
       "      <td>0.0</td>\n",
       "      <td>8.0</td>\n",
       "      <td>3.45</td>\n",
       "      <td>1.0</td>\n",
       "      <td>942.590027</td>\n",
       "      <td>33.128609</td>\n",
       "      <td>0.000000</td>\n",
       "      <td>165.397552</td>\n",
       "      <td>388.835297</td>\n",
       "      <td>604.130188</td>\n",
       "      <td>0</td>\n",
       "      <td>0</td>\n",
       "      <td>1</td>\n",
       "      <td>1</td>\n",
       "      <td>0</td>\n",
       "    </tr>\n",
       "    <tr>\n",
       "      <th>98300</th>\n",
       "      <td>38</td>\n",
       "      <td>41015.550781</td>\n",
       "      <td>3152.962500</td>\n",
       "      <td>1194</td>\n",
       "      <td>4</td>\n",
       "      <td>1.0</td>\n",
       "      <td>1.0</td>\n",
       "      <td>1.58</td>\n",
       "      <td>2.0</td>\n",
       "      <td>599.400024</td>\n",
       "      <td>26.268474</td>\n",
       "      <td>25.671257</td>\n",
       "      <td>76.057220</td>\n",
       "      <td>453.567780</td>\n",
       "      <td>659.350779</td>\n",
       "      <td>0</td>\n",
       "      <td>1</td>\n",
       "      <td>0</td>\n",
       "      <td>1</td>\n",
       "      <td>0</td>\n",
       "    </tr>\n",
       "    <tr>\n",
       "      <th>98301</th>\n",
       "      <td>38</td>\n",
       "      <td>41015.550781</td>\n",
       "      <td>3152.962500</td>\n",
       "      <td>0</td>\n",
       "      <td>4</td>\n",
       "      <td>1.0</td>\n",
       "      <td>1.0</td>\n",
       "      <td>1.58</td>\n",
       "      <td>2.0</td>\n",
       "      <td>599.400024</td>\n",
       "      <td>28.754729</td>\n",
       "      <td>25.671257</td>\n",
       "      <td>91.198586</td>\n",
       "      <td>448.426392</td>\n",
       "      <td>635.283135</td>\n",
       "      <td>0</td>\n",
       "      <td>1</td>\n",
       "      <td>0</td>\n",
       "      <td>1</td>\n",
       "      <td>0</td>\n",
       "    </tr>\n",
       "    <tr>\n",
       "      <th>98303</th>\n",
       "      <td>38</td>\n",
       "      <td>41015.550781</td>\n",
       "      <td>3152.962500</td>\n",
       "      <td>0</td>\n",
       "      <td>4</td>\n",
       "      <td>1.0</td>\n",
       "      <td>2.0</td>\n",
       "      <td>1.58</td>\n",
       "      <td>2.0</td>\n",
       "      <td>599.400024</td>\n",
       "      <td>31.356267</td>\n",
       "      <td>25.671257</td>\n",
       "      <td>10000.000000</td>\n",
       "      <td>214.614929</td>\n",
       "      <td>653.510583</td>\n",
       "      <td>0</td>\n",
       "      <td>1</td>\n",
       "      <td>0</td>\n",
       "      <td>1</td>\n",
       "      <td>0</td>\n",
       "    </tr>\n",
       "  </tbody>\n",
       "</table>\n",
       "<p>49460 rows × 20 columns</p>\n",
       "</div>"
      ],
      "text/plain": [
       "       Age  Annual_Income  Monthly_Inhand_Salary  Num_Bank_Accounts  \\\n",
       "6       23   19114.119141            1824.843333                  3   \n",
       "7       23   19114.119141            1824.843333                  3   \n",
       "8       28   34847.839844            3037.986667                  2   \n",
       "9       28   34847.839844            3037.986667                  2   \n",
       "12      28   34847.839844            3037.986667                  2   \n",
       "...    ...            ...                    ...                ...   \n",
       "98293   29   34599.941406            2942.328333                  7   \n",
       "98295   29   34599.941406            2942.328333                  7   \n",
       "98300   38   41015.550781            3152.962500               1194   \n",
       "98301   38   41015.550781            3152.962500                  0   \n",
       "98303   38   41015.550781            3152.962500                  0   \n",
       "\n",
       "       Num_Credit_Card  Num_of_Loan  Num_of_Delayed_Payment  \\\n",
       "6                    4          4.0                     8.0   \n",
       "7                    4          4.0                     6.0   \n",
       "8                    4          1.0                     4.0   \n",
       "9                    4          1.0                     1.0   \n",
       "12                   4          1.0                     1.0   \n",
       "...                ...          ...                     ...   \n",
       "98293              699          0.0                     9.0   \n",
       "98295                6          0.0                     8.0   \n",
       "98300                4          1.0                     1.0   \n",
       "98301                4          1.0                     1.0   \n",
       "98303                4          1.0                     2.0   \n",
       "\n",
       "       Changed_Credit_Limit  Num_Credit_Inquiries  Outstanding_Debt  \\\n",
       "6                     11.27                   4.0        809.979980   \n",
       "7                     11.27                   4.0        809.979980   \n",
       "8                      5.42                   2.0        605.030029   \n",
       "9                      7.42                   2.0        605.030029   \n",
       "12                     6.42                   2.0        605.030029   \n",
       "...                     ...                   ...               ...   \n",
       "98293                 -3.55                   1.0        942.590027   \n",
       "98295                  3.45                   1.0        942.590027   \n",
       "98300                  1.58                   2.0        599.400024   \n",
       "98301                  1.58                   2.0        599.400024   \n",
       "98303                  1.58                   2.0        599.400024   \n",
       "\n",
       "       Credit_Utilization_Ratio  Total_EMI_per_month  Amount_invested_monthly  \\\n",
       "6                     22.537593            49.574949               178.344070   \n",
       "7                     23.933795            49.574949                24.785217   \n",
       "8                     24.464031            18.816215               104.291824   \n",
       "9                     38.550848            18.816215                40.391239   \n",
       "12                    34.977895            18.816215               130.115417   \n",
       "...                         ...                  ...                      ...   \n",
       "98293                 32.375813             0.000000             10000.000000   \n",
       "98295                 33.128609             0.000000               165.397552   \n",
       "98300                 26.268474            25.671257                76.057220   \n",
       "98301                 28.754729            25.671257                91.198586   \n",
       "98303                 31.356267            25.671257             10000.000000   \n",
       "\n",
       "       Monthly_Balance  Credit_Rating  Credit_Mix_Bad  Credit_Mix_Good  \\\n",
       "6           244.565323     676.420317               0                1   \n",
       "7           358.124176     621.114156               0                1   \n",
       "8           470.690613     620.045172               0                1   \n",
       "9           484.591217     670.427998               0                1   \n",
       "12          444.867035     688.698591               0                1   \n",
       "...                ...            ...             ...              ...   \n",
       "98293       476.269745     646.942797               0                0   \n",
       "98295       388.835297     604.130188               0                0   \n",
       "98300       453.567780     659.350779               0                1   \n",
       "98301       448.426392     635.283135               0                1   \n",
       "98303       214.614929     653.510583               0                1   \n",
       "\n",
       "       Credit_Mix_Standard  Payment_of_Min_Amount_No  \\\n",
       "6                        0                         1   \n",
       "7                        0                         1   \n",
       "8                        0                         1   \n",
       "9                        0                         1   \n",
       "12                       0                         1   \n",
       "...                    ...                       ...   \n",
       "98293                    1                         1   \n",
       "98295                    1                         1   \n",
       "98300                    0                         1   \n",
       "98301                    0                         1   \n",
       "98303                    0                         1   \n",
       "\n",
       "       Payment_of_Min_Amount_Yes  \n",
       "6                              0  \n",
       "7                              0  \n",
       "8                              0  \n",
       "9                              0  \n",
       "12                             0  \n",
       "...                          ...  \n",
       "98293                          0  \n",
       "98295                          0  \n",
       "98300                          0  \n",
       "98301                          0  \n",
       "98303                          0  \n",
       "\n",
       "[49460 rows x 20 columns]"
      ]
     },
     "execution_count": 90,
     "metadata": {},
     "output_type": "execute_result"
    }
   ],
   "source": [
    "train_dummies"
   ]
  },
  {
   "cell_type": "code",
   "execution_count": 16,
   "id": "058f9cc0",
   "metadata": {
    "scrolled": false
   },
   "outputs": [
    {
     "data": {
      "text/html": [
       "<div>\n",
       "<style scoped>\n",
       "    .dataframe tbody tr th:only-of-type {\n",
       "        vertical-align: middle;\n",
       "    }\n",
       "\n",
       "    .dataframe tbody tr th {\n",
       "        vertical-align: top;\n",
       "    }\n",
       "\n",
       "    .dataframe thead th {\n",
       "        text-align: right;\n",
       "    }\n",
       "</style>\n",
       "<table border=\"1\" class=\"dataframe\">\n",
       "  <thead>\n",
       "    <tr style=\"text-align: right;\">\n",
       "      <th></th>\n",
       "      <th>Age</th>\n",
       "      <th>Annual_Income</th>\n",
       "      <th>Monthly_Inhand_Salary</th>\n",
       "      <th>Num_Bank_Accounts</th>\n",
       "      <th>Num_Credit_Card</th>\n",
       "      <th>Num_of_Loan</th>\n",
       "      <th>Num_of_Delayed_Payment</th>\n",
       "      <th>Changed_Credit_Limit</th>\n",
       "      <th>Num_Credit_Inquiries</th>\n",
       "      <th>Outstanding_Debt</th>\n",
       "      <th>Credit_Utilization_Ratio</th>\n",
       "      <th>Total_EMI_per_month</th>\n",
       "      <th>Amount_invested_monthly</th>\n",
       "      <th>Monthly_Balance</th>\n",
       "      <th>Credit_Rating</th>\n",
       "      <th>Credit_Mix_Bad</th>\n",
       "      <th>Credit_Mix_Good</th>\n",
       "      <th>Credit_Mix_Standard</th>\n",
       "      <th>Payment_of_Min_Amount_No</th>\n",
       "      <th>Payment_of_Min_Amount_Yes</th>\n",
       "    </tr>\n",
       "  </thead>\n",
       "  <tbody>\n",
       "    <tr>\n",
       "      <th>12</th>\n",
       "      <td>28</td>\n",
       "      <td>34847.839844</td>\n",
       "      <td>3037.986667</td>\n",
       "      <td>2</td>\n",
       "      <td>4</td>\n",
       "      <td>1.0</td>\n",
       "      <td>1.0</td>\n",
       "      <td>6.42</td>\n",
       "      <td>2.0</td>\n",
       "      <td>605.030029</td>\n",
       "      <td>34.977895</td>\n",
       "      <td>18.816215</td>\n",
       "      <td>130.115417</td>\n",
       "      <td>444.867035</td>\n",
       "      <td>688.698591</td>\n",
       "      <td>0</td>\n",
       "      <td>1</td>\n",
       "      <td>0</td>\n",
       "      <td>1</td>\n",
       "      <td>0</td>\n",
       "    </tr>\n",
       "    <tr>\n",
       "      <th>13</th>\n",
       "      <td>28</td>\n",
       "      <td>34847.839844</td>\n",
       "      <td>3037.986667</td>\n",
       "      <td>2</td>\n",
       "      <td>4</td>\n",
       "      <td>1.0</td>\n",
       "      <td>0.0</td>\n",
       "      <td>5.42</td>\n",
       "      <td>2.0</td>\n",
       "      <td>605.030029</td>\n",
       "      <td>33.381010</td>\n",
       "      <td>18.816215</td>\n",
       "      <td>43.477192</td>\n",
       "      <td>481.505249</td>\n",
       "      <td>690.209394</td>\n",
       "      <td>0</td>\n",
       "      <td>1</td>\n",
       "      <td>0</td>\n",
       "      <td>1</td>\n",
       "      <td>0</td>\n",
       "    </tr>\n",
       "    <tr>\n",
       "      <th>15</th>\n",
       "      <td>28</td>\n",
       "      <td>34847.839844</td>\n",
       "      <td>3037.986667</td>\n",
       "      <td>2</td>\n",
       "      <td>4</td>\n",
       "      <td>1.0</td>\n",
       "      <td>4.0</td>\n",
       "      <td>5.42</td>\n",
       "      <td>2.0</td>\n",
       "      <td>605.030029</td>\n",
       "      <td>32.933856</td>\n",
       "      <td>18.816215</td>\n",
       "      <td>218.904343</td>\n",
       "      <td>356.078094</td>\n",
       "      <td>723.831427</td>\n",
       "      <td>0</td>\n",
       "      <td>1</td>\n",
       "      <td>0</td>\n",
       "      <td>1</td>\n",
       "      <td>0</td>\n",
       "    </tr>\n",
       "    <tr>\n",
       "      <th>81</th>\n",
       "      <td>40</td>\n",
       "      <td>33751.269531</td>\n",
       "      <td>2948.605833</td>\n",
       "      <td>5</td>\n",
       "      <td>5</td>\n",
       "      <td>3.0</td>\n",
       "      <td>20.0</td>\n",
       "      <td>11.00</td>\n",
       "      <td>4.0</td>\n",
       "      <td>1328.930054</td>\n",
       "      <td>30.908081</td>\n",
       "      <td>65.008174</td>\n",
       "      <td>70.131081</td>\n",
       "      <td>399.721344</td>\n",
       "      <td>643.980872</td>\n",
       "      <td>0</td>\n",
       "      <td>0</td>\n",
       "      <td>1</td>\n",
       "      <td>0</td>\n",
       "      <td>1</td>\n",
       "    </tr>\n",
       "    <tr>\n",
       "      <th>84</th>\n",
       "      <td>40</td>\n",
       "      <td>33751.269531</td>\n",
       "      <td>2948.605833</td>\n",
       "      <td>5</td>\n",
       "      <td>5</td>\n",
       "      <td>3.0</td>\n",
       "      <td>20.0</td>\n",
       "      <td>8.00</td>\n",
       "      <td>8.0</td>\n",
       "      <td>1328.930054</td>\n",
       "      <td>29.073758</td>\n",
       "      <td>65.008174</td>\n",
       "      <td>243.329681</td>\n",
       "      <td>276.522736</td>\n",
       "      <td>585.880859</td>\n",
       "      <td>0</td>\n",
       "      <td>0</td>\n",
       "      <td>1</td>\n",
       "      <td>0</td>\n",
       "      <td>1</td>\n",
       "    </tr>\n",
       "  </tbody>\n",
       "</table>\n",
       "</div>"
      ],
      "text/plain": [
       "    Age  Annual_Income  Monthly_Inhand_Salary  Num_Bank_Accounts  \\\n",
       "12   28   34847.839844            3037.986667                  2   \n",
       "13   28   34847.839844            3037.986667                  2   \n",
       "15   28   34847.839844            3037.986667                  2   \n",
       "81   40   33751.269531            2948.605833                  5   \n",
       "84   40   33751.269531            2948.605833                  5   \n",
       "\n",
       "    Num_Credit_Card  Num_of_Loan  Num_of_Delayed_Payment  \\\n",
       "12                4          1.0                     1.0   \n",
       "13                4          1.0                     0.0   \n",
       "15                4          1.0                     4.0   \n",
       "81                5          3.0                    20.0   \n",
       "84                5          3.0                    20.0   \n",
       "\n",
       "    Changed_Credit_Limit  Num_Credit_Inquiries  Outstanding_Debt  \\\n",
       "12                  6.42                   2.0        605.030029   \n",
       "13                  5.42                   2.0        605.030029   \n",
       "15                  5.42                   2.0        605.030029   \n",
       "81                 11.00                   4.0       1328.930054   \n",
       "84                  8.00                   8.0       1328.930054   \n",
       "\n",
       "    Credit_Utilization_Ratio  Total_EMI_per_month  Amount_invested_monthly  \\\n",
       "12                 34.977895            18.816215               130.115417   \n",
       "13                 33.381010            18.816215                43.477192   \n",
       "15                 32.933856            18.816215               218.904343   \n",
       "81                 30.908081            65.008174                70.131081   \n",
       "84                 29.073758            65.008174               243.329681   \n",
       "\n",
       "    Monthly_Balance  Credit_Rating  Credit_Mix_Bad  Credit_Mix_Good  \\\n",
       "12       444.867035     688.698591               0                1   \n",
       "13       481.505249     690.209394               0                1   \n",
       "15       356.078094     723.831427               0                1   \n",
       "81       399.721344     643.980872               0                0   \n",
       "84       276.522736     585.880859               0                0   \n",
       "\n",
       "    Credit_Mix_Standard  Payment_of_Min_Amount_No  Payment_of_Min_Amount_Yes  \n",
       "12                    0                         1                          0  \n",
       "13                    0                         1                          0  \n",
       "15                    0                         1                          0  \n",
       "81                    1                         0                          1  \n",
       "84                    1                         0                          1  "
      ]
     },
     "execution_count": 16,
     "metadata": {},
     "output_type": "execute_result"
    }
   ],
   "source": [
    "train_final.head()"
   ]
  },
  {
   "cell_type": "code",
   "execution_count": 17,
   "id": "3ac7b236",
   "metadata": {},
   "outputs": [
    {
     "data": {
      "text/plain": [
       "<AxesSubplot:xlabel='Age', ylabel='Density'>"
      ]
     },
     "execution_count": 17,
     "metadata": {},
     "output_type": "execute_result"
    },
    {
     "data": {
      "image/png": "[encoded data removed]",
      "text/plain": [
       "<Figure size 432x288 with 1 Axes>"
      ]
     },
     "metadata": {
      "needs_background": "light"
     },
     "output_type": "display_data"
    }
   ],
   "source": [
    "sns.kdeplot(train_final.Age)"
   ]
  },
  {
   "cell_type": "code",
   "execution_count": 18,
   "id": "2da9f707",
   "metadata": {},
   "outputs": [
    {
     "data": {
      "text/plain": [
       "<AxesSubplot:xlabel='Annual_Income', ylabel='Density'>"
      ]
     },
     "execution_count": 18,
     "metadata": {},
     "output_type": "execute_result"
    },
    {
     "data": {
      "image/png": "[encoded data removed]",
      "text/plain": [
       "<Figure size 432x288 with 1 Axes>"
      ]
     },
     "metadata": {
      "needs_background": "light"
     },
     "output_type": "display_data"
    }
   ],
   "source": [
    "sns.kdeplot(train_final.Annual_Income)"
   ]
  },
  {
   "cell_type": "code",
   "execution_count": 19,
   "id": "639bc299",
   "metadata": {},
   "outputs": [
    {
     "data": {
      "text/plain": [
       "<AxesSubplot:xlabel='Monthly_Inhand_Salary', ylabel='Density'>"
      ]
     },
     "execution_count": 19,
     "metadata": {},
     "output_type": "execute_result"
    },
    {
     "data": {
      "image/png": "[encoded data removed]",
      "text/plain": [
       "<Figure size 432x288 with 1 Axes>"
      ]
     },
     "metadata": {
      "needs_background": "light"
     },
     "output_type": "display_data"
    }
   ],
   "source": [
    "sns.kdeplot(train_final.Monthly_Inhand_Salary)"
   ]
  },
  {
   "cell_type": "code",
   "execution_count": 20,
   "id": "f757a198",
   "metadata": {},
   "outputs": [
    {
     "data": {
      "text/plain": [
       "<AxesSubplot:xlabel='Num_Bank_Accounts', ylabel='Density'>"
      ]
     },
     "execution_count": 20,
     "metadata": {},
     "output_type": "execute_result"
    },
    {
     "data": {
      "image/png": "[encoded data removed]",
      "text/plain": [
       "<Figure size 432x288 with 1 Axes>"
      ]
     },
     "metadata": {
      "needs_background": "light"
     },
     "output_type": "display_data"
    }
   ],
   "source": [
    "sns.kdeplot(train_final.Num_Bank_Accounts)"
   ]
  },
  {
   "cell_type": "code",
   "execution_count": 21,
   "id": "a4e55310",
   "metadata": {},
   "outputs": [
    {
     "data": {
      "text/plain": [
       "<AxesSubplot:xlabel='Num_Credit_Card', ylabel='Density'>"
      ]
     },
     "execution_count": 21,
     "metadata": {},
     "output_type": "execute_result"
    },
    {
     "data": {
      "image/png": "[encoded data removed]",
      "text/plain": [
       "<Figure size 432x288 with 1 Axes>"
      ]
     },
     "metadata": {
      "needs_background": "light"
     },
     "output_type": "display_data"
    }
   ],
   "source": [
    "sns.kdeplot(train_final.Num_Credit_Card)"
   ]
  },
  {
   "cell_type": "code",
   "execution_count": 22,
   "id": "d3f67b90",
   "metadata": {},
   "outputs": [
    {
     "data": {
      "text/plain": [
       "<AxesSubplot:xlabel='Num_of_Loan', ylabel='Density'>"
      ]
     },
     "execution_count": 22,
     "metadata": {},
     "output_type": "execute_result"
    },
    {
     "data": {
      "image/png": "[encoded data removed]",
      "text/plain": [
       "<Figure size 432x288 with 1 Axes>"
      ]
     },
     "metadata": {
      "needs_background": "light"
     },
     "output_type": "display_data"
    }
   ],
   "source": [
    "sns.kdeplot(train_final.Num_of_Loan)"
   ]
  },
  {
   "cell_type": "code",
   "execution_count": 23,
   "id": "efd0d3e2",
   "metadata": {},
   "outputs": [
    {
     "data": {
      "text/plain": [
       "<AxesSubplot:xlabel='Num_of_Delayed_Payment', ylabel='Density'>"
      ]
     },
     "execution_count": 23,
     "metadata": {},
     "output_type": "execute_result"
    },
    {
     "data": {
      "image/png": "[encoded data removed]",
      "text/plain": [
       "<Figure size 432x288 with 1 Axes>"
      ]
     },
     "metadata": {
      "needs_background": "light"
     },
     "output_type": "display_data"
    }
   ],
   "source": [
    "sns.kdeplot(train_final.Num_of_Delayed_Payment)"
   ]
  },
  {
   "cell_type": "code",
   "execution_count": 24,
   "id": "547ba9ad",
   "metadata": {},
   "outputs": [
    {
     "data": {
      "text/plain": [
       "<AxesSubplot:xlabel='Changed_Credit_Limit', ylabel='Density'>"
      ]
     },
     "execution_count": 24,
     "metadata": {},
     "output_type": "execute_result"
    },
    {
     "data": {
      "image/png": "[encoded data removed]",
      "text/plain": [
       "<Figure size 432x288 with 1 Axes>"
      ]
     },
     "metadata": {
      "needs_background": "light"
     },
     "output_type": "display_data"
    }
   ],
   "source": [
    "sns.kdeplot(train_final.Changed_Credit_Limit)"
   ]
  },
  {
   "cell_type": "code",
   "execution_count": 25,
   "id": "ec9e30b2",
   "metadata": {},
   "outputs": [
    {
     "data": {
      "text/plain": [
       "<AxesSubplot:xlabel='Num_Credit_Inquiries', ylabel='Density'>"
      ]
     },
     "execution_count": 25,
     "metadata": {},
     "output_type": "execute_result"
    },
    {
     "data": {
      "image/png": "[encoded data removed]",
      "text/plain": [
       "<Figure size 432x288 with 1 Axes>"
      ]
     },
     "metadata": {
      "needs_background": "light"
     },
     "output_type": "display_data"
    }
   ],
   "source": [
    "sns.kdeplot(train_final.Num_Credit_Inquiries)"
   ]
  },
  {
   "cell_type": "code",
   "execution_count": 26,
   "id": "36d9dfd4",
   "metadata": {},
   "outputs": [
    {
     "data": {
      "text/plain": [
       "<AxesSubplot:xlabel='Outstanding_Debt', ylabel='Density'>"
      ]
     },
     "execution_count": 26,
     "metadata": {},
     "output_type": "execute_result"
    },
    {
     "data": {
      "image/png": "[encoded data removed]",
      "text/plain": [
       "<Figure size 432x288 with 1 Axes>"
      ]
     },
     "metadata": {
      "needs_background": "light"
     },
     "output_type": "display_data"
    }
   ],
   "source": [
    "sns.kdeplot(train_final.Outstanding_Debt)"
   ]
  },
  {
   "cell_type": "code",
   "execution_count": 27,
   "id": "a450a209",
   "metadata": {},
   "outputs": [
    {
     "data": {
      "text/plain": [
       "<AxesSubplot:xlabel='Credit_Utilization_Ratio', ylabel='Density'>"
      ]
     },
     "execution_count": 27,
     "metadata": {},
     "output_type": "execute_result"
    },
    {
     "data": {
      "image/png": "[encoded data removed]",
      "text/plain": [
       "<Figure size 432x288 with 1 Axes>"
      ]
     },
     "metadata": {
      "needs_background": "light"
     },
     "output_type": "display_data"
    }
   ],
   "source": [
    "sns.kdeplot(train_final.Credit_Utilization_Ratio)"
   ]
  },
  {
   "cell_type": "code",
   "execution_count": 28,
   "id": "c22753d7",
   "metadata": {
    "scrolled": true
   },
   "outputs": [
    {
     "data": {
      "text/plain": [
       "<AxesSubplot:xlabel='Total_EMI_per_month', ylabel='Density'>"
      ]
     },
     "execution_count": 28,
     "metadata": {},
     "output_type": "execute_result"
    },
    {
     "data": {
      "image/png": "[encoded data removed]",
      "text/plain": [
       "<Figure size 432x288 with 1 Axes>"
      ]
     },
     "metadata": {
      "needs_background": "light"
     },
     "output_type": "display_data"
    }
   ],
   "source": [
    "sns.kdeplot(train_final.Total_EMI_per_month)"
   ]
  },
  {
   "cell_type": "code",
   "execution_count": 29,
   "id": "4d9958a6",
   "metadata": {
    "scrolled": true
   },
   "outputs": [
    {
     "data": {
      "text/plain": [
       "<AxesSubplot:xlabel='Amount_invested_monthly', ylabel='Density'>"
      ]
     },
     "execution_count": 29,
     "metadata": {},
     "output_type": "execute_result"
    },
    {
     "data": {
      "image/png": "[encoded data removed]",
      "text/plain": [
       "<Figure size 432x288 with 1 Axes>"
      ]
     },
     "metadata": {
      "needs_background": "light"
     },
     "output_type": "display_data"
    }
   ],
   "source": [
    "sns.kdeplot(train_final.Amount_invested_monthly)"
   ]
  },
  {
   "cell_type": "code",
   "execution_count": 30,
   "id": "860e0fc3",
   "metadata": {},
   "outputs": [
    {
     "data": {
      "text/plain": [
       "<AxesSubplot:xlabel='Monthly_Balance', ylabel='Density'>"
      ]
     },
     "execution_count": 30,
     "metadata": {},
     "output_type": "execute_result"
    },
    {
     "data": {
      "image/png": "[encoded data removed]",
      "text/plain": [
       "<Figure size 432x288 with 1 Axes>"
      ]
     },
     "metadata": {
      "needs_background": "light"
     },
     "output_type": "display_data"
    }
   ],
   "source": [
    "sns.kdeplot(train_final.Monthly_Balance)"
   ]
  },
  {
   "cell_type": "code",
   "execution_count": 31,
   "id": "fdb1e040",
   "metadata": {},
   "outputs": [
    {
     "data": {
      "text/plain": [
       "<AxesSubplot:xlabel='Credit_Rating', ylabel='Density'>"
      ]
     },
     "execution_count": 31,
     "metadata": {},
     "output_type": "execute_result"
    },
    {
     "data": {
      "image/png": "[encoded data removed]",
      "text/plain": [
       "<Figure size 432x288 with 1 Axes>"
      ]
     },
     "metadata": {
      "needs_background": "light"
     },
     "output_type": "display_data"
    }
   ],
   "source": [
    "sns.kdeplot(train_final.Credit_Rating)"
   ]
  },
  {
   "cell_type": "markdown",
   "id": "e7853e0f",
   "metadata": {},
   "source": [
    "#### categorical"
   ]
  },
  {
   "cell_type": "code",
   "execution_count": 32,
   "id": "5f1678a6",
   "metadata": {},
   "outputs": [
    {
     "data": {
      "image/png": "[encoded data removed]",
      "text/plain": [
       "<Figure size 432x288 with 1 Axes>"
      ]
     },
     "metadata": {
      "needs_background": "light"
     },
     "output_type": "display_data"
    }
   ],
   "source": [
    "# Credit_Mix\n",
    "sns.countplot(x='Credit_Mix', data = train)\n",
    "plt.xlabel('Credit_Mix')\n",
    "plt.ylabel('Count')\n",
    "\n",
    "plt.show()"
   ]
  },
  {
   "cell_type": "code",
   "execution_count": 33,
   "id": "26fdcecc",
   "metadata": {},
   "outputs": [
    {
     "data": {
      "image/png": "[encoded data removed]",
      "text/plain": [
       "<Figure size 432x288 with 1 Axes>"
      ]
     },
     "metadata": {
      "needs_background": "light"
     },
     "output_type": "display_data"
    }
   ],
   "source": [
    "# Payment of Min Amount \n",
    "sns.countplot(x='Payment_of_Min_Amount', data = train)\n",
    "plt.xlabel('Payment_of_Min_Amount')\n",
    "plt.ylabel('Count')\n",
    "\n",
    "plt.show()"
   ]
  },
  {
   "cell_type": "markdown",
   "id": "c2752d01",
   "metadata": {},
   "source": [
    "# TRAIN DATASET IS CALLED train_final*******"
   ]
  },
  {
   "cell_type": "code",
   "execution_count": 34,
   "id": "2dcdbb97",
   "metadata": {},
   "outputs": [],
   "source": [
    "train_final = pd.get_dummies(train)\n",
    "y = train_final.Credit_Rating\n",
    "X = train_final.drop(columns = 'Credit_Rating')\n",
    "X_train, X_test, y_train, y_test = train_test_split(X, y, test_size = 0.2, random_state = 45)\n",
    "\n",
    "X = X_train[X_train.columns]\n",
    "y = y_train"
   ]
  },
  {
   "cell_type": "markdown",
   "id": "78e424f3",
   "metadata": {},
   "source": [
    "## MARS - Luca"
   ]
  },
  {
   "cell_type": "code",
   "execution_count": 35,
   "id": "bae902f4",
   "metadata": {},
   "outputs": [
    {
     "name": "stderr",
     "output_type": "stream",
     "text": [
      "/opt/anaconda3/lib/python3.9/site-packages/pyearth/earth.py:813: FutureWarning: `rcond` parameter will change to the default of machine precision times ``max(M, N)`` where M and N are the input matrix dimensions.\n",
      "To use the future default and silence this warning we advise to pass `rcond=None`, to keep using the old, explicitly pass `rcond=-1`.\n",
      "  pruning_passer.run()\n",
      "/opt/anaconda3/lib/python3.9/site-packages/pyearth/earth.py:813: FutureWarning: `rcond` parameter will change to the default of machine precision times ``max(M, N)`` where M and N are the input matrix dimensions.\n",
      "To use the future default and silence this warning we advise to pass `rcond=None`, to keep using the old, explicitly pass `rcond=-1`.\n",
      "  pruning_passer.run()\n",
      "/opt/anaconda3/lib/python3.9/site-packages/pyearth/earth.py:813: FutureWarning: `rcond` parameter will change to the default of machine precision times ``max(M, N)`` where M and N are the input matrix dimensions.\n",
      "To use the future default and silence this warning we advise to pass `rcond=None`, to keep using the old, explicitly pass `rcond=-1`.\n",
      "  pruning_passer.run()\n",
      "/opt/anaconda3/lib/python3.9/site-packages/pyearth/earth.py:813: FutureWarning: `rcond` parameter will change to the default of machine precision times ``max(M, N)`` where M and N are the input matrix dimensions.\n",
      "To use the future default and silence this warning we advise to pass `rcond=None`, to keep using the old, explicitly pass `rcond=-1`.\n",
      "  pruning_passer.run()\n",
      "/opt/anaconda3/lib/python3.9/site-packages/pyearth/earth.py:813: FutureWarning: `rcond` parameter will change to the default of machine precision times ``max(M, N)`` where M and N are the input matrix dimensions.\n",
      "To use the future default and silence this warning we advise to pass `rcond=None`, to keep using the old, explicitly pass `rcond=-1`.\n",
      "  pruning_passer.run()\n",
      "/opt/anaconda3/lib/python3.9/site-packages/pyearth/earth.py:1066: FutureWarning: `rcond` parameter will change to the default of machine precision times ``max(M, N)`` where M and N are the input matrix dimensions.\n",
      "To use the future default and silence this warning we advise to pass `rcond=None`, to keep using the old, explicitly pass `rcond=-1`.\n",
      "  coef, resid = np.linalg.lstsq(B, weighted_y[:, i])[0:2]\n",
      "/opt/anaconda3/lib/python3.9/site-packages/pyearth/earth.py:1066: FutureWarning: `rcond` parameter will change to the default of machine precision times ``max(M, N)`` where M and N are the input matrix dimensions.\n",
      "To use the future default and silence this warning we advise to pass `rcond=None`, to keep using the old, explicitly pass `rcond=-1`.\n",
      "  coef, resid = np.linalg.lstsq(B, weighted_y[:, i])[0:2]\n",
      "/opt/anaconda3/lib/python3.9/site-packages/pyearth/earth.py:1066: FutureWarning: `rcond` parameter will change to the default of machine precision times ``max(M, N)`` where M and N are the input matrix dimensions.\n",
      "To use the future default and silence this warning we advise to pass `rcond=None`, to keep using the old, explicitly pass `rcond=-1`.\n",
      "  coef, resid = np.linalg.lstsq(B, weighted_y[:, i])[0:2]\n",
      "/opt/anaconda3/lib/python3.9/site-packages/pyearth/earth.py:1066: FutureWarning: `rcond` parameter will change to the default of machine precision times ``max(M, N)`` where M and N are the input matrix dimensions.\n",
      "To use the future default and silence this warning we advise to pass `rcond=None`, to keep using the old, explicitly pass `rcond=-1`.\n",
      "  coef, resid = np.linalg.lstsq(B, weighted_y[:, i])[0:2]\n",
      "/opt/anaconda3/lib/python3.9/site-packages/pyearth/earth.py:1066: FutureWarning: `rcond` parameter will change to the default of machine precision times ``max(M, N)`` where M and N are the input matrix dimensions.\n",
      "To use the future default and silence this warning we advise to pass `rcond=None`, to keep using the old, explicitly pass `rcond=-1`.\n",
      "  coef, resid = np.linalg.lstsq(B, weighted_y[:, i])[0:2]\n",
      "/opt/anaconda3/lib/python3.9/site-packages/pyearth/earth.py:813: FutureWarning: `rcond` parameter will change to the default of machine precision times ``max(M, N)`` where M and N are the input matrix dimensions.\n",
      "To use the future default and silence this warning we advise to pass `rcond=None`, to keep using the old, explicitly pass `rcond=-1`.\n",
      "  pruning_passer.run()\n",
      "/opt/anaconda3/lib/python3.9/site-packages/pyearth/earth.py:813: FutureWarning: `rcond` parameter will change to the default of machine precision times ``max(M, N)`` where M and N are the input matrix dimensions.\n",
      "To use the future default and silence this warning we advise to pass `rcond=None`, to keep using the old, explicitly pass `rcond=-1`.\n",
      "  pruning_passer.run()\n",
      "/opt/anaconda3/lib/python3.9/site-packages/pyearth/earth.py:813: FutureWarning: `rcond` parameter will change to the default of machine precision times ``max(M, N)`` where M and N are the input matrix dimensions.\n",
      "To use the future default and silence this warning we advise to pass `rcond=None`, to keep using the old, explicitly pass `rcond=-1`.\n",
      "  pruning_passer.run()\n",
      "/opt/anaconda3/lib/python3.9/site-packages/pyearth/earth.py:813: FutureWarning: `rcond` parameter will change to the default of machine precision times ``max(M, N)`` where M and N are the input matrix dimensions.\n",
      "To use the future default and silence this warning we advise to pass `rcond=None`, to keep using the old, explicitly pass `rcond=-1`.\n",
      "  pruning_passer.run()\n",
      "/opt/anaconda3/lib/python3.9/site-packages/pyearth/earth.py:1066: FutureWarning: `rcond` parameter will change to the default of machine precision times ``max(M, N)`` where M and N are the input matrix dimensions.\n",
      "To use the future default and silence this warning we advise to pass `rcond=None`, to keep using the old, explicitly pass `rcond=-1`.\n",
      "  coef, resid = np.linalg.lstsq(B, weighted_y[:, i])[0:2]\n",
      "/opt/anaconda3/lib/python3.9/site-packages/pyearth/earth.py:1066: FutureWarning: `rcond` parameter will change to the default of machine precision times ``max(M, N)`` where M and N are the input matrix dimensions.\n",
      "To use the future default and silence this warning we advise to pass `rcond=None`, to keep using the old, explicitly pass `rcond=-1`.\n",
      "  coef, resid = np.linalg.lstsq(B, weighted_y[:, i])[0:2]\n",
      "/opt/anaconda3/lib/python3.9/site-packages/pyearth/earth.py:1066: FutureWarning: `rcond` parameter will change to the default of machine precision times ``max(M, N)`` where M and N are the input matrix dimensions.\n",
      "To use the future default and silence this warning we advise to pass `rcond=None`, to keep using the old, explicitly pass `rcond=-1`.\n",
      "  coef, resid = np.linalg.lstsq(B, weighted_y[:, i])[0:2]\n",
      "/opt/anaconda3/lib/python3.9/site-packages/pyearth/earth.py:1066: FutureWarning: `rcond` parameter will change to the default of machine precision times ``max(M, N)`` where M and N are the input matrix dimensions.\n",
      "To use the future default and silence this warning we advise to pass `rcond=None`, to keep using the old, explicitly pass `rcond=-1`.\n",
      "  coef, resid = np.linalg.lstsq(B, weighted_y[:, i])[0:2]\n",
      "/opt/anaconda3/lib/python3.9/site-packages/pyearth/earth.py:813: FutureWarning: `rcond` parameter will change to the default of machine precision times ``max(M, N)`` where M and N are the input matrix dimensions.\n",
      "To use the future default and silence this warning we advise to pass `rcond=None`, to keep using the old, explicitly pass `rcond=-1`.\n",
      "  pruning_passer.run()\n",
      "/opt/anaconda3/lib/python3.9/site-packages/pyearth/earth.py:1066: FutureWarning: `rcond` parameter will change to the default of machine precision times ``max(M, N)`` where M and N are the input matrix dimensions.\n",
      "To use the future default and silence this warning we advise to pass `rcond=None`, to keep using the old, explicitly pass `rcond=-1`.\n",
      "  coef, resid = np.linalg.lstsq(B, weighted_y[:, i])[0:2]\n",
      "/opt/anaconda3/lib/python3.9/site-packages/pyearth/earth.py:813: FutureWarning: `rcond` parameter will change to the default of machine precision times ``max(M, N)`` where M and N are the input matrix dimensions.\n",
      "To use the future default and silence this warning we advise to pass `rcond=None`, to keep using the old, explicitly pass `rcond=-1`.\n",
      "  pruning_passer.run()\n",
      "/opt/anaconda3/lib/python3.9/site-packages/pyearth/earth.py:1066: FutureWarning: `rcond` parameter will change to the default of machine precision times ``max(M, N)`` where M and N are the input matrix dimensions.\n",
      "To use the future default and silence this warning we advise to pass `rcond=None`, to keep using the old, explicitly pass `rcond=-1`.\n",
      "  coef, resid = np.linalg.lstsq(B, weighted_y[:, i])[0:2]\n"
     ]
    },
    {
     "name": "stderr",
     "output_type": "stream",
     "text": [
      "/opt/anaconda3/lib/python3.9/site-packages/pyearth/earth.py:813: FutureWarning: `rcond` parameter will change to the default of machine precision times ``max(M, N)`` where M and N are the input matrix dimensions.\n",
      "To use the future default and silence this warning we advise to pass `rcond=None`, to keep using the old, explicitly pass `rcond=-1`.\n",
      "  pruning_passer.run()\n",
      "/opt/anaconda3/lib/python3.9/site-packages/pyearth/earth.py:813: FutureWarning: `rcond` parameter will change to the default of machine precision times ``max(M, N)`` where M and N are the input matrix dimensions.\n",
      "To use the future default and silence this warning we advise to pass `rcond=None`, to keep using the old, explicitly pass `rcond=-1`.\n",
      "  pruning_passer.run()\n",
      "/opt/anaconda3/lib/python3.9/site-packages/pyearth/earth.py:1066: FutureWarning: `rcond` parameter will change to the default of machine precision times ``max(M, N)`` where M and N are the input matrix dimensions.\n",
      "To use the future default and silence this warning we advise to pass `rcond=None`, to keep using the old, explicitly pass `rcond=-1`.\n",
      "  coef, resid = np.linalg.lstsq(B, weighted_y[:, i])[0:2]\n",
      "/opt/anaconda3/lib/python3.9/site-packages/pyearth/earth.py:813: FutureWarning: `rcond` parameter will change to the default of machine precision times ``max(M, N)`` where M and N are the input matrix dimensions.\n",
      "To use the future default and silence this warning we advise to pass `rcond=None`, to keep using the old, explicitly pass `rcond=-1`.\n",
      "  pruning_passer.run()\n",
      "/opt/anaconda3/lib/python3.9/site-packages/pyearth/earth.py:1066: FutureWarning: `rcond` parameter will change to the default of machine precision times ``max(M, N)`` where M and N are the input matrix dimensions.\n",
      "To use the future default and silence this warning we advise to pass `rcond=None`, to keep using the old, explicitly pass `rcond=-1`.\n",
      "  coef, resid = np.linalg.lstsq(B, weighted_y[:, i])[0:2]\n",
      "/opt/anaconda3/lib/python3.9/site-packages/pyearth/earth.py:813: FutureWarning: `rcond` parameter will change to the default of machine precision times ``max(M, N)`` where M and N are the input matrix dimensions.\n",
      "To use the future default and silence this warning we advise to pass `rcond=None`, to keep using the old, explicitly pass `rcond=-1`.\n",
      "  pruning_passer.run()\n",
      "/opt/anaconda3/lib/python3.9/site-packages/pyearth/earth.py:1066: FutureWarning: `rcond` parameter will change to the default of machine precision times ``max(M, N)`` where M and N are the input matrix dimensions.\n",
      "To use the future default and silence this warning we advise to pass `rcond=None`, to keep using the old, explicitly pass `rcond=-1`.\n",
      "  coef, resid = np.linalg.lstsq(B, weighted_y[:, i])[0:2]\n",
      "/opt/anaconda3/lib/python3.9/site-packages/pyearth/earth.py:1066: FutureWarning: `rcond` parameter will change to the default of machine precision times ``max(M, N)`` where M and N are the input matrix dimensions.\n",
      "To use the future default and silence this warning we advise to pass `rcond=None`, to keep using the old, explicitly pass `rcond=-1`.\n",
      "  coef, resid = np.linalg.lstsq(B, weighted_y[:, i])[0:2]\n",
      "/opt/anaconda3/lib/python3.9/site-packages/pyearth/earth.py:813: FutureWarning: `rcond` parameter will change to the default of machine precision times ``max(M, N)`` where M and N are the input matrix dimensions.\n",
      "To use the future default and silence this warning we advise to pass `rcond=None`, to keep using the old, explicitly pass `rcond=-1`.\n",
      "  pruning_passer.run()\n",
      "/opt/anaconda3/lib/python3.9/site-packages/pyearth/earth.py:1066: FutureWarning: `rcond` parameter will change to the default of machine precision times ``max(M, N)`` where M and N are the input matrix dimensions.\n",
      "To use the future default and silence this warning we advise to pass `rcond=None`, to keep using the old, explicitly pass `rcond=-1`.\n",
      "  coef, resid = np.linalg.lstsq(B, weighted_y[:, i])[0:2]\n",
      "/opt/anaconda3/lib/python3.9/site-packages/pyearth/earth.py:813: FutureWarning: `rcond` parameter will change to the default of machine precision times ``max(M, N)`` where M and N are the input matrix dimensions.\n",
      "To use the future default and silence this warning we advise to pass `rcond=None`, to keep using the old, explicitly pass `rcond=-1`.\n",
      "  pruning_passer.run()\n",
      "/opt/anaconda3/lib/python3.9/site-packages/pyearth/earth.py:1066: FutureWarning: `rcond` parameter will change to the default of machine precision times ``max(M, N)`` where M and N are the input matrix dimensions.\n",
      "To use the future default and silence this warning we advise to pass `rcond=None`, to keep using the old, explicitly pass `rcond=-1`.\n",
      "  coef, resid = np.linalg.lstsq(B, weighted_y[:, i])[0:2]\n",
      "/opt/anaconda3/lib/python3.9/site-packages/pyearth/earth.py:813: FutureWarning: `rcond` parameter will change to the default of machine precision times ``max(M, N)`` where M and N are the input matrix dimensions.\n",
      "To use the future default and silence this warning we advise to pass `rcond=None`, to keep using the old, explicitly pass `rcond=-1`.\n",
      "  pruning_passer.run()\n",
      "/opt/anaconda3/lib/python3.9/site-packages/pyearth/earth.py:813: FutureWarning: `rcond` parameter will change to the default of machine precision times ``max(M, N)`` where M and N are the input matrix dimensions.\n",
      "To use the future default and silence this warning we advise to pass `rcond=None`, to keep using the old, explicitly pass `rcond=-1`.\n",
      "  pruning_passer.run()\n",
      "/opt/anaconda3/lib/python3.9/site-packages/pyearth/earth.py:1066: FutureWarning: `rcond` parameter will change to the default of machine precision times ``max(M, N)`` where M and N are the input matrix dimensions.\n",
      "To use the future default and silence this warning we advise to pass `rcond=None`, to keep using the old, explicitly pass `rcond=-1`.\n",
      "  coef, resid = np.linalg.lstsq(B, weighted_y[:, i])[0:2]\n",
      "/opt/anaconda3/lib/python3.9/site-packages/pyearth/earth.py:813: FutureWarning: `rcond` parameter will change to the default of machine precision times ``max(M, N)`` where M and N are the input matrix dimensions.\n",
      "To use the future default and silence this warning we advise to pass `rcond=None`, to keep using the old, explicitly pass `rcond=-1`.\n",
      "  pruning_passer.run()\n",
      "/opt/anaconda3/lib/python3.9/site-packages/pyearth/earth.py:1066: FutureWarning: `rcond` parameter will change to the default of machine precision times ``max(M, N)`` where M and N are the input matrix dimensions.\n",
      "To use the future default and silence this warning we advise to pass `rcond=None`, to keep using the old, explicitly pass `rcond=-1`.\n",
      "  coef, resid = np.linalg.lstsq(B, weighted_y[:, i])[0:2]\n",
      "/opt/anaconda3/lib/python3.9/site-packages/pyearth/earth.py:1066: FutureWarning: `rcond` parameter will change to the default of machine precision times ``max(M, N)`` where M and N are the input matrix dimensions.\n",
      "To use the future default and silence this warning we advise to pass `rcond=None`, to keep using the old, explicitly pass `rcond=-1`.\n",
      "  coef, resid = np.linalg.lstsq(B, weighted_y[:, i])[0:2]\n",
      "/opt/anaconda3/lib/python3.9/site-packages/pyearth/earth.py:813: FutureWarning: `rcond` parameter will change to the default of machine precision times ``max(M, N)`` where M and N are the input matrix dimensions.\n",
      "To use the future default and silence this warning we advise to pass `rcond=None`, to keep using the old, explicitly pass `rcond=-1`.\n",
      "  pruning_passer.run()\n",
      "/opt/anaconda3/lib/python3.9/site-packages/pyearth/earth.py:813: FutureWarning: `rcond` parameter will change to the default of machine precision times ``max(M, N)`` where M and N are the input matrix dimensions.\n",
      "To use the future default and silence this warning we advise to pass `rcond=None`, to keep using the old, explicitly pass `rcond=-1`.\n",
      "  pruning_passer.run()\n",
      "/opt/anaconda3/lib/python3.9/site-packages/pyearth/earth.py:1066: FutureWarning: `rcond` parameter will change to the default of machine precision times ``max(M, N)`` where M and N are the input matrix dimensions.\n",
      "To use the future default and silence this warning we advise to pass `rcond=None`, to keep using the old, explicitly pass `rcond=-1`.\n",
      "  coef, resid = np.linalg.lstsq(B, weighted_y[:, i])[0:2]\n",
      "/opt/anaconda3/lib/python3.9/site-packages/pyearth/earth.py:1066: FutureWarning: `rcond` parameter will change to the default of machine precision times ``max(M, N)`` where M and N are the input matrix dimensions.\n",
      "To use the future default and silence this warning we advise to pass `rcond=None`, to keep using the old, explicitly pass `rcond=-1`.\n",
      "  coef, resid = np.linalg.lstsq(B, weighted_y[:, i])[0:2]\n"
     ]
    },
    {
     "name": "stderr",
     "output_type": "stream",
     "text": [
      "/opt/anaconda3/lib/python3.9/site-packages/pyearth/earth.py:813: FutureWarning: `rcond` parameter will change to the default of machine precision times ``max(M, N)`` where M and N are the input matrix dimensions.\n",
      "To use the future default and silence this warning we advise to pass `rcond=None`, to keep using the old, explicitly pass `rcond=-1`.\n",
      "  pruning_passer.run()\n",
      "/opt/anaconda3/lib/python3.9/site-packages/pyearth/earth.py:1066: FutureWarning: `rcond` parameter will change to the default of machine precision times ``max(M, N)`` where M and N are the input matrix dimensions.\n",
      "To use the future default and silence this warning we advise to pass `rcond=None`, to keep using the old, explicitly pass `rcond=-1`.\n",
      "  coef, resid = np.linalg.lstsq(B, weighted_y[:, i])[0:2]\n",
      "/opt/anaconda3/lib/python3.9/site-packages/pyearth/earth.py:813: FutureWarning: `rcond` parameter will change to the default of machine precision times ``max(M, N)`` where M and N are the input matrix dimensions.\n",
      "To use the future default and silence this warning we advise to pass `rcond=None`, to keep using the old, explicitly pass `rcond=-1`.\n",
      "  pruning_passer.run()\n",
      "/opt/anaconda3/lib/python3.9/site-packages/pyearth/earth.py:813: FutureWarning: `rcond` parameter will change to the default of machine precision times ``max(M, N)`` where M and N are the input matrix dimensions.\n",
      "To use the future default and silence this warning we advise to pass `rcond=None`, to keep using the old, explicitly pass `rcond=-1`.\n",
      "  pruning_passer.run()\n",
      "/opt/anaconda3/lib/python3.9/site-packages/pyearth/earth.py:1066: FutureWarning: `rcond` parameter will change to the default of machine precision times ``max(M, N)`` where M and N are the input matrix dimensions.\n",
      "To use the future default and silence this warning we advise to pass `rcond=None`, to keep using the old, explicitly pass `rcond=-1`.\n",
      "  coef, resid = np.linalg.lstsq(B, weighted_y[:, i])[0:2]\n",
      "/opt/anaconda3/lib/python3.9/site-packages/pyearth/earth.py:1066: FutureWarning: `rcond` parameter will change to the default of machine precision times ``max(M, N)`` where M and N are the input matrix dimensions.\n",
      "To use the future default and silence this warning we advise to pass `rcond=None`, to keep using the old, explicitly pass `rcond=-1`.\n",
      "  coef, resid = np.linalg.lstsq(B, weighted_y[:, i])[0:2]\n",
      "/opt/anaconda3/lib/python3.9/site-packages/pyearth/earth.py:813: FutureWarning: `rcond` parameter will change to the default of machine precision times ``max(M, N)`` where M and N are the input matrix dimensions.\n",
      "To use the future default and silence this warning we advise to pass `rcond=None`, to keep using the old, explicitly pass `rcond=-1`.\n",
      "  pruning_passer.run()\n",
      "/opt/anaconda3/lib/python3.9/site-packages/pyearth/earth.py:1066: FutureWarning: `rcond` parameter will change to the default of machine precision times ``max(M, N)`` where M and N are the input matrix dimensions.\n",
      "To use the future default and silence this warning we advise to pass `rcond=None`, to keep using the old, explicitly pass `rcond=-1`.\n",
      "  coef, resid = np.linalg.lstsq(B, weighted_y[:, i])[0:2]\n",
      "/opt/anaconda3/lib/python3.9/site-packages/pyearth/earth.py:813: FutureWarning: `rcond` parameter will change to the default of machine precision times ``max(M, N)`` where M and N are the input matrix dimensions.\n",
      "To use the future default and silence this warning we advise to pass `rcond=None`, to keep using the old, explicitly pass `rcond=-1`.\n",
      "  pruning_passer.run()\n",
      "/opt/anaconda3/lib/python3.9/site-packages/pyearth/earth.py:1066: FutureWarning: `rcond` parameter will change to the default of machine precision times ``max(M, N)`` where M and N are the input matrix dimensions.\n",
      "To use the future default and silence this warning we advise to pass `rcond=None`, to keep using the old, explicitly pass `rcond=-1`.\n",
      "  coef, resid = np.linalg.lstsq(B, weighted_y[:, i])[0:2]\n",
      "/opt/anaconda3/lib/python3.9/site-packages/pyearth/earth.py:813: FutureWarning: `rcond` parameter will change to the default of machine precision times ``max(M, N)`` where M and N are the input matrix dimensions.\n",
      "To use the future default and silence this warning we advise to pass `rcond=None`, to keep using the old, explicitly pass `rcond=-1`.\n",
      "  pruning_passer.run()\n",
      "/opt/anaconda3/lib/python3.9/site-packages/pyearth/earth.py:1066: FutureWarning: `rcond` parameter will change to the default of machine precision times ``max(M, N)`` where M and N are the input matrix dimensions.\n",
      "To use the future default and silence this warning we advise to pass `rcond=None`, to keep using the old, explicitly pass `rcond=-1`.\n",
      "  coef, resid = np.linalg.lstsq(B, weighted_y[:, i])[0:2]\n",
      "/opt/anaconda3/lib/python3.9/site-packages/pyearth/earth.py:813: FutureWarning: `rcond` parameter will change to the default of machine precision times ``max(M, N)`` where M and N are the input matrix dimensions.\n",
      "To use the future default and silence this warning we advise to pass `rcond=None`, to keep using the old, explicitly pass `rcond=-1`.\n",
      "  pruning_passer.run()\n",
      "/opt/anaconda3/lib/python3.9/site-packages/pyearth/earth.py:1066: FutureWarning: `rcond` parameter will change to the default of machine precision times ``max(M, N)`` where M and N are the input matrix dimensions.\n",
      "To use the future default and silence this warning we advise to pass `rcond=None`, to keep using the old, explicitly pass `rcond=-1`.\n",
      "  coef, resid = np.linalg.lstsq(B, weighted_y[:, i])[0:2]\n",
      "/opt/anaconda3/lib/python3.9/site-packages/pyearth/earth.py:813: FutureWarning: `rcond` parameter will change to the default of machine precision times ``max(M, N)`` where M and N are the input matrix dimensions.\n",
      "To use the future default and silence this warning we advise to pass `rcond=None`, to keep using the old, explicitly pass `rcond=-1`.\n",
      "  pruning_passer.run()\n",
      "/opt/anaconda3/lib/python3.9/site-packages/pyearth/earth.py:1066: FutureWarning: `rcond` parameter will change to the default of machine precision times ``max(M, N)`` where M and N are the input matrix dimensions.\n",
      "To use the future default and silence this warning we advise to pass `rcond=None`, to keep using the old, explicitly pass `rcond=-1`.\n",
      "  coef, resid = np.linalg.lstsq(B, weighted_y[:, i])[0:2]\n",
      "/opt/anaconda3/lib/python3.9/site-packages/pyearth/earth.py:813: FutureWarning: `rcond` parameter will change to the default of machine precision times ``max(M, N)`` where M and N are the input matrix dimensions.\n",
      "To use the future default and silence this warning we advise to pass `rcond=None`, to keep using the old, explicitly pass `rcond=-1`.\n",
      "  pruning_passer.run()\n",
      "/opt/anaconda3/lib/python3.9/site-packages/pyearth/earth.py:1066: FutureWarning: `rcond` parameter will change to the default of machine precision times ``max(M, N)`` where M and N are the input matrix dimensions.\n",
      "To use the future default and silence this warning we advise to pass `rcond=None`, to keep using the old, explicitly pass `rcond=-1`.\n",
      "  coef, resid = np.linalg.lstsq(B, weighted_y[:, i])[0:2]\n",
      "/opt/anaconda3/lib/python3.9/site-packages/pyearth/earth.py:813: FutureWarning: `rcond` parameter will change to the default of machine precision times ``max(M, N)`` where M and N are the input matrix dimensions.\n",
      "To use the future default and silence this warning we advise to pass `rcond=None`, to keep using the old, explicitly pass `rcond=-1`.\n",
      "  pruning_passer.run()\n",
      "/opt/anaconda3/lib/python3.9/site-packages/pyearth/earth.py:1066: FutureWarning: `rcond` parameter will change to the default of machine precision times ``max(M, N)`` where M and N are the input matrix dimensions.\n",
      "To use the future default and silence this warning we advise to pass `rcond=None`, to keep using the old, explicitly pass `rcond=-1`.\n",
      "  coef, resid = np.linalg.lstsq(B, weighted_y[:, i])[0:2]\n",
      "/opt/anaconda3/lib/python3.9/site-packages/pyearth/earth.py:813: FutureWarning: `rcond` parameter will change to the default of machine precision times ``max(M, N)`` where M and N are the input matrix dimensions.\n",
      "To use the future default and silence this warning we advise to pass `rcond=None`, to keep using the old, explicitly pass `rcond=-1`.\n",
      "  pruning_passer.run()\n",
      "/opt/anaconda3/lib/python3.9/site-packages/pyearth/earth.py:1066: FutureWarning: `rcond` parameter will change to the default of machine precision times ``max(M, N)`` where M and N are the input matrix dimensions.\n",
      "To use the future default and silence this warning we advise to pass `rcond=None`, to keep using the old, explicitly pass `rcond=-1`.\n",
      "  coef, resid = np.linalg.lstsq(B, weighted_y[:, i])[0:2]\n"
     ]
    },
    {
     "name": "stderr",
     "output_type": "stream",
     "text": [
      "/opt/anaconda3/lib/python3.9/site-packages/pyearth/earth.py:813: FutureWarning: `rcond` parameter will change to the default of machine precision times ``max(M, N)`` where M and N are the input matrix dimensions.\n",
      "To use the future default and silence this warning we advise to pass `rcond=None`, to keep using the old, explicitly pass `rcond=-1`.\n",
      "  pruning_passer.run()\n",
      "/opt/anaconda3/lib/python3.9/site-packages/pyearth/earth.py:813: FutureWarning: `rcond` parameter will change to the default of machine precision times ``max(M, N)`` where M and N are the input matrix dimensions.\n",
      "To use the future default and silence this warning we advise to pass `rcond=None`, to keep using the old, explicitly pass `rcond=-1`.\n",
      "  pruning_passer.run()\n",
      "/opt/anaconda3/lib/python3.9/site-packages/pyearth/earth.py:1066: FutureWarning: `rcond` parameter will change to the default of machine precision times ``max(M, N)`` where M and N are the input matrix dimensions.\n",
      "To use the future default and silence this warning we advise to pass `rcond=None`, to keep using the old, explicitly pass `rcond=-1`.\n",
      "  coef, resid = np.linalg.lstsq(B, weighted_y[:, i])[0:2]\n",
      "/opt/anaconda3/lib/python3.9/site-packages/pyearth/earth.py:1066: FutureWarning: `rcond` parameter will change to the default of machine precision times ``max(M, N)`` where M and N are the input matrix dimensions.\n",
      "To use the future default and silence this warning we advise to pass `rcond=None`, to keep using the old, explicitly pass `rcond=-1`.\n",
      "  coef, resid = np.linalg.lstsq(B, weighted_y[:, i])[0:2]\n",
      "/opt/anaconda3/lib/python3.9/site-packages/pyearth/earth.py:813: FutureWarning: `rcond` parameter will change to the default of machine precision times ``max(M, N)`` where M and N are the input matrix dimensions.\n",
      "To use the future default and silence this warning we advise to pass `rcond=None`, to keep using the old, explicitly pass `rcond=-1`.\n",
      "  pruning_passer.run()\n",
      "/opt/anaconda3/lib/python3.9/site-packages/pyearth/earth.py:1066: FutureWarning: `rcond` parameter will change to the default of machine precision times ``max(M, N)`` where M and N are the input matrix dimensions.\n",
      "To use the future default and silence this warning we advise to pass `rcond=None`, to keep using the old, explicitly pass `rcond=-1`.\n",
      "  coef, resid = np.linalg.lstsq(B, weighted_y[:, i])[0:2]\n",
      "/opt/anaconda3/lib/python3.9/site-packages/pyearth/earth.py:813: FutureWarning: `rcond` parameter will change to the default of machine precision times ``max(M, N)`` where M and N are the input matrix dimensions.\n",
      "To use the future default and silence this warning we advise to pass `rcond=None`, to keep using the old, explicitly pass `rcond=-1`.\n",
      "  pruning_passer.run()\n",
      "/opt/anaconda3/lib/python3.9/site-packages/pyearth/earth.py:1066: FutureWarning: `rcond` parameter will change to the default of machine precision times ``max(M, N)`` where M and N are the input matrix dimensions.\n",
      "To use the future default and silence this warning we advise to pass `rcond=None`, to keep using the old, explicitly pass `rcond=-1`.\n",
      "  coef, resid = np.linalg.lstsq(B, weighted_y[:, i])[0:2]\n",
      "/opt/anaconda3/lib/python3.9/site-packages/pyearth/earth.py:813: FutureWarning: `rcond` parameter will change to the default of machine precision times ``max(M, N)`` where M and N are the input matrix dimensions.\n",
      "To use the future default and silence this warning we advise to pass `rcond=None`, to keep using the old, explicitly pass `rcond=-1`.\n",
      "  pruning_passer.run()\n",
      "/opt/anaconda3/lib/python3.9/site-packages/pyearth/earth.py:1066: FutureWarning: `rcond` parameter will change to the default of machine precision times ``max(M, N)`` where M and N are the input matrix dimensions.\n",
      "To use the future default and silence this warning we advise to pass `rcond=None`, to keep using the old, explicitly pass `rcond=-1`.\n",
      "  coef, resid = np.linalg.lstsq(B, weighted_y[:, i])[0:2]\n",
      "/opt/anaconda3/lib/python3.9/site-packages/pyearth/earth.py:813: FutureWarning: `rcond` parameter will change to the default of machine precision times ``max(M, N)`` where M and N are the input matrix dimensions.\n",
      "To use the future default and silence this warning we advise to pass `rcond=None`, to keep using the old, explicitly pass `rcond=-1`.\n",
      "  pruning_passer.run()\n",
      "/opt/anaconda3/lib/python3.9/site-packages/pyearth/earth.py:813: FutureWarning: `rcond` parameter will change to the default of machine precision times ``max(M, N)`` where M and N are the input matrix dimensions.\n",
      "To use the future default and silence this warning we advise to pass `rcond=None`, to keep using the old, explicitly pass `rcond=-1`.\n",
      "  pruning_passer.run()\n",
      "/opt/anaconda3/lib/python3.9/site-packages/pyearth/earth.py:1066: FutureWarning: `rcond` parameter will change to the default of machine precision times ``max(M, N)`` where M and N are the input matrix dimensions.\n",
      "To use the future default and silence this warning we advise to pass `rcond=None`, to keep using the old, explicitly pass `rcond=-1`.\n",
      "  coef, resid = np.linalg.lstsq(B, weighted_y[:, i])[0:2]\n",
      "/opt/anaconda3/lib/python3.9/site-packages/pyearth/earth.py:1066: FutureWarning: `rcond` parameter will change to the default of machine precision times ``max(M, N)`` where M and N are the input matrix dimensions.\n",
      "To use the future default and silence this warning we advise to pass `rcond=None`, to keep using the old, explicitly pass `rcond=-1`.\n",
      "  coef, resid = np.linalg.lstsq(B, weighted_y[:, i])[0:2]\n",
      "/opt/anaconda3/lib/python3.9/site-packages/pyearth/earth.py:813: FutureWarning: `rcond` parameter will change to the default of machine precision times ``max(M, N)`` where M and N are the input matrix dimensions.\n",
      "To use the future default and silence this warning we advise to pass `rcond=None`, to keep using the old, explicitly pass `rcond=-1`.\n",
      "  pruning_passer.run()\n",
      "/opt/anaconda3/lib/python3.9/site-packages/pyearth/earth.py:1066: FutureWarning: `rcond` parameter will change to the default of machine precision times ``max(M, N)`` where M and N are the input matrix dimensions.\n",
      "To use the future default and silence this warning we advise to pass `rcond=None`, to keep using the old, explicitly pass `rcond=-1`.\n",
      "  coef, resid = np.linalg.lstsq(B, weighted_y[:, i])[0:2]\n",
      "/opt/anaconda3/lib/python3.9/site-packages/pyearth/earth.py:813: FutureWarning: `rcond` parameter will change to the default of machine precision times ``max(M, N)`` where M and N are the input matrix dimensions.\n",
      "To use the future default and silence this warning we advise to pass `rcond=None`, to keep using the old, explicitly pass `rcond=-1`.\n",
      "  pruning_passer.run()\n",
      "/opt/anaconda3/lib/python3.9/site-packages/pyearth/earth.py:1066: FutureWarning: `rcond` parameter will change to the default of machine precision times ``max(M, N)`` where M and N are the input matrix dimensions.\n",
      "To use the future default and silence this warning we advise to pass `rcond=None`, to keep using the old, explicitly pass `rcond=-1`.\n",
      "  coef, resid = np.linalg.lstsq(B, weighted_y[:, i])[0:2]\n",
      "/opt/anaconda3/lib/python3.9/site-packages/pyearth/earth.py:813: FutureWarning: `rcond` parameter will change to the default of machine precision times ``max(M, N)`` where M and N are the input matrix dimensions.\n",
      "To use the future default and silence this warning we advise to pass `rcond=None`, to keep using the old, explicitly pass `rcond=-1`.\n",
      "  pruning_passer.run()\n",
      "/opt/anaconda3/lib/python3.9/site-packages/pyearth/earth.py:1066: FutureWarning: `rcond` parameter will change to the default of machine precision times ``max(M, N)`` where M and N are the input matrix dimensions.\n",
      "To use the future default and silence this warning we advise to pass `rcond=None`, to keep using the old, explicitly pass `rcond=-1`.\n",
      "  coef, resid = np.linalg.lstsq(B, weighted_y[:, i])[0:2]\n",
      "/opt/anaconda3/lib/python3.9/site-packages/pyearth/earth.py:813: FutureWarning: `rcond` parameter will change to the default of machine precision times ``max(M, N)`` where M and N are the input matrix dimensions.\n",
      "To use the future default and silence this warning we advise to pass `rcond=None`, to keep using the old, explicitly pass `rcond=-1`.\n",
      "  pruning_passer.run()\n",
      "/opt/anaconda3/lib/python3.9/site-packages/pyearth/earth.py:813: FutureWarning: `rcond` parameter will change to the default of machine precision times ``max(M, N)`` where M and N are the input matrix dimensions.\n",
      "To use the future default and silence this warning we advise to pass `rcond=None`, to keep using the old, explicitly pass `rcond=-1`.\n",
      "  pruning_passer.run()\n"
     ]
    },
    {
     "name": "stderr",
     "output_type": "stream",
     "text": [
      "/opt/anaconda3/lib/python3.9/site-packages/pyearth/earth.py:1066: FutureWarning: `rcond` parameter will change to the default of machine precision times ``max(M, N)`` where M and N are the input matrix dimensions.\n",
      "To use the future default and silence this warning we advise to pass `rcond=None`, to keep using the old, explicitly pass `rcond=-1`.\n",
      "  coef, resid = np.linalg.lstsq(B, weighted_y[:, i])[0:2]\n",
      "/opt/anaconda3/lib/python3.9/site-packages/pyearth/earth.py:1066: FutureWarning: `rcond` parameter will change to the default of machine precision times ``max(M, N)`` where M and N are the input matrix dimensions.\n",
      "To use the future default and silence this warning we advise to pass `rcond=None`, to keep using the old, explicitly pass `rcond=-1`.\n",
      "  coef, resid = np.linalg.lstsq(B, weighted_y[:, i])[0:2]\n"
     ]
    }
   ],
   "source": [
    "rmse_df = pd.DataFrame(columns = {'degree', 'RMSE'})\n",
    "cv = KFold(n_splits=5, random_state=1, shuffle=True)\n",
    "counter = 0\n",
    "for degree in np.arange(1, 10, 1):\n",
    "    rmse_df.loc[counter, 'RMSE'] = np.sqrt(np.mean(-cross_val_score(Earth(max_terms=1000, max_degree = degree),\n",
    "                                 X_train, y_train, scoring='neg_mean_squared_error', cv=cv, n_jobs=-1)))\n",
    "    rmse_df.loc[counter, 'degree'] = degree\n",
    "    counter = counter + 1"
   ]
  },
  {
   "cell_type": "code",
   "execution_count": 36,
   "id": "4c6d8afd",
   "metadata": {},
   "outputs": [
    {
     "data": {
      "text/plain": [
       "degree            2\n",
       "RMSE      64.582452\n",
       "Name: 1, dtype: object"
      ]
     },
     "execution_count": 36,
     "metadata": {},
     "output_type": "execute_result"
    }
   ],
   "source": [
    "rmse_df.loc[np.argmin(rmse_df.RMSE),:]"
   ]
  },
  {
   "cell_type": "code",
   "execution_count": 37,
   "id": "21c47c41",
   "metadata": {},
   "outputs": [
    {
     "name": "stdout",
     "output_type": "stream",
     "text": [
      "Earth Model\n",
      "----------------------------------------------------------------------------------------------------------------------------------------\n",
      "Basis Function                                                                                                    Pruned  Coefficient   \n",
      "----------------------------------------------------------------------------------------------------------------------------------------\n",
      "(Intercept)                                                                                                       No      618.346       \n",
      "h(Outstanding_Debt-1404.99)                                                                                       Yes     None          \n",
      "h(1404.99-Outstanding_Debt)                                                                                       No      0.0640988     \n",
      "Credit_Mix_Good                                                                                                   No      18.4747       \n",
      "Credit_Mix_Bad                                                                                                    No      -115.916      \n",
      "h(Outstanding_Debt-2089.89)*h(Outstanding_Debt-1404.99)                                                           Yes     None          \n",
      "h(2089.89-Outstanding_Debt)*h(Outstanding_Debt-1404.99)                                                           No      -0.000244499  \n",
      "h(Num_Credit_Inquiries-17)                                                                                        Yes     None          \n",
      "h(17-Num_Credit_Inquiries)                                                                                        Yes     None          \n",
      "h(Outstanding_Debt-1527.78)*h(17-Num_Credit_Inquiries)                                                            Yes     None          \n",
      "h(1527.78-Outstanding_Debt)*h(17-Num_Credit_Inquiries)                                                            Yes     None          \n",
      "h(Amount_invested_monthly-78.4348)                                                                                Yes     None          \n",
      "h(78.4348-Amount_invested_monthly)                                                                                No      1.01472       \n",
      "Credit_Mix_Standard*h(Outstanding_Debt-1404.99)                                                                   No      -0.0379699    \n",
      "Age*Credit_Mix_Bad                                                                                                No      0.204057      \n",
      "h(Num_Credit_Card-70)*h(1527.78-Outstanding_Debt)*h(17-Num_Credit_Inquiries)                                      Yes     None          \n",
      "h(70-Num_Credit_Card)*h(1527.78-Outstanding_Debt)*h(17-Num_Credit_Inquiries)                                      No      -6.61182e-05  \n",
      "Num_Credit_Card*h(70-Num_Credit_Card)*h(1527.78-Outstanding_Debt)*h(17-Num_Credit_Inquiries)                      No      -1.25669e-05  \n",
      "Credit_Mix_Standard*Num_Credit_Card*h(70-Num_Credit_Card)*h(1527.78-Outstanding_Debt)*h(17-Num_Credit_Inquiries)  No      1.23388e-05   \n",
      "Credit_Mix_Good*h(1527.78-Outstanding_Debt)*h(17-Num_Credit_Inquiries)                                            No      0.00318294    \n",
      "Num_of_Delayed_Payment*Credit_Mix_Good                                                                            No      1.48218       \n",
      "h(Num_Credit_Inquiries-17)*h(78.4348-Amount_invested_monthly)                                                     Yes     None          \n",
      "h(17-Num_Credit_Inquiries)*h(78.4348-Amount_invested_monthly)                                                     No      -0.0602005    \n",
      "h(Total_EMI_per_month-645.638)                                                                                    Yes     None          \n",
      "h(645.638-Total_EMI_per_month)                                                                                    No      -0.0955998    \n",
      "Total_EMI_per_month*h(645.638-Total_EMI_per_month)                                                                No      -0.00015629   \n",
      "Num_Credit_Inquiries*Credit_Mix_Bad                                                                               No      7.23476       \n",
      "h(Outstanding_Debt-2420.44)*Total_EMI_per_month*h(645.638-Total_EMI_per_month)                                    Yes     None          \n",
      "h(2420.44-Outstanding_Debt)*Total_EMI_per_month*h(645.638-Total_EMI_per_month)                                    Yes     None          \n",
      "Monthly_Inhand_Salary*Num_Credit_Inquiries*Credit_Mix_Bad                                                         No      -0.000571477  \n",
      "h(Total_EMI_per_month-5064)*h(17-Num_Credit_Inquiries)                                                            Yes     None          \n",
      "h(5064-Total_EMI_per_month)*h(17-Num_Credit_Inquiries)                                                            No      0.00105114    \n",
      "Num_of_Loan*h(Outstanding_Debt-2420.44)*Total_EMI_per_month*h(645.638-Total_EMI_per_month)                        No      -1.28908e-06  \n",
      "h(Amount_invested_monthly-93.105)*h(1404.99-Outstanding_Debt)                                                     Yes     None          \n",
      "h(93.105-Amount_invested_monthly)*h(1404.99-Outstanding_Debt)                                                     Yes     None          \n",
      "Credit_Mix_Bad*h(Outstanding_Debt-2420.44)*Total_EMI_per_month*h(645.638-Total_EMI_per_month)                     No      5.91445e-06   \n",
      "h(Outstanding_Debt-1969.76)*h(2089.89-Outstanding_Debt)*h(Outstanding_Debt-1404.99)                               No      -1.00996e-05  \n",
      "h(1969.76-Outstanding_Debt)*h(2089.89-Outstanding_Debt)*h(Outstanding_Debt-1404.99)                               Yes     None          \n",
      "----------------------------------------------------------------------------------------------------------------------------------------\n",
      "MSE: 3977.8860, GCV: 4044.9375, RSQ: 0.2920, GRSQ: 0.2803\n"
     ]
    }
   ],
   "source": [
    "model = Earth(max_terms=1000, max_degree=5, feature_importance_type= 'rss') \n",
    "model.fit(X_train,y_train)\n",
    "print(model.summary())"
   ]
  },
  {
   "cell_type": "code",
   "execution_count": 38,
   "id": "b17edede",
   "metadata": {
    "scrolled": false
   },
   "outputs": [
    {
     "data": {
      "text/html": [
       "<div>\n",
       "<style scoped>\n",
       "    .dataframe tbody tr th:only-of-type {\n",
       "        vertical-align: middle;\n",
       "    }\n",
       "\n",
       "    .dataframe tbody tr th {\n",
       "        vertical-align: top;\n",
       "    }\n",
       "\n",
       "    .dataframe thead th {\n",
       "        text-align: right;\n",
       "    }\n",
       "</style>\n",
       "<table border=\"1\" class=\"dataframe\">\n",
       "  <thead>\n",
       "    <tr style=\"text-align: right;\">\n",
       "      <th></th>\n",
       "      <th>predictor</th>\n",
       "      <th>importance</th>\n",
       "    </tr>\n",
       "  </thead>\n",
       "  <tbody>\n",
       "    <tr>\n",
       "      <th>14</th>\n",
       "      <td>Credit_Mix_Bad</td>\n",
       "      <td>0.325127</td>\n",
       "    </tr>\n",
       "    <tr>\n",
       "      <th>9</th>\n",
       "      <td>Outstanding_Debt</td>\n",
       "      <td>0.232430</td>\n",
       "    </tr>\n",
       "    <tr>\n",
       "      <th>16</th>\n",
       "      <td>Credit_Mix_Standard</td>\n",
       "      <td>0.176854</td>\n",
       "    </tr>\n",
       "    <tr>\n",
       "      <th>15</th>\n",
       "      <td>Credit_Mix_Good</td>\n",
       "      <td>0.096496</td>\n",
       "    </tr>\n",
       "    <tr>\n",
       "      <th>8</th>\n",
       "      <td>Num_Credit_Inquiries</td>\n",
       "      <td>0.064419</td>\n",
       "    </tr>\n",
       "    <tr>\n",
       "      <th>11</th>\n",
       "      <td>Total_EMI_per_month</td>\n",
       "      <td>0.038698</td>\n",
       "    </tr>\n",
       "  </tbody>\n",
       "</table>\n",
       "</div>"
      ],
      "text/plain": [
       "               predictor  importance\n",
       "14        Credit_Mix_Bad    0.325127\n",
       "9       Outstanding_Debt    0.232430\n",
       "16   Credit_Mix_Standard    0.176854\n",
       "15       Credit_Mix_Good    0.096496\n",
       "8   Num_Credit_Inquiries    0.064419\n",
       "11   Total_EMI_per_month    0.038698"
      ]
     },
     "execution_count": 38,
     "metadata": {},
     "output_type": "execute_result"
    }
   ],
   "source": [
    "pd.concat([pd.Series(X.columns, name = 'predictor'), \n",
    "           pd.Series(model.feature_importances_, \n",
    "                     name = 'importance')], axis = 1).sort_values(by = 'importance', ascending=False)[0:6]"
   ]
  },
  {
   "cell_type": "markdown",
   "id": "f97246b8",
   "metadata": {},
   "source": [
    "## Bagging - Nicket"
   ]
  },
  {
   "cell_type": "markdown",
   "id": "8b15c3ca",
   "metadata": {},
   "source": [
    "### grid search"
   ]
  },
  {
   "cell_type": "code",
   "execution_count": 39,
   "id": "1c21097f",
   "metadata": {},
   "outputs": [
    {
     "name": "stdout",
     "output_type": "stream",
     "text": [
      "Fitting 5 folds for each of 96 candidates, totalling 480 fits\n"
     ]
    },
    {
     "data": {
      "text/plain": [
       "GridSearchCV(cv=KFold(n_splits=5, random_state=1, shuffle=True),\n",
       "             estimator=BaggingRegressor(n_jobs=-1, random_state=1), n_jobs=-1,\n",
       "             param_grid={'base_estimator': [DecisionTreeRegressor(random_state=1),\n",
       "                                            LinearRegression()],\n",
       "                         'bootstrap': [True, False],\n",
       "                         'bootstrap_features': [True, False],\n",
       "                         'max_features': [0.5, 1.0], 'max_samples': [0.5, 1.0],\n",
       "                         'n_estimators': [150, 200, 250]},\n",
       "             verbose=1)"
      ]
     },
     "execution_count": 39,
     "metadata": {},
     "output_type": "execute_result"
    }
   ],
   "source": [
    "n_samples = train.shape[0]\n",
    "n_features = train.shape[1]\n",
    "\n",
    "params = {'base_estimator': [DecisionTreeRegressor(random_state = 1),LinearRegression()],#Comparing bagging with a linear regression model as well\n",
    "          'n_estimators': [150,200,250],\n",
    "          'max_samples': [0.5,1.0],\n",
    "          'max_features': [0.5,1.0],\n",
    "          'bootstrap': [True, False],\n",
    "          'bootstrap_features': [True, False]}\n",
    "\n",
    "cv = KFold(n_splits=5,shuffle=True,random_state=1)\n",
    "bagging_regressor_grid = GridSearchCV(BaggingRegressor(random_state=1, n_jobs=-1), \n",
    "                                      param_grid =params, cv=cv, n_jobs=-1, verbose=1)\n",
    "bagging_regressor_grid.fit(X, y)"
   ]
  },
  {
   "cell_type": "code",
   "execution_count": 40,
   "id": "4e04fd72",
   "metadata": {},
   "outputs": [
    {
     "name": "stdout",
     "output_type": "stream",
     "text": [
      "Best Parameters :  {'base_estimator': DecisionTreeRegressor(random_state=1), 'bootstrap': False, 'bootstrap_features': True, 'max_features': 0.5, 'max_samples': 1.0, 'n_estimators': 250}\n"
     ]
    }
   ],
   "source": [
    "print('Best Parameters : ',bagging_regressor_grid.best_params_)"
   ]
  },
  {
   "cell_type": "code",
   "execution_count": 41,
   "id": "fce428a5",
   "metadata": {},
   "outputs": [
    {
     "name": "stdout",
     "output_type": "stream",
     "text": [
      "64.35436111810004\n"
     ]
    }
   ],
   "source": [
    "#Model with optimal parameters\n",
    "model = BaggingRegressor(base_estimator=DecisionTreeRegressor(), n_estimators=250, random_state=1,\n",
    "                        oob_score=True,n_jobs=-1,bootstrap_features=True,bootstrap=True,\n",
    "                        max_features=1.0,max_samples=1.0).fit(X, y)\n",
    "\n",
    "#RMSE on test data\n",
    "RMSE = np.sqrt(mean_squared_error(y_test, model.predict(X_test)))\n",
    "print(RMSE)\n"
   ]
  },
  {
   "cell_type": "markdown",
   "id": "30a2af8e",
   "metadata": {},
   "source": [
    "### finer grid search 1"
   ]
  },
  {
   "cell_type": "code",
   "execution_count": 42,
   "id": "0024982d",
   "metadata": {},
   "outputs": [
    {
     "name": "stdout",
     "output_type": "stream",
     "text": [
      "Fitting 5 folds for each of 24 candidates, totalling 120 fits\n",
      "Best Parameters :  {'base_estimator': DecisionTreeRegressor(random_state=1), 'bootstrap': True, 'bootstrap_features': True, 'max_features': 1.0, 'max_samples': 1.0, 'n_estimators': 250}\n"
     ]
    }
   ],
   "source": [
    "n_samples = train.shape[0]\n",
    "n_features = train.shape[1]\n",
    "\n",
    "finer_params1 = {'base_estimator': [DecisionTreeRegressor(random_state = 1),LinearRegression()],#Comparing bagging with a linear regression model as well\n",
    "          'n_estimators': [250, 300, 350],\n",
    "          'max_samples': [1.0, 1.5],\n",
    "          'max_features': [1.0, 1.5],\n",
    "          'bootstrap': [True],\n",
    "          'bootstrap_features': [True]}\n",
    "\n",
    "cv = KFold(n_splits=5,shuffle=True,random_state=1)\n",
    "bagging_regressor_grid_finer1 = GridSearchCV(BaggingRegressor(random_state=1, n_jobs=-1), \n",
    "                                      param_grid =finer_params1, cv=cv, n_jobs=-1, verbose=1)\n",
    "bagging_regressor_grid_finer1.fit(X, y)\n",
    "\n",
    "print('Best Parameters : ',bagging_regressor_grid_finer1.best_params_)"
   ]
  },
  {
   "cell_type": "code",
   "execution_count": 43,
   "id": "32a84a2c",
   "metadata": {},
   "outputs": [
    {
     "name": "stdout",
     "output_type": "stream",
     "text": [
      "64.35436111810004\n"
     ]
    }
   ],
   "source": [
    "#Model with optimal parameters\n",
    "model_finer1 = BaggingRegressor(base_estimator=DecisionTreeRegressor(), n_estimators=250, random_state=1,\n",
    "                        oob_score=True,n_jobs=-1,bootstrap_features=True,bootstrap=True,\n",
    "                        max_features=1.0,max_samples=1.0).fit(X, y)\n",
    "\n",
    "#RMSE on test data\n",
    "RMSE = np.sqrt(mean_squared_error(y_test, model_finer1.predict(X_test)))\n",
    "print(RMSE)\n"
   ]
  },
  {
   "cell_type": "markdown",
   "id": "8e78b372",
   "metadata": {},
   "source": [
    "### finer grid search 2"
   ]
  },
  {
   "cell_type": "code",
   "execution_count": 44,
   "id": "315e6745",
   "metadata": {},
   "outputs": [
    {
     "name": "stdout",
     "output_type": "stream",
     "text": [
      "Fitting 5 folds for each of 54 candidates, totalling 270 fits\n",
      "Best Parameters :  {'base_estimator': DecisionTreeRegressor(random_state=1), 'bootstrap': True, 'bootstrap_features': True, 'max_features': 1.0, 'max_samples': 1.0, 'n_estimators': 250}\n"
     ]
    }
   ],
   "source": [
    "n_samples = train.shape[0]\n",
    "n_features = train.shape[1]\n",
    "\n",
    "finer_params2 = {'base_estimator': [DecisionTreeRegressor(random_state = 1),LinearRegression()],#Comparing bagging with a linear regression model as well\n",
    "          'n_estimators': [250, 300, 350],\n",
    "          'max_samples': [.75, 1.0, 1.25],\n",
    "          'max_features': [.75, 1.0, 1.25],\n",
    "          'bootstrap': [True],\n",
    "          'bootstrap_features': [True]}\n",
    "\n",
    "cv = KFold(n_splits=5,shuffle=True,random_state=1)\n",
    "bagging_regressor_grid_finer2 = GridSearchCV(BaggingRegressor(random_state=1, n_jobs=-1), \n",
    "                                      param_grid =finer_params2, cv=cv, n_jobs=-1, verbose=1)\n",
    "bagging_regressor_grid_finer2.fit(X_train, y_train)\n",
    "\n",
    "print('Best Parameters : ',bagging_regressor_grid_finer1.best_params_)"
   ]
  },
  {
   "cell_type": "code",
   "execution_count": 45,
   "id": "1d6d5990",
   "metadata": {},
   "outputs": [
    {
     "name": "stdout",
     "output_type": "stream",
     "text": [
      "64.34187345036374\n"
     ]
    }
   ],
   "source": [
    "#Model with optimal parameters\n",
    "model_finer2 = BaggingRegressor(base_estimator=DecisionTreeRegressor(), n_estimators=300, random_state=1,\n",
    "                        oob_score=True,n_jobs=-1,bootstrap_features=True,bootstrap=True,\n",
    "                        max_features=1.0,max_samples=1.0).fit(X, y)\n",
    "\n",
    "#RMSE on test data\n",
    "RMSE = np.sqrt(mean_squared_error(y_test, model_finer2.predict(X_test)))\n",
    "print(RMSE)\n"
   ]
  },
  {
   "cell_type": "markdown",
   "id": "cbc4a411",
   "metadata": {},
   "source": [
    "## Random Forest - Kaylee"
   ]
  },
  {
   "cell_type": "code",
   "execution_count": 46,
   "id": "f9cff5a2",
   "metadata": {},
   "outputs": [],
   "source": [
    "rmse = {}\n",
    "\n",
    "for i in np.linspace(10, 500, 40,dtype=int):\n",
    "    model = RandomForestRegressor(n_estimators=i, random_state=1,\n",
    "                        n_jobs=-1, oob_score=True).fit(X, y)\n",
    "    pred = model.predict(X_test)\n",
    "    rmse[i] = np.sqrt(mean_squared_error(y_test, pred))"
   ]
  },
  {
   "cell_type": "code",
   "execution_count": 47,
   "id": "7da464e6",
   "metadata": {},
   "outputs": [
    {
     "data": {
      "text/plain": [
       "<matplotlib.legend.Legend at 0x7f9534057cd0>"
      ]
     },
     "execution_count": 47,
     "metadata": {},
     "output_type": "execute_result"
    },
    {
     "data": {
      "image/png": "[encoded data removed]",
      "text/plain": [
       "<Figure size 640x480 with 1 Axes>"
      ]
     },
     "metadata": {
      "needs_background": "light"
     },
     "output_type": "display_data"
    }
   ],
   "source": [
    "plt.rcParams.update({'font.size': 15})\n",
    "plt.figure(figsize=(8, 6), dpi=80)\n",
    "plt.plot(rmse.keys(),rmse.values(),label = 'RMSE')\n",
    "plt.plot(rmse.keys(),rmse.values(),'o', color = 'blue')\n",
    "plt.xlabel('Number of trees')\n",
    "plt.ylabel('RMSE')\n",
    "plt.legend()"
   ]
  },
  {
   "cell_type": "markdown",
   "id": "1db87e4a",
   "metadata": {},
   "source": [
    "### course grid"
   ]
  },
  {
   "cell_type": "code",
   "execution_count": 48,
   "id": "0ac2dcc0",
   "metadata": {},
   "outputs": [
    {
     "name": "stdout",
     "output_type": "stream",
     "text": [
      "Best params =  (18, 1300, 3)\n",
      "Best score (R-squared) =  0.31681396219539104\n"
     ]
    }
   ],
   "source": [
    "# seems to slow down between 400 and 500\n",
    "\n",
    "n_samples = train_final.shape[0]\n",
    "n_features = train_final.shape[1]\n",
    "\n",
    "params = {'max_depth': [12,15,18],\n",
    "          'max_leaf_nodes':[1100,1200,1300],\n",
    "          'max_features': list(range(1,20))}\n",
    "\n",
    "param_list=list(it.product(*(params[Name] for Name in params)))\n",
    "\n",
    "oob_score = [0]*len(param_list)\n",
    "\n",
    "i=0\n",
    "for pr in param_list:\n",
    "    model = RandomForestRegressor(random_state = 1, oob_score = True,\n",
    "                                  verbose = False, n_estimators = 450,\n",
    "                                  max_depth = pr[0],\n",
    "                                  max_leaf_nodes = pr[1], \n",
    "                                  max_features = pr[2],\n",
    "                                  n_jobs = -1).fit(X, y)\n",
    "    oob_score[i] = model.oob_score_\n",
    "    i=i+1\n",
    "    \n",
    "\n",
    "print(\"Best params = \", param_list[np.argmax(oob_score)])\n",
    "print(\"Best score (R-squared) = \", np.max(oob_score))"
   ]
  },
  {
   "cell_type": "code",
   "execution_count": 49,
   "id": "8810e390",
   "metadata": {},
   "outputs": [
    {
     "name": "stdout",
     "output_type": "stream",
     "text": [
      "The RMSE on test data is 64.25555802591421\n"
     ]
    }
   ],
   "source": [
    "model_rf = RandomForestRegressor(random_state = 1,\n",
    "                                n_estimators = 450,\n",
    "                                max_depth = 18,\n",
    "                                max_leaf_nodes = 1300,\n",
    "                                max_features = 3,\n",
    "                                n_jobs = -1)\n",
    "\n",
    "model_rf.fit(X, y)\n",
    "\n",
    "pred_rf = model_rf.predict(X_test)\n",
    "\n",
    "print(\"The RMSE on test data is\", np.sqrt(mean_squared_error(y_test, pred_rf)))"
   ]
  },
  {
   "cell_type": "markdown",
   "id": "dd359eeb",
   "metadata": {},
   "source": [
    "### finer grid 1"
   ]
  },
  {
   "cell_type": "code",
   "execution_count": 50,
   "id": "903a4304",
   "metadata": {},
   "outputs": [
    {
     "name": "stdout",
     "output_type": "stream",
     "text": [
      "Best params =  (24, 1300, 4)\n",
      "Best score (R-squared) =  0.3193641508762848\n"
     ]
    }
   ],
   "source": [
    "n_samples = train_final.shape[0]\n",
    "n_features = train_final.shape[1]\n",
    "\n",
    "params = {'max_depth': range(15, 25, 3),\n",
    "          'max_leaf_nodes':range(1300, 1600, 100),\n",
    "          'max_features': list(range(1,5))}\n",
    "\n",
    "param_list=list(it.product(*(params[Name] for Name in params)))\n",
    "\n",
    "oob_score = [0]*len(param_list)\n",
    "\n",
    "i=0\n",
    "for pr in param_list:\n",
    "    model = RandomForestRegressor(random_state = 1, oob_score = True,\n",
    "                                  verbose = False, n_estimators = 450,\n",
    "                                  max_depth = pr[0],\n",
    "                                  max_leaf_nodes = pr[1], \n",
    "                                  max_features = pr[2],\n",
    "                                  n_jobs = -1).fit(X, y)\n",
    "    oob_score[i] = model.oob_score_\n",
    "    i=i+1\n",
    "    \n",
    "\n",
    "print(\"Best params = \", param_list[np.argmax(oob_score)])\n",
    "print(\"Best score (R-squared) = \", np.max(oob_score))"
   ]
  },
  {
   "cell_type": "code",
   "execution_count": 51,
   "id": "c8e98a1d",
   "metadata": {},
   "outputs": [
    {
     "name": "stdout",
     "output_type": "stream",
     "text": [
      "The RMSE on test data is 64.20969742972815\n"
     ]
    }
   ],
   "source": [
    "model_rf2 = RandomForestRegressor(random_state = 1,\n",
    "                                n_estimators = 450,\n",
    "                                max_depth = 21,\n",
    "                                max_leaf_nodes = 1400,\n",
    "                                max_features = 3,\n",
    "                                n_jobs = -1)\n",
    "\n",
    "model_rf2.fit(X, y)\n",
    "\n",
    "pred_rf2 = model_rf2.predict(X_test)\n",
    "\n",
    "print(\"The RMSE on test data is\", np.sqrt(mean_squared_error(y_test, pred_rf2)))"
   ]
  },
  {
   "cell_type": "markdown",
   "id": "a3f2f981",
   "metadata": {},
   "source": [
    "### finer grid 2"
   ]
  },
  {
   "cell_type": "code",
   "execution_count": 52,
   "id": "e3175256",
   "metadata": {},
   "outputs": [
    {
     "name": "stdout",
     "output_type": "stream",
     "text": [
      "Fitting 5 folds for each of 96 candidates, totalling 480 fits\n",
      "-44.51740722531566 {'bootstrap': False, 'max_depth': 24, 'max_features': 2, 'max_leaf_nodes': 1400}\n"
     ]
    }
   ],
   "source": [
    "params = {'max_depth': range(15, 25, 3),\n",
    "          'max_leaf_nodes':range(1300, 1600, 100),\n",
    "          'max_features': list(range(1,5)),\n",
    "          'bootstrap': [True, False]}\n",
    "\n",
    "cv = KFold(n_splits=5,shuffle=True,random_state=1)\n",
    "\n",
    "\n",
    "rf = RandomForestRegressor(n_estimators = 450, random_state = 1)\n",
    "\n",
    "\n",
    "grid_search = GridSearchCV(rf, \n",
    "                           params, \n",
    "                           cv = cv, \n",
    "                           n_jobs = -1, \n",
    "                           verbose = 1,\n",
    "                           scoring='neg_mean_absolute_error')\n",
    "\n",
    "\n",
    "grid_search.fit(X_train, y_train)\n",
    "\n",
    "\n",
    "\n",
    "print (grid_search.best_score_, grid_search.best_params_) "
   ]
  },
  {
   "cell_type": "code",
   "execution_count": 53,
   "id": "ea78376b",
   "metadata": {},
   "outputs": [
    {
     "name": "stdout",
     "output_type": "stream",
     "text": [
      "The RMSE on test data is 64.00245466003211\n"
     ]
    }
   ],
   "source": [
    "model_rf_final = RandomForestRegressor(random_state = 1,\n",
    "                                n_estimators = 450,\n",
    "                                max_depth = 24,\n",
    "                                max_leaf_nodes = 1500,\n",
    "                                max_features = 2,\n",
    "                                bootstrap = False,\n",
    "                                n_jobs = -1)\n",
    "\n",
    "model_rf_final.fit(X, y)\n",
    "\n",
    "pred_rf_final = model_rf_final.predict(X_test)\n",
    "\n",
    "print(\"The RMSE on test data is\", np.sqrt(mean_squared_error(y_test, pred_rf_final)))"
   ]
  },
  {
   "cell_type": "markdown",
   "id": "5584efe5",
   "metadata": {},
   "source": [
    "## XG Boost - Ashley"
   ]
  },
  {
   "cell_type": "code",
   "execution_count": 54,
   "id": "963454eb",
   "metadata": {},
   "outputs": [],
   "source": [
    "import warnings\n",
    "warnings.filterwarnings(\"ignore\")"
   ]
  },
  {
   "cell_type": "markdown",
   "id": "56222631",
   "metadata": {},
   "source": [
    "### course grid"
   ]
  },
  {
   "cell_type": "code",
   "execution_count": 55,
   "id": "124cc6b6",
   "metadata": {},
   "outputs": [
    {
     "name": "stdout",
     "output_type": "stream",
     "text": [
      "Fitting 5 folds for each of 200 candidates, totalling 1000 fits\n",
      "Optimal parameter values = {'subsample': 1.0, 'reg_lambda': 0, 'n_estimators': 1000, 'max_depth': 8, 'learning_rate': 0.01, 'gamma': 0, 'colsample_bytree': 0.5}\n",
      "Optimal cross validation R-squared =  0.30123677358989553\n",
      "Time taken =  8  minutes\n"
     ]
    }
   ],
   "source": [
    "#K-fold cross validation to find optimal parameters for XGBoost\n",
    "start_time = time.time()\n",
    "param_grid = {'max_depth': [4,6,8],\n",
    "              'learning_rate': [0.01, 0.05, 0.1],\n",
    "               'reg_lambda':[0, 1, 10],\n",
    "                'n_estimators':[100, 500, 1000],\n",
    "                'gamma': [0, 10, 100],\n",
    "                'subsample': [0.5, 0.75, 1.0],\n",
    "                'colsample_bytree': [0.5, 0.75, 1.0]}\n",
    "\n",
    "cv = KFold(n_splits=5,shuffle=True,random_state=1)\n",
    "optimal_params = RandomizedSearchCV(estimator=xgb.XGBRegressor(random_state=1),                                                       \n",
    "                             param_distributions = param_grid, n_iter = 200,\n",
    "                             verbose = 1,\n",
    "                             n_jobs=-1,\n",
    "                             cv = cv)\n",
    "optimal_params.fit(X_train,y_train)\n",
    "print(\"Optimal parameter values =\", optimal_params.best_params_)\n",
    "print(\"Optimal cross validation R-squared = \",optimal_params.best_score_)\n",
    "print(\"Time taken = \", round((time.time()-start_time)/60), \" minutes\")"
   ]
  },
  {
   "cell_type": "code",
   "execution_count": 56,
   "id": "51bab6ad",
   "metadata": {},
   "outputs": [],
   "source": [
    "means = optimal_params.cv_results_['mean_test_score']\n",
    "stds = optimal_params.cv_results_['std_test_score']\n",
    "params = optimal_params.cv_results_['params']"
   ]
  },
  {
   "cell_type": "code",
   "execution_count": 57,
   "id": "e53c2e7b",
   "metadata": {},
   "outputs": [
    {
     "data": {
      "text/plain": [
       "64.9367793842193"
      ]
     },
     "execution_count": 57,
     "metadata": {},
     "output_type": "execute_result"
    }
   ],
   "source": [
    "np.sqrt(mean_squared_error(optimal_params.best_estimator_.predict(X_test),y_test))"
   ]
  },
  {
   "cell_type": "markdown",
   "id": "38e633f0",
   "metadata": {},
   "source": [
    "### visualization"
   ]
  },
  {
   "cell_type": "code",
   "execution_count": 58,
   "id": "e9e4457b",
   "metadata": {},
   "outputs": [
    {
     "data": {
      "image/png": "[encoded data removed]",
      "text/plain": [
       "<Figure size 432x288 with 1 Axes>"
      ]
     },
     "metadata": {
      "needs_background": "light"
     },
     "output_type": "display_data"
    },
    {
     "data": {
      "image/png": "[encoded data removed]",
      "text/plain": [
       "<Figure size 432x288 with 1 Axes>"
      ]
     },
     "metadata": {
      "needs_background": "light"
     },
     "output_type": "display_data"
    },
    {
     "data": {
      "image/png": "[encoded data removed]",
      "text/plain": [
       "<Figure size 432x288 with 1 Axes>"
      ]
     },
     "metadata": {
      "needs_background": "light"
     },
     "output_type": "display_data"
    },
    {
     "data": {
      "image/png": "[encoded data removed]",
      "text/plain": [
       "<Figure size 432x288 with 1 Axes>"
      ]
     },
     "metadata": {
      "needs_background": "light"
     },
     "output_type": "display_data"
    },
    {
     "data": {
      "image/png": "[encoded data removed]",
      "text/plain": [
       "<Figure size 432x288 with 1 Axes>"
      ]
     },
     "metadata": {
      "needs_background": "light"
     },
     "output_type": "display_data"
    },
    {
     "data": {
      "image/png": "[encoded data removed]",
      "text/plain": [
       "<Figure size 432x288 with 1 Axes>"
      ]
     },
     "metadata": {
      "needs_background": "light"
     },
     "output_type": "display_data"
    },
    {
     "data": {
      "image/png": "[encoded data removed]",
      "text/plain": [
       "<Figure size 432x288 with 1 Axes>"
      ]
     },
     "metadata": {
      "needs_background": "light"
     },
     "output_type": "display_data"
    }
   ],
   "source": [
    "param_names = ['max_depth','learning_rate','reg_lambda','n_estimators','gamma','subsample','colsample_bytree']\n",
    "\n",
    "for i in range(len(param_names)):\n",
    "    values = []\n",
    "    for j in range(len(params)):\n",
    "        values.append(params[j][param_names[i]])    \n",
    "    fig, ax = plt.subplots()\n",
    "    ax.scatter(values, -means)\n",
    "    ax.set_xlabel(param_names[i])\n",
    "    ax.set_ylabel('Mean Test Score')    \n",
    "    plt.show()"
   ]
  },
  {
   "cell_type": "markdown",
   "id": "7109c149",
   "metadata": {},
   "source": [
    "### finer grid 1"
   ]
  },
  {
   "cell_type": "code",
   "execution_count": 59,
   "id": "b7e546b5",
   "metadata": {},
   "outputs": [
    {
     "name": "stdout",
     "output_type": "stream",
     "text": [
      "Fitting 2 folds for each of 200 candidates, totalling 400 fits\n",
      "Optimal parameter values = {'subsample': 0.55, 'reg_lambda': 1, 'n_estimators': 1000, 'max_depth': 6, 'learning_rate': 0.01, 'gamma': 100, 'colsample_bytree': 0.4}\n",
      "Optimal cross validation R-squared =  0.2721425072160432\n",
      "Time taken =  6  minutes\n"
     ]
    }
   ],
   "source": [
    "start_time = time.time()\n",
    "param_grid = {'max_depth': [5,6,7],\n",
    "              'learning_rate': [0.01,0.011],\n",
    "               'reg_lambda':[0.4,1,1.5],\n",
    "                'n_estimators':[1000, 2000, 3000],\n",
    "                'gamma': [50,100],\n",
    "                'subsample': [0.45,0.5,0.55],\n",
    "                'colsample_bytree': [0.4,0.5]}\n",
    "\n",
    "cv = KFold(n_splits=2,shuffle=True,random_state=1)\n",
    "optimal_params = RandomizedSearchCV(estimator=xgb.XGBRegressor(random_state=1),                                                       \n",
    "                             param_distributions = param_grid, n_iter = 200,\n",
    "                             verbose = 1,n_jobs=-1,cv=cv)\n",
    "optimal_params.fit(X_train,y_train)\n",
    "print(\"Optimal parameter values =\", optimal_params.best_params_)\n",
    "print(\"Optimal cross validation R-squared = \",optimal_params.best_score_)\n",
    "print(\"Time taken = \", round((time.time()-start_time)/60), \" minutes\")"
   ]
  },
  {
   "cell_type": "code",
   "execution_count": 60,
   "id": "8bb30c10",
   "metadata": {},
   "outputs": [
    {
     "data": {
      "text/plain": [
       "65.10111807286758"
      ]
     },
     "execution_count": 60,
     "metadata": {},
     "output_type": "execute_result"
    }
   ],
   "source": [
    "np.sqrt(mean_squared_error(optimal_params.best_estimator_.predict(X_test),y_test))"
   ]
  },
  {
   "cell_type": "markdown",
   "id": "ceb686a1",
   "metadata": {},
   "source": [
    "### finer grid 2"
   ]
  },
  {
   "cell_type": "code",
   "execution_count": 61,
   "id": "9f26fee8",
   "metadata": {},
   "outputs": [
    {
     "name": "stdout",
     "output_type": "stream",
     "text": [
      "Fitting 2 folds for each of 24 candidates, totalling 48 fits\n",
      "Optimal parameter values = {'subsample': 0.55, 'reg_lambda': 0.4, 'n_estimators': 1000, 'max_depth': 7, 'learning_rate': 0.0088, 'gamma': 50, 'colsample_bytree': 0.4}\n",
      "Optimal cross validation R-squared =  0.27226024723464154\n",
      "Time taken =  1  minutes\n"
     ]
    }
   ],
   "source": [
    "start_time = time.time()\n",
    "param_grid = {'max_depth': [7],\n",
    "              'learning_rate': [0.01,0.0088],\n",
    "               'reg_lambda':[0.4],\n",
    "                'n_estimators':[1000,1500,1650],\n",
    "                'gamma': [15,50],\n",
    "                'subsample': [0.5,0.55],\n",
    "                'colsample_bytree': [0.4]}\n",
    "\n",
    "cv = KFold(n_splits=2,shuffle=True,random_state=1)\n",
    "optimal_params = RandomizedSearchCV(estimator=xgb.XGBRegressor(random_state=1),                                                       \n",
    "                             param_distributions = param_grid, n_iter = 200,\n",
    "                             verbose = 1,n_jobs=-1,cv=cv)\n",
    "optimal_params.fit(X_train,y_train)\n",
    "print(\"Optimal parameter values =\", optimal_params.best_params_)\n",
    "print(\"Optimal cross validation R-squared = \",optimal_params.best_score_)\n",
    "print(\"Time taken = \", round((time.time()-start_time)/60), \" minutes\")"
   ]
  },
  {
   "cell_type": "code",
   "execution_count": 62,
   "id": "546b961e",
   "metadata": {},
   "outputs": [
    {
     "data": {
      "text/plain": [
       "64.65756729881915"
      ]
     },
     "execution_count": 62,
     "metadata": {},
     "output_type": "execute_result"
    }
   ],
   "source": [
    "## hopefully this gives the params below bc it gives the lowest rmse out of everything i've tried \n",
    "\n",
    "model = xgb.XGBRegressor(random_state=1,\n",
    "                         subsample=0.5,\n",
    "                         reg_lambda=0.4,\n",
    "                         n_estimators=1650,\n",
    "                         max_depth=7,\n",
    "                         learning_rate=0.0088,\n",
    "                         gamma=15,\n",
    "                         colsample_bytree=0.4).fit(X_train,y_train)\n",
    "\n",
    "np.sqrt(mean_squared_error(model.predict(X_test),y_test))"
   ]
  },
  {
   "cell_type": "markdown",
   "id": "ecf65cff",
   "metadata": {},
   "source": [
    "### change n_estimators"
   ]
  },
  {
   "cell_type": "code",
   "execution_count": 63,
   "id": "53785e38",
   "metadata": {},
   "outputs": [],
   "source": [
    "model = xgb.XGBRegressor(random_state=1,\n",
    "                         subsample=0.55,\n",
    "                         reg_lambda=0.4,\n",
    "                         n_estimators=1500,\n",
    "                         max_depth=7,\n",
    "                         learning_rate=0.01,\n",
    "                         gamma=50,\n",
    "                         colsample_bytree=0.4).fit(X_train,y_train)"
   ]
  },
  {
   "cell_type": "code",
   "execution_count": 64,
   "id": "c083f2a7",
   "metadata": {},
   "outputs": [
    {
     "data": {
      "text/plain": [
       "64.55279590600612"
      ]
     },
     "execution_count": 64,
     "metadata": {},
     "output_type": "execute_result"
    }
   ],
   "source": [
    "np.sqrt(mean_squared_error(model.predict(X_test),y_test))"
   ]
  },
  {
   "cell_type": "markdown",
   "id": "c101c7ba",
   "metadata": {},
   "source": [
    "### change gamma"
   ]
  },
  {
   "cell_type": "code",
   "execution_count": 65,
   "id": "935a2c89",
   "metadata": {},
   "outputs": [],
   "source": [
    "model = xgb.XGBRegressor(random_state=1,\n",
    "                         subsample=0.55,\n",
    "                         reg_lambda=0.4,\n",
    "                         n_estimators=1700,\n",
    "                         max_depth=7,\n",
    "                         learning_rate=0.01,\n",
    "                         gamma=50,\n",
    "                         colsample_bytree=0.4).fit(X_train,y_train)"
   ]
  },
  {
   "cell_type": "code",
   "execution_count": 66,
   "id": "a85c353e",
   "metadata": {},
   "outputs": [
    {
     "data": {
      "text/plain": [
       "64.53584079617286"
      ]
     },
     "execution_count": 66,
     "metadata": {},
     "output_type": "execute_result"
    }
   ],
   "source": [
    "np.sqrt(mean_squared_error(model.predict(X_test),y_test))"
   ]
  },
  {
   "cell_type": "code",
   "execution_count": 67,
   "id": "d7f06a8d",
   "metadata": {},
   "outputs": [],
   "source": [
    "model = xgb.XGBRegressor(random_state=1,\n",
    "                         subsample=0.55,\n",
    "                         reg_lambda=0.4,\n",
    "                         n_estimators=1700,\n",
    "                         max_depth=7,\n",
    "                         learning_rate=0.01,\n",
    "                         gamma=10,\n",
    "                         colsample_bytree=0.4).fit(X_train,y_train)"
   ]
  },
  {
   "cell_type": "code",
   "execution_count": 68,
   "id": "8173a059",
   "metadata": {},
   "outputs": [
    {
     "data": {
      "text/plain": [
       "64.59734195180457"
      ]
     },
     "execution_count": 68,
     "metadata": {},
     "output_type": "execute_result"
    }
   ],
   "source": [
    "np.sqrt(mean_squared_error(model.predict(X_test),y_test))"
   ]
  },
  {
   "cell_type": "code",
   "execution_count": 69,
   "id": "aea0320f",
   "metadata": {},
   "outputs": [],
   "source": [
    "model = xgb.XGBRegressor(random_state=1,\n",
    "                         subsample=0.55,\n",
    "                         reg_lambda=0.4,\n",
    "                         n_estimators=1700,\n",
    "                         max_depth=7,\n",
    "                         learning_rate=0.01,\n",
    "                         gamma=15,\n",
    "                         colsample_bytree=0.4).fit(X_train,y_train)"
   ]
  },
  {
   "cell_type": "code",
   "execution_count": 70,
   "id": "f32a142c",
   "metadata": {},
   "outputs": [
    {
     "data": {
      "text/plain": [
       "64.62580108845869"
      ]
     },
     "execution_count": 70,
     "metadata": {},
     "output_type": "execute_result"
    }
   ],
   "source": [
    "np.sqrt(mean_squared_error(model.predict(X_test),y_test))"
   ]
  },
  {
   "cell_type": "markdown",
   "id": "7dd40e2e",
   "metadata": {},
   "source": [
    "### change subsample"
   ]
  },
  {
   "cell_type": "code",
   "execution_count": 71,
   "id": "08d78a12",
   "metadata": {},
   "outputs": [],
   "source": [
    "model = xgb.XGBRegressor(random_state=1,\n",
    "                         subsample=0.5,\n",
    "                         reg_lambda=0.4,\n",
    "                         n_estimators=1700,\n",
    "                         max_depth=7,\n",
    "                         learning_rate=0.01,\n",
    "                         gamma=15,\n",
    "                         colsample_bytree=0.4).fit(X_train,y_train)"
   ]
  },
  {
   "cell_type": "code",
   "execution_count": 72,
   "id": "cf5830bf",
   "metadata": {},
   "outputs": [
    {
     "data": {
      "text/plain": [
       "64.76325992391975"
      ]
     },
     "execution_count": 72,
     "metadata": {},
     "output_type": "execute_result"
    }
   ],
   "source": [
    "np.sqrt(mean_squared_error(model.predict(X_test),y_test))"
   ]
  },
  {
   "cell_type": "markdown",
   "id": "aebd515b",
   "metadata": {},
   "source": [
    "### change learning_rate"
   ]
  },
  {
   "cell_type": "code",
   "execution_count": 73,
   "id": "e614ba2c",
   "metadata": {},
   "outputs": [],
   "source": [
    "model = xgb.XGBRegressor(random_state=1,\n",
    "                         subsample=0.5,\n",
    "                         reg_lambda=0.4,\n",
    "                         n_estimators=1700,\n",
    "                         max_depth=7,\n",
    "                         learning_rate=0.0088,\n",
    "                         gamma=15,\n",
    "                         colsample_bytree=0.4).fit(X_train,y_train)"
   ]
  },
  {
   "cell_type": "code",
   "execution_count": 74,
   "id": "2a19fec8",
   "metadata": {},
   "outputs": [
    {
     "data": {
      "text/plain": [
       "64.66527109603983"
      ]
     },
     "execution_count": 74,
     "metadata": {},
     "output_type": "execute_result"
    }
   ],
   "source": [
    "np.sqrt(mean_squared_error(model.predict(X_test),y_test))"
   ]
  },
  {
   "cell_type": "markdown",
   "id": "6e7f0a94",
   "metadata": {},
   "source": [
    "# FINAL MODELS"
   ]
  },
  {
   "cell_type": "markdown",
   "id": "3d72bfc9",
   "metadata": {},
   "source": [
    "#### MARS"
   ]
  },
  {
   "cell_type": "code",
   "execution_count": 75,
   "id": "5e5eb993",
   "metadata": {},
   "outputs": [
    {
     "name": "stdout",
     "output_type": "stream",
     "text": [
      "Earth Model\n",
      "----------------------------------------------------------------------------------------------------------------------------------------\n",
      "Basis Function                                                                                                    Pruned  Coefficient   \n",
      "----------------------------------------------------------------------------------------------------------------------------------------\n",
      "(Intercept)                                                                                                       No      618.346       \n",
      "h(Outstanding_Debt-1404.99)                                                                                       Yes     None          \n",
      "h(1404.99-Outstanding_Debt)                                                                                       No      0.0640988     \n",
      "Credit_Mix_Good                                                                                                   No      18.4747       \n",
      "Credit_Mix_Bad                                                                                                    No      -115.916      \n",
      "h(Outstanding_Debt-2089.89)*h(Outstanding_Debt-1404.99)                                                           Yes     None          \n",
      "h(2089.89-Outstanding_Debt)*h(Outstanding_Debt-1404.99)                                                           No      -0.000244499  \n",
      "h(Num_Credit_Inquiries-17)                                                                                        Yes     None          \n",
      "h(17-Num_Credit_Inquiries)                                                                                        Yes     None          \n",
      "h(Outstanding_Debt-1527.78)*h(17-Num_Credit_Inquiries)                                                            Yes     None          \n",
      "h(1527.78-Outstanding_Debt)*h(17-Num_Credit_Inquiries)                                                            Yes     None          \n",
      "h(Amount_invested_monthly-78.4348)                                                                                Yes     None          \n",
      "h(78.4348-Amount_invested_monthly)                                                                                No      1.01472       \n",
      "Credit_Mix_Standard*h(Outstanding_Debt-1404.99)                                                                   No      -0.0379699    \n",
      "Age*Credit_Mix_Bad                                                                                                No      0.204057      \n",
      "h(Num_Credit_Card-70)*h(1527.78-Outstanding_Debt)*h(17-Num_Credit_Inquiries)                                      Yes     None          \n",
      "h(70-Num_Credit_Card)*h(1527.78-Outstanding_Debt)*h(17-Num_Credit_Inquiries)                                      No      -6.61182e-05  \n",
      "Num_Credit_Card*h(70-Num_Credit_Card)*h(1527.78-Outstanding_Debt)*h(17-Num_Credit_Inquiries)                      No      -1.25669e-05  \n",
      "Credit_Mix_Standard*Num_Credit_Card*h(70-Num_Credit_Card)*h(1527.78-Outstanding_Debt)*h(17-Num_Credit_Inquiries)  No      1.23388e-05   \n",
      "Credit_Mix_Good*h(1527.78-Outstanding_Debt)*h(17-Num_Credit_Inquiries)                                            No      0.00318294    \n",
      "Num_of_Delayed_Payment*Credit_Mix_Good                                                                            No      1.48218       \n",
      "h(Num_Credit_Inquiries-17)*h(78.4348-Amount_invested_monthly)                                                     Yes     None          \n",
      "h(17-Num_Credit_Inquiries)*h(78.4348-Amount_invested_monthly)                                                     No      -0.0602005    \n",
      "h(Total_EMI_per_month-645.638)                                                                                    Yes     None          \n",
      "h(645.638-Total_EMI_per_month)                                                                                    No      -0.0955998    \n",
      "Total_EMI_per_month*h(645.638-Total_EMI_per_month)                                                                No      -0.00015629   \n",
      "Num_Credit_Inquiries*Credit_Mix_Bad                                                                               No      7.23476       \n",
      "h(Outstanding_Debt-2420.44)*Total_EMI_per_month*h(645.638-Total_EMI_per_month)                                    Yes     None          \n",
      "h(2420.44-Outstanding_Debt)*Total_EMI_per_month*h(645.638-Total_EMI_per_month)                                    Yes     None          \n",
      "Monthly_Inhand_Salary*Num_Credit_Inquiries*Credit_Mix_Bad                                                         No      -0.000571477  \n",
      "h(Total_EMI_per_month-5064)*h(17-Num_Credit_Inquiries)                                                            Yes     None          \n",
      "h(5064-Total_EMI_per_month)*h(17-Num_Credit_Inquiries)                                                            No      0.00105114    \n",
      "Num_of_Loan*h(Outstanding_Debt-2420.44)*Total_EMI_per_month*h(645.638-Total_EMI_per_month)                        No      -1.28908e-06  \n",
      "h(Amount_invested_monthly-93.105)*h(1404.99-Outstanding_Debt)                                                     Yes     None          \n",
      "h(93.105-Amount_invested_monthly)*h(1404.99-Outstanding_Debt)                                                     Yes     None          \n",
      "Credit_Mix_Bad*h(Outstanding_Debt-2420.44)*Total_EMI_per_month*h(645.638-Total_EMI_per_month)                     No      5.91445e-06   \n",
      "h(Outstanding_Debt-1969.76)*h(2089.89-Outstanding_Debt)*h(Outstanding_Debt-1404.99)                               No      -1.00996e-05  \n",
      "h(1969.76-Outstanding_Debt)*h(2089.89-Outstanding_Debt)*h(Outstanding_Debt-1404.99)                               Yes     None          \n",
      "----------------------------------------------------------------------------------------------------------------------------------------\n",
      "MSE: 3977.8860, GCV: 4044.9375, RSQ: 0.2920, GRSQ: 0.2803\n"
     ]
    }
   ],
   "source": [
    "MARS_model = Earth(max_terms=1000, max_degree=5, feature_importance_type= 'rss').fit(X, y)\n",
    "print(MARS_model.summary())"
   ]
  },
  {
   "cell_type": "code",
   "execution_count": 76,
   "id": "c37ef2dc",
   "metadata": {},
   "outputs": [
    {
     "data": {
      "text/plain": [
       "67.1635761715528"
      ]
     },
     "execution_count": 76,
     "metadata": {},
     "output_type": "execute_result"
    }
   ],
   "source": [
    "np.sqrt(mean_squared_error(y_test, MARS_model.predict(X_test)))"
   ]
  },
  {
   "cell_type": "code",
   "execution_count": 77,
   "id": "d018a7ff",
   "metadata": {},
   "outputs": [
    {
     "data": {
      "text/html": [
       "<div>\n",
       "<style scoped>\n",
       "    .dataframe tbody tr th:only-of-type {\n",
       "        vertical-align: middle;\n",
       "    }\n",
       "\n",
       "    .dataframe tbody tr th {\n",
       "        vertical-align: top;\n",
       "    }\n",
       "\n",
       "    .dataframe thead th {\n",
       "        text-align: right;\n",
       "    }\n",
       "</style>\n",
       "<table border=\"1\" class=\"dataframe\">\n",
       "  <thead>\n",
       "    <tr style=\"text-align: right;\">\n",
       "      <th></th>\n",
       "      <th>predictor</th>\n",
       "      <th>importance</th>\n",
       "    </tr>\n",
       "  </thead>\n",
       "  <tbody>\n",
       "    <tr>\n",
       "      <th>14</th>\n",
       "      <td>Credit_Mix_Bad</td>\n",
       "      <td>0.325127</td>\n",
       "    </tr>\n",
       "    <tr>\n",
       "      <th>9</th>\n",
       "      <td>Outstanding_Debt</td>\n",
       "      <td>0.232430</td>\n",
       "    </tr>\n",
       "    <tr>\n",
       "      <th>16</th>\n",
       "      <td>Credit_Mix_Standard</td>\n",
       "      <td>0.176854</td>\n",
       "    </tr>\n",
       "    <tr>\n",
       "      <th>15</th>\n",
       "      <td>Credit_Mix_Good</td>\n",
       "      <td>0.096496</td>\n",
       "    </tr>\n",
       "    <tr>\n",
       "      <th>8</th>\n",
       "      <td>Num_Credit_Inquiries</td>\n",
       "      <td>0.064419</td>\n",
       "    </tr>\n",
       "    <tr>\n",
       "      <th>11</th>\n",
       "      <td>Total_EMI_per_month</td>\n",
       "      <td>0.038698</td>\n",
       "    </tr>\n",
       "  </tbody>\n",
       "</table>\n",
       "</div>"
      ],
      "text/plain": [
       "               predictor  importance\n",
       "14        Credit_Mix_Bad    0.325127\n",
       "9       Outstanding_Debt    0.232430\n",
       "16   Credit_Mix_Standard    0.176854\n",
       "15       Credit_Mix_Good    0.096496\n",
       "8   Num_Credit_Inquiries    0.064419\n",
       "11   Total_EMI_per_month    0.038698"
      ]
     },
     "execution_count": 77,
     "metadata": {},
     "output_type": "execute_result"
    }
   ],
   "source": [
    "pd.concat([pd.Series(X.columns, name = 'predictor'), \n",
    "           pd.Series(MARS_model.feature_importances_, \n",
    "                     name = 'importance')], axis = 1).sort_values(by = 'importance', ascending=False)[0:6]"
   ]
  },
  {
   "cell_type": "markdown",
   "id": "61c4bdb9",
   "metadata": {},
   "source": [
    "#### BAGGING"
   ]
  },
  {
   "cell_type": "code",
   "execution_count": 78,
   "id": "f75585be",
   "metadata": {},
   "outputs": [
    {
     "name": "stdout",
     "output_type": "stream",
     "text": [
      "64.34187345036374\n"
     ]
    }
   ],
   "source": [
    "bagging_model = BaggingRegressor(base_estimator=DecisionTreeRegressor(), n_estimators=300, random_state=1,\n",
    "                        oob_score=True,n_jobs=-1,bootstrap_features=True,bootstrap=True,\n",
    "                        max_features=1.0,max_samples=1.0).fit(X, y)\n",
    "\n",
    "RMSE = np.sqrt(mean_squared_error(y_test, bagging_model.predict(X_test)))\n",
    "print(RMSE)"
   ]
  },
  {
   "cell_type": "code",
   "execution_count": 79,
   "id": "63fc3d6e",
   "metadata": {},
   "outputs": [
    {
     "data": {
      "text/html": [
       "<div>\n",
       "<style scoped>\n",
       "    .dataframe tbody tr th:only-of-type {\n",
       "        vertical-align: middle;\n",
       "    }\n",
       "\n",
       "    .dataframe tbody tr th {\n",
       "        vertical-align: top;\n",
       "    }\n",
       "\n",
       "    .dataframe thead th {\n",
       "        text-align: right;\n",
       "    }\n",
       "</style>\n",
       "<table border=\"1\" class=\"dataframe\">\n",
       "  <thead>\n",
       "    <tr style=\"text-align: right;\">\n",
       "      <th></th>\n",
       "      <th>importance</th>\n",
       "      <th>predictors</th>\n",
       "    </tr>\n",
       "  </thead>\n",
       "  <tbody>\n",
       "    <tr>\n",
       "      <th>4</th>\n",
       "      <td>0.057266</td>\n",
       "      <td>Num_Credit_Card</td>\n",
       "    </tr>\n",
       "    <tr>\n",
       "      <th>13</th>\n",
       "      <td>0.056880</td>\n",
       "      <td>Monthly_Balance</td>\n",
       "    </tr>\n",
       "    <tr>\n",
       "      <th>17</th>\n",
       "      <td>0.056226</td>\n",
       "      <td>Payment_of_Min_Amount_No</td>\n",
       "    </tr>\n",
       "    <tr>\n",
       "      <th>1</th>\n",
       "      <td>0.055651</td>\n",
       "      <td>Annual_Income</td>\n",
       "    </tr>\n",
       "    <tr>\n",
       "      <th>0</th>\n",
       "      <td>0.055573</td>\n",
       "      <td>Age</td>\n",
       "    </tr>\n",
       "    <tr>\n",
       "      <th>16</th>\n",
       "      <td>0.053775</td>\n",
       "      <td>Credit_Mix_Standard</td>\n",
       "    </tr>\n",
       "    <tr>\n",
       "      <th>15</th>\n",
       "      <td>0.053635</td>\n",
       "      <td>Credit_Mix_Good</td>\n",
       "    </tr>\n",
       "    <tr>\n",
       "      <th>9</th>\n",
       "      <td>0.052721</td>\n",
       "      <td>Outstanding_Debt</td>\n",
       "    </tr>\n",
       "    <tr>\n",
       "      <th>3</th>\n",
       "      <td>0.052572</td>\n",
       "      <td>Num_Bank_Accounts</td>\n",
       "    </tr>\n",
       "    <tr>\n",
       "      <th>7</th>\n",
       "      <td>0.052388</td>\n",
       "      <td>Changed_Credit_Limit</td>\n",
       "    </tr>\n",
       "    <tr>\n",
       "      <th>6</th>\n",
       "      <td>0.051761</td>\n",
       "      <td>Num_of_Delayed_Payment</td>\n",
       "    </tr>\n",
       "    <tr>\n",
       "      <th>14</th>\n",
       "      <td>0.051677</td>\n",
       "      <td>Credit_Mix_Bad</td>\n",
       "    </tr>\n",
       "    <tr>\n",
       "      <th>2</th>\n",
       "      <td>0.050945</td>\n",
       "      <td>Monthly_Inhand_Salary</td>\n",
       "    </tr>\n",
       "    <tr>\n",
       "      <th>11</th>\n",
       "      <td>0.050837</td>\n",
       "      <td>Total_EMI_per_month</td>\n",
       "    </tr>\n",
       "    <tr>\n",
       "      <th>8</th>\n",
       "      <td>0.050578</td>\n",
       "      <td>Num_Credit_Inquiries</td>\n",
       "    </tr>\n",
       "    <tr>\n",
       "      <th>10</th>\n",
       "      <td>0.050335</td>\n",
       "      <td>Credit_Utilization_Ratio</td>\n",
       "    </tr>\n",
       "    <tr>\n",
       "      <th>12</th>\n",
       "      <td>0.049327</td>\n",
       "      <td>Amount_invested_monthly</td>\n",
       "    </tr>\n",
       "    <tr>\n",
       "      <th>18</th>\n",
       "      <td>0.048977</td>\n",
       "      <td>Payment_of_Min_Amount_Yes</td>\n",
       "    </tr>\n",
       "    <tr>\n",
       "      <th>5</th>\n",
       "      <td>0.048876</td>\n",
       "      <td>Num_of_Loan</td>\n",
       "    </tr>\n",
       "  </tbody>\n",
       "</table>\n",
       "</div>"
      ],
      "text/plain": [
       "    importance                 predictors\n",
       "4     0.057266            Num_Credit_Card\n",
       "13    0.056880            Monthly_Balance\n",
       "17    0.056226   Payment_of_Min_Amount_No\n",
       "1     0.055651              Annual_Income\n",
       "0     0.055573                        Age\n",
       "16    0.053775        Credit_Mix_Standard\n",
       "15    0.053635            Credit_Mix_Good\n",
       "9     0.052721           Outstanding_Debt\n",
       "3     0.052572          Num_Bank_Accounts\n",
       "7     0.052388       Changed_Credit_Limit\n",
       "6     0.051761     Num_of_Delayed_Payment\n",
       "14    0.051677             Credit_Mix_Bad\n",
       "2     0.050945      Monthly_Inhand_Salary\n",
       "11    0.050837        Total_EMI_per_month\n",
       "8     0.050578       Num_Credit_Inquiries\n",
       "10    0.050335   Credit_Utilization_Ratio\n",
       "12    0.049327    Amount_invested_monthly\n",
       "18    0.048977  Payment_of_Min_Amount_Yes\n",
       "5     0.048876                Num_of_Loan"
      ]
     },
     "execution_count": 79,
     "metadata": {},
     "output_type": "execute_result"
    }
   ],
   "source": [
    "predictors = np.array(X.columns)\n",
    "\n",
    "feature_importances = np.mean([\n",
    "    tree.feature_importances_ for tree in bagging_model.estimators_\n",
    "], axis=0)\n",
    "\n",
    "importances = pd.DataFrame(columns = {'predictors', 'importance'})\n",
    "\n",
    "importances['predictors'] = pd.Series(predictors)\n",
    "importances['importance'] = pd.Series(feature_importances)\n",
    "\n",
    "importances.sort_values(by = \"importance\", ascending = False)"
   ]
  },
  {
   "cell_type": "markdown",
   "id": "3734835f",
   "metadata": {},
   "source": [
    "#### RANDOM FOREST "
   ]
  },
  {
   "cell_type": "code",
   "execution_count": 80,
   "id": "4ef6470c",
   "metadata": {},
   "outputs": [
    {
     "name": "stdout",
     "output_type": "stream",
     "text": [
      "The RMSE on test data is 64.00245466003211\n"
     ]
    }
   ],
   "source": [
    "rf_model = RandomForestRegressor(random_state = 1,\n",
    "                                n_estimators = 450,\n",
    "                                max_depth = 24,\n",
    "                                max_leaf_nodes = 1500,\n",
    "                                max_features = 2,\n",
    "                                bootstrap = False,\n",
    "                                n_jobs = -1)\n",
    "rf_model.fit(X, y)\n",
    "\n",
    "pred_rf_final = rf_model.predict(X_test)\n",
    "\n",
    "print(\"The RMSE on test data is\", np.sqrt(mean_squared_error(y_test, pred_rf_final)))"
   ]
  },
  {
   "cell_type": "code",
   "execution_count": 81,
   "id": "c2d03a37",
   "metadata": {},
   "outputs": [
    {
     "data": {
      "text/html": [
       "<div>\n",
       "<style scoped>\n",
       "    .dataframe tbody tr th:only-of-type {\n",
       "        vertical-align: middle;\n",
       "    }\n",
       "\n",
       "    .dataframe tbody tr th {\n",
       "        vertical-align: top;\n",
       "    }\n",
       "\n",
       "    .dataframe thead th {\n",
       "        text-align: right;\n",
       "    }\n",
       "</style>\n",
       "<table border=\"1\" class=\"dataframe\">\n",
       "  <thead>\n",
       "    <tr style=\"text-align: right;\">\n",
       "      <th></th>\n",
       "      <th>importance</th>\n",
       "      <th>predictors</th>\n",
       "    </tr>\n",
       "  </thead>\n",
       "  <tbody>\n",
       "    <tr>\n",
       "      <th>9</th>\n",
       "      <td>0.127434</td>\n",
       "      <td>Outstanding_Debt</td>\n",
       "    </tr>\n",
       "    <tr>\n",
       "      <th>8</th>\n",
       "      <td>0.071607</td>\n",
       "      <td>Num_Credit_Inquiries</td>\n",
       "    </tr>\n",
       "    <tr>\n",
       "      <th>13</th>\n",
       "      <td>0.061675</td>\n",
       "      <td>Monthly_Balance</td>\n",
       "    </tr>\n",
       "    <tr>\n",
       "      <th>12</th>\n",
       "      <td>0.061279</td>\n",
       "      <td>Amount_invested_monthly</td>\n",
       "    </tr>\n",
       "    <tr>\n",
       "      <th>10</th>\n",
       "      <td>0.060297</td>\n",
       "      <td>Credit_Utilization_Ratio</td>\n",
       "    </tr>\n",
       "    <tr>\n",
       "      <th>7</th>\n",
       "      <td>0.060050</td>\n",
       "      <td>Changed_Credit_Limit</td>\n",
       "    </tr>\n",
       "    <tr>\n",
       "      <th>4</th>\n",
       "      <td>0.057588</td>\n",
       "      <td>Num_Credit_Card</td>\n",
       "    </tr>\n",
       "    <tr>\n",
       "      <th>11</th>\n",
       "      <td>0.057382</td>\n",
       "      <td>Total_EMI_per_month</td>\n",
       "    </tr>\n",
       "    <tr>\n",
       "      <th>2</th>\n",
       "      <td>0.055895</td>\n",
       "      <td>Monthly_Inhand_Salary</td>\n",
       "    </tr>\n",
       "    <tr>\n",
       "      <th>1</th>\n",
       "      <td>0.055772</td>\n",
       "      <td>Annual_Income</td>\n",
       "    </tr>\n",
       "    <tr>\n",
       "      <th>6</th>\n",
       "      <td>0.052600</td>\n",
       "      <td>Num_of_Delayed_Payment</td>\n",
       "    </tr>\n",
       "    <tr>\n",
       "      <th>0</th>\n",
       "      <td>0.051421</td>\n",
       "      <td>Age</td>\n",
       "    </tr>\n",
       "    <tr>\n",
       "      <th>3</th>\n",
       "      <td>0.048284</td>\n",
       "      <td>Num_Bank_Accounts</td>\n",
       "    </tr>\n",
       "    <tr>\n",
       "      <th>14</th>\n",
       "      <td>0.041219</td>\n",
       "      <td>Credit_Mix_Bad</td>\n",
       "    </tr>\n",
       "    <tr>\n",
       "      <th>5</th>\n",
       "      <td>0.038710</td>\n",
       "      <td>Num_of_Loan</td>\n",
       "    </tr>\n",
       "    <tr>\n",
       "      <th>15</th>\n",
       "      <td>0.028253</td>\n",
       "      <td>Credit_Mix_Good</td>\n",
       "    </tr>\n",
       "    <tr>\n",
       "      <th>18</th>\n",
       "      <td>0.026252</td>\n",
       "      <td>Payment_of_Min_Amount_Yes</td>\n",
       "    </tr>\n",
       "    <tr>\n",
       "      <th>16</th>\n",
       "      <td>0.022689</td>\n",
       "      <td>Credit_Mix_Standard</td>\n",
       "    </tr>\n",
       "    <tr>\n",
       "      <th>17</th>\n",
       "      <td>0.021594</td>\n",
       "      <td>Payment_of_Min_Amount_No</td>\n",
       "    </tr>\n",
       "  </tbody>\n",
       "</table>\n",
       "</div>"
      ],
      "text/plain": [
       "    importance                 predictors\n",
       "9     0.127434           Outstanding_Debt\n",
       "8     0.071607       Num_Credit_Inquiries\n",
       "13    0.061675            Monthly_Balance\n",
       "12    0.061279    Amount_invested_monthly\n",
       "10    0.060297   Credit_Utilization_Ratio\n",
       "7     0.060050       Changed_Credit_Limit\n",
       "4     0.057588            Num_Credit_Card\n",
       "11    0.057382        Total_EMI_per_month\n",
       "2     0.055895      Monthly_Inhand_Salary\n",
       "1     0.055772              Annual_Income\n",
       "6     0.052600     Num_of_Delayed_Payment\n",
       "0     0.051421                        Age\n",
       "3     0.048284          Num_Bank_Accounts\n",
       "14    0.041219             Credit_Mix_Bad\n",
       "5     0.038710                Num_of_Loan\n",
       "15    0.028253            Credit_Mix_Good\n",
       "18    0.026252  Payment_of_Min_Amount_Yes\n",
       "16    0.022689        Credit_Mix_Standard\n",
       "17    0.021594   Payment_of_Min_Amount_No"
      ]
     },
     "execution_count": 81,
     "metadata": {},
     "output_type": "execute_result"
    }
   ],
   "source": [
    "predictors = np.array(X.columns)\n",
    "\n",
    "feature_importances = np.mean([\n",
    "    tree.feature_importances_ for tree in rf_model.estimators_\n",
    "], axis=0)\n",
    "\n",
    "importances = pd.DataFrame(columns = {'predictors', 'importance'})\n",
    "\n",
    "importances['predictors'] = pd.Series(predictors)\n",
    "importances['importance'] = pd.Series(feature_importances)\n",
    "\n",
    "importances.sort_values(by = \"importance\", ascending = False)"
   ]
  },
  {
   "cell_type": "markdown",
   "id": "1396957c",
   "metadata": {},
   "source": [
    "#### XGBOOST"
   ]
  },
  {
   "cell_type": "code",
   "execution_count": 85,
   "id": "c9fbba1f",
   "metadata": {},
   "outputs": [
    {
     "data": {
      "text/plain": [
       "64.65756729881915"
      ]
     },
     "execution_count": 85,
     "metadata": {},
     "output_type": "execute_result"
    }
   ],
   "source": [
    "xgb_model = xgb.XGBRegressor(random_state=1,\n",
    "                         subsample=0.5,\n",
    "                         reg_lambda=0.4,\n",
    "                         n_estimators=1650,\n",
    "                         max_depth=7,\n",
    "                         learning_rate=0.0088,\n",
    "                         gamma=15,\n",
    "                         colsample_bytree=0.4).fit(X_train,y_train)\n",
    "\n",
    "np.sqrt(mean_squared_error(y_test, xgb_model.predict(X_test)))"
   ]
  },
  {
   "cell_type": "code",
   "execution_count": 86,
   "id": "b4071e62",
   "metadata": {},
   "outputs": [
    {
     "data": {
      "text/html": [
       "<div>\n",
       "<style scoped>\n",
       "    .dataframe tbody tr th:only-of-type {\n",
       "        vertical-align: middle;\n",
       "    }\n",
       "\n",
       "    .dataframe tbody tr th {\n",
       "        vertical-align: top;\n",
       "    }\n",
       "\n",
       "    .dataframe thead th {\n",
       "        text-align: right;\n",
       "    }\n",
       "</style>\n",
       "<table border=\"1\" class=\"dataframe\">\n",
       "  <thead>\n",
       "    <tr style=\"text-align: right;\">\n",
       "      <th></th>\n",
       "      <th>importance</th>\n",
       "      <th>predictors</th>\n",
       "    </tr>\n",
       "  </thead>\n",
       "  <tbody>\n",
       "    <tr>\n",
       "      <th>14</th>\n",
       "      <td>0.174196</td>\n",
       "      <td>Credit_Mix_Bad</td>\n",
       "    </tr>\n",
       "    <tr>\n",
       "      <th>18</th>\n",
       "      <td>0.135447</td>\n",
       "      <td>Payment_of_Min_Amount_Yes</td>\n",
       "    </tr>\n",
       "    <tr>\n",
       "      <th>17</th>\n",
       "      <td>0.121012</td>\n",
       "      <td>Payment_of_Min_Amount_No</td>\n",
       "    </tr>\n",
       "    <tr>\n",
       "      <th>15</th>\n",
       "      <td>0.114025</td>\n",
       "      <td>Credit_Mix_Good</td>\n",
       "    </tr>\n",
       "    <tr>\n",
       "      <th>16</th>\n",
       "      <td>0.068757</td>\n",
       "      <td>Credit_Mix_Standard</td>\n",
       "    </tr>\n",
       "    <tr>\n",
       "      <th>9</th>\n",
       "      <td>0.054767</td>\n",
       "      <td>Outstanding_Debt</td>\n",
       "    </tr>\n",
       "    <tr>\n",
       "      <th>8</th>\n",
       "      <td>0.040338</td>\n",
       "      <td>Num_Credit_Inquiries</td>\n",
       "    </tr>\n",
       "    <tr>\n",
       "      <th>11</th>\n",
       "      <td>0.029147</td>\n",
       "      <td>Total_EMI_per_month</td>\n",
       "    </tr>\n",
       "    <tr>\n",
       "      <th>4</th>\n",
       "      <td>0.027678</td>\n",
       "      <td>Num_Credit_Card</td>\n",
       "    </tr>\n",
       "    <tr>\n",
       "      <th>12</th>\n",
       "      <td>0.027014</td>\n",
       "      <td>Amount_invested_monthly</td>\n",
       "    </tr>\n",
       "    <tr>\n",
       "      <th>7</th>\n",
       "      <td>0.026722</td>\n",
       "      <td>Changed_Credit_Limit</td>\n",
       "    </tr>\n",
       "    <tr>\n",
       "      <th>10</th>\n",
       "      <td>0.025472</td>\n",
       "      <td>Credit_Utilization_Ratio</td>\n",
       "    </tr>\n",
       "    <tr>\n",
       "      <th>13</th>\n",
       "      <td>0.025411</td>\n",
       "      <td>Monthly_Balance</td>\n",
       "    </tr>\n",
       "    <tr>\n",
       "      <th>3</th>\n",
       "      <td>0.023284</td>\n",
       "      <td>Num_Bank_Accounts</td>\n",
       "    </tr>\n",
       "    <tr>\n",
       "      <th>5</th>\n",
       "      <td>0.022666</td>\n",
       "      <td>Num_of_Loan</td>\n",
       "    </tr>\n",
       "    <tr>\n",
       "      <th>2</th>\n",
       "      <td>0.022603</td>\n",
       "      <td>Monthly_Inhand_Salary</td>\n",
       "    </tr>\n",
       "    <tr>\n",
       "      <th>1</th>\n",
       "      <td>0.022263</td>\n",
       "      <td>Annual_Income</td>\n",
       "    </tr>\n",
       "    <tr>\n",
       "      <th>6</th>\n",
       "      <td>0.021375</td>\n",
       "      <td>Num_of_Delayed_Payment</td>\n",
       "    </tr>\n",
       "    <tr>\n",
       "      <th>0</th>\n",
       "      <td>0.017824</td>\n",
       "      <td>Age</td>\n",
       "    </tr>\n",
       "  </tbody>\n",
       "</table>\n",
       "</div>"
      ],
      "text/plain": [
       "    importance                 predictors\n",
       "14    0.174196             Credit_Mix_Bad\n",
       "18    0.135447  Payment_of_Min_Amount_Yes\n",
       "17    0.121012   Payment_of_Min_Amount_No\n",
       "15    0.114025            Credit_Mix_Good\n",
       "16    0.068757        Credit_Mix_Standard\n",
       "9     0.054767           Outstanding_Debt\n",
       "8     0.040338       Num_Credit_Inquiries\n",
       "11    0.029147        Total_EMI_per_month\n",
       "4     0.027678            Num_Credit_Card\n",
       "12    0.027014    Amount_invested_monthly\n",
       "7     0.026722       Changed_Credit_Limit\n",
       "10    0.025472   Credit_Utilization_Ratio\n",
       "13    0.025411            Monthly_Balance\n",
       "3     0.023284          Num_Bank_Accounts\n",
       "5     0.022666                Num_of_Loan\n",
       "2     0.022603      Monthly_Inhand_Salary\n",
       "1     0.022263              Annual_Income\n",
       "6     0.021375     Num_of_Delayed_Payment\n",
       "0     0.017824                        Age"
      ]
     },
     "execution_count": 86,
     "metadata": {},
     "output_type": "execute_result"
    }
   ],
   "source": [
    "predictors = np.array(X.columns)\n",
    "\n",
    "feature_importances = xgb_model.feature_importances_\n",
    "\n",
    "importances = pd.DataFrame(columns = {'predictors', 'importance'})\n",
    "\n",
    "importances['predictors'] = pd.Series(predictors)\n",
    "importances['importance'] = pd.Series(feature_importances)\n",
    "\n",
    "importances.sort_values(by = \"importance\", ascending = False)"
   ]
  },
  {
   "cell_type": "markdown",
   "id": "ae2a9a26",
   "metadata": {},
   "source": [
    "## Ensemble Model"
   ]
  },
  {
   "cell_type": "markdown",
   "id": "29fe3883",
   "metadata": {},
   "source": [
    "#### STACKING"
   ]
  },
  {
   "cell_type": "code",
   "execution_count": 87,
   "id": "5d89f09b",
   "metadata": {},
   "outputs": [
    {
     "name": "stdout",
     "output_type": "stream",
     "text": [
      "The Final Model RMSE  is  63.9805813425645\n"
     ]
    }
   ],
   "source": [
    "#LinearRegression as the metamodel\n",
    "\n",
    "final_model = StackingRegressor(estimators = [('xgb', xgb_model),('rf', rf_model), \n",
    "                                              ('bagging', bagging_model), ('MARS', MARS_model)],\n",
    "                                final_estimator=LinearRegression(),                                          \n",
    "                                cv = KFold(n_splits = 5, shuffle = True, random_state=1))\n",
    "\n",
    "final_model.fit(X,y)\n",
    "\n",
    "print(\"The Final Model RMSE  is \", np.sqrt(mean_squared_error(final_model.predict(X_test), y_test)))"
   ]
  },
  {
   "cell_type": "code",
   "execution_count": 88,
   "id": "9664d473",
   "metadata": {},
   "outputs": [
    {
     "data": {
      "text/plain": [
       "array([ 6.83735088e-02,  6.85745638e-01,  2.67830286e-01, -9.90036928e-05])"
      ]
     },
     "execution_count": 88,
     "metadata": {},
     "output_type": "execute_result"
    }
   ],
   "source": [
    "#Co-efficients \n",
    "final_model.final_estimator_.coef_"
   ]
  },
  {
   "cell_type": "markdown",
   "id": "55e6ea81",
   "metadata": {},
   "source": [
    "#### VOTING"
   ]
  },
  {
   "cell_type": "code",
   "execution_count": 94,
   "id": "c719d73d",
   "metadata": {},
   "outputs": [
    {
     "name": "stdout",
     "output_type": "stream",
     "text": [
      "Ensemble model RMSE =  64.31496677604076\n"
     ]
    }
   ],
   "source": [
    "from sklearn.ensemble import VotingRegressor, VotingClassifier, StackingRegressor, StackingClassifier, GradientBoostingRegressor,GradientBoostingClassifier, BaggingRegressor,BaggingClassifier,RandomForestRegressor,RandomForestClassifier,AdaBoostRegressor,AdaBoostClassifier\n",
    "\n",
    "\n",
    "#Voting ensemble: Averaging the predictions of all models\n",
    "en = VotingRegressor(estimators = [('xgb', xgb_model),('rf', rf_model), \n",
    "                                              ('bagging', bagging_model), ('MARS', MARS_model)])\n",
    "en.fit(X,y)\n",
    "print(\"Ensemble model RMSE = \", np.sqrt(mean_squared_error(en.predict(X_test),y_test)))"
   ]
  },
  {
   "cell_type": "code",
   "execution_count": null,
   "id": "03dc1ed4",
   "metadata": {},
   "outputs": [],
   "source": []
  }
 ],
 "metadata": {
  "kernelspec": {
   "display_name": "Python 3 (ipykernel)",
   "language": "python",
   "name": "python3"
  },
  "language_info": {
   "codemirror_mode": {
    "name": "ipython",
    "version": 3
   },
   "file_extension": ".py",
   "mimetype": "text/x-python",
   "name": "python",
   "nbconvert_exporter": "python",
   "pygments_lexer": "ipython3",
   "version": "3.9.12"
  }
 },
 "nbformat": 4,
 "nbformat_minor": 5
}
