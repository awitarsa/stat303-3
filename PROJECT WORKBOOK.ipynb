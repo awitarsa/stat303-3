{
 "cells": [
  {
   "cell_type": "code",
   "execution_count": null,
   "id": "468a8e2e",
   "metadata": {},
   "outputs": [],
   "source": [
    "import warnings\n",
    "warnings.filterwarnings(\"ignore\")\n",
    "\n",
    "import pandas as pd\n",
    "import numpy as np\n",
    "import statsmodels.formula.api as smf\n",
    "import statsmodels.api as sm\n",
    "import seaborn as sns\n",
    "import matplotlib.pyplot as plt\n",
    "from patsy import dmatrix\n",
    "from sklearn.metrics import mean_squared_error\n",
    "from pyearth import Earth\n",
    "from sklearn.metrics import roc_curve, precision_recall_curve, auc, make_scorer, recall_score, accuracy_score, precision_score, confusion_matrix\n",
    "from sklearn.linear_model import LinearRegression, LogisticRegression\n",
    "from sklearn.model_selection import train_test_split, cross_val_predict, cross_val_score, cross_validate\n",
    "from patsy import dmatrix\n",
    "import statsmodels.formula.api as smf\n",
    "from sklearn.model_selection import cross_val_predict\n",
    "from sklearn.metrics import accuracy_score, mean_absolute_error, mean_squared_error, r2_score, roc_curve, auc, precision_score, recall_score, confusion_matrix\n",
    "\n",
    "from sklearn.model_selection import KFold, StratifiedKFold\n",
    "from sklearn.tree import DecisionTreeRegressor, DecisionTreeClassifier\n",
    "from sklearn.model_selection import GridSearchCV, ParameterGrid\n",
    "from sklearn.ensemble import BaggingRegressor,BaggingClassifier,RandomForestClassifier, RandomForestRegressor\n",
    "from sklearn.linear_model import LinearRegression\n",
    "from sklearn.metrics import SCORERS\n",
    "\n",
    "#Libraries for visualizing trees\n",
    "from sklearn.tree import export_graphviz\n",
    "from six import StringIO\n",
    "from IPython.display import Image\n",
    "\n",
    "#import pydotplus\n",
    "import time as tm\n",
    "\n",
    "import itertools as it"
   ]
  },
  {
   "cell_type": "markdown",
   "id": "6bbc8503",
   "metadata": {},
   "source": [
    "# Data quality check / cleaning / preparation¶"
   ]
  },
  {
   "cell_type": "markdown",
   "id": "e9be700c",
   "metadata": {},
   "source": [
    "### Cleaning - Training Data"
   ]
  },
  {
   "cell_type": "code",
   "execution_count": null,
   "id": "2cb68a81",
   "metadata": {},
   "outputs": [],
   "source": [
    "train = pd.read_csv('train.csv')\n",
    "test = pd.read_csv('test.csv')\n",
    "\n",
    "\n",
    "\n",
    "# Create Credit Ratings based on Investopedia Values\n",
    "train['Credit_Rating'] = 0\n",
    "train['Credit_Rating'] = np.where(train['Credit_Score'] == 'Good',\n",
    "                          np.random.uniform(670, 730, size=len(train)),\n",
    "                          train['Credit_Rating'])\n",
    "\n",
    "train['Credit_Rating'] = np.where(train['Credit_Score'] == 'Standard',\n",
    "                          np.random.uniform(580, 670, size=len(train)),\n",
    "                          train['Credit_Rating'])\n",
    "\n",
    "train['Credit_Rating'] = np.where(train['Credit_Score'] == 'Poor',\n",
    "                          np.random.uniform(0, 580, size=len(train)),\n",
    "                          train['Credit_Rating'])\n",
    "\n",
    "\n",
    "\n",
    "# Drop irrelevant columns\n",
    "columns_to_drop = ['Customer_ID', 'ID','Month', 'Name', 'SSN', 'Interest_Rate','Occupation',\n",
    "                    'Type_of_Loan', 'Delay_from_due_date', 'Payment_Behaviour', 'Credit_History_Age', 'Credit_Score']\n",
    "\n",
    "train.drop(columns_to_drop, axis=1, inplace=True)\n",
    "\n",
    "\n",
    "\n",
    "# Removing invalid characters from columns\n",
    "mix_type_num_col = ['Age', 'Annual_Income', \n",
    "                    'Num_of_Delayed_Payment','Changed_Credit_Limit',\n",
    "                    'Outstanding_Debt', 'Amount_invested_monthly', 'Monthly_Balance', 'Num_of_Loan']\n",
    "\n",
    "def set_numeric_columns(features,df=None):\n",
    "\n",
    "    df[features]=df[features].apply(lambda x: x.replace('_','',regex=True) )\n",
    "    df[features]=df[features].apply(lambda x: x.str.strip())\n",
    "    df[features]=df[features].apply(lambda x: x.replace('',np.nan))\n",
    "    df[features[1:]]=df[features[1:]].astype('float32')\n",
    "    df[features[0]]=df[features[0]].astype('int32')\n",
    "\n",
    "set_numeric_columns(mix_type_num_col,df=train)"
   ]
  },
  {
   "cell_type": "code",
   "execution_count": null,
   "id": "c08a5ec2",
   "metadata": {},
   "outputs": [],
   "source": [
    "train = train.dropna()\n",
    "\n",
    "train = train.loc[train.Credit_Mix != \"_\"]\n",
    "train = train.loc[train.Payment_of_Min_Amount != \"NM\"]\n",
    "\n",
    "train = pd.get_dummies(train)"
   ]
  },
  {
   "cell_type": "code",
   "execution_count": null,
   "id": "477fc7f4",
   "metadata": {},
   "outputs": [],
   "source": [
    "y = train.Credit_Rating\n",
    "X = train.drop(columns = 'Credit_Rating')\n",
    "X_train, X_test, y_train, y_test = train_test_split(X, y, test_size = 0.2, random_state = 45)\n",
    "\n",
    "X = X_train[X_train.columns]\n",
    "y = y_train"
   ]
  },
  {
   "cell_type": "markdown",
   "id": "4437d95b",
   "metadata": {},
   "source": [
    "# Base Model"
   ]
  },
  {
   "cell_type": "code",
   "execution_count": null,
   "id": "ea61c56f",
   "metadata": {},
   "outputs": [],
   "source": [
    "model = DecisionTreeRegressor(random_state=1)\n",
    "model.fit(X, y)"
   ]
  },
  {
   "cell_type": "code",
   "execution_count": null,
   "id": "cc52dba5",
   "metadata": {},
   "outputs": [],
   "source": [
    "pred = model.predict(X_test)"
   ]
  },
  {
   "cell_type": "code",
   "execution_count": null,
   "id": "b6d66f91",
   "metadata": {},
   "outputs": [],
   "source": [
    "print(\"The RMSE of the Base Model is\", np.sqrt(mean_squared_error(y_test, pred)))"
   ]
  },
  {
   "cell_type": "markdown",
   "id": "fbf6bc98",
   "metadata": {},
   "source": [
    "# Visualization"
   ]
  },
  {
   "cell_type": "markdown",
   "id": "7fbaea4b",
   "metadata": {},
   "source": [
    "### distribution of the response variable"
   ]
  },
  {
   "cell_type": "code",
   "execution_count": null,
   "id": "54106ac1",
   "metadata": {},
   "outputs": [],
   "source": [
    "sns.kdeplot(train.Credit_Rating)"
   ]
  },
  {
   "cell_type": "markdown",
   "id": "1df8e37e",
   "metadata": {},
   "source": [
    "### distribution of each predictor"
   ]
  },
  {
   "cell_type": "code",
   "execution_count": null,
   "id": "058f9cc0",
   "metadata": {
    "scrolled": false
   },
   "outputs": [],
   "source": [
    "# continuous\n",
    "\n",
    "train.head()"
   ]
  },
  {
   "cell_type": "code",
   "execution_count": null,
   "id": "3ac7b236",
   "metadata": {},
   "outputs": [],
   "source": [
    "sns.kdeplot(train.Age)"
   ]
  },
  {
   "cell_type": "code",
   "execution_count": null,
   "id": "2da9f707",
   "metadata": {},
   "outputs": [],
   "source": [
    "sns.kdeplot(train.Annual_Income)"
   ]
  },
  {
   "cell_type": "code",
   "execution_count": null,
   "id": "639bc299",
   "metadata": {},
   "outputs": [],
   "source": [
    "sns.kdeplot(train.Monthly_Inhand_Salary)"
   ]
  },
  {
   "cell_type": "code",
   "execution_count": null,
   "id": "f757a198",
   "metadata": {},
   "outputs": [],
   "source": [
    "sns.kdeplot(train.Num_Bank_Accounts)"
   ]
  },
  {
   "cell_type": "code",
   "execution_count": null,
   "id": "a4e55310",
   "metadata": {},
   "outputs": [],
   "source": [
    "sns.kdeplot(train.Num_Credit_Card)"
   ]
  },
  {
   "cell_type": "code",
   "execution_count": null,
   "id": "92c2fdad",
   "metadata": {},
   "outputs": [],
   "source": []
  }
 ],
 "metadata": {
  "kernelspec": {
   "display_name": "Python 3 (ipykernel)",
   "language": "python",
   "name": "python3"
  },
  "language_info": {
   "codemirror_mode": {
    "name": "ipython",
    "version": 3
   },
   "file_extension": ".py",
   "mimetype": "text/x-python",
   "name": "python",
   "nbconvert_exporter": "python",
   "pygments_lexer": "ipython3",
   "version": "3.9.12"
  }
 },
 "nbformat": 4,
 "nbformat_minor": 5
}
