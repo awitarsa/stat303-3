{
 "cells": [
  {
   "cell_type": "code",
   "execution_count": 1,
   "id": "468a8e2e",
   "metadata": {},
   "outputs": [],
   "source": [
    "import warnings\n",
    "warnings.filterwarnings(\"ignore\")\n",
    "\n",
    "import pandas as pd\n",
    "import numpy as np\n",
    "import statsmodels.formula.api as smf\n",
    "import statsmodels.api as sm\n",
    "import seaborn as sns\n",
    "import matplotlib.pyplot as plt\n",
    "from patsy import dmatrix\n",
    "from sklearn.metrics import mean_squared_error\n",
    "from pyearth import Earth\n",
    "from sklearn.metrics import roc_curve, precision_recall_curve, auc, make_scorer, recall_score, accuracy_score, precision_score, confusion_matrix\n",
    "from sklearn.linear_model import LinearRegression, LogisticRegression\n",
    "from sklearn.model_selection import train_test_split, cross_val_predict, cross_val_score, cross_validate\n",
    "from patsy import dmatrix\n",
    "import statsmodels.formula.api as smf\n",
    "from sklearn.model_selection import cross_val_predict\n",
    "from sklearn.metrics import accuracy_score, mean_absolute_error, mean_squared_error, r2_score, roc_curve, auc, precision_score, recall_score, confusion_matrix\n",
    "\n",
    "from sklearn.model_selection import KFold, StratifiedKFold\n",
    "from sklearn.tree import DecisionTreeRegressor, DecisionTreeClassifier\n",
    "from sklearn.model_selection import GridSearchCV, ParameterGrid\n",
    "from sklearn.ensemble import BaggingRegressor,BaggingClassifier,RandomForestClassifier, RandomForestRegressor\n",
    "from sklearn.linear_model import LinearRegression\n",
    "from sklearn.metrics import SCORERS\n",
    "\n",
    "#Libraries for visualizing trees\n",
    "from sklearn.tree import export_graphviz\n",
    "from six import StringIO\n",
    "from IPython.display import Image\n",
    "\n",
    "#import pydotplus\n",
    "import time as tm\n",
    "\n",
    "import itertools as it"
   ]
  },
  {
   "cell_type": "markdown",
   "id": "6bbc8503",
   "metadata": {},
   "source": [
    "# Data quality check / cleaning / preparation¶"
   ]
  },
  {
   "cell_type": "markdown",
   "id": "e9be700c",
   "metadata": {},
   "source": [
    "### Cleaning - Training Data"
   ]
  },
  {
   "cell_type": "code",
   "execution_count": 2,
   "id": "2cb68a81",
   "metadata": {},
   "outputs": [],
   "source": [
    "train = pd.read_csv('train.csv')\n",
    "test = pd.read_csv('test.csv')\n",
    "\n",
    "\n",
    "\n",
    "# Create Credit Ratings based on Investopedia Values\n",
    "train['Credit_Rating'] = 0\n",
    "train['Credit_Rating'] = np.where(train['Credit_Score'] == 'Good',\n",
    "                          np.random.uniform(670, 730, size=len(train)),\n",
    "                          train['Credit_Rating'])\n",
    "\n",
    "train['Credit_Rating'] = np.where(train['Credit_Score'] == 'Standard',\n",
    "                          np.random.uniform(580, 670, size=len(train)),\n",
    "                          train['Credit_Rating'])\n",
    "\n",
    "train['Credit_Rating'] = np.where(train['Credit_Score'] == 'Poor',\n",
    "                          np.random.uniform(0, 580, size=len(train)),\n",
    "                          train['Credit_Rating'])\n",
    "\n",
    "\n",
    "\n",
    "# Drop irrelevant columns\n",
    "columns_to_drop = ['Customer_ID', 'ID','Month', 'Name', 'SSN', 'Interest_Rate','Occupation',\n",
    "                    'Type_of_Loan', 'Delay_from_due_date', 'Payment_Behaviour', 'Credit_History_Age', 'Credit_Score']\n",
    "\n",
    "train.drop(columns_to_drop, axis=1, inplace=True)\n",
    "\n",
    "\n",
    "\n",
    "# Removing invalid characters from columns\n",
    "mix_type_num_col = ['Age', 'Annual_Income', \n",
    "                    'Num_of_Delayed_Payment','Changed_Credit_Limit',\n",
    "                    'Outstanding_Debt', 'Amount_invested_monthly', 'Monthly_Balance', 'Num_of_Loan']\n",
    "\n",
    "def set_numeric_columns(features,df=None):\n",
    "\n",
    "    df[features]=df[features].apply(lambda x: x.replace('_','',regex=True) )\n",
    "    df[features]=df[features].apply(lambda x: x.str.strip())\n",
    "    df[features]=df[features].apply(lambda x: x.replace('',np.nan))\n",
    "    df[features[1:]]=df[features[1:]].astype('float32')\n",
    "    df[features[0]]=df[features[0]].astype('int32')\n",
    "\n",
    "set_numeric_columns(mix_type_num_col,df=train)"
   ]
  },
  {
   "cell_type": "code",
   "execution_count": 3,
   "id": "c08a5ec2",
   "metadata": {},
   "outputs": [],
   "source": [
    "train = train.dropna()\n",
    "\n",
    "train = train.loc[train.Credit_Mix != \"_\"]\n",
    "train = train.loc[train.Payment_of_Min_Amount != \"NM\"]\n",
    "\n",
    "train_dummies = pd.get_dummies(train)"
   ]
  },
  {
   "cell_type": "code",
   "execution_count": 4,
   "id": "477fc7f4",
   "metadata": {},
   "outputs": [],
   "source": [
    "y = train_dummies.Credit_Rating\n",
    "X = train_dummies.drop(columns = 'Credit_Rating')\n",
    "X_train, X_test, y_train, y_test = train_test_split(X, y, test_size = 0.2, random_state = 45)\n",
    "\n",
    "X = X_train[X_train.columns]\n",
    "y = y_train"
   ]
  },
  {
   "cell_type": "markdown",
   "id": "4437d95b",
   "metadata": {},
   "source": [
    "# Base Model"
   ]
  },
  {
   "cell_type": "code",
   "execution_count": 5,
   "id": "ea61c56f",
   "metadata": {},
   "outputs": [
    {
     "data": {
      "text/plain": [
       "DecisionTreeRegressor(random_state=1)"
      ]
     },
     "execution_count": 5,
     "metadata": {},
     "output_type": "execute_result"
    }
   ],
   "source": [
    "model = DecisionTreeRegressor(random_state=1)\n",
    "model.fit(X, y)"
   ]
  },
  {
   "cell_type": "code",
   "execution_count": 6,
   "id": "cc52dba5",
   "metadata": {},
   "outputs": [],
   "source": [
    "pred = model.predict(X_test)"
   ]
  },
  {
   "cell_type": "code",
   "execution_count": 7,
   "id": "b6d66f91",
   "metadata": {},
   "outputs": [
    {
     "name": "stdout",
     "output_type": "stream",
     "text": [
      "The RMSE of the Base Model is 207.49205332048462\n"
     ]
    }
   ],
   "source": [
    "print(\"The RMSE of the Base Model is\", np.sqrt(mean_squared_error(y_test, pred)))"
   ]
  },
  {
   "cell_type": "markdown",
   "id": "fbf6bc98",
   "metadata": {},
   "source": [
    "# Visualization"
   ]
  },
  {
   "cell_type": "code",
   "execution_count": 8,
   "id": "1bb74556",
   "metadata": {},
   "outputs": [
    {
     "name": "stdout",
     "output_type": "stream",
     "text": [
      "['Age', 'Annual_Income', 'Monthly_Inhand_Salary', 'Num_Bank_Accounts', 'Num_Credit_Card', 'Num_of_Loan', 'Num_of_Delayed_Payment', 'Changed_Credit_Limit', 'Num_Credit_Inquiries', 'Outstanding_Debt', 'Credit_Utilization_Ratio', 'Total_EMI_per_month', 'Amount_invested_monthly', 'Monthly_Balance', 'Credit_Rating']\n"
     ]
    }
   ],
   "source": [
    "# remove outliers\n",
    "\n",
    "numerics = ['int16', 'int32', 'int64', 'float16', 'float32', 'float64']\n",
    "def remove_outliers(df, columns, threshold=3):\n",
    "    print(columns)\n",
    "    outliers_indices = []\n",
    "    for column_name in columns:\n",
    "        # Calculate the Z-scores for the specified column\n",
    "        z_scores = np.abs((df[column_name] - df[column_name].mean()) / df[column_name].std())\n",
    "        # Identify outliers based on the threshold\n",
    "        outliers_indices.extend(z_scores[z_scores > threshold].index)\n",
    "    \n",
    "    df_no_outliers = df.drop(outliers_indices)\n",
    "    return df_no_outliers\n",
    "\n",
    "train = remove_outliers(train, train.select_dtypes(include = numerics).columns.tolist(), threshold = 1)\n"
   ]
  },
  {
   "cell_type": "markdown",
   "id": "ff030171",
   "metadata": {},
   "source": [
    "###  Base Model without outliers"
   ]
  },
  {
   "cell_type": "code",
   "execution_count": 9,
   "id": "02fc88bb",
   "metadata": {},
   "outputs": [],
   "source": [
    "train_final = pd.get_dummies(train)\n",
    "y = train_final.Credit_Rating\n",
    "X = train_final.drop(columns = 'Credit_Rating')\n",
    "X_train, X_test, y_train, y_test = train_test_split(X, y, test_size = 0.2, random_state = 45)\n",
    "\n",
    "X = X_train[X_train.columns]\n",
    "y = y_train"
   ]
  },
  {
   "cell_type": "code",
   "execution_count": 10,
   "id": "51554047",
   "metadata": {},
   "outputs": [
    {
     "data": {
      "text/plain": [
       "DecisionTreeRegressor(random_state=1)"
      ]
     },
     "execution_count": 10,
     "metadata": {},
     "output_type": "execute_result"
    }
   ],
   "source": [
    "model = DecisionTreeRegressor(random_state=1)\n",
    "model.fit(X, y)"
   ]
  },
  {
   "cell_type": "code",
   "execution_count": 11,
   "id": "adbc2037",
   "metadata": {},
   "outputs": [],
   "source": [
    "pred = model.predict(X_test)"
   ]
  },
  {
   "cell_type": "code",
   "execution_count": 12,
   "id": "23638a7c",
   "metadata": {},
   "outputs": [
    {
     "name": "stdout",
     "output_type": "stream",
     "text": [
      "The RMSE of the Base Model is 85.1454465330425\n"
     ]
    }
   ],
   "source": [
    "print(\"The RMSE of the Base Model is\", np.sqrt(mean_squared_error(y_test, pred)))"
   ]
  },
  {
   "cell_type": "markdown",
   "id": "7fbaea4b",
   "metadata": {},
   "source": [
    "### distribution of the response variable"
   ]
  },
  {
   "cell_type": "code",
   "execution_count": 13,
   "id": "54106ac1",
   "metadata": {
    "scrolled": true
   },
   "outputs": [
    {
     "data": {
      "text/plain": [
       "<AxesSubplot:xlabel='Credit_Rating', ylabel='Density'>"
      ]
     },
     "execution_count": 13,
     "metadata": {},
     "output_type": "execute_result"
    },
    {
     "data": {
      "image/png": "[encoded data removed]",
      "text/plain": [
       "<Figure size 432x288 with 1 Axes>"
      ]
     },
     "metadata": {
      "needs_background": "light"
     },
     "output_type": "display_data"
    }
   ],
   "source": [
    "sns.kdeplot(train_final.Credit_Rating)"
   ]
  },
  {
   "cell_type": "markdown",
   "id": "1df8e37e",
   "metadata": {},
   "source": [
    "### distribution of each predictor"
   ]
  },
  {
   "cell_type": "markdown",
   "id": "6aa7c4f6",
   "metadata": {},
   "source": [
    "#### continuous"
   ]
  },
  {
   "cell_type": "code",
   "execution_count": 14,
   "id": "f163f54b",
   "metadata": {},
   "outputs": [
    {
     "data": {
      "text/html": [
       "<div>\n",
       "<style scoped>\n",
       "    .dataframe tbody tr th:only-of-type {\n",
       "        vertical-align: middle;\n",
       "    }\n",
       "\n",
       "    .dataframe tbody tr th {\n",
       "        vertical-align: top;\n",
       "    }\n",
       "\n",
       "    .dataframe thead th {\n",
       "        text-align: right;\n",
       "    }\n",
       "</style>\n",
       "<table border=\"1\" class=\"dataframe\">\n",
       "  <thead>\n",
       "    <tr style=\"text-align: right;\">\n",
       "      <th></th>\n",
       "      <th>Age</th>\n",
       "      <th>Annual_Income</th>\n",
       "      <th>Monthly_Inhand_Salary</th>\n",
       "      <th>Num_Bank_Accounts</th>\n",
       "      <th>Num_Credit_Card</th>\n",
       "      <th>Num_of_Loan</th>\n",
       "      <th>Num_of_Delayed_Payment</th>\n",
       "      <th>Changed_Credit_Limit</th>\n",
       "      <th>Num_Credit_Inquiries</th>\n",
       "      <th>Outstanding_Debt</th>\n",
       "      <th>Credit_Utilization_Ratio</th>\n",
       "      <th>Total_EMI_per_month</th>\n",
       "      <th>Amount_invested_monthly</th>\n",
       "      <th>Monthly_Balance</th>\n",
       "      <th>Credit_Rating</th>\n",
       "      <th>Credit_Mix_Bad</th>\n",
       "      <th>Credit_Mix_Good</th>\n",
       "      <th>Credit_Mix_Standard</th>\n",
       "      <th>Payment_of_Min_Amount_No</th>\n",
       "      <th>Payment_of_Min_Amount_Yes</th>\n",
       "    </tr>\n",
       "  </thead>\n",
       "  <tbody>\n",
       "    <tr>\n",
       "      <th>6</th>\n",
       "      <td>23</td>\n",
       "      <td>19114.119141</td>\n",
       "      <td>1824.843333</td>\n",
       "      <td>3</td>\n",
       "      <td>4</td>\n",
       "      <td>4.0</td>\n",
       "      <td>8.0</td>\n",
       "      <td>11.27</td>\n",
       "      <td>4.0</td>\n",
       "      <td>809.979980</td>\n",
       "      <td>22.537593</td>\n",
       "      <td>49.574949</td>\n",
       "      <td>178.344070</td>\n",
       "      <td>244.565323</td>\n",
       "      <td>689.789003</td>\n",
       "      <td>0</td>\n",
       "      <td>1</td>\n",
       "      <td>0</td>\n",
       "      <td>1</td>\n",
       "      <td>0</td>\n",
       "    </tr>\n",
       "    <tr>\n",
       "      <th>7</th>\n",
       "      <td>23</td>\n",
       "      <td>19114.119141</td>\n",
       "      <td>1824.843333</td>\n",
       "      <td>3</td>\n",
       "      <td>4</td>\n",
       "      <td>4.0</td>\n",
       "      <td>6.0</td>\n",
       "      <td>11.27</td>\n",
       "      <td>4.0</td>\n",
       "      <td>809.979980</td>\n",
       "      <td>23.933795</td>\n",
       "      <td>49.574949</td>\n",
       "      <td>24.785217</td>\n",
       "      <td>358.124176</td>\n",
       "      <td>632.971753</td>\n",
       "      <td>0</td>\n",
       "      <td>1</td>\n",
       "      <td>0</td>\n",
       "      <td>1</td>\n",
       "      <td>0</td>\n",
       "    </tr>\n",
       "    <tr>\n",
       "      <th>8</th>\n",
       "      <td>28</td>\n",
       "      <td>34847.839844</td>\n",
       "      <td>3037.986667</td>\n",
       "      <td>2</td>\n",
       "      <td>4</td>\n",
       "      <td>1.0</td>\n",
       "      <td>4.0</td>\n",
       "      <td>5.42</td>\n",
       "      <td>2.0</td>\n",
       "      <td>605.030029</td>\n",
       "      <td>24.464031</td>\n",
       "      <td>18.816215</td>\n",
       "      <td>104.291824</td>\n",
       "      <td>470.690613</td>\n",
       "      <td>609.304258</td>\n",
       "      <td>0</td>\n",
       "      <td>1</td>\n",
       "      <td>0</td>\n",
       "      <td>1</td>\n",
       "      <td>0</td>\n",
       "    </tr>\n",
       "    <tr>\n",
       "      <th>9</th>\n",
       "      <td>28</td>\n",
       "      <td>34847.839844</td>\n",
       "      <td>3037.986667</td>\n",
       "      <td>2</td>\n",
       "      <td>4</td>\n",
       "      <td>1.0</td>\n",
       "      <td>1.0</td>\n",
       "      <td>7.42</td>\n",
       "      <td>2.0</td>\n",
       "      <td>605.030029</td>\n",
       "      <td>38.550848</td>\n",
       "      <td>18.816215</td>\n",
       "      <td>40.391239</td>\n",
       "      <td>484.591217</td>\n",
       "      <td>691.737171</td>\n",
       "      <td>0</td>\n",
       "      <td>1</td>\n",
       "      <td>0</td>\n",
       "      <td>1</td>\n",
       "      <td>0</td>\n",
       "    </tr>\n",
       "    <tr>\n",
       "      <th>12</th>\n",
       "      <td>28</td>\n",
       "      <td>34847.839844</td>\n",
       "      <td>3037.986667</td>\n",
       "      <td>2</td>\n",
       "      <td>4</td>\n",
       "      <td>1.0</td>\n",
       "      <td>1.0</td>\n",
       "      <td>6.42</td>\n",
       "      <td>2.0</td>\n",
       "      <td>605.030029</td>\n",
       "      <td>34.977895</td>\n",
       "      <td>18.816215</td>\n",
       "      <td>130.115417</td>\n",
       "      <td>444.867035</td>\n",
       "      <td>701.372482</td>\n",
       "      <td>0</td>\n",
       "      <td>1</td>\n",
       "      <td>0</td>\n",
       "      <td>1</td>\n",
       "      <td>0</td>\n",
       "    </tr>\n",
       "  </tbody>\n",
       "</table>\n",
       "</div>"
      ],
      "text/plain": [
       "    Age  Annual_Income  Monthly_Inhand_Salary  Num_Bank_Accounts  \\\n",
       "6    23   19114.119141            1824.843333                  3   \n",
       "7    23   19114.119141            1824.843333                  3   \n",
       "8    28   34847.839844            3037.986667                  2   \n",
       "9    28   34847.839844            3037.986667                  2   \n",
       "12   28   34847.839844            3037.986667                  2   \n",
       "\n",
       "    Num_Credit_Card  Num_of_Loan  Num_of_Delayed_Payment  \\\n",
       "6                 4          4.0                     8.0   \n",
       "7                 4          4.0                     6.0   \n",
       "8                 4          1.0                     4.0   \n",
       "9                 4          1.0                     1.0   \n",
       "12                4          1.0                     1.0   \n",
       "\n",
       "    Changed_Credit_Limit  Num_Credit_Inquiries  Outstanding_Debt  \\\n",
       "6                  11.27                   4.0        809.979980   \n",
       "7                  11.27                   4.0        809.979980   \n",
       "8                   5.42                   2.0        605.030029   \n",
       "9                   7.42                   2.0        605.030029   \n",
       "12                  6.42                   2.0        605.030029   \n",
       "\n",
       "    Credit_Utilization_Ratio  Total_EMI_per_month  Amount_invested_monthly  \\\n",
       "6                  22.537593            49.574949               178.344070   \n",
       "7                  23.933795            49.574949                24.785217   \n",
       "8                  24.464031            18.816215               104.291824   \n",
       "9                  38.550848            18.816215                40.391239   \n",
       "12                 34.977895            18.816215               130.115417   \n",
       "\n",
       "    Monthly_Balance  Credit_Rating  Credit_Mix_Bad  Credit_Mix_Good  \\\n",
       "6        244.565323     689.789003               0                1   \n",
       "7        358.124176     632.971753               0                1   \n",
       "8        470.690613     609.304258               0                1   \n",
       "9        484.591217     691.737171               0                1   \n",
       "12       444.867035     701.372482               0                1   \n",
       "\n",
       "    Credit_Mix_Standard  Payment_of_Min_Amount_No  Payment_of_Min_Amount_Yes  \n",
       "6                     0                         1                          0  \n",
       "7                     0                         1                          0  \n",
       "8                     0                         1                          0  \n",
       "9                     0                         1                          0  \n",
       "12                    0                         1                          0  "
      ]
     },
     "execution_count": 14,
     "metadata": {},
     "output_type": "execute_result"
    }
   ],
   "source": [
    "train_dummies.head()"
   ]
  },
  {
   "cell_type": "code",
   "execution_count": 15,
   "id": "058f9cc0",
   "metadata": {
    "scrolled": false
   },
   "outputs": [
    {
     "data": {
      "text/html": [
       "<div>\n",
       "<style scoped>\n",
       "    .dataframe tbody tr th:only-of-type {\n",
       "        vertical-align: middle;\n",
       "    }\n",
       "\n",
       "    .dataframe tbody tr th {\n",
       "        vertical-align: top;\n",
       "    }\n",
       "\n",
       "    .dataframe thead th {\n",
       "        text-align: right;\n",
       "    }\n",
       "</style>\n",
       "<table border=\"1\" class=\"dataframe\">\n",
       "  <thead>\n",
       "    <tr style=\"text-align: right;\">\n",
       "      <th></th>\n",
       "      <th>Age</th>\n",
       "      <th>Annual_Income</th>\n",
       "      <th>Monthly_Inhand_Salary</th>\n",
       "      <th>Num_Bank_Accounts</th>\n",
       "      <th>Num_Credit_Card</th>\n",
       "      <th>Num_of_Loan</th>\n",
       "      <th>Num_of_Delayed_Payment</th>\n",
       "      <th>Changed_Credit_Limit</th>\n",
       "      <th>Num_Credit_Inquiries</th>\n",
       "      <th>Outstanding_Debt</th>\n",
       "      <th>Credit_Utilization_Ratio</th>\n",
       "      <th>Total_EMI_per_month</th>\n",
       "      <th>Amount_invested_monthly</th>\n",
       "      <th>Monthly_Balance</th>\n",
       "      <th>Credit_Rating</th>\n",
       "      <th>Credit_Mix_Bad</th>\n",
       "      <th>Credit_Mix_Good</th>\n",
       "      <th>Credit_Mix_Standard</th>\n",
       "      <th>Payment_of_Min_Amount_No</th>\n",
       "      <th>Payment_of_Min_Amount_Yes</th>\n",
       "    </tr>\n",
       "  </thead>\n",
       "  <tbody>\n",
       "    <tr>\n",
       "      <th>12</th>\n",
       "      <td>28</td>\n",
       "      <td>34847.839844</td>\n",
       "      <td>3037.986667</td>\n",
       "      <td>2</td>\n",
       "      <td>4</td>\n",
       "      <td>1.0</td>\n",
       "      <td>1.0</td>\n",
       "      <td>6.42</td>\n",
       "      <td>2.0</td>\n",
       "      <td>605.030029</td>\n",
       "      <td>34.977895</td>\n",
       "      <td>18.816215</td>\n",
       "      <td>130.115417</td>\n",
       "      <td>444.867035</td>\n",
       "      <td>701.372482</td>\n",
       "      <td>0</td>\n",
       "      <td>1</td>\n",
       "      <td>0</td>\n",
       "      <td>1</td>\n",
       "      <td>0</td>\n",
       "    </tr>\n",
       "    <tr>\n",
       "      <th>13</th>\n",
       "      <td>28</td>\n",
       "      <td>34847.839844</td>\n",
       "      <td>3037.986667</td>\n",
       "      <td>2</td>\n",
       "      <td>4</td>\n",
       "      <td>1.0</td>\n",
       "      <td>0.0</td>\n",
       "      <td>5.42</td>\n",
       "      <td>2.0</td>\n",
       "      <td>605.030029</td>\n",
       "      <td>33.381010</td>\n",
       "      <td>18.816215</td>\n",
       "      <td>43.477192</td>\n",
       "      <td>481.505249</td>\n",
       "      <td>697.125635</td>\n",
       "      <td>0</td>\n",
       "      <td>1</td>\n",
       "      <td>0</td>\n",
       "      <td>1</td>\n",
       "      <td>0</td>\n",
       "    </tr>\n",
       "    <tr>\n",
       "      <th>15</th>\n",
       "      <td>28</td>\n",
       "      <td>34847.839844</td>\n",
       "      <td>3037.986667</td>\n",
       "      <td>2</td>\n",
       "      <td>4</td>\n",
       "      <td>1.0</td>\n",
       "      <td>4.0</td>\n",
       "      <td>5.42</td>\n",
       "      <td>2.0</td>\n",
       "      <td>605.030029</td>\n",
       "      <td>32.933856</td>\n",
       "      <td>18.816215</td>\n",
       "      <td>218.904343</td>\n",
       "      <td>356.078094</td>\n",
       "      <td>720.741103</td>\n",
       "      <td>0</td>\n",
       "      <td>1</td>\n",
       "      <td>0</td>\n",
       "      <td>1</td>\n",
       "      <td>0</td>\n",
       "    </tr>\n",
       "    <tr>\n",
       "      <th>43</th>\n",
       "      <td>31</td>\n",
       "      <td>73928.460938</td>\n",
       "      <td>5988.705000</td>\n",
       "      <td>4</td>\n",
       "      <td>5</td>\n",
       "      <td>0.0</td>\n",
       "      <td>7.0</td>\n",
       "      <td>10.14</td>\n",
       "      <td>2.0</td>\n",
       "      <td>548.200012</td>\n",
       "      <td>30.201658</td>\n",
       "      <td>0.000000</td>\n",
       "      <td>618.202393</td>\n",
       "      <td>270.668121</td>\n",
       "      <td>674.241009</td>\n",
       "      <td>0</td>\n",
       "      <td>1</td>\n",
       "      <td>0</td>\n",
       "      <td>1</td>\n",
       "      <td>0</td>\n",
       "    </tr>\n",
       "    <tr>\n",
       "      <th>81</th>\n",
       "      <td>40</td>\n",
       "      <td>33751.269531</td>\n",
       "      <td>2948.605833</td>\n",
       "      <td>5</td>\n",
       "      <td>5</td>\n",
       "      <td>3.0</td>\n",
       "      <td>20.0</td>\n",
       "      <td>11.00</td>\n",
       "      <td>4.0</td>\n",
       "      <td>1328.930054</td>\n",
       "      <td>30.908081</td>\n",
       "      <td>65.008174</td>\n",
       "      <td>70.131081</td>\n",
       "      <td>399.721344</td>\n",
       "      <td>586.630824</td>\n",
       "      <td>0</td>\n",
       "      <td>0</td>\n",
       "      <td>1</td>\n",
       "      <td>0</td>\n",
       "      <td>1</td>\n",
       "    </tr>\n",
       "  </tbody>\n",
       "</table>\n",
       "</div>"
      ],
      "text/plain": [
       "    Age  Annual_Income  Monthly_Inhand_Salary  Num_Bank_Accounts  \\\n",
       "12   28   34847.839844            3037.986667                  2   \n",
       "13   28   34847.839844            3037.986667                  2   \n",
       "15   28   34847.839844            3037.986667                  2   \n",
       "43   31   73928.460938            5988.705000                  4   \n",
       "81   40   33751.269531            2948.605833                  5   \n",
       "\n",
       "    Num_Credit_Card  Num_of_Loan  Num_of_Delayed_Payment  \\\n",
       "12                4          1.0                     1.0   \n",
       "13                4          1.0                     0.0   \n",
       "15                4          1.0                     4.0   \n",
       "43                5          0.0                     7.0   \n",
       "81                5          3.0                    20.0   \n",
       "\n",
       "    Changed_Credit_Limit  Num_Credit_Inquiries  Outstanding_Debt  \\\n",
       "12                  6.42                   2.0        605.030029   \n",
       "13                  5.42                   2.0        605.030029   \n",
       "15                  5.42                   2.0        605.030029   \n",
       "43                 10.14                   2.0        548.200012   \n",
       "81                 11.00                   4.0       1328.930054   \n",
       "\n",
       "    Credit_Utilization_Ratio  Total_EMI_per_month  Amount_invested_monthly  \\\n",
       "12                 34.977895            18.816215               130.115417   \n",
       "13                 33.381010            18.816215                43.477192   \n",
       "15                 32.933856            18.816215               218.904343   \n",
       "43                 30.201658             0.000000               618.202393   \n",
       "81                 30.908081            65.008174                70.131081   \n",
       "\n",
       "    Monthly_Balance  Credit_Rating  Credit_Mix_Bad  Credit_Mix_Good  \\\n",
       "12       444.867035     701.372482               0                1   \n",
       "13       481.505249     697.125635               0                1   \n",
       "15       356.078094     720.741103               0                1   \n",
       "43       270.668121     674.241009               0                1   \n",
       "81       399.721344     586.630824               0                0   \n",
       "\n",
       "    Credit_Mix_Standard  Payment_of_Min_Amount_No  Payment_of_Min_Amount_Yes  \n",
       "12                    0                         1                          0  \n",
       "13                    0                         1                          0  \n",
       "15                    0                         1                          0  \n",
       "43                    0                         1                          0  \n",
       "81                    1                         0                          1  "
      ]
     },
     "execution_count": 15,
     "metadata": {},
     "output_type": "execute_result"
    }
   ],
   "source": [
    "train_final.head()"
   ]
  },
  {
   "cell_type": "code",
   "execution_count": 16,
   "id": "3ac7b236",
   "metadata": {},
   "outputs": [
    {
     "data": {
      "text/plain": [
       "<AxesSubplot:xlabel='Age', ylabel='Density'>"
      ]
     },
     "execution_count": 16,
     "metadata": {},
     "output_type": "execute_result"
    },
    {
     "data": {
      "image/png": "[encoded data removed]",
      "text/plain": [
       "<Figure size 432x288 with 1 Axes>"
      ]
     },
     "metadata": {
      "needs_background": "light"
     },
     "output_type": "display_data"
    }
   ],
   "source": [
    "sns.kdeplot(train_final.Age)"
   ]
  },
  {
   "cell_type": "code",
   "execution_count": 17,
   "id": "2da9f707",
   "metadata": {},
   "outputs": [
    {
     "data": {
      "text/plain": [
       "<AxesSubplot:xlabel='Annual_Income', ylabel='Density'>"
      ]
     },
     "execution_count": 17,
     "metadata": {},
     "output_type": "execute_result"
    },
    {
     "data": {
      "image/png": "[encoded data removed]",
      "text/plain": [
       "<Figure size 432x288 with 1 Axes>"
      ]
     },
     "metadata": {
      "needs_background": "light"
     },
     "output_type": "display_data"
    }
   ],
   "source": [
    "sns.kdeplot(train_final.Annual_Income)"
   ]
  },
  {
   "cell_type": "code",
   "execution_count": 18,
   "id": "639bc299",
   "metadata": {},
   "outputs": [
    {
     "data": {
      "text/plain": [
       "<AxesSubplot:xlabel='Monthly_Inhand_Salary', ylabel='Density'>"
      ]
     },
     "execution_count": 18,
     "metadata": {},
     "output_type": "execute_result"
    },
    {
     "data": {
      "image/png": "[encoded data removed]",
      "text/plain": [
       "<Figure size 432x288 with 1 Axes>"
      ]
     },
     "metadata": {
      "needs_background": "light"
     },
     "output_type": "display_data"
    }
   ],
   "source": [
    "sns.kdeplot(train_final.Monthly_Inhand_Salary)"
   ]
  },
  {
   "cell_type": "code",
   "execution_count": 19,
   "id": "f757a198",
   "metadata": {},
   "outputs": [
    {
     "data": {
      "text/plain": [
       "<AxesSubplot:xlabel='Num_Bank_Accounts', ylabel='Density'>"
      ]
     },
     "execution_count": 19,
     "metadata": {},
     "output_type": "execute_result"
    },
    {
     "data": {
      "image/png": "[encoded data removed]",
      "text/plain": [
       "<Figure size 432x288 with 1 Axes>"
      ]
     },
     "metadata": {
      "needs_background": "light"
     },
     "output_type": "display_data"
    }
   ],
   "source": [
    "sns.kdeplot(train_final.Num_Bank_Accounts)"
   ]
  },
  {
   "cell_type": "code",
   "execution_count": 20,
   "id": "a4e55310",
   "metadata": {},
   "outputs": [
    {
     "data": {
      "text/plain": [
       "<AxesSubplot:xlabel='Num_Credit_Card', ylabel='Density'>"
      ]
     },
     "execution_count": 20,
     "metadata": {},
     "output_type": "execute_result"
    },
    {
     "data": {
      "image/png": "[encoded data removed]",
      "text/plain": [
       "<Figure size 432x288 with 1 Axes>"
      ]
     },
     "metadata": {
      "needs_background": "light"
     },
     "output_type": "display_data"
    }
   ],
   "source": [
    "sns.kdeplot(train_final.Num_Credit_Card)"
   ]
  },
  {
   "cell_type": "code",
   "execution_count": 21,
   "id": "d3f67b90",
   "metadata": {},
   "outputs": [
    {
     "data": {
      "text/plain": [
       "<AxesSubplot:xlabel='Num_of_Loan', ylabel='Density'>"
      ]
     },
     "execution_count": 21,
     "metadata": {},
     "output_type": "execute_result"
    },
    {
     "data": {
      "image/png": "[encoded data removed]",
      "text/plain": [
       "<Figure size 432x288 with 1 Axes>"
      ]
     },
     "metadata": {
      "needs_background": "light"
     },
     "output_type": "display_data"
    }
   ],
   "source": [
    "sns.kdeplot(train_final.Num_of_Loan)"
   ]
  },
  {
   "cell_type": "code",
   "execution_count": 22,
   "id": "efd0d3e2",
   "metadata": {},
   "outputs": [
    {
     "data": {
      "text/plain": [
       "<AxesSubplot:xlabel='Num_of_Delayed_Payment', ylabel='Density'>"
      ]
     },
     "execution_count": 22,
     "metadata": {},
     "output_type": "execute_result"
    },
    {
     "data": {
      "image/png": "[encoded data removed]",
      "text/plain": [
       "<Figure size 432x288 with 1 Axes>"
      ]
     },
     "metadata": {
      "needs_background": "light"
     },
     "output_type": "display_data"
    }
   ],
   "source": [
    "sns.kdeplot(train_final.Num_of_Delayed_Payment)"
   ]
  },
  {
   "cell_type": "code",
   "execution_count": 23,
   "id": "547ba9ad",
   "metadata": {},
   "outputs": [
    {
     "data": {
      "text/plain": [
       "<AxesSubplot:xlabel='Changed_Credit_Limit', ylabel='Density'>"
      ]
     },
     "execution_count": 23,
     "metadata": {},
     "output_type": "execute_result"
    },
    {
     "data": {
      "image/png": "[encoded data removed]",
      "text/plain": [
       "<Figure size 432x288 with 1 Axes>"
      ]
     },
     "metadata": {
      "needs_background": "light"
     },
     "output_type": "display_data"
    }
   ],
   "source": [
    "sns.kdeplot(train_final.Changed_Credit_Limit)"
   ]
  },
  {
   "cell_type": "code",
   "execution_count": 24,
   "id": "ec9e30b2",
   "metadata": {},
   "outputs": [
    {
     "data": {
      "text/plain": [
       "<AxesSubplot:xlabel='Num_Credit_Inquiries', ylabel='Density'>"
      ]
     },
     "execution_count": 24,
     "metadata": {},
     "output_type": "execute_result"
    },
    {
     "data": {
      "image/png": "[encoded data removed]",
      "text/plain": [
       "<Figure size 432x288 with 1 Axes>"
      ]
     },
     "metadata": {
      "needs_background": "light"
     },
     "output_type": "display_data"
    }
   ],
   "source": [
    "sns.kdeplot(train_final.Num_Credit_Inquiries)"
   ]
  },
  {
   "cell_type": "code",
   "execution_count": 25,
   "id": "36d9dfd4",
   "metadata": {},
   "outputs": [
    {
     "data": {
      "text/plain": [
       "<AxesSubplot:xlabel='Outstanding_Debt', ylabel='Density'>"
      ]
     },
     "execution_count": 25,
     "metadata": {},
     "output_type": "execute_result"
    },
    {
     "data": {
      "image/png": "[encoded data removed]",
      "text/plain": [
       "<Figure size 432x288 with 1 Axes>"
      ]
     },
     "metadata": {
      "needs_background": "light"
     },
     "output_type": "display_data"
    }
   ],
   "source": [
    "sns.kdeplot(train_final.Outstanding_Debt)"
   ]
  },
  {
   "cell_type": "code",
   "execution_count": 26,
   "id": "a450a209",
   "metadata": {},
   "outputs": [
    {
     "data": {
      "text/plain": [
       "<AxesSubplot:xlabel='Credit_Utilization_Ratio', ylabel='Density'>"
      ]
     },
     "execution_count": 26,
     "metadata": {},
     "output_type": "execute_result"
    },
    {
     "data": {
      "image/png": "[encoded data removed]",
      "text/plain": [
       "<Figure size 432x288 with 1 Axes>"
      ]
     },
     "metadata": {
      "needs_background": "light"
     },
     "output_type": "display_data"
    }
   ],
   "source": [
    "sns.kdeplot(train_final.Credit_Utilization_Ratio)"
   ]
  },
  {
   "cell_type": "code",
   "execution_count": 27,
   "id": "c22753d7",
   "metadata": {
    "scrolled": true
   },
   "outputs": [
    {
     "data": {
      "text/plain": [
       "<AxesSubplot:xlabel='Total_EMI_per_month', ylabel='Density'>"
      ]
     },
     "execution_count": 27,
     "metadata": {},
     "output_type": "execute_result"
    },
    {
     "data": {
      "image/png": "[encoded data removed]",
      "text/plain": [
       "<Figure size 432x288 with 1 Axes>"
      ]
     },
     "metadata": {
      "needs_background": "light"
     },
     "output_type": "display_data"
    }
   ],
   "source": [
    "sns.kdeplot(train_final.Total_EMI_per_month)"
   ]
  },
  {
   "cell_type": "code",
   "execution_count": 28,
   "id": "4d9958a6",
   "metadata": {
    "scrolled": true
   },
   "outputs": [
    {
     "data": {
      "text/plain": [
       "<AxesSubplot:xlabel='Amount_invested_monthly', ylabel='Density'>"
      ]
     },
     "execution_count": 28,
     "metadata": {},
     "output_type": "execute_result"
    },
    {
     "data": {
      "image/png": "[encoded data removed]",
      "text/plain": [
       "<Figure size 432x288 with 1 Axes>"
      ]
     },
     "metadata": {
      "needs_background": "light"
     },
     "output_type": "display_data"
    }
   ],
   "source": [
    "sns.kdeplot(train_final.Amount_invested_monthly)"
   ]
  },
  {
   "cell_type": "code",
   "execution_count": 29,
   "id": "860e0fc3",
   "metadata": {},
   "outputs": [
    {
     "data": {
      "text/plain": [
       "<AxesSubplot:xlabel='Monthly_Balance', ylabel='Density'>"
      ]
     },
     "execution_count": 29,
     "metadata": {},
     "output_type": "execute_result"
    },
    {
     "data": {
      "image/png": "[encoded data removed]",
      "text/plain": [
       "<Figure size 432x288 with 1 Axes>"
      ]
     },
     "metadata": {
      "needs_background": "light"
     },
     "output_type": "display_data"
    }
   ],
   "source": [
    "sns.kdeplot(train_final.Monthly_Balance)"
   ]
  },
  {
   "cell_type": "code",
   "execution_count": 30,
   "id": "fdb1e040",
   "metadata": {},
   "outputs": [
    {
     "data": {
      "text/plain": [
       "<AxesSubplot:xlabel='Credit_Rating', ylabel='Density'>"
      ]
     },
     "execution_count": 30,
     "metadata": {},
     "output_type": "execute_result"
    },
    {
     "data": {
      "image/png": "[encoded data removed]",
      "text/plain": [
       "<Figure size 432x288 with 1 Axes>"
      ]
     },
     "metadata": {
      "needs_background": "light"
     },
     "output_type": "display_data"
    }
   ],
   "source": [
    "sns.kdeplot(train_final.Credit_Rating)"
   ]
  },
  {
   "cell_type": "markdown",
   "id": "e7853e0f",
   "metadata": {},
   "source": [
    "#### categorical"
   ]
  },
  {
   "cell_type": "code",
   "execution_count": 31,
   "id": "5f1678a6",
   "metadata": {},
   "outputs": [
    {
     "data": {
      "image/png": "[encoded data removed]",
      "text/plain": [
       "<Figure size 432x288 with 1 Axes>"
      ]
     },
     "metadata": {
      "needs_background": "light"
     },
     "output_type": "display_data"
    }
   ],
   "source": [
    "# Credit_Mix\n",
    "sns.countplot(x='Credit_Mix', data = train)\n",
    "plt.xlabel('Credit_Mix')\n",
    "plt.ylabel('Count')\n",
    "\n",
    "plt.show()"
   ]
  },
  {
   "cell_type": "code",
   "execution_count": 32,
   "id": "26fdcecc",
   "metadata": {},
   "outputs": [
    {
     "data": {
      "image/png": "[encoded data removed]",
      "text/plain": [
       "<Figure size 432x288 with 1 Axes>"
      ]
     },
     "metadata": {
      "needs_background": "light"
     },
     "output_type": "display_data"
    }
   ],
   "source": [
    "# Payment of Min Amount \n",
    "sns.countplot(x='Payment_of_Min_Amount', data = train)\n",
    "plt.xlabel('Payment_of_Min_Amount')\n",
    "plt.ylabel('Count')\n",
    "\n",
    "plt.show()"
   ]
  },
  {
   "cell_type": "markdown",
   "id": "c2752d01",
   "metadata": {},
   "source": [
    "# TRAIN DATASET IS CALLED train_final*******"
   ]
  },
  {
   "cell_type": "code",
   "execution_count": 33,
   "id": "2dcdbb97",
   "metadata": {},
   "outputs": [],
   "source": [
    "train_final = pd.get_dummies(train)\n",
    "y = train_final.Credit_Rating\n",
    "X = train_final.drop(columns = 'Credit_Rating')\n",
    "X_train, X_test, y_train, y_test = train_test_split(X, y, test_size = 0.2, random_state = 45)\n",
    "\n",
    "X = X_train[X_train.columns]\n",
    "y = y_train"
   ]
  },
  {
   "cell_type": "markdown",
   "id": "f97246b8",
   "metadata": {},
   "source": [
    "## Bagging - Nicket"
   ]
  },
  {
   "cell_type": "code",
   "execution_count": null,
   "id": "1c21097f",
   "metadata": {},
   "outputs": [],
   "source": []
  },
  {
   "cell_type": "markdown",
   "id": "cbc4a411",
   "metadata": {},
   "source": [
    "## Random Forest - Kaylee"
   ]
  },
  {
   "cell_type": "code",
   "execution_count": 34,
   "id": "f9cff5a2",
   "metadata": {},
   "outputs": [],
   "source": [
    "rmse = {}\n",
    "\n",
    "for i in np.linspace(10, 500, 40,dtype=int):\n",
    "    model = RandomForestRegressor(n_estimators=i, random_state=1,\n",
    "                        n_jobs=-1, oob_score=True).fit(X, y)\n",
    "    pred = model.predict(X_test)\n",
    "    rmse[i] = np.sqrt(mean_squared_error(y_test, pred))"
   ]
  },
  {
   "cell_type": "code",
   "execution_count": 35,
   "id": "7da464e6",
   "metadata": {},
   "outputs": [
    {
     "data": {
      "text/plain": [
       "<matplotlib.legend.Legend at 0x7f9715069280>"
      ]
     },
     "execution_count": 35,
     "metadata": {},
     "output_type": "execute_result"
    },
    {
     "data": {
      "image/png": "[encoded data removed]",
      "text/plain": [
       "<Figure size 640x480 with 1 Axes>"
      ]
     },
     "metadata": {
      "needs_background": "light"
     },
     "output_type": "display_data"
    }
   ],
   "source": [
    "plt.rcParams.update({'font.size': 15})\n",
    "plt.figure(figsize=(8, 6), dpi=80)\n",
    "plt.plot(rmse.keys(),rmse.values(),label = 'RMSE')\n",
    "plt.plot(rmse.keys(),rmse.values(),'o', color = 'blue')\n",
    "plt.xlabel('Number of trees')\n",
    "plt.ylabel('RMSE')\n",
    "plt.legend()"
   ]
  },
  {
   "cell_type": "markdown",
   "id": "1db87e4a",
   "metadata": {},
   "source": [
    "#### course grid"
   ]
  },
  {
   "cell_type": "code",
   "execution_count": 40,
   "id": "0ac2dcc0",
   "metadata": {},
   "outputs": [
    {
     "name": "stdout",
     "output_type": "stream",
     "text": [
      "Best params =  (18, 1300, 3)\n",
      "Best score (R-squared) =  0.2854914258106952\n"
     ]
    }
   ],
   "source": [
    "# seems to slow down between 400 and 500\n",
    "\n",
    "n_samples = train_final.shape[0]\n",
    "n_features = train_final.shape[1]\n",
    "\n",
    "params = {'max_depth': [12,15,18],\n",
    "          'max_leaf_nodes':[1100,1200,1300],\n",
    "          'max_features': list(range(1,20))}\n",
    "\n",
    "param_list=list(it.product(*(params[Name] for Name in params)))\n",
    "\n",
    "oob_score = [0]*len(param_list)\n",
    "\n",
    "i=0\n",
    "for pr in param_list:\n",
    "    model = RandomForestRegressor(random_state = 1, oob_score = True,\n",
    "                                  verbose = False, n_estimators = 450,\n",
    "                                  max_depth = pr[0],\n",
    "                                  max_leaf_nodes = pr[1], \n",
    "                                  max_features = pr[2],\n",
    "                                  n_jobs = -1).fit(X, y)\n",
    "    oob_score[i] = model.oob_score_\n",
    "    i=i+1\n",
    "    \n",
    "\n",
    "print(\"Best params = \", param_list[np.argmax(oob_score)])\n",
    "print(\"Best score (R-squared) = \", np.max(oob_score))"
   ]
  },
  {
   "cell_type": "code",
   "execution_count": 42,
   "id": "8810e390",
   "metadata": {},
   "outputs": [
    {
     "name": "stdout",
     "output_type": "stream",
     "text": [
      "The RMSE on test data is 61.275551267372414\n"
     ]
    }
   ],
   "source": [
    "model_rf = RandomForestRegressor(random_state = 1,\n",
    "                                n_estimators = 450,\n",
    "                                max_depth = 18,\n",
    "                                max_leaf_nodes = 1300,\n",
    "                                max_features = 3,\n",
    "                                n_jobs = -1)\n",
    "\n",
    "model_rf.fit(X, y)\n",
    "\n",
    "pred_rf = model_rf.predict(X_test)\n",
    "\n",
    "print(\"The RMSE on test data is\", np.sqrt(mean_squared_error(y_test, pred_rf)))"
   ]
  },
  {
   "cell_type": "markdown",
   "id": "dd359eeb",
   "metadata": {},
   "source": [
    "#### finer grid"
   ]
  },
  {
   "cell_type": "code",
   "execution_count": 48,
   "id": "903a4304",
   "metadata": {},
   "outputs": [
    {
     "name": "stdout",
     "output_type": "stream",
     "text": [
      "Best params =  (21, 1400, 3)\n",
      "Best score (R-squared) =  0.2889021486801868\n"
     ]
    }
   ],
   "source": [
    "n_samples = train_final.shape[0]\n",
    "n_features = train_final.shape[1]\n",
    "\n",
    "params = {'max_depth': range(15, 25, 3),\n",
    "          'max_leaf_nodes':range(1300, 1600, 100),\n",
    "          'max_features': list(range(1,5))}\n",
    "\n",
    "param_list=list(it.product(*(params[Name] for Name in params)))\n",
    "\n",
    "oob_score = [0]*len(param_list)\n",
    "\n",
    "i=0\n",
    "for pr in param_list:\n",
    "    model = RandomForestRegressor(random_state = 1, oob_score = True,\n",
    "                                  verbose = False, n_estimators = 450,\n",
    "                                  max_depth = pr[0],\n",
    "                                  max_leaf_nodes = pr[1], \n",
    "                                  max_features = pr[2],\n",
    "                                  n_jobs = -1).fit(X, y)\n",
    "    oob_score[i] = model.oob_score_\n",
    "    i=i+1\n",
    "    \n",
    "\n",
    "print(\"Best params = \", param_list[np.argmax(oob_score)])\n",
    "print(\"Best score (R-squared) = \", np.max(oob_score))"
   ]
  },
  {
   "cell_type": "code",
   "execution_count": 59,
   "id": "c8e98a1d",
   "metadata": {},
   "outputs": [
    {
     "name": "stdout",
     "output_type": "stream",
     "text": [
      "The RMSE on test data is 61.06358656985883\n"
     ]
    }
   ],
   "source": [
    "model_rf2 = RandomForestRegressor(random_state = 1,\n",
    "                                n_estimators = 450,\n",
    "                                max_depth = 21,\n",
    "                                max_leaf_nodes = 1400,\n",
    "                                max_features = 3,\n",
    "                                n_jobs = -1)\n",
    "\n",
    "model_rf2.fit(X, y)\n",
    "\n",
    "pred_rf2 = model_rf2.predict(X_test)\n",
    "\n",
    "print(\"The RMSE on test data is\", np.sqrt(mean_squared_error(y_test, pred_rf2)))"
   ]
  },
  {
   "cell_type": "code",
   "execution_count": 61,
   "id": "e3175256",
   "metadata": {},
   "outputs": [
    {
     "name": "stdout",
     "output_type": "stream",
     "text": [
      "Fitting 5 folds for each of 96 candidates, totalling 480 fits\n",
      "-45.51416320751628 {'bootstrap': False, 'max_depth': 24, 'max_features': 2, 'max_leaf_nodes': 1500}\n"
     ]
    }
   ],
   "source": [
    "params = {'max_depth': range(15, 25, 3),\n",
    "          'max_leaf_nodes':range(1300, 1600, 100),\n",
    "          'max_features': list(range(1,5)),\n",
    "          'bootstrap': [True, False]}\n",
    "\n",
    "cv = KFold(n_splits=5,shuffle=True,random_state=1)\n",
    "\n",
    "\n",
    "rf = RandomForestRegressor(n_estimators = 450, random_state = 1)\n",
    "\n",
    "\n",
    "grid_search = GridSearchCV(rf, \n",
    "                           params, \n",
    "                           cv = cv, \n",
    "                           n_jobs = -1, \n",
    "                           verbose = 1,\n",
    "                           scoring='neg_mean_absolute_error')\n",
    "\n",
    "\n",
    "grid_search.fit(X_train, y_train)\n",
    "\n",
    "\n",
    "\n",
    "print (grid_search.best_score_, grid_search.best_params_) "
   ]
  },
  {
   "cell_type": "code",
   "execution_count": 109,
   "id": "ea78376b",
   "metadata": {},
   "outputs": [
    {
     "name": "stdout",
     "output_type": "stream",
     "text": [
      "The RMSE on test data is 60.949889254834424\n"
     ]
    }
   ],
   "source": [
    "model_rf2 = RandomForestRegressor(random_state = 1,\n",
    "                                n_estimators = 450,\n",
    "                                max_depth = 24,\n",
    "                                max_leaf_nodes = 1500,\n",
    "                                max_features = 2,\n",
    "                                bootstrap = False,\n",
    "                                n_jobs = -1)\n",
    "\n",
    "model_rf2.fit(X, y)\n",
    "\n",
    "pred_rf2 = model_rf2.predict(X_test)\n",
    "\n",
    "print(\"The RMSE on test data is\", np.sqrt(mean_squared_error(y_test, pred_rf2)))"
   ]
  },
  {
   "cell_type": "markdown",
   "id": "e548d1ee",
   "metadata": {},
   "source": [
    "## MARS - Luca"
   ]
  },
  {
   "cell_type": "code",
   "execution_count": null,
   "id": "8e739588",
   "metadata": {},
   "outputs": [],
   "source": []
  },
  {
   "cell_type": "markdown",
   "id": "5584efe5",
   "metadata": {},
   "source": [
    "## XG Boost - Ashley"
   ]
  },
  {
   "cell_type": "code",
   "execution_count": null,
   "id": "963454eb",
   "metadata": {},
   "outputs": [],
   "source": []
  },
  {
   "cell_type": "markdown",
   "id": "ae2a9a26",
   "metadata": {},
   "source": [
    "## Ensemble Model"
   ]
  },
  {
   "cell_type": "code",
   "execution_count": null,
   "id": "5d89f09b",
   "metadata": {},
   "outputs": [],
   "source": []
  }
 ],
 "metadata": {
  "kernelspec": {
   "display_name": "Python 3 (ipykernel)",
   "language": "python",
   "name": "python3"
  },
  "language_info": {
   "codemirror_mode": {
    "name": "ipython",
    "version": 3
   },
   "file_extension": ".py",
   "mimetype": "text/x-python",
   "name": "python",
   "nbconvert_exporter": "python",
   "pygments_lexer": "ipython3",
   "version": "3.8.8"
  }
 },
 "nbformat": 4,
 "nbformat_minor": 5
}
