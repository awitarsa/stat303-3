{
 "cells": [
  {
   "cell_type": "code",
   "execution_count": 1,
   "id": "468a8e2e",
   "metadata": {},
   "outputs": [],
   "source": [
    "import warnings\n",
    "warnings.filterwarnings(\"ignore\")\n",
    "\n",
    "import pandas as pd\n",
    "import numpy as np\n",
    "import statsmodels.formula.api as smf\n",
    "import statsmodels.api as sm\n",
    "import seaborn as sns\n",
    "import matplotlib.pyplot as plt\n",
    "from patsy import dmatrix\n",
    "from sklearn.metrics import mean_squared_error\n",
    "from pyearth import Earth\n",
    "from sklearn.metrics import roc_curve, precision_recall_curve, auc, make_scorer, recall_score, accuracy_score, precision_score, confusion_matrix\n",
    "from sklearn.linear_model import LinearRegression, LogisticRegression\n",
    "from sklearn.model_selection import train_test_split, cross_val_predict, cross_val_score, cross_validate\n",
    "from patsy import dmatrix\n",
    "import statsmodels.formula.api as smf\n",
    "from sklearn.model_selection import cross_val_predict\n",
    "from sklearn.metrics import accuracy_score, mean_absolute_error, mean_squared_error, r2_score, roc_curve, auc, precision_score, recall_score, confusion_matrix\n",
    "\n",
    "from sklearn.model_selection import KFold, StratifiedKFold\n",
    "from sklearn.tree import DecisionTreeRegressor, DecisionTreeClassifier\n",
    "from sklearn.model_selection import GridSearchCV, ParameterGrid\n",
    "from sklearn.ensemble import BaggingRegressor,BaggingClassifier,RandomForestClassifier, RandomForestRegressor\n",
    "from sklearn.linear_model import LinearRegression\n",
    "from sklearn.metrics import SCORERS\n",
    "\n",
    "#Libraries for visualizing trees\n",
    "from sklearn.tree import export_graphviz\n",
    "from six import StringIO\n",
    "from IPython.display import Image\n",
    "\n",
    "#import pydotplus\n",
    "import time as tm\n",
    "\n",
    "import itertools as it"
   ]
  },
  {
   "cell_type": "code",
   "execution_count": 2,
   "id": "f444cd3d",
   "metadata": {},
   "outputs": [],
   "source": [
    "import pandas as pd\n",
    "import numpy as np\n",
    "import seaborn as sns\n",
    "import matplotlib.pyplot as plt\n",
    "from sklearn.metrics import mean_squared_error\n",
    "from sklearn.model_selection import cross_val_score,train_test_split, KFold, cross_val_predict\n",
    "from sklearn.metrics import mean_squared_error,r2_score,roc_curve,auc,precision_recall_curve, accuracy_score, \\\n",
    "recall_score, precision_score, confusion_matrix\n",
    "from sklearn.tree import DecisionTreeRegressor,DecisionTreeClassifier\n",
    "from sklearn.model_selection import GridSearchCV, ParameterGrid, StratifiedKFold, RandomizedSearchCV\n",
    "from sklearn.ensemble import VotingRegressor, VotingClassifier, StackingRegressor, StackingClassifier, GradientBoostingRegressor,GradientBoostingClassifier, BaggingRegressor,BaggingClassifier,RandomForestRegressor,RandomForestClassifier,AdaBoostRegressor,AdaBoostClassifier\n",
    "from sklearn.linear_model import LinearRegression,LogisticRegression, LassoCV, RidgeCV, ElasticNetCV\n",
    "from sklearn.neighbors import KNeighborsRegressor\n",
    "import itertools as it\n",
    "import time as time\n",
    "import xgboost as xgb"
   ]
  },
  {
   "cell_type": "markdown",
   "id": "6bbc8503",
   "metadata": {},
   "source": [
    "# Data quality check / cleaning / preparation¶"
   ]
  },
  {
   "cell_type": "markdown",
   "id": "e9be700c",
   "metadata": {},
   "source": [
    "### Cleaning - Training Data"
   ]
  },
  {
   "cell_type": "code",
   "execution_count": 3,
   "id": "2cb68a81",
   "metadata": {},
   "outputs": [],
   "source": [
    "train = pd.read_csv('train.csv')\n",
    "test = pd.read_csv('test.csv')\n",
    "\n",
    "\n",
    "\n",
    "# Create Credit Ratings based on Investopedia Values\n",
    "train['Credit_Rating'] = 0\n",
    "train['Credit_Rating'] = np.where(train['Credit_Score'] == 'Good',\n",
    "                          np.random.uniform(670, 730, size=len(train)),\n",
    "                          train['Credit_Rating'])\n",
    "\n",
    "train['Credit_Rating'] = np.where(train['Credit_Score'] == 'Standard',\n",
    "                          np.random.uniform(580, 670, size=len(train)),\n",
    "                          train['Credit_Rating'])\n",
    "\n",
    "train['Credit_Rating'] = np.where(train['Credit_Score'] == 'Poor',\n",
    "                          np.random.uniform(0, 580, size=len(train)),\n",
    "                          train['Credit_Rating'])\n",
    "\n",
    "\n",
    "\n",
    "# Drop irrelevant columns\n",
    "columns_to_drop = ['Customer_ID', 'ID','Month', 'Name', 'SSN', 'Interest_Rate','Occupation',\n",
    "                    'Type_of_Loan', 'Delay_from_due_date', 'Payment_Behaviour', 'Credit_History_Age', 'Credit_Score']\n",
    "\n",
    "train.drop(columns_to_drop, axis=1, inplace=True)\n",
    "\n",
    "\n",
    "\n",
    "# Removing invalid characters from columns\n",
    "mix_type_num_col = ['Age', 'Annual_Income', \n",
    "                    'Num_of_Delayed_Payment','Changed_Credit_Limit',\n",
    "                    'Outstanding_Debt', 'Amount_invested_monthly', 'Monthly_Balance', 'Num_of_Loan']\n",
    "\n",
    "def set_numeric_columns(features,df=None):\n",
    "\n",
    "    df[features]=df[features].apply(lambda x: x.replace('_','',regex=True) )\n",
    "    df[features]=df[features].apply(lambda x: x.str.strip())\n",
    "    df[features]=df[features].apply(lambda x: x.replace('',np.nan))\n",
    "    df[features[1:]]=df[features[1:]].astype('float32')\n",
    "    df[features[0]]=df[features[0]].astype('int32')\n",
    "\n",
    "set_numeric_columns(mix_type_num_col,df=train)"
   ]
  },
  {
   "cell_type": "code",
   "execution_count": 4,
   "id": "c08a5ec2",
   "metadata": {},
   "outputs": [],
   "source": [
    "train = train.dropna()\n",
    "\n",
    "train = train.loc[train.Credit_Mix != \"_\"]\n",
    "train = train.loc[train.Payment_of_Min_Amount != \"NM\"]\n",
    "\n",
    "train_dummies = pd.get_dummies(train)"
   ]
  },
  {
   "cell_type": "code",
   "execution_count": 5,
   "id": "477fc7f4",
   "metadata": {},
   "outputs": [],
   "source": [
    "y = train_dummies.Credit_Rating\n",
    "X = train_dummies.drop(columns = 'Credit_Rating')\n",
    "X_train, X_test, y_train, y_test = train_test_split(X, y, test_size = 0.2, random_state = 45)\n",
    "\n",
    "X = X_train[X_train.columns]\n",
    "y = y_train"
   ]
  },
  {
   "cell_type": "markdown",
   "id": "4437d95b",
   "metadata": {},
   "source": [
    "# Base Model"
   ]
  },
  {
   "cell_type": "code",
   "execution_count": 6,
   "id": "ea61c56f",
   "metadata": {},
   "outputs": [
    {
     "data": {
      "text/plain": [
       "DecisionTreeRegressor(random_state=1)"
      ]
     },
     "execution_count": 6,
     "metadata": {},
     "output_type": "execute_result"
    }
   ],
   "source": [
    "model = DecisionTreeRegressor(random_state=1)\n",
    "model.fit(X, y)"
   ]
  },
  {
   "cell_type": "code",
   "execution_count": 7,
   "id": "cc52dba5",
   "metadata": {},
   "outputs": [],
   "source": [
    "pred = model.predict(X_test)"
   ]
  },
  {
   "cell_type": "code",
   "execution_count": 8,
   "id": "b6d66f91",
   "metadata": {},
   "outputs": [
    {
     "name": "stdout",
     "output_type": "stream",
     "text": [
      "The RMSE of the Base Model is 207.9851910025165\n"
     ]
    }
   ],
   "source": [
    "print(\"The RMSE of the Base Model is\", np.sqrt(mean_squared_error(y_test, pred)))"
   ]
  },
  {
   "cell_type": "markdown",
   "id": "fbf6bc98",
   "metadata": {},
   "source": [
    "# Visualization"
   ]
  },
  {
   "cell_type": "code",
   "execution_count": 9,
   "id": "1bb74556",
   "metadata": {},
   "outputs": [
    {
     "name": "stdout",
     "output_type": "stream",
     "text": [
      "['Age', 'Annual_Income', 'Monthly_Inhand_Salary', 'Num_Bank_Accounts', 'Num_Credit_Card', 'Num_of_Loan', 'Num_of_Delayed_Payment', 'Changed_Credit_Limit', 'Num_Credit_Inquiries', 'Outstanding_Debt', 'Credit_Utilization_Ratio', 'Total_EMI_per_month', 'Amount_invested_monthly', 'Monthly_Balance', 'Credit_Rating']\n"
     ]
    }
   ],
   "source": [
    "# remove outliers\n",
    "\n",
    "numerics = ['int16', 'int32', 'int64', 'float16', 'float32', 'float64']\n",
    "def remove_outliers(df, columns, threshold=3):\n",
    "    print(columns)\n",
    "    outliers_indices = []\n",
    "    for column_name in columns:\n",
    "        # Calculate the Z-scores for the specified column\n",
    "        z_scores = np.abs((df[column_name] - df[column_name].mean()) / df[column_name].std())\n",
    "        # Identify outliers based on the threshold\n",
    "        outliers_indices.extend(z_scores[z_scores > threshold].index)\n",
    "    \n",
    "    df_no_outliers = df.drop(outliers_indices)\n",
    "    return df_no_outliers\n",
    "\n",
    "train = remove_outliers(train, train.select_dtypes(include = numerics).columns.tolist(), threshold = 1)\n"
   ]
  },
  {
   "cell_type": "markdown",
   "id": "ff030171",
   "metadata": {},
   "source": [
    "###  Base Model without outliers"
   ]
  },
  {
   "cell_type": "code",
   "execution_count": 10,
   "id": "02fc88bb",
   "metadata": {},
   "outputs": [],
   "source": [
    "train_final = pd.get_dummies(train)\n",
    "y = train_final.Credit_Rating\n",
    "X = train_final.drop(columns = 'Credit_Rating')\n",
    "X_train, X_test, y_train, y_test = train_test_split(X, y, test_size = 0.2, random_state = 45)\n",
    "\n",
    "X = X_train[X_train.columns]\n",
    "y = y_train"
   ]
  },
  {
   "cell_type": "code",
   "execution_count": 11,
   "id": "51554047",
   "metadata": {},
   "outputs": [
    {
     "data": {
      "text/plain": [
       "DecisionTreeRegressor(random_state=1)"
      ]
     },
     "execution_count": 11,
     "metadata": {},
     "output_type": "execute_result"
    }
   ],
   "source": [
    "model = DecisionTreeRegressor(random_state=1)\n",
    "model.fit(X, y)"
   ]
  },
  {
   "cell_type": "code",
   "execution_count": 12,
   "id": "adbc2037",
   "metadata": {},
   "outputs": [],
   "source": [
    "pred = model.predict(X_test)"
   ]
  },
  {
   "cell_type": "code",
   "execution_count": 13,
   "id": "23638a7c",
   "metadata": {},
   "outputs": [
    {
     "name": "stdout",
     "output_type": "stream",
     "text": [
      "The RMSE of the Base Model is 88.84993604344415\n"
     ]
    }
   ],
   "source": [
    "print(\"The RMSE of the Base Model is\", np.sqrt(mean_squared_error(y_test, pred)))"
   ]
  },
  {
   "cell_type": "markdown",
   "id": "7fbaea4b",
   "metadata": {},
   "source": [
    "### distribution of the response variable"
   ]
  },
  {
   "cell_type": "code",
   "execution_count": 14,
   "id": "54106ac1",
   "metadata": {
    "scrolled": true
   },
   "outputs": [
    {
     "data": {
      "text/plain": [
       "<AxesSubplot:xlabel='Credit_Rating', ylabel='Density'>"
      ]
     },
     "execution_count": 14,
     "metadata": {},
     "output_type": "execute_result"
    },
    {
     "data": {
      "image/png": "[encoded data removed]",
      "text/plain": [
       "<Figure size 432x288 with 1 Axes>"
      ]
     },
     "metadata": {
      "needs_background": "light"
     },
     "output_type": "display_data"
    }
   ],
   "source": [
    "sns.kdeplot(train_final.Credit_Rating)"
   ]
  },
  {
   "cell_type": "markdown",
   "id": "1df8e37e",
   "metadata": {},
   "source": [
    "### distribution of each predictor"
   ]
  },
  {
   "cell_type": "markdown",
   "id": "6aa7c4f6",
   "metadata": {},
   "source": [
    "#### continuous"
   ]
  },
  {
   "cell_type": "code",
   "execution_count": 15,
   "id": "f163f54b",
   "metadata": {},
   "outputs": [
    {
     "data": {
      "text/html": [
       "<div>\n",
       "<style scoped>\n",
       "    .dataframe tbody tr th:only-of-type {\n",
       "        vertical-align: middle;\n",
       "    }\n",
       "\n",
       "    .dataframe tbody tr th {\n",
       "        vertical-align: top;\n",
       "    }\n",
       "\n",
       "    .dataframe thead th {\n",
       "        text-align: right;\n",
       "    }\n",
       "</style>\n",
       "<table border=\"1\" class=\"dataframe\">\n",
       "  <thead>\n",
       "    <tr style=\"text-align: right;\">\n",
       "      <th></th>\n",
       "      <th>Age</th>\n",
       "      <th>Annual_Income</th>\n",
       "      <th>Monthly_Inhand_Salary</th>\n",
       "      <th>Num_Bank_Accounts</th>\n",
       "      <th>Num_Credit_Card</th>\n",
       "      <th>Num_of_Loan</th>\n",
       "      <th>Num_of_Delayed_Payment</th>\n",
       "      <th>Changed_Credit_Limit</th>\n",
       "      <th>Num_Credit_Inquiries</th>\n",
       "      <th>Outstanding_Debt</th>\n",
       "      <th>Credit_Utilization_Ratio</th>\n",
       "      <th>Total_EMI_per_month</th>\n",
       "      <th>Amount_invested_monthly</th>\n",
       "      <th>Monthly_Balance</th>\n",
       "      <th>Credit_Rating</th>\n",
       "      <th>Credit_Mix_Bad</th>\n",
       "      <th>Credit_Mix_Good</th>\n",
       "      <th>Credit_Mix_Standard</th>\n",
       "      <th>Payment_of_Min_Amount_No</th>\n",
       "      <th>Payment_of_Min_Amount_Yes</th>\n",
       "    </tr>\n",
       "  </thead>\n",
       "  <tbody>\n",
       "    <tr>\n",
       "      <th>6</th>\n",
       "      <td>23</td>\n",
       "      <td>19114.119141</td>\n",
       "      <td>1824.843333</td>\n",
       "      <td>3</td>\n",
       "      <td>4</td>\n",
       "      <td>4.0</td>\n",
       "      <td>8.0</td>\n",
       "      <td>11.27</td>\n",
       "      <td>4.0</td>\n",
       "      <td>809.979980</td>\n",
       "      <td>22.537593</td>\n",
       "      <td>49.574949</td>\n",
       "      <td>178.344070</td>\n",
       "      <td>244.565323</td>\n",
       "      <td>680.030192</td>\n",
       "      <td>0</td>\n",
       "      <td>1</td>\n",
       "      <td>0</td>\n",
       "      <td>1</td>\n",
       "      <td>0</td>\n",
       "    </tr>\n",
       "    <tr>\n",
       "      <th>7</th>\n",
       "      <td>23</td>\n",
       "      <td>19114.119141</td>\n",
       "      <td>1824.843333</td>\n",
       "      <td>3</td>\n",
       "      <td>4</td>\n",
       "      <td>4.0</td>\n",
       "      <td>6.0</td>\n",
       "      <td>11.27</td>\n",
       "      <td>4.0</td>\n",
       "      <td>809.979980</td>\n",
       "      <td>23.933795</td>\n",
       "      <td>49.574949</td>\n",
       "      <td>24.785217</td>\n",
       "      <td>358.124176</td>\n",
       "      <td>626.816172</td>\n",
       "      <td>0</td>\n",
       "      <td>1</td>\n",
       "      <td>0</td>\n",
       "      <td>1</td>\n",
       "      <td>0</td>\n",
       "    </tr>\n",
       "    <tr>\n",
       "      <th>8</th>\n",
       "      <td>28</td>\n",
       "      <td>34847.839844</td>\n",
       "      <td>3037.986667</td>\n",
       "      <td>2</td>\n",
       "      <td>4</td>\n",
       "      <td>1.0</td>\n",
       "      <td>4.0</td>\n",
       "      <td>5.42</td>\n",
       "      <td>2.0</td>\n",
       "      <td>605.030029</td>\n",
       "      <td>24.464031</td>\n",
       "      <td>18.816215</td>\n",
       "      <td>104.291824</td>\n",
       "      <td>470.690613</td>\n",
       "      <td>581.543334</td>\n",
       "      <td>0</td>\n",
       "      <td>1</td>\n",
       "      <td>0</td>\n",
       "      <td>1</td>\n",
       "      <td>0</td>\n",
       "    </tr>\n",
       "    <tr>\n",
       "      <th>9</th>\n",
       "      <td>28</td>\n",
       "      <td>34847.839844</td>\n",
       "      <td>3037.986667</td>\n",
       "      <td>2</td>\n",
       "      <td>4</td>\n",
       "      <td>1.0</td>\n",
       "      <td>1.0</td>\n",
       "      <td>7.42</td>\n",
       "      <td>2.0</td>\n",
       "      <td>605.030029</td>\n",
       "      <td>38.550848</td>\n",
       "      <td>18.816215</td>\n",
       "      <td>40.391239</td>\n",
       "      <td>484.591217</td>\n",
       "      <td>693.047314</td>\n",
       "      <td>0</td>\n",
       "      <td>1</td>\n",
       "      <td>0</td>\n",
       "      <td>1</td>\n",
       "      <td>0</td>\n",
       "    </tr>\n",
       "    <tr>\n",
       "      <th>12</th>\n",
       "      <td>28</td>\n",
       "      <td>34847.839844</td>\n",
       "      <td>3037.986667</td>\n",
       "      <td>2</td>\n",
       "      <td>4</td>\n",
       "      <td>1.0</td>\n",
       "      <td>1.0</td>\n",
       "      <td>6.42</td>\n",
       "      <td>2.0</td>\n",
       "      <td>605.030029</td>\n",
       "      <td>34.977895</td>\n",
       "      <td>18.816215</td>\n",
       "      <td>130.115417</td>\n",
       "      <td>444.867035</td>\n",
       "      <td>699.213030</td>\n",
       "      <td>0</td>\n",
       "      <td>1</td>\n",
       "      <td>0</td>\n",
       "      <td>1</td>\n",
       "      <td>0</td>\n",
       "    </tr>\n",
       "  </tbody>\n",
       "</table>\n",
       "</div>"
      ],
      "text/plain": [
       "    Age  Annual_Income  Monthly_Inhand_Salary  Num_Bank_Accounts  \\\n",
       "6    23   19114.119141            1824.843333                  3   \n",
       "7    23   19114.119141            1824.843333                  3   \n",
       "8    28   34847.839844            3037.986667                  2   \n",
       "9    28   34847.839844            3037.986667                  2   \n",
       "12   28   34847.839844            3037.986667                  2   \n",
       "\n",
       "    Num_Credit_Card  Num_of_Loan  Num_of_Delayed_Payment  \\\n",
       "6                 4          4.0                     8.0   \n",
       "7                 4          4.0                     6.0   \n",
       "8                 4          1.0                     4.0   \n",
       "9                 4          1.0                     1.0   \n",
       "12                4          1.0                     1.0   \n",
       "\n",
       "    Changed_Credit_Limit  Num_Credit_Inquiries  Outstanding_Debt  \\\n",
       "6                  11.27                   4.0        809.979980   \n",
       "7                  11.27                   4.0        809.979980   \n",
       "8                   5.42                   2.0        605.030029   \n",
       "9                   7.42                   2.0        605.030029   \n",
       "12                  6.42                   2.0        605.030029   \n",
       "\n",
       "    Credit_Utilization_Ratio  Total_EMI_per_month  Amount_invested_monthly  \\\n",
       "6                  22.537593            49.574949               178.344070   \n",
       "7                  23.933795            49.574949                24.785217   \n",
       "8                  24.464031            18.816215               104.291824   \n",
       "9                  38.550848            18.816215                40.391239   \n",
       "12                 34.977895            18.816215               130.115417   \n",
       "\n",
       "    Monthly_Balance  Credit_Rating  Credit_Mix_Bad  Credit_Mix_Good  \\\n",
       "6        244.565323     680.030192               0                1   \n",
       "7        358.124176     626.816172               0                1   \n",
       "8        470.690613     581.543334               0                1   \n",
       "9        484.591217     693.047314               0                1   \n",
       "12       444.867035     699.213030               0                1   \n",
       "\n",
       "    Credit_Mix_Standard  Payment_of_Min_Amount_No  Payment_of_Min_Amount_Yes  \n",
       "6                     0                         1                          0  \n",
       "7                     0                         1                          0  \n",
       "8                     0                         1                          0  \n",
       "9                     0                         1                          0  \n",
       "12                    0                         1                          0  "
      ]
     },
     "execution_count": 15,
     "metadata": {},
     "output_type": "execute_result"
    }
   ],
   "source": [
    "train_dummies.head()"
   ]
  },
  {
   "cell_type": "code",
   "execution_count": 16,
   "id": "058f9cc0",
   "metadata": {
    "scrolled": false
   },
   "outputs": [
    {
     "data": {
      "text/html": [
       "<div>\n",
       "<style scoped>\n",
       "    .dataframe tbody tr th:only-of-type {\n",
       "        vertical-align: middle;\n",
       "    }\n",
       "\n",
       "    .dataframe tbody tr th {\n",
       "        vertical-align: top;\n",
       "    }\n",
       "\n",
       "    .dataframe thead th {\n",
       "        text-align: right;\n",
       "    }\n",
       "</style>\n",
       "<table border=\"1\" class=\"dataframe\">\n",
       "  <thead>\n",
       "    <tr style=\"text-align: right;\">\n",
       "      <th></th>\n",
       "      <th>Age</th>\n",
       "      <th>Annual_Income</th>\n",
       "      <th>Monthly_Inhand_Salary</th>\n",
       "      <th>Num_Bank_Accounts</th>\n",
       "      <th>Num_Credit_Card</th>\n",
       "      <th>Num_of_Loan</th>\n",
       "      <th>Num_of_Delayed_Payment</th>\n",
       "      <th>Changed_Credit_Limit</th>\n",
       "      <th>Num_Credit_Inquiries</th>\n",
       "      <th>Outstanding_Debt</th>\n",
       "      <th>Credit_Utilization_Ratio</th>\n",
       "      <th>Total_EMI_per_month</th>\n",
       "      <th>Amount_invested_monthly</th>\n",
       "      <th>Monthly_Balance</th>\n",
       "      <th>Credit_Rating</th>\n",
       "      <th>Credit_Mix_Bad</th>\n",
       "      <th>Credit_Mix_Good</th>\n",
       "      <th>Credit_Mix_Standard</th>\n",
       "      <th>Payment_of_Min_Amount_No</th>\n",
       "      <th>Payment_of_Min_Amount_Yes</th>\n",
       "    </tr>\n",
       "  </thead>\n",
       "  <tbody>\n",
       "    <tr>\n",
       "      <th>12</th>\n",
       "      <td>28</td>\n",
       "      <td>34847.839844</td>\n",
       "      <td>3037.986667</td>\n",
       "      <td>2</td>\n",
       "      <td>4</td>\n",
       "      <td>1.0</td>\n",
       "      <td>1.0</td>\n",
       "      <td>6.42</td>\n",
       "      <td>2.0</td>\n",
       "      <td>605.030029</td>\n",
       "      <td>34.977895</td>\n",
       "      <td>18.816215</td>\n",
       "      <td>130.115417</td>\n",
       "      <td>444.867035</td>\n",
       "      <td>699.213030</td>\n",
       "      <td>0</td>\n",
       "      <td>1</td>\n",
       "      <td>0</td>\n",
       "      <td>1</td>\n",
       "      <td>0</td>\n",
       "    </tr>\n",
       "    <tr>\n",
       "      <th>13</th>\n",
       "      <td>28</td>\n",
       "      <td>34847.839844</td>\n",
       "      <td>3037.986667</td>\n",
       "      <td>2</td>\n",
       "      <td>4</td>\n",
       "      <td>1.0</td>\n",
       "      <td>0.0</td>\n",
       "      <td>5.42</td>\n",
       "      <td>2.0</td>\n",
       "      <td>605.030029</td>\n",
       "      <td>33.381010</td>\n",
       "      <td>18.816215</td>\n",
       "      <td>43.477192</td>\n",
       "      <td>481.505249</td>\n",
       "      <td>722.092317</td>\n",
       "      <td>0</td>\n",
       "      <td>1</td>\n",
       "      <td>0</td>\n",
       "      <td>1</td>\n",
       "      <td>0</td>\n",
       "    </tr>\n",
       "    <tr>\n",
       "      <th>15</th>\n",
       "      <td>28</td>\n",
       "      <td>34847.839844</td>\n",
       "      <td>3037.986667</td>\n",
       "      <td>2</td>\n",
       "      <td>4</td>\n",
       "      <td>1.0</td>\n",
       "      <td>4.0</td>\n",
       "      <td>5.42</td>\n",
       "      <td>2.0</td>\n",
       "      <td>605.030029</td>\n",
       "      <td>32.933856</td>\n",
       "      <td>18.816215</td>\n",
       "      <td>218.904343</td>\n",
       "      <td>356.078094</td>\n",
       "      <td>677.615964</td>\n",
       "      <td>0</td>\n",
       "      <td>1</td>\n",
       "      <td>0</td>\n",
       "      <td>1</td>\n",
       "      <td>0</td>\n",
       "    </tr>\n",
       "    <tr>\n",
       "      <th>43</th>\n",
       "      <td>31</td>\n",
       "      <td>73928.460938</td>\n",
       "      <td>5988.705000</td>\n",
       "      <td>4</td>\n",
       "      <td>5</td>\n",
       "      <td>0.0</td>\n",
       "      <td>7.0</td>\n",
       "      <td>10.14</td>\n",
       "      <td>2.0</td>\n",
       "      <td>548.200012</td>\n",
       "      <td>30.201658</td>\n",
       "      <td>0.000000</td>\n",
       "      <td>618.202393</td>\n",
       "      <td>270.668121</td>\n",
       "      <td>692.672589</td>\n",
       "      <td>0</td>\n",
       "      <td>1</td>\n",
       "      <td>0</td>\n",
       "      <td>1</td>\n",
       "      <td>0</td>\n",
       "    </tr>\n",
       "    <tr>\n",
       "      <th>81</th>\n",
       "      <td>40</td>\n",
       "      <td>33751.269531</td>\n",
       "      <td>2948.605833</td>\n",
       "      <td>5</td>\n",
       "      <td>5</td>\n",
       "      <td>3.0</td>\n",
       "      <td>20.0</td>\n",
       "      <td>11.00</td>\n",
       "      <td>4.0</td>\n",
       "      <td>1328.930054</td>\n",
       "      <td>30.908081</td>\n",
       "      <td>65.008174</td>\n",
       "      <td>70.131081</td>\n",
       "      <td>399.721344</td>\n",
       "      <td>583.103568</td>\n",
       "      <td>0</td>\n",
       "      <td>0</td>\n",
       "      <td>1</td>\n",
       "      <td>0</td>\n",
       "      <td>1</td>\n",
       "    </tr>\n",
       "  </tbody>\n",
       "</table>\n",
       "</div>"
      ],
      "text/plain": [
       "    Age  Annual_Income  Monthly_Inhand_Salary  Num_Bank_Accounts  \\\n",
       "12   28   34847.839844            3037.986667                  2   \n",
       "13   28   34847.839844            3037.986667                  2   \n",
       "15   28   34847.839844            3037.986667                  2   \n",
       "43   31   73928.460938            5988.705000                  4   \n",
       "81   40   33751.269531            2948.605833                  5   \n",
       "\n",
       "    Num_Credit_Card  Num_of_Loan  Num_of_Delayed_Payment  \\\n",
       "12                4          1.0                     1.0   \n",
       "13                4          1.0                     0.0   \n",
       "15                4          1.0                     4.0   \n",
       "43                5          0.0                     7.0   \n",
       "81                5          3.0                    20.0   \n",
       "\n",
       "    Changed_Credit_Limit  Num_Credit_Inquiries  Outstanding_Debt  \\\n",
       "12                  6.42                   2.0        605.030029   \n",
       "13                  5.42                   2.0        605.030029   \n",
       "15                  5.42                   2.0        605.030029   \n",
       "43                 10.14                   2.0        548.200012   \n",
       "81                 11.00                   4.0       1328.930054   \n",
       "\n",
       "    Credit_Utilization_Ratio  Total_EMI_per_month  Amount_invested_monthly  \\\n",
       "12                 34.977895            18.816215               130.115417   \n",
       "13                 33.381010            18.816215                43.477192   \n",
       "15                 32.933856            18.816215               218.904343   \n",
       "43                 30.201658             0.000000               618.202393   \n",
       "81                 30.908081            65.008174                70.131081   \n",
       "\n",
       "    Monthly_Balance  Credit_Rating  Credit_Mix_Bad  Credit_Mix_Good  \\\n",
       "12       444.867035     699.213030               0                1   \n",
       "13       481.505249     722.092317               0                1   \n",
       "15       356.078094     677.615964               0                1   \n",
       "43       270.668121     692.672589               0                1   \n",
       "81       399.721344     583.103568               0                0   \n",
       "\n",
       "    Credit_Mix_Standard  Payment_of_Min_Amount_No  Payment_of_Min_Amount_Yes  \n",
       "12                    0                         1                          0  \n",
       "13                    0                         1                          0  \n",
       "15                    0                         1                          0  \n",
       "43                    0                         1                          0  \n",
       "81                    1                         0                          1  "
      ]
     },
     "execution_count": 16,
     "metadata": {},
     "output_type": "execute_result"
    }
   ],
   "source": [
    "train_final.head()"
   ]
  },
  {
   "cell_type": "code",
   "execution_count": 17,
   "id": "3ac7b236",
   "metadata": {},
   "outputs": [
    {
     "data": {
      "text/plain": [
       "<AxesSubplot:xlabel='Age', ylabel='Density'>"
      ]
     },
     "execution_count": 17,
     "metadata": {},
     "output_type": "execute_result"
    },
    {
     "data": {
      "image/png": "[encoded data removed]",
      "text/plain": [
       "<Figure size 432x288 with 1 Axes>"
      ]
     },
     "metadata": {
      "needs_background": "light"
     },
     "output_type": "display_data"
    }
   ],
   "source": [
    "sns.kdeplot(train_final.Age)"
   ]
  },
  {
   "cell_type": "code",
   "execution_count": 18,
   "id": "2da9f707",
   "metadata": {},
   "outputs": [
    {
     "data": {
      "text/plain": [
       "<AxesSubplot:xlabel='Annual_Income', ylabel='Density'>"
      ]
     },
     "execution_count": 18,
     "metadata": {},
     "output_type": "execute_result"
    },
    {
     "data": {
      "image/png": "[encoded data removed]",
      "text/plain": [
       "<Figure size 432x288 with 1 Axes>"
      ]
     },
     "metadata": {
      "needs_background": "light"
     },
     "output_type": "display_data"
    }
   ],
   "source": [
    "sns.kdeplot(train_final.Annual_Income)"
   ]
  },
  {
   "cell_type": "code",
   "execution_count": 19,
   "id": "639bc299",
   "metadata": {},
   "outputs": [
    {
     "data": {
      "text/plain": [
       "<AxesSubplot:xlabel='Monthly_Inhand_Salary', ylabel='Density'>"
      ]
     },
     "execution_count": 19,
     "metadata": {},
     "output_type": "execute_result"
    },
    {
     "data": {
      "image/png": "[encoded data removed]",
      "text/plain": [
       "<Figure size 432x288 with 1 Axes>"
      ]
     },
     "metadata": {
      "needs_background": "light"
     },
     "output_type": "display_data"
    }
   ],
   "source": [
    "sns.kdeplot(train_final.Monthly_Inhand_Salary)"
   ]
  },
  {
   "cell_type": "code",
   "execution_count": 20,
   "id": "f757a198",
   "metadata": {},
   "outputs": [
    {
     "data": {
      "text/plain": [
       "<AxesSubplot:xlabel='Num_Bank_Accounts', ylabel='Density'>"
      ]
     },
     "execution_count": 20,
     "metadata": {},
     "output_type": "execute_result"
    },
    {
     "data": {
      "image/png": "[encoded data removed]",
      "text/plain": [
       "<Figure size 432x288 with 1 Axes>"
      ]
     },
     "metadata": {
      "needs_background": "light"
     },
     "output_type": "display_data"
    }
   ],
   "source": [
    "sns.kdeplot(train_final.Num_Bank_Accounts)"
   ]
  },
  {
   "cell_type": "code",
   "execution_count": 21,
   "id": "a4e55310",
   "metadata": {},
   "outputs": [
    {
     "data": {
      "text/plain": [
       "<AxesSubplot:xlabel='Num_Credit_Card', ylabel='Density'>"
      ]
     },
     "execution_count": 21,
     "metadata": {},
     "output_type": "execute_result"
    },
    {
     "data": {
      "image/png": "[encoded data removed]",
      "text/plain": [
       "<Figure size 432x288 with 1 Axes>"
      ]
     },
     "metadata": {
      "needs_background": "light"
     },
     "output_type": "display_data"
    }
   ],
   "source": [
    "sns.kdeplot(train_final.Num_Credit_Card)"
   ]
  },
  {
   "cell_type": "code",
   "execution_count": 22,
   "id": "d3f67b90",
   "metadata": {},
   "outputs": [
    {
     "data": {
      "text/plain": [
       "<AxesSubplot:xlabel='Num_of_Loan', ylabel='Density'>"
      ]
     },
     "execution_count": 22,
     "metadata": {},
     "output_type": "execute_result"
    },
    {
     "data": {
      "image/png": "[encoded data removed]",
      "text/plain": [
       "<Figure size 432x288 with 1 Axes>"
      ]
     },
     "metadata": {
      "needs_background": "light"
     },
     "output_type": "display_data"
    }
   ],
   "source": [
    "sns.kdeplot(train_final.Num_of_Loan)"
   ]
  },
  {
   "cell_type": "code",
   "execution_count": 23,
   "id": "efd0d3e2",
   "metadata": {},
   "outputs": [
    {
     "data": {
      "text/plain": [
       "<AxesSubplot:xlabel='Num_of_Delayed_Payment', ylabel='Density'>"
      ]
     },
     "execution_count": 23,
     "metadata": {},
     "output_type": "execute_result"
    },
    {
     "data": {
      "image/png": "[encoded data removed]",
      "text/plain": [
       "<Figure size 432x288 with 1 Axes>"
      ]
     },
     "metadata": {
      "needs_background": "light"
     },
     "output_type": "display_data"
    }
   ],
   "source": [
    "sns.kdeplot(train_final.Num_of_Delayed_Payment)"
   ]
  },
  {
   "cell_type": "code",
   "execution_count": 24,
   "id": "547ba9ad",
   "metadata": {},
   "outputs": [
    {
     "data": {
      "text/plain": [
       "<AxesSubplot:xlabel='Changed_Credit_Limit', ylabel='Density'>"
      ]
     },
     "execution_count": 24,
     "metadata": {},
     "output_type": "execute_result"
    },
    {
     "data": {
      "image/png": "[encoded data removed]",
      "text/plain": [
       "<Figure size 432x288 with 1 Axes>"
      ]
     },
     "metadata": {
      "needs_background": "light"
     },
     "output_type": "display_data"
    }
   ],
   "source": [
    "sns.kdeplot(train_final.Changed_Credit_Limit)"
   ]
  },
  {
   "cell_type": "code",
   "execution_count": 25,
   "id": "ec9e30b2",
   "metadata": {},
   "outputs": [
    {
     "data": {
      "text/plain": [
       "<AxesSubplot:xlabel='Num_Credit_Inquiries', ylabel='Density'>"
      ]
     },
     "execution_count": 25,
     "metadata": {},
     "output_type": "execute_result"
    },
    {
     "data": {
      "image/png": "[encoded data removed]",
      "text/plain": [
       "<Figure size 432x288 with 1 Axes>"
      ]
     },
     "metadata": {
      "needs_background": "light"
     },
     "output_type": "display_data"
    }
   ],
   "source": [
    "sns.kdeplot(train_final.Num_Credit_Inquiries)"
   ]
  },
  {
   "cell_type": "code",
   "execution_count": 26,
   "id": "36d9dfd4",
   "metadata": {},
   "outputs": [
    {
     "data": {
      "text/plain": [
       "<AxesSubplot:xlabel='Outstanding_Debt', ylabel='Density'>"
      ]
     },
     "execution_count": 26,
     "metadata": {},
     "output_type": "execute_result"
    },
    {
     "data": {
      "image/png": "[encoded data removed]",
      "text/plain": [
       "<Figure size 432x288 with 1 Axes>"
      ]
     },
     "metadata": {
      "needs_background": "light"
     },
     "output_type": "display_data"
    }
   ],
   "source": [
    "sns.kdeplot(train_final.Outstanding_Debt)"
   ]
  },
  {
   "cell_type": "code",
   "execution_count": 27,
   "id": "a450a209",
   "metadata": {},
   "outputs": [
    {
     "data": {
      "text/plain": [
       "<AxesSubplot:xlabel='Credit_Utilization_Ratio', ylabel='Density'>"
      ]
     },
     "execution_count": 27,
     "metadata": {},
     "output_type": "execute_result"
    },
    {
     "data": {
      "image/png": "[encoded data removed]",
      "text/plain": [
       "<Figure size 432x288 with 1 Axes>"
      ]
     },
     "metadata": {
      "needs_background": "light"
     },
     "output_type": "display_data"
    }
   ],
   "source": [
    "sns.kdeplot(train_final.Credit_Utilization_Ratio)"
   ]
  },
  {
   "cell_type": "code",
   "execution_count": 28,
   "id": "c22753d7",
   "metadata": {
    "scrolled": true
   },
   "outputs": [
    {
     "data": {
      "text/plain": [
       "<AxesSubplot:xlabel='Total_EMI_per_month', ylabel='Density'>"
      ]
     },
     "execution_count": 28,
     "metadata": {},
     "output_type": "execute_result"
    },
    {
     "data": {
      "image/png": "[encoded data removed]",
      "text/plain": [
       "<Figure size 432x288 with 1 Axes>"
      ]
     },
     "metadata": {
      "needs_background": "light"
     },
     "output_type": "display_data"
    }
   ],
   "source": [
    "sns.kdeplot(train_final.Total_EMI_per_month)"
   ]
  },
  {
   "cell_type": "code",
   "execution_count": 29,
   "id": "4d9958a6",
   "metadata": {
    "scrolled": true
   },
   "outputs": [
    {
     "data": {
      "text/plain": [
       "<AxesSubplot:xlabel='Amount_invested_monthly', ylabel='Density'>"
      ]
     },
     "execution_count": 29,
     "metadata": {},
     "output_type": "execute_result"
    },
    {
     "data": {
      "image/png": "[encoded data removed]",
      "text/plain": [
       "<Figure size 432x288 with 1 Axes>"
      ]
     },
     "metadata": {
      "needs_background": "light"
     },
     "output_type": "display_data"
    }
   ],
   "source": [
    "sns.kdeplot(train_final.Amount_invested_monthly)"
   ]
  },
  {
   "cell_type": "code",
   "execution_count": 30,
   "id": "860e0fc3",
   "metadata": {},
   "outputs": [
    {
     "data": {
      "text/plain": [
       "<AxesSubplot:xlabel='Monthly_Balance', ylabel='Density'>"
      ]
     },
     "execution_count": 30,
     "metadata": {},
     "output_type": "execute_result"
    },
    {
     "data": {
      "image/png": "[encoded data removed]",
      "text/plain": [
       "<Figure size 432x288 with 1 Axes>"
      ]
     },
     "metadata": {
      "needs_background": "light"
     },
     "output_type": "display_data"
    }
   ],
   "source": [
    "sns.kdeplot(train_final.Monthly_Balance)"
   ]
  },
  {
   "cell_type": "code",
   "execution_count": 31,
   "id": "fdb1e040",
   "metadata": {},
   "outputs": [
    {
     "data": {
      "text/plain": [
       "<AxesSubplot:xlabel='Credit_Rating', ylabel='Density'>"
      ]
     },
     "execution_count": 31,
     "metadata": {},
     "output_type": "execute_result"
    },
    {
     "data": {
      "image/png": "[encoded data removed]",
      "text/plain": [
       "<Figure size 432x288 with 1 Axes>"
      ]
     },
     "metadata": {
      "needs_background": "light"
     },
     "output_type": "display_data"
    }
   ],
   "source": [
    "sns.kdeplot(train_final.Credit_Rating)"
   ]
  },
  {
   "cell_type": "markdown",
   "id": "e7853e0f",
   "metadata": {},
   "source": [
    "#### categorical"
   ]
  },
  {
   "cell_type": "code",
   "execution_count": 32,
   "id": "5f1678a6",
   "metadata": {},
   "outputs": [
    {
     "data": {
      "image/png": "[encoded data removed]",
      "text/plain": [
       "<Figure size 432x288 with 1 Axes>"
      ]
     },
     "metadata": {
      "needs_background": "light"
     },
     "output_type": "display_data"
    }
   ],
   "source": [
    "# Credit_Mix\n",
    "sns.countplot(x='Credit_Mix', data = train)\n",
    "plt.xlabel('Credit_Mix')\n",
    "plt.ylabel('Count')\n",
    "\n",
    "plt.show()"
   ]
  },
  {
   "cell_type": "code",
   "execution_count": 33,
   "id": "26fdcecc",
   "metadata": {},
   "outputs": [
    {
     "data": {
      "image/png": "[encoded data removed]",
      "text/plain": [
       "<Figure size 432x288 with 1 Axes>"
      ]
     },
     "metadata": {
      "needs_background": "light"
     },
     "output_type": "display_data"
    }
   ],
   "source": [
    "# Payment of Min Amount \n",
    "sns.countplot(x='Payment_of_Min_Amount', data = train)\n",
    "plt.xlabel('Payment_of_Min_Amount')\n",
    "plt.ylabel('Count')\n",
    "\n",
    "plt.show()"
   ]
  },
  {
   "cell_type": "markdown",
   "id": "c2752d01",
   "metadata": {},
   "source": [
    "# TRAIN DATASET IS CALLED train_final*******"
   ]
  },
  {
   "cell_type": "code",
   "execution_count": 34,
   "id": "2dcdbb97",
   "metadata": {},
   "outputs": [],
   "source": [
    "train_final = pd.get_dummies(train)\n",
    "y = train_final.Credit_Rating\n",
    "X = train_final.drop(columns = 'Credit_Rating')\n",
    "X_train, X_test, y_train, y_test = train_test_split(X, y, test_size = 0.2, random_state = 45)\n",
    "\n",
    "X = X_train[X_train.columns]\n",
    "y = y_train"
   ]
  },
  {
   "cell_type": "markdown",
   "id": "f97246b8",
   "metadata": {},
   "source": [
    "## Bagging - Nicket"
   ]
  },
  {
   "cell_type": "markdown",
   "id": "8b15c3ca",
   "metadata": {},
   "source": [
    "### grid search"
   ]
  },
  {
   "cell_type": "code",
   "execution_count": 35,
   "id": "1c21097f",
   "metadata": {},
   "outputs": [
    {
     "name": "stdout",
     "output_type": "stream",
     "text": [
      "Fitting 5 folds for each of 96 candidates, totalling 480 fits\n"
     ]
    },
    {
     "data": {
      "text/plain": [
       "GridSearchCV(cv=KFold(n_splits=5, random_state=1, shuffle=True),\n",
       "             estimator=BaggingRegressor(n_jobs=-1, random_state=1), n_jobs=-1,\n",
       "             param_grid={'base_estimator': [DecisionTreeRegressor(random_state=1),\n",
       "                                            LinearRegression()],\n",
       "                         'bootstrap': [True, False],\n",
       "                         'bootstrap_features': [True, False],\n",
       "                         'max_features': [0.5, 1.0], 'max_samples': [0.5, 1.0],\n",
       "                         'n_estimators': [150, 200, 250]},\n",
       "             verbose=1)"
      ]
     },
     "execution_count": 35,
     "metadata": {},
     "output_type": "execute_result"
    }
   ],
   "source": [
    "n_samples = train.shape[0]\n",
    "n_features = train.shape[1]\n",
    "\n",
    "params = {'base_estimator': [DecisionTreeRegressor(random_state = 1),LinearRegression()],#Comparing bagging with a linear regression model as well\n",
    "          'n_estimators': [150,200,250],\n",
    "          'max_samples': [0.5,1.0],\n",
    "          'max_features': [0.5,1.0],\n",
    "          'bootstrap': [True, False],\n",
    "          'bootstrap_features': [True, False]}\n",
    "\n",
    "cv = KFold(n_splits=5,shuffle=True,random_state=1)\n",
    "bagging_regressor_grid = GridSearchCV(BaggingRegressor(random_state=1, n_jobs=-1), \n",
    "                                      param_grid =params, cv=cv, n_jobs=-1, verbose=1)\n",
    "bagging_regressor_grid.fit(X, y)"
   ]
  },
  {
   "cell_type": "code",
   "execution_count": 36,
   "id": "4e04fd72",
   "metadata": {},
   "outputs": [
    {
     "name": "stdout",
     "output_type": "stream",
     "text": [
      "Best Parameters :  {'base_estimator': DecisionTreeRegressor(random_state=1), 'bootstrap': True, 'bootstrap_features': False, 'max_features': 0.5, 'max_samples': 1.0, 'n_estimators': 250}\n"
     ]
    }
   ],
   "source": [
    "print('Best Parameters : ',bagging_regressor_grid.best_params_)"
   ]
  },
  {
   "cell_type": "code",
   "execution_count": 37,
   "id": "fce428a5",
   "metadata": {},
   "outputs": [
    {
     "name": "stdout",
     "output_type": "stream",
     "text": [
      "62.94494827642976\n"
     ]
    }
   ],
   "source": [
    "#Model with optimal parameters\n",
    "model = BaggingRegressor(base_estimator=DecisionTreeRegressor(), n_estimators=250, random_state=1,\n",
    "                        oob_score=True,n_jobs=-1,bootstrap_features=True,bootstrap=True,\n",
    "                        max_features=1.0,max_samples=1.0).fit(X, y)\n",
    "\n",
    "#RMSE on test data\n",
    "RMSE = np.sqrt(mean_squared_error(y_test, model.predict(X_test)))\n",
    "print(RMSE)\n"
   ]
  },
  {
   "cell_type": "markdown",
   "id": "30a2af8e",
   "metadata": {},
   "source": [
    "### finer grid search 1"
   ]
  },
  {
   "cell_type": "code",
   "execution_count": 38,
   "id": "0024982d",
   "metadata": {},
   "outputs": [
    {
     "name": "stdout",
     "output_type": "stream",
     "text": [
      "Fitting 5 folds for each of 24 candidates, totalling 120 fits\n",
      "Best Parameters :  {'base_estimator': DecisionTreeRegressor(random_state=1), 'bootstrap': True, 'bootstrap_features': True, 'max_features': 1.0, 'max_samples': 1.0, 'n_estimators': 350}\n"
     ]
    }
   ],
   "source": [
    "n_samples = train.shape[0]\n",
    "n_features = train.shape[1]\n",
    "\n",
    "finer_params1 = {'base_estimator': [DecisionTreeRegressor(random_state = 1),LinearRegression()],#Comparing bagging with a linear regression model as well\n",
    "          'n_estimators': [250, 300, 350],\n",
    "          'max_samples': [1.0, 1.5],\n",
    "          'max_features': [1.0, 1.5],\n",
    "          'bootstrap': [True],\n",
    "          'bootstrap_features': [True]}\n",
    "\n",
    "cv = KFold(n_splits=5,shuffle=True,random_state=1)\n",
    "bagging_regressor_grid_finer1 = GridSearchCV(BaggingRegressor(random_state=1, n_jobs=-1), \n",
    "                                      param_grid =finer_params1, cv=cv, n_jobs=-1, verbose=1)\n",
    "bagging_regressor_grid_finer1.fit(X, y)\n",
    "\n",
    "print('Best Parameters : ',bagging_regressor_grid_finer1.best_params_)"
   ]
  },
  {
   "cell_type": "code",
   "execution_count": 39,
   "id": "32a84a2c",
   "metadata": {},
   "outputs": [
    {
     "name": "stdout",
     "output_type": "stream",
     "text": [
      "62.94494827642976\n"
     ]
    }
   ],
   "source": [
    "#Model with optimal parameters\n",
    "model_finer1 = BaggingRegressor(base_estimator=DecisionTreeRegressor(), n_estimators=250, random_state=1,\n",
    "                        oob_score=True,n_jobs=-1,bootstrap_features=True,bootstrap=True,\n",
    "                        max_features=1.0,max_samples=1.0).fit(X, y)\n",
    "\n",
    "#RMSE on test data\n",
    "RMSE = np.sqrt(mean_squared_error(y_test, model_finer1.predict(X_test)))\n",
    "print(RMSE)\n"
   ]
  },
  {
   "cell_type": "markdown",
   "id": "8e78b372",
   "metadata": {},
   "source": [
    "### finer grid search 2"
   ]
  },
  {
   "cell_type": "code",
   "execution_count": 40,
   "id": "315e6745",
   "metadata": {},
   "outputs": [
    {
     "name": "stdout",
     "output_type": "stream",
     "text": [
      "Fitting 5 folds for each of 54 candidates, totalling 270 fits\n",
      "Best Parameters :  {'base_estimator': DecisionTreeRegressor(random_state=1), 'bootstrap': True, 'bootstrap_features': True, 'max_features': 1.0, 'max_samples': 1.0, 'n_estimators': 350}\n"
     ]
    }
   ],
   "source": [
    "n_samples = train.shape[0]\n",
    "n_features = train.shape[1]\n",
    "\n",
    "finer_params2 = {'base_estimator': [DecisionTreeRegressor(random_state = 1),LinearRegression()],#Comparing bagging with a linear regression model as well\n",
    "          'n_estimators': [250, 300, 350],\n",
    "          'max_samples': [.75, 1.0, 1.25],\n",
    "          'max_features': [.75, 1.0, 1.25],\n",
    "          'bootstrap': [True],\n",
    "          'bootstrap_features': [True]}\n",
    "\n",
    "cv = KFold(n_splits=5,shuffle=True,random_state=1)\n",
    "bagging_regressor_grid_finer2 = GridSearchCV(BaggingRegressor(random_state=1, n_jobs=-1), \n",
    "                                      param_grid =finer_params2, cv=cv, n_jobs=-1, verbose=1)\n",
    "bagging_regressor_grid_finer2.fit(X_train, y_train)\n",
    "\n",
    "print('Best Parameters : ',bagging_regressor_grid_finer1.best_params_)"
   ]
  },
  {
   "cell_type": "code",
   "execution_count": 41,
   "id": "1d6d5990",
   "metadata": {},
   "outputs": [
    {
     "name": "stdout",
     "output_type": "stream",
     "text": [
      "62.924876932873474\n"
     ]
    }
   ],
   "source": [
    "#Model with optimal parameters\n",
    "model_finer2 = BaggingRegressor(base_estimator=DecisionTreeRegressor(), n_estimators=300, random_state=1,\n",
    "                        oob_score=True,n_jobs=-1,bootstrap_features=True,bootstrap=True,\n",
    "                        max_features=1.0,max_samples=1.0).fit(X, y)\n",
    "\n",
    "#RMSE on test data\n",
    "RMSE = np.sqrt(mean_squared_error(y_test, model_finer2.predict(X_test)))\n",
    "print(RMSE)\n"
   ]
  },
  {
   "cell_type": "markdown",
   "id": "cbc4a411",
   "metadata": {},
   "source": [
    "## Random Forest - Kaylee"
   ]
  },
  {
   "cell_type": "code",
   "execution_count": 42,
   "id": "f9cff5a2",
   "metadata": {},
   "outputs": [],
   "source": [
    "rmse = {}\n",
    "\n",
    "for i in np.linspace(10, 500, 40,dtype=int):\n",
    "    model = RandomForestRegressor(n_estimators=i, random_state=1,\n",
    "                        n_jobs=-1, oob_score=True).fit(X, y)\n",
    "    pred = model.predict(X_test)\n",
    "    rmse[i] = np.sqrt(mean_squared_error(y_test, pred))"
   ]
  },
  {
   "cell_type": "code",
   "execution_count": 43,
   "id": "7da464e6",
   "metadata": {},
   "outputs": [
    {
     "data": {
      "text/plain": [
       "<matplotlib.legend.Legend at 0x7f9c144ecd00>"
      ]
     },
     "execution_count": 43,
     "metadata": {},
     "output_type": "execute_result"
    },
    {
     "data": {
      "image/png": "[encoded data removed]",
      "text/plain": [
       "<Figure size 640x480 with 1 Axes>"
      ]
     },
     "metadata": {
      "needs_background": "light"
     },
     "output_type": "display_data"
    }
   ],
   "source": [
    "plt.rcParams.update({'font.size': 15})\n",
    "plt.figure(figsize=(8, 6), dpi=80)\n",
    "plt.plot(rmse.keys(),rmse.values(),label = 'RMSE')\n",
    "plt.plot(rmse.keys(),rmse.values(),'o', color = 'blue')\n",
    "plt.xlabel('Number of trees')\n",
    "plt.ylabel('RMSE')\n",
    "plt.legend()"
   ]
  },
  {
   "cell_type": "markdown",
   "id": "1db87e4a",
   "metadata": {},
   "source": [
    "### course grid"
   ]
  },
  {
   "cell_type": "code",
   "execution_count": 44,
   "id": "0ac2dcc0",
   "metadata": {},
   "outputs": [
    {
     "name": "stdout",
     "output_type": "stream",
     "text": [
      "Best params =  (18, 1100, 4)\n",
      "Best score (R-squared) =  0.311985471800847\n"
     ]
    }
   ],
   "source": [
    "# seems to slow down between 400 and 500\n",
    "\n",
    "n_samples = train_final.shape[0]\n",
    "n_features = train_final.shape[1]\n",
    "\n",
    "params = {'max_depth': [12,15,18],\n",
    "          'max_leaf_nodes':[1100,1200,1300],\n",
    "          'max_features': list(range(1,20))}\n",
    "\n",
    "param_list=list(it.product(*(params[Name] for Name in params)))\n",
    "\n",
    "oob_score = [0]*len(param_list)\n",
    "\n",
    "i=0\n",
    "for pr in param_list:\n",
    "    model = RandomForestRegressor(random_state = 1, oob_score = True,\n",
    "                                  verbose = False, n_estimators = 450,\n",
    "                                  max_depth = pr[0],\n",
    "                                  max_leaf_nodes = pr[1], \n",
    "                                  max_features = pr[2],\n",
    "                                  n_jobs = -1).fit(X, y)\n",
    "    oob_score[i] = model.oob_score_\n",
    "    i=i+1\n",
    "    \n",
    "\n",
    "print(\"Best params = \", param_list[np.argmax(oob_score)])\n",
    "print(\"Best score (R-squared) = \", np.max(oob_score))"
   ]
  },
  {
   "cell_type": "code",
   "execution_count": 45,
   "id": "8810e390",
   "metadata": {},
   "outputs": [
    {
     "name": "stdout",
     "output_type": "stream",
     "text": [
      "The RMSE on test data is 63.04955681868982\n"
     ]
    }
   ],
   "source": [
    "model_rf = RandomForestRegressor(random_state = 1,\n",
    "                                n_estimators = 450,\n",
    "                                max_depth = 18,\n",
    "                                max_leaf_nodes = 1300,\n",
    "                                max_features = 3,\n",
    "                                n_jobs = -1)\n",
    "\n",
    "model_rf.fit(X, y)\n",
    "\n",
    "pred_rf = model_rf.predict(X_test)\n",
    "\n",
    "print(\"The RMSE on test data is\", np.sqrt(mean_squared_error(y_test, pred_rf)))"
   ]
  },
  {
   "cell_type": "markdown",
   "id": "dd359eeb",
   "metadata": {},
   "source": [
    "### finer grid 1"
   ]
  },
  {
   "cell_type": "code",
   "execution_count": 46,
   "id": "903a4304",
   "metadata": {},
   "outputs": [
    {
     "name": "stdout",
     "output_type": "stream",
     "text": [
      "Best params =  (21, 1300, 2)\n",
      "Best score (R-squared) =  0.31603000937970793\n"
     ]
    }
   ],
   "source": [
    "n_samples = train_final.shape[0]\n",
    "n_features = train_final.shape[1]\n",
    "\n",
    "params = {'max_depth': range(15, 25, 3),\n",
    "          'max_leaf_nodes':range(1300, 1600, 100),\n",
    "          'max_features': list(range(1,5))}\n",
    "\n",
    "param_list=list(it.product(*(params[Name] for Name in params)))\n",
    "\n",
    "oob_score = [0]*len(param_list)\n",
    "\n",
    "i=0\n",
    "for pr in param_list:\n",
    "    model = RandomForestRegressor(random_state = 1, oob_score = True,\n",
    "                                  verbose = False, n_estimators = 450,\n",
    "                                  max_depth = pr[0],\n",
    "                                  max_leaf_nodes = pr[1], \n",
    "                                  max_features = pr[2],\n",
    "                                  n_jobs = -1).fit(X, y)\n",
    "    oob_score[i] = model.oob_score_\n",
    "    i=i+1\n",
    "    \n",
    "\n",
    "print(\"Best params = \", param_list[np.argmax(oob_score)])\n",
    "print(\"Best score (R-squared) = \", np.max(oob_score))"
   ]
  },
  {
   "cell_type": "code",
   "execution_count": 47,
   "id": "c8e98a1d",
   "metadata": {},
   "outputs": [
    {
     "name": "stdout",
     "output_type": "stream",
     "text": [
      "The RMSE on test data is 62.845725877483\n"
     ]
    }
   ],
   "source": [
    "model_rf2 = RandomForestRegressor(random_state = 1,\n",
    "                                n_estimators = 450,\n",
    "                                max_depth = 21,\n",
    "                                max_leaf_nodes = 1400,\n",
    "                                max_features = 3,\n",
    "                                n_jobs = -1)\n",
    "\n",
    "model_rf2.fit(X, y)\n",
    "\n",
    "pred_rf2 = model_rf2.predict(X_test)\n",
    "\n",
    "print(\"The RMSE on test data is\", np.sqrt(mean_squared_error(y_test, pred_rf2)))"
   ]
  },
  {
   "cell_type": "markdown",
   "id": "a3f2f981",
   "metadata": {},
   "source": [
    "### finer grid 2"
   ]
  },
  {
   "cell_type": "code",
   "execution_count": 48,
   "id": "e3175256",
   "metadata": {},
   "outputs": [
    {
     "name": "stdout",
     "output_type": "stream",
     "text": [
      "Fitting 5 folds for each of 96 candidates, totalling 480 fits\n",
      "-45.05644762104609 {'bootstrap': False, 'max_depth': 24, 'max_features': 2, 'max_leaf_nodes': 1500}\n"
     ]
    }
   ],
   "source": [
    "params = {'max_depth': range(15, 25, 3),\n",
    "          'max_leaf_nodes':range(1300, 1600, 100),\n",
    "          'max_features': list(range(1,5)),\n",
    "          'bootstrap': [True, False]}\n",
    "\n",
    "cv = KFold(n_splits=5,shuffle=True,random_state=1)\n",
    "\n",
    "\n",
    "rf = RandomForestRegressor(n_estimators = 450, random_state = 1)\n",
    "\n",
    "\n",
    "grid_search = GridSearchCV(rf, \n",
    "                           params, \n",
    "                           cv = cv, \n",
    "                           n_jobs = -1, \n",
    "                           verbose = 1,\n",
    "                           scoring='neg_mean_absolute_error')\n",
    "\n",
    "\n",
    "grid_search.fit(X_train, y_train)\n",
    "\n",
    "\n",
    "\n",
    "print (grid_search.best_score_, grid_search.best_params_) "
   ]
  },
  {
   "cell_type": "code",
   "execution_count": 49,
   "id": "ea78376b",
   "metadata": {},
   "outputs": [
    {
     "name": "stdout",
     "output_type": "stream",
     "text": [
      "The RMSE on test data is 62.62198124153995\n"
     ]
    }
   ],
   "source": [
    "model_rf_final = RandomForestRegressor(random_state = 1,\n",
    "                                n_estimators = 450,\n",
    "                                max_depth = 24,\n",
    "                                max_leaf_nodes = 1500,\n",
    "                                max_features = 2,\n",
    "                                bootstrap = False,\n",
    "                                n_jobs = -1)\n",
    "\n",
    "model_rf_final.fit(X, y)\n",
    "\n",
    "pred_rf_final = model_rf_final.predict(X_test)\n",
    "\n",
    "print(\"The RMSE on test data is\", np.sqrt(mean_squared_error(y_test, pred_rf_final)))"
   ]
  },
  {
   "cell_type": "markdown",
   "id": "e548d1ee",
   "metadata": {},
   "source": [
    "## MARS - Luca"
   ]
  },
  {
   "cell_type": "code",
   "execution_count": null,
   "id": "8e739588",
   "metadata": {},
   "outputs": [],
   "source": []
  },
  {
   "cell_type": "markdown",
   "id": "5584efe5",
   "metadata": {},
   "source": [
    "## XG Boost - Ashley"
   ]
  },
  {
   "cell_type": "code",
   "execution_count": 50,
   "id": "963454eb",
   "metadata": {},
   "outputs": [],
   "source": [
    "import warnings\n",
    "warnings.filterwarnings(\"ignore\")"
   ]
  },
  {
   "cell_type": "markdown",
   "id": "56222631",
   "metadata": {},
   "source": [
    "### course grid"
   ]
  },
  {
   "cell_type": "code",
   "execution_count": 51,
   "id": "124cc6b6",
   "metadata": {},
   "outputs": [
    {
     "name": "stdout",
     "output_type": "stream",
     "text": [
      "Fitting 5 folds for each of 200 candidates, totalling 1000 fits\n",
      "Optimal parameter values = {'subsample': 0.75, 'reg_lambda': 0, 'n_estimators': 500, 'max_depth': 8, 'learning_rate': 0.01, 'gamma': 10, 'colsample_bytree': 0.5}\n",
      "Optimal cross validation R-squared =  0.29267171580726226\n",
      "Time taken =  8  minutes\n"
     ]
    }
   ],
   "source": [
    "#K-fold cross validation to find optimal parameters for XGBoost\n",
    "start_time = time.time()\n",
    "param_grid = {'max_depth': [4,6,8],\n",
    "              'learning_rate': [0.01, 0.05, 0.1],\n",
    "               'reg_lambda':[0, 1, 10],\n",
    "                'n_estimators':[100, 500, 1000],\n",
    "                'gamma': [0, 10, 100],\n",
    "                'subsample': [0.5, 0.75, 1.0],\n",
    "                'colsample_bytree': [0.5, 0.75, 1.0]}\n",
    "\n",
    "cv = KFold(n_splits=5,shuffle=True,random_state=1)\n",
    "optimal_params = RandomizedSearchCV(estimator=xgb.XGBRegressor(random_state=1),                                                       \n",
    "                             param_distributions = param_grid, n_iter = 200,\n",
    "                             verbose = 1,\n",
    "                             n_jobs=-1,\n",
    "                             cv = cv)\n",
    "optimal_params.fit(X_train,y_train)\n",
    "print(\"Optimal parameter values =\", optimal_params.best_params_)\n",
    "print(\"Optimal cross validation R-squared = \",optimal_params.best_score_)\n",
    "print(\"Time taken = \", round((time.time()-start_time)/60), \" minutes\")"
   ]
  },
  {
   "cell_type": "code",
   "execution_count": 52,
   "id": "51bab6ad",
   "metadata": {},
   "outputs": [],
   "source": [
    "means = optimal_params.cv_results_['mean_test_score']\n",
    "stds = optimal_params.cv_results_['std_test_score']\n",
    "params = optimal_params.cv_results_['params']"
   ]
  },
  {
   "cell_type": "code",
   "execution_count": 53,
   "id": "e53c2e7b",
   "metadata": {},
   "outputs": [
    {
     "data": {
      "text/plain": [
       "64.0918472388101"
      ]
     },
     "execution_count": 53,
     "metadata": {},
     "output_type": "execute_result"
    }
   ],
   "source": [
    "np.sqrt(mean_squared_error(optimal_params.best_estimator_.predict(X_test),y_test))"
   ]
  },
  {
   "cell_type": "markdown",
   "id": "38e633f0",
   "metadata": {},
   "source": [
    "### visualization"
   ]
  },
  {
   "cell_type": "code",
   "execution_count": 54,
   "id": "e9e4457b",
   "metadata": {},
   "outputs": [
    {
     "data": {
      "image/png": "[encoded data removed]",
      "text/plain": [
       "<Figure size 432x288 with 1 Axes>"
      ]
     },
     "metadata": {
      "needs_background": "light"
     },
     "output_type": "display_data"
    },
    {
     "data": {
      "image/png": "[encoded data removed]",
      "text/plain": [
       "<Figure size 432x288 with 1 Axes>"
      ]
     },
     "metadata": {
      "needs_background": "light"
     },
     "output_type": "display_data"
    },
    {
     "data": {
      "image/png": "[encoded data removed]",
      "text/plain": [
       "<Figure size 432x288 with 1 Axes>"
      ]
     },
     "metadata": {
      "needs_background": "light"
     },
     "output_type": "display_data"
    },
    {
     "data": {
      "image/png": "[encoded data removed]",
      "text/plain": [
       "<Figure size 432x288 with 1 Axes>"
      ]
     },
     "metadata": {
      "needs_background": "light"
     },
     "output_type": "display_data"
    },
    {
     "data": {
      "image/png": "[encoded data removed]",
      "text/plain": [
       "<Figure size 432x288 with 1 Axes>"
      ]
     },
     "metadata": {
      "needs_background": "light"
     },
     "output_type": "display_data"
    },
    {
     "data": {
      "image/png": "[encoded data removed]",
      "text/plain": [
       "<Figure size 432x288 with 1 Axes>"
      ]
     },
     "metadata": {
      "needs_background": "light"
     },
     "output_type": "display_data"
    },
    {
     "data": {
      "image/png": "[encoded data removed]",
      "text/plain": [
       "<Figure size 432x288 with 1 Axes>"
      ]
     },
     "metadata": {
      "needs_background": "light"
     },
     "output_type": "display_data"
    }
   ],
   "source": [
    "param_names = ['max_depth','learning_rate','reg_lambda','n_estimators','gamma','subsample','colsample_bytree']\n",
    "\n",
    "for i in range(len(param_names)):\n",
    "    values = []\n",
    "    for j in range(len(params)):\n",
    "        values.append(params[j][param_names[i]])    \n",
    "    fig, ax = plt.subplots()\n",
    "    ax.scatter(values, -means)\n",
    "    ax.set_xlabel(param_names[i])\n",
    "    ax.set_ylabel('Mean Test Score')    \n",
    "    plt.show()"
   ]
  },
  {
   "cell_type": "markdown",
   "id": "7109c149",
   "metadata": {},
   "source": [
    "### finer grid 1"
   ]
  },
  {
   "cell_type": "code",
   "execution_count": 55,
   "id": "b7e546b5",
   "metadata": {},
   "outputs": [
    {
     "name": "stdout",
     "output_type": "stream",
     "text": [
      "Fitting 2 folds for each of 200 candidates, totalling 400 fits\n",
      "Optimal parameter values = {'subsample': 0.55, 'reg_lambda': 1.5, 'n_estimators': 1000, 'max_depth': 5, 'learning_rate': 0.01, 'gamma': 100, 'colsample_bytree': 0.4}\n",
      "Optimal cross validation R-squared =  0.2780029407688911\n",
      "Time taken =  5  minutes\n"
     ]
    }
   ],
   "source": [
    "start_time = time.time()\n",
    "param_grid = {'max_depth': [5,6,7],\n",
    "              'learning_rate': [0.01,0.011],\n",
    "               'reg_lambda':[0.4,1,1.5],\n",
    "                'n_estimators':[1000, 2000, 3000],\n",
    "                'gamma': [50,100],\n",
    "                'subsample': [0.45,0.5,0.55],\n",
    "                'colsample_bytree': [0.4,0.5]}\n",
    "\n",
    "cv = KFold(n_splits=2,shuffle=True,random_state=1)\n",
    "optimal_params = RandomizedSearchCV(estimator=xgb.XGBRegressor(random_state=1),                                                       \n",
    "                             param_distributions = param_grid, n_iter = 200,\n",
    "                             verbose = 1,n_jobs=-1,cv=cv)\n",
    "optimal_params.fit(X_train,y_train)\n",
    "print(\"Optimal parameter values =\", optimal_params.best_params_)\n",
    "print(\"Optimal cross validation R-squared = \",optimal_params.best_score_)\n",
    "print(\"Time taken = \", round((time.time()-start_time)/60), \" minutes\")"
   ]
  },
  {
   "cell_type": "code",
   "execution_count": 56,
   "id": "8bb30c10",
   "metadata": {},
   "outputs": [
    {
     "data": {
      "text/plain": [
       "64.09959695812192"
      ]
     },
     "execution_count": 56,
     "metadata": {},
     "output_type": "execute_result"
    }
   ],
   "source": [
    "np.sqrt(mean_squared_error(optimal_params.best_estimator_.predict(X_test),y_test))"
   ]
  },
  {
   "cell_type": "markdown",
   "id": "ceb686a1",
   "metadata": {},
   "source": [
    "### finer grid 2"
   ]
  },
  {
   "cell_type": "code",
   "execution_count": 57,
   "id": "9f26fee8",
   "metadata": {},
   "outputs": [
    {
     "name": "stdout",
     "output_type": "stream",
     "text": [
      "Fitting 2 folds for each of 24 candidates, totalling 48 fits\n",
      "Optimal parameter values = {'subsample': 0.55, 'reg_lambda': 0.4, 'n_estimators': 1000, 'max_depth': 7, 'learning_rate': 0.0088, 'gamma': 50, 'colsample_bytree': 0.4}\n",
      "Optimal cross validation R-squared =  0.2772467683968043\n",
      "Time taken =  1  minutes\n"
     ]
    }
   ],
   "source": [
    "start_time = time.time()\n",
    "param_grid = {'max_depth': [7],\n",
    "              'learning_rate': [0.01,0.0088],\n",
    "               'reg_lambda':[0.4],\n",
    "                'n_estimators':[1000,1500,1650],\n",
    "                'gamma': [15,50],\n",
    "                'subsample': [0.5,0.55],\n",
    "                'colsample_bytree': [0.4]}\n",
    "\n",
    "cv = KFold(n_splits=2,shuffle=True,random_state=1)\n",
    "optimal_params = RandomizedSearchCV(estimator=xgb.XGBRegressor(random_state=1),                                                       \n",
    "                             param_distributions = param_grid, n_iter = 200,\n",
    "                             verbose = 1,n_jobs=-1,cv=cv)\n",
    "optimal_params.fit(X_train,y_train)\n",
    "print(\"Optimal parameter values =\", optimal_params.best_params_)\n",
    "print(\"Optimal cross validation R-squared = \",optimal_params.best_score_)\n",
    "print(\"Time taken = \", round((time.time()-start_time)/60), \" minutes\")"
   ]
  },
  {
   "cell_type": "code",
   "execution_count": 58,
   "id": "546b961e",
   "metadata": {},
   "outputs": [
    {
     "data": {
      "text/plain": [
       "63.96081567872314"
      ]
     },
     "execution_count": 58,
     "metadata": {},
     "output_type": "execute_result"
    }
   ],
   "source": [
    "## hopefully this gives the params below bc it gives the lowest rmse out of everything i've tried \n",
    "\n",
    "model = xgb.XGBRegressor(random_state=1,\n",
    "                         subsample=0.5,\n",
    "                         reg_lambda=0.4,\n",
    "                         n_estimators=1650,\n",
    "                         max_depth=7,\n",
    "                         learning_rate=0.0088,\n",
    "                         gamma=15,\n",
    "                         colsample_bytree=0.4).fit(X_train,y_train)\n",
    "\n",
    "np.sqrt(mean_squared_error(model.predict(X_test),y_test))"
   ]
  },
  {
   "cell_type": "markdown",
   "id": "ecf65cff",
   "metadata": {},
   "source": [
    "### change n_estimators"
   ]
  },
  {
   "cell_type": "code",
   "execution_count": 59,
   "id": "53785e38",
   "metadata": {},
   "outputs": [],
   "source": [
    "model = xgb.XGBRegressor(random_state=1,\n",
    "                         subsample=0.55,\n",
    "                         reg_lambda=0.4,\n",
    "                         n_estimators=1500,\n",
    "                         max_depth=7,\n",
    "                         learning_rate=0.01,\n",
    "                         gamma=50,\n",
    "                         colsample_bytree=0.4).fit(X_train,y_train)"
   ]
  },
  {
   "cell_type": "code",
   "execution_count": 60,
   "id": "c083f2a7",
   "metadata": {},
   "outputs": [
    {
     "data": {
      "text/plain": [
       "63.97577574154232"
      ]
     },
     "execution_count": 60,
     "metadata": {},
     "output_type": "execute_result"
    }
   ],
   "source": [
    "np.sqrt(mean_squared_error(model.predict(X_test),y_test))"
   ]
  },
  {
   "cell_type": "markdown",
   "id": "c101c7ba",
   "metadata": {},
   "source": [
    "### change gamma"
   ]
  },
  {
   "cell_type": "code",
   "execution_count": 61,
   "id": "935a2c89",
   "metadata": {},
   "outputs": [],
   "source": [
    "model = xgb.XGBRegressor(random_state=1,\n",
    "                         subsample=0.55,\n",
    "                         reg_lambda=0.4,\n",
    "                         n_estimators=1700,\n",
    "                         max_depth=7,\n",
    "                         learning_rate=0.01,\n",
    "                         gamma=50,\n",
    "                         colsample_bytree=0.4).fit(X_train,y_train)"
   ]
  },
  {
   "cell_type": "code",
   "execution_count": 62,
   "id": "a85c353e",
   "metadata": {},
   "outputs": [
    {
     "data": {
      "text/plain": [
       "63.998499482310955"
      ]
     },
     "execution_count": 62,
     "metadata": {},
     "output_type": "execute_result"
    }
   ],
   "source": [
    "np.sqrt(mean_squared_error(model.predict(X_test),y_test))"
   ]
  },
  {
   "cell_type": "code",
   "execution_count": 63,
   "id": "d7f06a8d",
   "metadata": {},
   "outputs": [],
   "source": [
    "model = xgb.XGBRegressor(random_state=1,\n",
    "                         subsample=0.55,\n",
    "                         reg_lambda=0.4,\n",
    "                         n_estimators=1700,\n",
    "                         max_depth=7,\n",
    "                         learning_rate=0.01,\n",
    "                         gamma=10,\n",
    "                         colsample_bytree=0.4).fit(X_train,y_train)"
   ]
  },
  {
   "cell_type": "code",
   "execution_count": 64,
   "id": "8173a059",
   "metadata": {},
   "outputs": [
    {
     "data": {
      "text/plain": [
       "64.02253967410785"
      ]
     },
     "execution_count": 64,
     "metadata": {},
     "output_type": "execute_result"
    }
   ],
   "source": [
    "np.sqrt(mean_squared_error(model.predict(X_test),y_test))"
   ]
  },
  {
   "cell_type": "code",
   "execution_count": 65,
   "id": "aea0320f",
   "metadata": {},
   "outputs": [],
   "source": [
    "model = xgb.XGBRegressor(random_state=1,\n",
    "                         subsample=0.55,\n",
    "                         reg_lambda=0.4,\n",
    "                         n_estimators=1700,\n",
    "                         max_depth=7,\n",
    "                         learning_rate=0.01,\n",
    "                         gamma=15,\n",
    "                         colsample_bytree=0.4).fit(X_train,y_train)"
   ]
  },
  {
   "cell_type": "code",
   "execution_count": 66,
   "id": "f32a142c",
   "metadata": {},
   "outputs": [
    {
     "data": {
      "text/plain": [
       "64.0245914125484"
      ]
     },
     "execution_count": 66,
     "metadata": {},
     "output_type": "execute_result"
    }
   ],
   "source": [
    "np.sqrt(mean_squared_error(model.predict(X_test),y_test))"
   ]
  },
  {
   "cell_type": "markdown",
   "id": "7dd40e2e",
   "metadata": {},
   "source": [
    "### change subsample"
   ]
  },
  {
   "cell_type": "code",
   "execution_count": 67,
   "id": "08d78a12",
   "metadata": {},
   "outputs": [],
   "source": [
    "model = xgb.XGBRegressor(random_state=1,\n",
    "                         subsample=0.5,\n",
    "                         reg_lambda=0.4,\n",
    "                         n_estimators=1700,\n",
    "                         max_depth=7,\n",
    "                         learning_rate=0.01,\n",
    "                         gamma=15,\n",
    "                         colsample_bytree=0.4).fit(X_train,y_train)"
   ]
  },
  {
   "cell_type": "code",
   "execution_count": 68,
   "id": "cf5830bf",
   "metadata": {},
   "outputs": [
    {
     "data": {
      "text/plain": [
       "63.815152216570134"
      ]
     },
     "execution_count": 68,
     "metadata": {},
     "output_type": "execute_result"
    }
   ],
   "source": [
    "np.sqrt(mean_squared_error(model.predict(X_test),y_test))"
   ]
  },
  {
   "cell_type": "markdown",
   "id": "aebd515b",
   "metadata": {},
   "source": [
    "### change learning_rate"
   ]
  },
  {
   "cell_type": "code",
   "execution_count": 69,
   "id": "e614ba2c",
   "metadata": {},
   "outputs": [],
   "source": [
    "model = xgb.XGBRegressor(random_state=1,\n",
    "                         subsample=0.5,\n",
    "                         reg_lambda=0.4,\n",
    "                         n_estimators=1700,\n",
    "                         max_depth=7,\n",
    "                         learning_rate=0.0088,\n",
    "                         gamma=15,\n",
    "                         colsample_bytree=0.4).fit(X_train,y_train)"
   ]
  },
  {
   "cell_type": "code",
   "execution_count": 70,
   "id": "2a19fec8",
   "metadata": {},
   "outputs": [
    {
     "data": {
      "text/plain": [
       "63.964307117269485"
      ]
     },
     "execution_count": 70,
     "metadata": {},
     "output_type": "execute_result"
    }
   ],
   "source": [
    "np.sqrt(mean_squared_error(model.predict(X_test),y_test))"
   ]
  },
  {
   "cell_type": "markdown",
   "id": "ae2a9a26",
   "metadata": {},
   "source": [
    "## Ensemble Model"
   ]
  },
  {
   "cell_type": "code",
   "execution_count": null,
   "id": "5d89f09b",
   "metadata": {},
   "outputs": [],
   "source": []
  }
 ],
 "metadata": {
  "kernelspec": {
   "display_name": "Python 3 (ipykernel)",
   "language": "python",
   "name": "python3"
  },
  "language_info": {
   "codemirror_mode": {
    "name": "ipython",
    "version": 3
   },
   "file_extension": ".py",
   "mimetype": "text/x-python",
   "name": "python",
   "nbconvert_exporter": "python",
   "pygments_lexer": "ipython3",
   "version": "3.9.12"
  }
 },
 "nbformat": 4,
 "nbformat_minor": 5
}
