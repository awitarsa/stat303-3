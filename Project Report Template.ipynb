{
 "cells": [
  {
   "cell_type": "raw",
   "id": "33dd6c4c",
   "metadata": {},
   "source": [
    "---\n",
    "title: \"Project Report\"\n",
    "subtitle: Ashley's Found Phone\n",
    "author: Luca Moretti, Nicket Mauskar, Ashley Witarsa, and Kaylee Mo \n",
    "date: 05/30/2023\n",
    "number-sections: true\n",
    "abstract: Credit scores are a crucial factor in determining an individual’s financial health, and lenders heavily rely on them to assess creditworthiness and risk. However, credit score calculations can be complex and multifaceted, taking into account a range of factors such as payment history, outstanding debts, credit utilization, and length of credit history. Our goal is to build a reliable ensemble model using bagged MARS, decision tree, random forest, and XGboost models that can accurately predict individual credit scores based on multiple credit- and customer-related predictors using RMSE as our evaluation metric. This model will provide lenders and other shareholders with a tool to make more informed decisions and help secure better financial outcomes.\n",
    "format: \n",
    "  html:\n",
    "    toc: true\n",
    "    toc-title: Contents\n",
    "    self-contained: true\n",
    "    font-size: 100%\n",
    "    toc-depth: 4\n",
    "    mainfont: serif\n",
    "jupyter: python3\n",
    "---"
   ]
  },
  {
   "cell_type": "code",
   "execution_count": 4,
   "id": "1ee263bf",
   "metadata": {},
   "outputs": [],
   "source": [
    "train_final = pd.read_csv('train_final.csv')\n",
    "train_final = pd.get_dummies(train_final)\n",
    "y = train_final.Credit_Rating\n",
    "X = train_final.drop(columns = 'Credit_Rating')\n",
    "X_train, X_test, y_train, y_test = train_test_split(X, y, test_size = 0.2, random_state = 45)\n",
    "\n",
    "X = X_train[X_train.columns]\n",
    "y = y_train"
   ]
  },
  {
   "cell_type": "markdown",
   "id": "aba5ee91",
   "metadata": {},
   "source": [
    "## Length of the report {-}\n",
    "The length of the report must be no more than 15 pages, when printed as PDF. However, there is no requirement on the minimum number of pages.\n",
    "\n",
    "You may put additional stuff as Appendix. You may refer to the Appendix in the main report to support your arguments. However, your appendix is unlikely to be checked while grading, unless the grader deems it necessary. The appendix and references will not be included in the page count, and there is no limit on the length of the appendix.\n",
    "\n",
    "**Delete this section from the report, when using this template.** "
   ]
  },
  {
   "cell_type": "markdown",
   "id": "93d3d9ed",
   "metadata": {},
   "source": [
    "## Code should be put separately in the code template {-}\n",
    "Your report should be in a research-paper like style. If there is something that can only be explained by showing the code, then you may put it, otherwise do not put the code in the report. We will check your code in the code template. \n",
    "\n",
    "However, feel free to write code that prints output and then hide the code using the *yaml* setting as shown in an example below *(in the EDA section)*\n",
    "\n",
    "**Delete this section from the report, when using this template.** "
   ]
  },
  {
   "cell_type": "markdown",
   "id": "0116f49b",
   "metadata": {},
   "source": [
    "## Background / Motivation"
   ]
  },
  {
   "cell_type": "markdown",
   "id": "d43d1119",
   "metadata": {},
   "source": [
    "As students, we aimed to gain practical experience by working on a dataset that had real-world applications and relevance. Credit score prediction is a vital task for financial institutions, and having a model that accurately predicts individual credit scores can contribute to informed lending decisions and risk assessment. In addition, we wanted a dataset we knew was large enough to explore and test different modeling techniques. By utilizing bagged MARS, decision tree, random forest, and XGBoost models within our ensemble approach, we aimed to leverage the unique strengths and capabilities of each model."
   ]
  },
  {
   "cell_type": "markdown",
   "id": "84ff1421",
   "metadata": {},
   "source": [
    "## Problem statement "
   ]
  },
  {
   "cell_type": "markdown",
   "id": "94c21daf",
   "metadata": {},
   "source": [
    "Credit scores are a crucial factor in determining an individual’s financial health, and lenders heavily rely on them to assess creditworthiness and risk. However, credit score calculations can be complex and multifaceted, taking into account a range of factors such as payment history, outstanding debts, credit utilization, and length of credit history. **Our goal is to build a reliable ensemble model using bagged MARS, decision tree, random forest, and XGboost models that can accurately predict individual credit scores based on multiple credit- and customer-related predictors using RMSE as our evaluation metric.** This model will provide lenders and other shareholders with a tool to make more informed decisions and help secure better financial outcomes."
   ]
  },
  {
   "cell_type": "markdown",
   "id": "38c7b95f",
   "metadata": {},
   "source": [
    "## Data sources"
   ]
  },
  {
   "cell_type": "markdown",
   "id": "5f7258bc",
   "metadata": {},
   "source": [
    "Our data source is an open source dataset found on Kaggle. The data provides 100,000 observations, 18 continuous predictors as well as four categorical predictors that will be useful in our prediction of individual credit scores. The response is a column based off `Credit_Score` called `Credit_Rating`: the way this column is prepared is discussed in the \"Data quality check / cleaning / preparation\" section of this report.  Some of the predictors include `Credit_History_Age`, `new credit`, `Credit_Mix`, `Credit_Utilization_Ratio`, and `Num_of_Delayed_Payment`, amongst many others in need of assessment. The data set can be found [here](https://www.kaggle.com/datasets/parisrohan/credit-score-classification)."
   ]
  },
  {
   "cell_type": "markdown",
   "id": "8c255035",
   "metadata": {},
   "source": [
    "## Stakeholders"
   ]
  },
  {
   "cell_type": "markdown",
   "id": "11c2f512",
   "metadata": {},
   "source": [
    "**Lenders**, such as banks or financial institutions, rely on credit scores to evaluate the creditworthiness of potential borrowers. Accurate credit score predictions enable lenders to make informed decisions about approving loans, setting interest rates, and managing credit risk. With a reliable prediction model, lenders can better assess the likelihood of repayment and adjust their lending practices accordingly, leading to more prudent lending decisions and reduced financial risk.\n",
    "\n",
    "**Borrowers** can use a model like this to help understand their creditworthiness and potential loan eligibility. It allows them to plan their financial activities, negotiate favorable terms, and make informed decisions about borrowing and managing their credit. With accurate credit score predictions, borrowers can access better loan opportunities, secure lower interest rates, and improve their overall financial well-being.\n",
    "\n",
    "**Credit bureaus** play a critical role in the credit industry by collecting and maintaining credit data. A model that accurately predicts credit scores benefits credit bureaus by enhancing their ability to provide more precise and reliable credit reports. By incorporating multiple predictors, the model can capture a comprehensive view of a borrower's creditworthiness, leading to more accurate credit assessments and credit reporting services. This, in turn, improves the quality and reliability of credit information provided by credit bureaus to lenders and borrowers.\n",
    "\n",
    "**Regulators** like government agencies have an interest in ensuring fair lending practices and maintaining the stability of the financial system. Accurate credit score predictions based on multiple predictors support regulators in monitoring and assessing the credit industry. They can use such models to identify potential systemic risks, detect discriminatory lending practices, and enforce regulations aimed at protecting consumers' rights. The model's success can lead to a more transparent and equitable lending environment, promoting financial stability and consumer protection."
   ]
  },
  {
   "cell_type": "markdown",
   "id": "fe7ea9bb",
   "metadata": {},
   "source": [
    "## Data quality check / cleaning / preparation \n"
   ]
  },
  {
   "cell_type": "markdown",
   "id": "02da5d5d",
   "metadata": {},
   "source": [
    "The first step taken in the data preparation was creating the new response column, `Credit_Rating`. The credit scores in the dataset are classified into \"Poor\", \"Standard\", and \"Good\". Each of the three categories were assigned random credit ratings to those with Poor credit scores (ratings from 0-579), those with Standard (ratings from 580-668), and Good (ratings from 670-729) in order to pursue a continuous response and model with regression. These credit ratings were determined using FICO score ratings found on [Investoperdia](https://www.investopedia.com/terms/f/ficoscore.asp). Once the response was created, a new training dataset was created to use for the rest of the analysis.\n",
    "\n",
    "This dataset was very dirty. There were hundreds of instances where observations were surrounded by underscores and spaces that made it difficult to begin the EDA. These invalid characters were removed from the columns, in addition to setting all numerical columns to the integer datatype. There were thousands of columns that were identified as outliers and errors, in addition to missing values. Before removing NAN values and outliers, the RMSE of the base model was found to be 209.9847067897364; however, upon removing these outliers and missing values, the number of observations reduced to 8304.\n",
    "\n",
    "Finally, dummy columns were made for the two categorical predictors `Credit_Mix` and `Payment_of_Min_Amount` using pd.get_dummies, and the dataset was split using test_size = 0.2 and random_state = 45"
   ]
  },
  {
   "cell_type": "code",
   "execution_count": 20,
   "id": "1a8cc35e",
   "metadata": {
    "tags": [
     "hide_input"
    ]
   },
   "outputs": [
    {
     "data": {
      "image/png": "[encoded data removed]",
      "text/plain": [
       "<Figure size 576x432 with 1 Axes>"
      ]
     },
     "metadata": {
      "needs_background": "light"
     },
     "output_type": "display_data"
    },
    {
     "name": "stdout",
     "output_type": "stream",
     "text": [
      "Statistical Summary of Response \"Credit_Rating\":\n"
     ]
    },
    {
     "data": {
      "text/plain": [
       "count    8034.000000\n",
       "mean      618.481320\n",
       "std        75.088475\n",
       "min       353.837009\n",
       "25%       594.377473\n",
       "50%       630.049322\n",
       "75%       664.552099\n",
       "max       728.753781\n",
       "Name: Credit_Rating, dtype: float64"
      ]
     },
     "execution_count": 20,
     "metadata": {},
     "output_type": "execute_result"
    }
   ],
   "source": [
    "#|echo: false\n",
    "fig, ax = plt.subplots(figsize=(8, 6))\n",
    "\n",
    "sns.kdeplot(train_final['Credit_Rating'], ax=ax)\n",
    "\n",
    "ax.set_title(\"Distribution of the response 'Credit_Rating'\")\n",
    "ax.set_xlabel('Credit Rating')\n",
    "ax.set_ylabel('Density')\n",
    "plt.show()\n",
    "\n",
    "print('Statistical Summary of Response \"Credit_Rating\":')\n",
    "train_final['Credit_Rating'].describe().T"
   ]
  },
  {
   "cell_type": "code",
   "execution_count": 21,
   "id": "8924032e",
   "metadata": {
    "tags": [
     "hide_input"
    ]
   },
   "outputs": [
    {
     "name": "stdout",
     "output_type": "stream",
     "text": [
      "Continuous Predictor Distribution Table:\n"
     ]
    },
    {
     "data": {
      "text/html": [
       "<div>\n",
       "<style scoped>\n",
       "    .dataframe tbody tr th:only-of-type {\n",
       "        vertical-align: middle;\n",
       "    }\n",
       "\n",
       "    .dataframe tbody tr th {\n",
       "        vertical-align: top;\n",
       "    }\n",
       "\n",
       "    .dataframe thead th {\n",
       "        text-align: right;\n",
       "    }\n",
       "</style>\n",
       "<table border=\"1\" class=\"dataframe\">\n",
       "  <thead>\n",
       "    <tr style=\"text-align: right;\">\n",
       "      <th></th>\n",
       "      <th>count</th>\n",
       "      <th>mean</th>\n",
       "      <th>std</th>\n",
       "      <th>min</th>\n",
       "      <th>25%</th>\n",
       "      <th>50%</th>\n",
       "      <th>75%</th>\n",
       "      <th>max</th>\n",
       "    </tr>\n",
       "  </thead>\n",
       "  <tbody>\n",
       "    <tr>\n",
       "      <th>Age</th>\n",
       "      <td>8034.0</td>\n",
       "      <td>29.221309</td>\n",
       "      <td>53.129903</td>\n",
       "      <td>-500.000000</td>\n",
       "      <td>24.000000</td>\n",
       "      <td>33.000000</td>\n",
       "      <td>43.000000</td>\n",
       "      <td>711.000000</td>\n",
       "    </tr>\n",
       "    <tr>\n",
       "      <th>Annual_Income</th>\n",
       "      <td>8034.0</td>\n",
       "      <td>39756.415694</td>\n",
       "      <td>25094.001345</td>\n",
       "      <td>8459.020000</td>\n",
       "      <td>20701.211250</td>\n",
       "      <td>34107.420000</td>\n",
       "      <td>56408.135000</td>\n",
       "      <td>781808.000000</td>\n",
       "    </tr>\n",
       "    <tr>\n",
       "      <th>Monthly_Inhand_Salary</th>\n",
       "      <td>8034.0</td>\n",
       "      <td>3282.670144</td>\n",
       "      <td>1752.824797</td>\n",
       "      <td>989.594583</td>\n",
       "      <td>1747.830833</td>\n",
       "      <td>2845.254167</td>\n",
       "      <td>4663.861875</td>\n",
       "      <td>7309.870000</td>\n",
       "    </tr>\n",
       "    <tr>\n",
       "      <th>Num_Bank_Accounts</th>\n",
       "      <td>8034.0</td>\n",
       "      <td>5.016928</td>\n",
       "      <td>2.909389</td>\n",
       "      <td>-1.000000</td>\n",
       "      <td>3.000000</td>\n",
       "      <td>5.000000</td>\n",
       "      <td>7.000000</td>\n",
       "      <td>105.000000</td>\n",
       "    </tr>\n",
       "    <tr>\n",
       "      <th>Num_Credit_Card</th>\n",
       "      <td>8034.0</td>\n",
       "      <td>5.357605</td>\n",
       "      <td>5.265296</td>\n",
       "      <td>1.000000</td>\n",
       "      <td>4.000000</td>\n",
       "      <td>5.000000</td>\n",
       "      <td>7.000000</td>\n",
       "      <td>147.000000</td>\n",
       "    </tr>\n",
       "    <tr>\n",
       "      <th>Num_of_Loan</th>\n",
       "      <td>8034.0</td>\n",
       "      <td>2.927931</td>\n",
       "      <td>2.157650</td>\n",
       "      <td>0.000000</td>\n",
       "      <td>1.000000</td>\n",
       "      <td>3.000000</td>\n",
       "      <td>4.000000</td>\n",
       "      <td>49.000000</td>\n",
       "    </tr>\n",
       "    <tr>\n",
       "      <th>Num_of_Delayed_Payment</th>\n",
       "      <td>8034.0</td>\n",
       "      <td>12.411501</td>\n",
       "      <td>6.087740</td>\n",
       "      <td>-3.000000</td>\n",
       "      <td>9.000000</td>\n",
       "      <td>12.000000</td>\n",
       "      <td>17.000000</td>\n",
       "      <td>195.000000</td>\n",
       "    </tr>\n",
       "    <tr>\n",
       "      <th>Changed_Credit_Limit</th>\n",
       "      <td>8034.0</td>\n",
       "      <td>9.794203</td>\n",
       "      <td>3.569070</td>\n",
       "      <td>3.630000</td>\n",
       "      <td>7.120000</td>\n",
       "      <td>9.480000</td>\n",
       "      <td>12.137500</td>\n",
       "      <td>17.190000</td>\n",
       "    </tr>\n",
       "    <tr>\n",
       "      <th>Num_Credit_Inquiries</th>\n",
       "      <td>8034.0</td>\n",
       "      <td>5.132686</td>\n",
       "      <td>4.858646</td>\n",
       "      <td>0.000000</td>\n",
       "      <td>2.000000</td>\n",
       "      <td>4.000000</td>\n",
       "      <td>7.000000</td>\n",
       "      <td>208.000000</td>\n",
       "    </tr>\n",
       "    <tr>\n",
       "      <th>Outstanding_Debt</th>\n",
       "      <td>8034.0</td>\n",
       "      <td>1110.336964</td>\n",
       "      <td>567.402124</td>\n",
       "      <td>268.830000</td>\n",
       "      <td>656.020000</td>\n",
       "      <td>1053.720000</td>\n",
       "      <td>1406.010000</td>\n",
       "      <td>2576.960000</td>\n",
       "    </tr>\n",
       "    <tr>\n",
       "      <th>Credit_Utilization_Ratio</th>\n",
       "      <td>8034.0</td>\n",
       "      <td>32.242541</td>\n",
       "      <td>2.941859</td>\n",
       "      <td>27.209830</td>\n",
       "      <td>29.652694</td>\n",
       "      <td>32.234927</td>\n",
       "      <td>34.786044</td>\n",
       "      <td>37.414982</td>\n",
       "    </tr>\n",
       "    <tr>\n",
       "      <th>Total_EMI_per_month</th>\n",
       "      <td>8034.0</td>\n",
       "      <td>96.537481</td>\n",
       "      <td>333.861590</td>\n",
       "      <td>0.000000</td>\n",
       "      <td>24.064890</td>\n",
       "      <td>54.079318</td>\n",
       "      <td>101.066216</td>\n",
       "      <td>9505.000000</td>\n",
       "    </tr>\n",
       "    <tr>\n",
       "      <th>Amount_invested_monthly</th>\n",
       "      <td>8034.0</td>\n",
       "      <td>159.373058</td>\n",
       "      <td>126.226135</td>\n",
       "      <td>0.000000</td>\n",
       "      <td>71.368173</td>\n",
       "      <td>122.439148</td>\n",
       "      <td>203.326017</td>\n",
       "      <td>934.368000</td>\n",
       "    </tr>\n",
       "    <tr>\n",
       "      <th>Monthly_Balance</th>\n",
       "      <td>8034.0</td>\n",
       "      <td>366.782049</td>\n",
       "      <td>132.535989</td>\n",
       "      <td>0.599640</td>\n",
       "      <td>281.369138</td>\n",
       "      <td>343.811565</td>\n",
       "      <td>434.037787</td>\n",
       "      <td>891.209300</td>\n",
       "    </tr>\n",
       "  </tbody>\n",
       "</table>\n",
       "</div>"
      ],
      "text/plain": [
       "                           count          mean           std          min  \\\n",
       "Age                       8034.0     29.221309     53.129903  -500.000000   \n",
       "Annual_Income             8034.0  39756.415694  25094.001345  8459.020000   \n",
       "Monthly_Inhand_Salary     8034.0   3282.670144   1752.824797   989.594583   \n",
       "Num_Bank_Accounts         8034.0      5.016928      2.909389    -1.000000   \n",
       "Num_Credit_Card           8034.0      5.357605      5.265296     1.000000   \n",
       "Num_of_Loan               8034.0      2.927931      2.157650     0.000000   \n",
       "Num_of_Delayed_Payment    8034.0     12.411501      6.087740    -3.000000   \n",
       "Changed_Credit_Limit      8034.0      9.794203      3.569070     3.630000   \n",
       "Num_Credit_Inquiries      8034.0      5.132686      4.858646     0.000000   \n",
       "Outstanding_Debt          8034.0   1110.336964    567.402124   268.830000   \n",
       "Credit_Utilization_Ratio  8034.0     32.242541      2.941859    27.209830   \n",
       "Total_EMI_per_month       8034.0     96.537481    333.861590     0.000000   \n",
       "Amount_invested_monthly   8034.0    159.373058    126.226135     0.000000   \n",
       "Monthly_Balance           8034.0    366.782049    132.535989     0.599640   \n",
       "\n",
       "                                   25%           50%           75%  \\\n",
       "Age                          24.000000     33.000000     43.000000   \n",
       "Annual_Income             20701.211250  34107.420000  56408.135000   \n",
       "Monthly_Inhand_Salary      1747.830833   2845.254167   4663.861875   \n",
       "Num_Bank_Accounts             3.000000      5.000000      7.000000   \n",
       "Num_Credit_Card               4.000000      5.000000      7.000000   \n",
       "Num_of_Loan                   1.000000      3.000000      4.000000   \n",
       "Num_of_Delayed_Payment        9.000000     12.000000     17.000000   \n",
       "Changed_Credit_Limit          7.120000      9.480000     12.137500   \n",
       "Num_Credit_Inquiries          2.000000      4.000000      7.000000   \n",
       "Outstanding_Debt            656.020000   1053.720000   1406.010000   \n",
       "Credit_Utilization_Ratio     29.652694     32.234927     34.786044   \n",
       "Total_EMI_per_month          24.064890     54.079318    101.066216   \n",
       "Amount_invested_monthly      71.368173    122.439148    203.326017   \n",
       "Monthly_Balance             281.369138    343.811565    434.037787   \n",
       "\n",
       "                                    max  \n",
       "Age                          711.000000  \n",
       "Annual_Income             781808.000000  \n",
       "Monthly_Inhand_Salary       7309.870000  \n",
       "Num_Bank_Accounts            105.000000  \n",
       "Num_Credit_Card              147.000000  \n",
       "Num_of_Loan                   49.000000  \n",
       "Num_of_Delayed_Payment       195.000000  \n",
       "Changed_Credit_Limit          17.190000  \n",
       "Num_Credit_Inquiries         208.000000  \n",
       "Outstanding_Debt            2576.960000  \n",
       "Credit_Utilization_Ratio      37.414982  \n",
       "Total_EMI_per_month         9505.000000  \n",
       "Amount_invested_monthly      934.368000  \n",
       "Monthly_Balance              891.209300  "
      ]
     },
     "execution_count": 21,
     "metadata": {},
     "output_type": "execute_result"
    }
   ],
   "source": [
    "#|echo: false\n",
    "distribution_stats = train_final.describe().drop(['Unnamed: 0','Credit_Rating','Credit_Mix_Bad','Credit_Mix_Good','Credit_Mix_Standard',\n",
    "                                                 'Payment_of_Min_Amount_No','Payment_of_Min_Amount_Yes'],axis=1)\n",
    "print('Continuous Predictor Distribution Table:')\n",
    "distribution_stats.T"
   ]
  },
  {
   "cell_type": "code",
   "execution_count": 18,
   "id": "b1811838",
   "metadata": {
    "tags": [
     "hide_input"
    ]
   },
   "outputs": [
    {
     "name": "stdout",
     "output_type": "stream",
     "text": [
      "Categorical Predictor Distribution Table:\n"
     ]
    },
    {
     "data": {
      "text/html": [
       "<div>\n",
       "<style scoped>\n",
       "    .dataframe tbody tr th:only-of-type {\n",
       "        vertical-align: middle;\n",
       "    }\n",
       "\n",
       "    .dataframe tbody tr th {\n",
       "        vertical-align: top;\n",
       "    }\n",
       "\n",
       "    .dataframe thead th {\n",
       "        text-align: right;\n",
       "    }\n",
       "</style>\n",
       "<table border=\"1\" class=\"dataframe\">\n",
       "  <thead>\n",
       "    <tr style=\"text-align: right;\">\n",
       "      <th></th>\n",
       "      <th>Variable</th>\n",
       "      <th>Category</th>\n",
       "      <th>Frequency</th>\n",
       "    </tr>\n",
       "  </thead>\n",
       "  <tbody>\n",
       "    <tr>\n",
       "      <th>0</th>\n",
       "      <td>Credit_Mix_Bad</td>\n",
       "      <td>0</td>\n",
       "      <td>7346</td>\n",
       "    </tr>\n",
       "    <tr>\n",
       "      <th>1</th>\n",
       "      <td>Credit_Mix_Bad</td>\n",
       "      <td>1</td>\n",
       "      <td>688</td>\n",
       "    </tr>\n",
       "    <tr>\n",
       "      <th>2</th>\n",
       "      <td>Credit_Mix_Good</td>\n",
       "      <td>0</td>\n",
       "      <td>5555</td>\n",
       "    </tr>\n",
       "    <tr>\n",
       "      <th>3</th>\n",
       "      <td>Credit_Mix_Good</td>\n",
       "      <td>1</td>\n",
       "      <td>2479</td>\n",
       "    </tr>\n",
       "    <tr>\n",
       "      <th>4</th>\n",
       "      <td>Credit_Mix_Standard</td>\n",
       "      <td>1</td>\n",
       "      <td>4867</td>\n",
       "    </tr>\n",
       "    <tr>\n",
       "      <th>5</th>\n",
       "      <td>Credit_Mix_Standard</td>\n",
       "      <td>0</td>\n",
       "      <td>3167</td>\n",
       "    </tr>\n",
       "    <tr>\n",
       "      <th>6</th>\n",
       "      <td>Payment_of_Min_Amount_No</td>\n",
       "      <td>0</td>\n",
       "      <td>4519</td>\n",
       "    </tr>\n",
       "    <tr>\n",
       "      <th>7</th>\n",
       "      <td>Payment_of_Min_Amount_No</td>\n",
       "      <td>1</td>\n",
       "      <td>3515</td>\n",
       "    </tr>\n",
       "    <tr>\n",
       "      <th>8</th>\n",
       "      <td>Payment_of_Min_Amount_Yes</td>\n",
       "      <td>1</td>\n",
       "      <td>4519</td>\n",
       "    </tr>\n",
       "    <tr>\n",
       "      <th>9</th>\n",
       "      <td>Payment_of_Min_Amount_Yes</td>\n",
       "      <td>0</td>\n",
       "      <td>3515</td>\n",
       "    </tr>\n",
       "  </tbody>\n",
       "</table>\n",
       "</div>"
      ],
      "text/plain": [
       "                    Variable Category Frequency\n",
       "0             Credit_Mix_Bad        0      7346\n",
       "1             Credit_Mix_Bad        1       688\n",
       "2            Credit_Mix_Good        0      5555\n",
       "3            Credit_Mix_Good        1      2479\n",
       "4        Credit_Mix_Standard        1      4867\n",
       "5        Credit_Mix_Standard        0      3167\n",
       "6   Payment_of_Min_Amount_No        0      4519\n",
       "7   Payment_of_Min_Amount_No        1      3515\n",
       "8  Payment_of_Min_Amount_Yes        1      4519\n",
       "9  Payment_of_Min_Amount_Yes        0      3515"
      ]
     },
     "execution_count": 18,
     "metadata": {},
     "output_type": "execute_result"
    }
   ],
   "source": [
    "#|echo: false\n",
    "cat_var = ['Credit_Mix_Bad','Credit_Mix_Good','Credit_Mix_Standard',\n",
    "                            'Payment_of_Min_Amount_No','Payment_of_Min_Amount_Yes']\n",
    "\n",
    "distribution_table = pd.DataFrame(columns=['Variable', 'Category', 'Frequency'])\n",
    "\n",
    "for var in cat_var:\n",
    "    distribution_stats = train_final[var].value_counts(dropna=False)\n",
    "    missing_values = train_final[var].isnull().sum()\n",
    "    temp_df = pd.DataFrame({\n",
    "        'Variable': var,\n",
    "        'Category': distribution_stats.index,\n",
    "        'Frequency': distribution_stats.values,\n",
    "    })\n",
    "\n",
    "    distribution_table = distribution_table.append(temp_df, ignore_index=True)\n",
    "\n",
    "print(\"Categorical Predictor Distribution Table:\")\n",
    "distribution_table"
   ]
  },
  {
   "cell_type": "markdown",
   "id": "fbb11c9b",
   "metadata": {},
   "source": [
    "## Exploratory data analysis"
   ]
  },
  {
   "cell_type": "markdown",
   "id": "e4bd74a9",
   "metadata": {},
   "source": [
    "If there is any EDA that helped with model development, put it here. If EDA didn't help then mention that, and you may show your EDA effort *(if any)* in the appendix.\n",
    "\n",
    "List the insights (as bullet points), if any, you got from EDA  that ended up being useful towards developing your final model. \n",
    "\n",
    "If there are too many plots / tables, you may put them into appendix, and just mention the insights you got from them."
   ]
  },
  {
   "cell_type": "markdown",
   "id": "d1f12d5d",
   "metadata": {},
   "source": [
    "Note that you can write code to publish the results of the code, but hide the code using the yaml setting `#|echo: false`. For example, the code below makes a plot, but the code itself is not published with Quarto in the report."
   ]
  },
  {
   "cell_type": "code",
   "execution_count": 4,
   "id": "14a59729",
   "metadata": {},
   "outputs": [
    {
     "data": {
      "image/png": "[encoded data removed]",
      "text/plain": [
       "<Figure size 432x288 with 1 Axes>"
      ]
     },
     "metadata": {
      "needs_background": "light"
     },
     "output_type": "display_data"
    }
   ],
   "source": [
    "#| echo: false\n",
    "import matplotlib.pyplot as plt\n",
    "plt.plot(range(10));"
   ]
  },
  {
   "cell_type": "markdown",
   "id": "d39c782c",
   "metadata": {},
   "source": [
    "## Approach\n",
    "\n",
    "What kind of a models did you use? What performance metric(s) did you optimize and why?\n",
    "\n",
    "Is there anything unorthodox / new in your approach? \n",
    "\n",
    "What problems did you anticipate? What problems did you encounter? \n",
    "\n",
    "Did your problem already have solution(s) (posted on Kaggle or elsewhere). If yes, then how did you build upon those solutions, what did you do differently? Is your model better as compared to those solutions in terms of prediction accuracy or your chosen metric?\n",
    "\n",
    "**Important: Mention any code repositories (with citations) or other sources that you used, and specifically what changes you made to them for your project.**"
   ]
  },
  {
   "cell_type": "markdown",
   "id": "acab331a",
   "metadata": {},
   "source": [
    "## Developing the model: Hyperparameter tuning"
   ]
  },
  {
   "cell_type": "markdown",
   "id": "ae5ec4c9",
   "metadata": {},
   "source": [
    "Every person must describe their hyperparameter tuning procedure. Show the grid of hyperparameter values over which the initial search was done *(you may paste your grid search / random search / any other search code)*, and the optimal hyperparameter values obtained. After getting the initial search results, how did you make decisions *(if any)* to further fine-tune your model. Did you do another grid / random search or did you tune hyperparameters sequentially? If you think you didn't need any fine tuning after the initial results, then mention that and explain why.\n",
    "\n",
    "Put each model in a section of its name and mention the name of the team-member tuning the model. Below is an example:"
   ]
  },
  {
   "cell_type": "markdown",
   "id": "ea422beb",
   "metadata": {},
   "source": [
    "### MARS and Bagged MARS\n",
    "*By Luca Moretti*"
   ]
  },
  {
   "cell_type": "markdown",
   "id": "a531d076",
   "metadata": {},
   "source": [
    "The first steps in creating the MARS model was to run through a 5-fold cross validation to find the optimal degrees for the model. Using maximum_term=1000 and a degree range from 1 to 10, the results yielded an optimum degree of 2 with a test RMSE of 64.582452. Further investigation of the model showed 19 degrees of freedom, excluding the intercept. Below is the final MARS model:\n",
    "\n",
    "*MARS = Earth(max_terms=1000, max_degree=2, feature_importance_type= 'rss')*\n",
    "# \n",
    "This model is able to be improved by using MARS as the base estimator in a bagging model. The following hyperparameters were investigated:\n",
    "\n",
    "*'n_estimators'*: determines the number of decision trees that will be created in the ensemble. \n",
    "\n",
    "*'max_samples'*: controls the number or proportion of samples from the training data that will be randomly selected for each tree.\n",
    "\n",
    "*'max_features'*: determines the number or proportion of features to consider when looking for the best split during the construction of each tree.\n",
    "# \n",
    "Searching through the following grid search yielded a test RMSE greater than that of the initial MARS model of 65.18251923571461:\n",
    "\n",
    "       {'n_estimators': [200, 300, 400],\n",
    "        'max_samples': [1.0, 1.5],\n",
    "        'max_features': [0.25, 0.5, 0.75]}\n",
    "\n",
    "The model needs finer tuning after these initial results. Upon further investigation and testing of parameters using a few random searches, the following grid search yielded the best test RMSE of 61.90342908024614 using a 'max_features' of 0.5, a 'max_samples' of 1.0, and an 'n_estimators' of 200:\n",
    "\n",
    "        {'n_estimators': [100,150,200],\n",
    "         'max_samples': [0.5,1.0],\n",
    "         'max_features': [0.5,1.0],}\n",
    "\n",
    "Below is the final model used in the ensemble model:\n",
    "\n",
    "*model1 = BaggingRegressor(base_estimator=MARS, n_estimators=250, random_state=1,\n",
    "                        oob_score=True,n_jobs=-1,bootstrap_features=True,bootstrap=True,\n",
    "                        max_features=1.0,max_samples=1.0)*"
   ]
  },
  {
   "cell_type": "markdown",
   "id": "b78fbd0e",
   "metadata": {},
   "source": [
    "### Bagged Trees\n",
    "*By Nicket Mauskar*"
   ]
  },
  {
   "cell_type": "markdown",
   "id": "43ea079b",
   "metadata": {},
   "source": [
    "In my Bagged trees models, the first thing I did was graph the OOB R-squared and R-squred on the train data vs the number of trees, which basically narrowed down my n_estimators to around 150-250. This is where I started in my grid search. The paramaters of my first grid search and the results are below: \n",
    "Paramaters of Coarse Grid:  \n",
    "        \n",
    "        {'n_estimators': [150,200,250],\n",
    "          'max_samples': [0.5,1.0],\n",
    "          'max_features': [0.5,1.0],\n",
    "          'bootstrap': [True, False],\n",
    "          'bootstrap_features': [True, False]}\n",
    "          \n",
    " \n",
    "Optimal parameters of Coarse Grid: \n",
    "\n",
    "        {'bootstrap': True, \n",
    "        'bootstrap_features': False, \n",
    "        'max_features': 0.5, \n",
    "        'max_samples': 1.0, \n",
    "        'n_estimators': 250}\n",
    " \n",
    "Test RMS Grid Search: 62.63951642827617\n",
    "\n",
    "\n",
    "From these results, I decided to increase the range of n_estimators from 150-250 to 250-350, the range of the max_features from [.5, 1] to [.4, .5, .6], and I kept bootstrap and boostrap_features the same to encompass both True and False values. \n",
    "\n",
    "\n",
    "Finer Grid Search 1: \n",
    "Parameters of Finer Grid 1: \n",
    "\n",
    "         {'n_estimators': [250, 300, 350],\n",
    "          'max_samples': [1.0],\n",
    "          'max_features': [0.4, 0.5, 0.6],\n",
    "          'bootstrap': [True],\n",
    "          'bootstrap_features': [True, False]}\n",
    " \n",
    "Optimal paramters of Finer Grid 1: \n",
    "\n",
    "\n",
    "        {'bootstrap': True, \n",
    "        'bootstrap_features': True, \n",
    "        'max_features': 0.6,\n",
    "        'max_samples': 1.0, \n",
    "        'n_estimators': 350}\n",
    "Test RMSE Finer Grid 1: 62.3023511506021\n",
    "\n",
    "From this finer grid search, I was able to decrease the Test RMSE by .3. Thus, for my second finer grid serch I increased the range of n_estimators to [350, 500], and kept the max_features the same. This finer grid search yielded a test RMSE of 62.363417489451514, which was basically an increase so I realized I was going in the wrong direction. For my third and final grid search, I decided to use the max_features of [0.5, 1], and increase the range of n_estimators to [250, 400] to make sure I was not overlooking any better combination. The third finer grid search is below:\n",
    "\n",
    "Finer Grid Search 3: \n",
    "Parameters of Finer Grid 3: \n",
    "\n",
    "        {'n_estimators': [250, 300, 400],\n",
    "          'max_samples': [1.0],\n",
    "          'max_features': [0.4, 0.5, 0.6, 1.0],\n",
    "          'bootstrap': [True],\n",
    "          'bootstrap_features': [True, False]}\n",
    "\n",
    "Optimal parameters of Finer Grid 3: \n",
    "\n",
    "        {'bootstrap': True, \n",
    "        'bootstrap_features': False, \n",
    "        'max_features': 0.5,\n",
    "        'max_samples': 1.0, \n",
    "        'n_estimators': 400}\n",
    "        \n",
    "This got my final test RMSE to 62.27130373550364, which is the lowest RMSE of the 4 total grid searches. "
   ]
  },
  {
   "cell_type": "markdown",
   "id": "2916849c",
   "metadata": {},
   "source": [
    "### Random forest\n",
    "*By Kaylee Mo*"
   ]
  },
  {
   "cell_type": "markdown",
   "id": "37f552ef",
   "metadata": {},
   "source": [
    "### XGBoost\n",
    "*By Ashley Witarsa*"
   ]
  },
  {
   "cell_type": "markdown",
   "id": "be2594f1",
   "metadata": {},
   "source": [
    "## Model Ensemble "
   ]
  },
  {
   "cell_type": "markdown",
   "id": "fa68b0a5",
   "metadata": {},
   "source": [
    "Put the results of enembling individual models. Feel free to add subsections in this section to add more innovative ensembling methods."
   ]
  },
  {
   "cell_type": "markdown",
   "id": "66c5924a",
   "metadata": {},
   "source": [
    "### Voting ensemble"
   ]
  },
  {
   "cell_type": "markdown",
   "id": "78a31cb2",
   "metadata": {},
   "source": [
    "The simplest voting ensemble will be the model where all models have equal weights.\n",
    "\n",
    "You may come up with innovative methods of estimating weights of the individual models, such as based on their cross-val error. Sometimes, these methods may work better than stacking ensembles, as stacking ensembles tend to overfit."
   ]
  },
  {
   "cell_type": "markdown",
   "id": "bcff4cda",
   "metadata": {},
   "source": [
    "### Stacking ensemble\n",
    "Try out different models as the metamodel. You may split work as follows. The person who worked on certain types of models *(say AdaBoost and MARS)* also uses those models as a metamodel in the stacking ensemble."
   ]
  },
  {
   "cell_type": "markdown",
   "id": "2b22a5f3",
   "metadata": {},
   "source": [
    "### Ensemble of ensembled models\n",
    "\n",
    "If you are creating multiple stacking ensembles *(based on different metamodels)*, you may ensemble them."
   ]
  },
  {
   "cell_type": "markdown",
   "id": "1b46343d",
   "metadata": {},
   "source": [
    "## Limitations of the model with regard to prediction"
   ]
  },
  {
   "cell_type": "markdown",
   "id": "c85ead90",
   "metadata": {},
   "source": [
    "Are you confident that you found the optimal hyperparameter values for each of your individual models, and that your individual models cannot be better tuned? Or, are there any models that could be better tuned if you had more time / resources, but you are limited by the amount of time you can spend on the course project *(equivalent to one assignment)*? If yes, then which models could be better tuned and how?\n",
    "\n",
    "Will it be possible / convenient / expensive for the stakeholders to collect the data relating to the predictors in the model. Using your model, how soon will the stakeholder be able to predict the outcome before the outcome occurs. For example, if the model predicts the number of bikes people will rent in Evanston on a certain day, then how many days before that day will your model be able to make the prediction. This will depend on how soon the data that your model uses becomes available. If you are predicting election results, how many days / weeks / months / years before the election can you predict the results. \n",
    "\n",
    "When will your model become too obsolete to be useful?"
   ]
  },
  {
   "cell_type": "code",
   "execution_count": null,
   "id": "61ca12e7",
   "metadata": {},
   "outputs": [],
   "source": []
  },
  {
   "cell_type": "markdown",
   "id": "f6026cb7",
   "metadata": {},
   "source": [
    "## Other sections *(optional)*\n",
    "\n",
    "You are welcome to introduce additional sections or subsections, if required, to address any specific aspects of your project in detail. For example, you may briefly discuss potential future work that the research community could focus on to make further progress in the direction of your project's topic."
   ]
  },
  {
   "cell_type": "markdown",
   "id": "62a185cb",
   "metadata": {},
   "source": [
    "## Conclusions and Recommendations to stakeholder(s)\n",
    "\n",
    "What conclusions do you draw based on your model? You may draw conclusions based on prediction accuracy, or other performance metrics.\n",
    "\n",
    "How do you use those conclusions to come up with meaningful recommendations for stakeholders? The recommendations must be action-items for stakeholders that they can directly implement without any further analysis. Be as precise as possible. The stakeholder(s) are depending on you to come up with practically implementable recommendations, instead of having to think for themselves.\n",
    "\n",
    "If your recommendations are not practically implementable by stakeholders, how will they help them? Is there some additional data / analysis / domain expertise you need to do to make the recommendations implementable? \n",
    "\n",
    "Do the stakeholder(s) need to be aware about some limitations of your model? Is your model only good for one-time use, or is it possible to update your model at a certain frequency (based on recent data) to keep using it in the future? If it can be used in the future, then for how far into the future?"
   ]
  },
  {
   "cell_type": "markdown",
   "id": "5505da5c",
   "metadata": {},
   "source": [
    "<html>\n",
    "<style>\n",
    "table, td, th {\n",
    "  border: 1px solid black;\n",
    "}\n",
    "\n",
    "table {\n",
    "  border-collapse: collapse;\n",
    "  width: 100%;\n",
    "}\n",
    "\n",
    "th {\n",
    "  text-align: left;\n",
    "}\n",
    "    \n",
    "\n",
    "</style>\n",
    "<body>\n",
    "\n",
    "<h2>Individual contribution</h2>\n",
    "\n",
    "<table style=\"width:100%\">\n",
    "     <colgroup>\n",
    "       <col span=\"1\" style=\"width: 15%;\">\n",
    "       <col span=\"1\" style=\"width: 20%;\">\n",
    "       <col span=\"1\" style=\"width: 25%;\">\n",
    "       <col span=\"1\" style=\"width: 40%;\">\n",
    "    </colgroup>\n",
    "  <tr>\n",
    "    <th>Team member</th>\n",
    "    <th>Individual Model</th>\n",
    "    <th>Work other than individual model</th>    \n",
    "    <th>Details of work other than individual model</th>\n",
    "  </tr>\n",
    "  <tr>\n",
    "    <td>Luca Moretti</td>\n",
    "    <td>MARS & Bagged MARS</td>\n",
    "    <td>Data cleaning & Variable selection</td>    \n",
    "    <td>Created new response variable and removed invalid characters from columns</td>\n",
    "  </tr>\n",
    "  <tr>\n",
    "    <td>Nicket Mauskar</td>\n",
    "    <td>Bagged Trees</td>\n",
    "    <td>Ensembling</td>    \n",
    "    <td>Stacking ensembles and voting ensemble</td>\n",
    "  </tr>\n",
    "    <tr>\n",
    "    <td>Kaylee Mo</td>\n",
    "    <td>Random forest</td>\n",
    "    <td>Ensembling</td>    \n",
    "    <td>Variable selection based on feature importance</td>\n",
    "  </tr>\n",
    "    <tr>\n",
    "    <td>Ashley Witarsa</td>\n",
    "    <td>XGBoost</td>\n",
    "    <td>Ensembling</td>    \n",
    "    <td>Innovative ensemble & stacking ensemble</td> \n",
    "  </tr>\n",
    "</table>"
   ]
  },
  {
   "cell_type": "markdown",
   "id": "00b1cafe",
   "metadata": {},
   "source": [
    "## References {-}"
   ]
  },
  {
   "cell_type": "markdown",
   "id": "ebdb1aad",
   "metadata": {},
   "source": [
    "List and number all bibliographical references. When referenced in the text, enclose the citation number in square brackets, for example [1].\n",
    "\n",
    "[1] Authors. The frobnicatable foo filter, 2014. Face and Gesture submission ID 324. Supplied as additional material\n",
    "fg324.pdf. 3\n"
   ]
  },
  {
   "cell_type": "markdown",
   "id": "5831751c",
   "metadata": {},
   "source": [
    "## Appendix {-}"
   ]
  },
  {
   "cell_type": "markdown",
   "id": "d13d374d",
   "metadata": {},
   "source": [
    "You may put additional stuff here as Appendix. You may refer to the Appendix in the main report to support your arguments. However, the appendix section is unlikely to be checked while grading, unless the grader deems it necessary."
   ]
  }
 ],
 "metadata": {
  "kernelspec": {
   "display_name": "Python 3 (ipykernel)",
   "language": "python",
   "name": "python3"
  },
  "language_info": {
   "codemirror_mode": {
    "name": "ipython",
    "version": 3
   },
   "file_extension": ".py",
   "mimetype": "text/x-python",
   "name": "python",
   "nbconvert_exporter": "python",
   "pygments_lexer": "ipython3",
   "version": "3.9.12"
  }
 },
 "nbformat": 4,
 "nbformat_minor": 5
}
