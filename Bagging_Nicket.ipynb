{
 "cells": [
  {
   "cell_type": "code",
   "execution_count": 1,
   "id": "87927f38",
   "metadata": {},
   "outputs": [],
   "source": [
    "import warnings\n",
    "warnings.filterwarnings(\"ignore\")\n",
    "\n",
    "import pandas as pd\n",
    "import numpy as np\n",
    "import statsmodels.formula.api as smf\n",
    "import statsmodels.api as sm\n",
    "import seaborn as sns\n",
    "import matplotlib.pyplot as plt\n",
    "from patsy import dmatrix\n",
    "from sklearn.metrics import mean_squared_error\n",
    "from pyearth import Earth\n",
    "from sklearn.metrics import roc_curve, precision_recall_curve, auc, make_scorer, recall_score, accuracy_score, precision_score, confusion_matrix\n",
    "from sklearn.linear_model import LinearRegression, LogisticRegression\n",
    "from sklearn.model_selection import train_test_split, cross_val_predict, cross_val_score, cross_validate\n",
    "from patsy import dmatrix\n",
    "import statsmodels.formula.api as smf\n",
    "from sklearn.model_selection import cross_val_predict\n",
    "from sklearn.metrics import accuracy_score, mean_absolute_error, mean_squared_error, r2_score, roc_curve, auc, precision_score, recall_score, confusion_matrix\n",
    "\n",
    "from sklearn.model_selection import KFold, StratifiedKFold\n",
    "from sklearn.tree import DecisionTreeRegressor, DecisionTreeClassifier\n",
    "from sklearn.model_selection import GridSearchCV, ParameterGrid\n",
    "from sklearn.ensemble import BaggingRegressor,BaggingClassifier,RandomForestClassifier, RandomForestRegressor\n",
    "from sklearn.linear_model import LinearRegression\n",
    "from sklearn.metrics import SCORERS\n",
    "\n",
    "#Libraries for visualizing trees\n",
    "from sklearn.tree import export_graphviz\n",
    "from six import StringIO\n",
    "from IPython.display import Image\n",
    "\n",
    "#import pydotplus\n",
    "import time as tm\n",
    "\n",
    "import itertools as it"
   ]
  },
  {
   "cell_type": "code",
   "execution_count": 2,
   "id": "93b0d413",
   "metadata": {},
   "outputs": [],
   "source": [
    "train = pd.read_csv('train_final.csv')\n",
    "test = pd.read_csv('test.csv')"
   ]
  },
  {
   "cell_type": "code",
   "execution_count": 3,
   "id": "479cd852",
   "metadata": {},
   "outputs": [],
   "source": [
    "train_final = pd.get_dummies(train)\n",
    "y = train_final.Credit_Rating\n",
    "X = train_final.drop(columns = 'Credit_Rating')\n",
    "X_train, X_test, y_train, y_test = train_test_split(X, y, test_size = 0.2, random_state = 45)\n",
    "\n",
    "X = X_train[X_train.columns]\n",
    "y = y_train"
   ]
  },
  {
   "cell_type": "markdown",
   "id": "67a5a5f3",
   "metadata": {},
   "source": [
    "## Grid Search"
   ]
  },
  {
   "cell_type": "code",
   "execution_count": 4,
   "id": "a8512b77",
   "metadata": {},
   "outputs": [
    {
     "name": "stdout",
     "output_type": "stream",
     "text": [
      "Fitting 5 folds for each of 96 candidates, totalling 480 fits\n"
     ]
    },
    {
     "data": {
      "text/plain": [
       "GridSearchCV(cv=KFold(n_splits=5, random_state=1, shuffle=True),\n",
       "             estimator=BaggingRegressor(n_jobs=-1, random_state=1), n_jobs=-1,\n",
       "             param_grid={'base_estimator': [DecisionTreeRegressor(random_state=1),\n",
       "                                            LinearRegression()],\n",
       "                         'bootstrap': [True, False],\n",
       "                         'bootstrap_features': [True, False],\n",
       "                         'max_features': [0.5, 1.0], 'max_samples': [0.5, 1.0],\n",
       "                         'n_estimators': [150, 200, 250]},\n",
       "             verbose=1)"
      ]
     },
     "execution_count": 4,
     "metadata": {},
     "output_type": "execute_result"
    }
   ],
   "source": [
    "n_samples = train.shape[0]\n",
    "n_features = train.shape[1]\n",
    "\n",
    "params = {'base_estimator': [DecisionTreeRegressor(random_state = 1),LinearRegression()],#Comparing bagging with a linear regression model as well\n",
    "          'n_estimators': [150,200,250],\n",
    "          'max_samples': [0.5,1.0],\n",
    "          'max_features': [0.5,1.0],\n",
    "          'bootstrap': [True, False],\n",
    "          'bootstrap_features': [True, False]}\n",
    "\n",
    "cv = KFold(n_splits=5,shuffle=True,random_state=1)\n",
    "bagging_regressor_grid = GridSearchCV(BaggingRegressor(random_state=1, n_jobs=-1), \n",
    "                                      param_grid =params, cv=cv, n_jobs=-1, verbose=1)\n",
    "bagging_regressor_grid.fit(X, y)"
   ]
  },
  {
   "cell_type": "code",
   "execution_count": 5,
   "id": "4f9fcb3f",
   "metadata": {},
   "outputs": [
    {
     "name": "stdout",
     "output_type": "stream",
     "text": [
      "Best Parameters :  {'base_estimator': DecisionTreeRegressor(random_state=1), 'bootstrap': True, 'bootstrap_features': True, 'max_features': 1.0, 'max_samples': 1.0, 'n_estimators': 250}\n"
     ]
    }
   ],
   "source": [
    "print('Best Parameters : ',bagging_regressor_grid.best_params_)"
   ]
  },
  {
   "cell_type": "code",
   "execution_count": 6,
   "id": "32fae2b9",
   "metadata": {},
   "outputs": [
    {
     "name": "stdout",
     "output_type": "stream",
     "text": [
      "61.619785272969395\n"
     ]
    }
   ],
   "source": [
    "#Model with optimal parameters\n",
    "model = BaggingRegressor(base_estimator=DecisionTreeRegressor(), n_estimators=250, random_state=1,\n",
    "                        oob_score=True,n_jobs=-1,bootstrap_features=True,bootstrap=True,\n",
    "                        max_features=1.0,max_samples=1.0).fit(X, y)\n",
    "\n",
    "#RMSE on test data\n",
    "RMSE = np.sqrt(mean_squared_error(y_test, model.predict(X_test)))\n",
    "print(RMSE)\n"
   ]
  },
  {
   "cell_type": "markdown",
   "id": "d661c9f7",
   "metadata": {},
   "source": [
    "# Finer Grid Search 1"
   ]
  },
  {
   "cell_type": "code",
   "execution_count": 7,
   "id": "11ab5495",
   "metadata": {},
   "outputs": [
    {
     "name": "stdout",
     "output_type": "stream",
     "text": [
      "Fitting 5 folds for each of 24 candidates, totalling 120 fits\n",
      "Best Parameters :  {'base_estimator': DecisionTreeRegressor(random_state=1), 'bootstrap': True, 'bootstrap_features': True, 'max_features': 1.0, 'max_samples': 1.0, 'n_estimators': 300}\n"
     ]
    }
   ],
   "source": [
    "n_samples = train.shape[0]\n",
    "n_features = train.shape[1]\n",
    "\n",
    "finer_params1 = {'base_estimator': [DecisionTreeRegressor(random_state = 1),LinearRegression()],#Comparing bagging with a linear regression model as well\n",
    "          'n_estimators': [250, 300, 350],\n",
    "          'max_samples': [1.0, 1.5],\n",
    "          'max_features': [1.0, 1.5],\n",
    "          'bootstrap': [True],\n",
    "          'bootstrap_features': [True]}\n",
    "\n",
    "cv = KFold(n_splits=5,shuffle=True,random_state=1)\n",
    "bagging_regressor_grid_finer1 = GridSearchCV(BaggingRegressor(random_state=1, n_jobs=-1), \n",
    "                                      param_grid =finer_params1, cv=cv, n_jobs=-1, verbose=1)\n",
    "bagging_regressor_grid_finer1.fit(X, y)\n",
    "\n",
    "print('Best Parameters : ',bagging_regressor_grid_finer1.best_params_)"
   ]
  },
  {
   "cell_type": "code",
   "execution_count": 8,
   "id": "35fa1206",
   "metadata": {},
   "outputs": [
    {
     "name": "stdout",
     "output_type": "stream",
     "text": [
      "61.619785272969395\n"
     ]
    }
   ],
   "source": [
    "#Model with optimal parameters\n",
    "model_finer1 = BaggingRegressor(base_estimator=DecisionTreeRegressor(), n_estimators=250, random_state=1,\n",
    "                        oob_score=True,n_jobs=-1,bootstrap_features=True,bootstrap=True,\n",
    "                        max_features=1.0,max_samples=1.0).fit(X, y)\n",
    "\n",
    "#RMSE on test data\n",
    "RMSE = np.sqrt(mean_squared_error(y_test, model_finer1.predict(X_test)))\n",
    "print(RMSE)\n"
   ]
  },
  {
   "cell_type": "markdown",
   "id": "3c7d8770",
   "metadata": {},
   "source": [
    "# Finer Grid Search 2"
   ]
  },
  {
   "cell_type": "code",
   "execution_count": 9,
   "id": "3578e2e0",
   "metadata": {},
   "outputs": [
    {
     "name": "stdout",
     "output_type": "stream",
     "text": [
      "Fitting 5 folds for each of 54 candidates, totalling 270 fits\n",
      "Best Parameters :  {'base_estimator': DecisionTreeRegressor(random_state=1), 'bootstrap': True, 'bootstrap_features': True, 'max_features': 1.0, 'max_samples': 1.0, 'n_estimators': 300}\n"
     ]
    }
   ],
   "source": [
    "n_samples = train.shape[0]\n",
    "n_features = train.shape[1]\n",
    "\n",
    "finer_params2 = {'base_estimator': [DecisionTreeRegressor(random_state = 1),LinearRegression()],#Comparing bagging with a linear regression model as well\n",
    "          'n_estimators': [250, 300, 350],\n",
    "          'max_samples': [.75, 1.0, 1.25],\n",
    "          'max_features': [.75, 1.0, 1.25],\n",
    "          'bootstrap': [True],\n",
    "          'bootstrap_features': [True]}\n",
    "\n",
    "cv = KFold(n_splits=5,shuffle=True,random_state=1)\n",
    "bagging_regressor_grid_finer2 = GridSearchCV(BaggingRegressor(random_state=1, n_jobs=-1), \n",
    "                                      param_grid =finer_params2, cv=cv, n_jobs=-1, verbose=1)\n",
    "bagging_regressor_grid_finer2.fit(X_train, y_train)\n",
    "\n",
    "print('Best Parameters : ',bagging_regressor_grid_finer1.best_params_)"
   ]
  },
  {
   "cell_type": "code",
   "execution_count": 11,
   "id": "803fd7cf",
   "metadata": {},
   "outputs": [
    {
     "name": "stdout",
     "output_type": "stream",
     "text": [
      "61.57320248750542\n"
     ]
    }
   ],
   "source": [
    "#Model with optimal parameters\n",
    "model_finer2 = BaggingRegressor(base_estimator=DecisionTreeRegressor(), n_estimators=300, random_state=1,\n",
    "                        oob_score=True,n_jobs=-1,bootstrap_features=True,bootstrap=True,\n",
    "                        max_features=1.0,max_samples=1.0).fit(X, y)\n",
    "\n",
    "#RMSE on test data\n",
    "RMSE = np.sqrt(mean_squared_error(y_test, model_finer2.predict(X_test)))\n",
    "print(RMSE)\n"
   ]
  }
 ],
 "metadata": {
  "kernelspec": {
   "display_name": "Python 3 (ipykernel)",
   "language": "python",
   "name": "python3"
  },
  "language_info": {
   "codemirror_mode": {
    "name": "ipython",
    "version": 3
   },
   "file_extension": ".py",
   "mimetype": "text/x-python",
   "name": "python",
   "nbconvert_exporter": "python",
   "pygments_lexer": "ipython3",
   "version": "3.9.12"
  }
 },
 "nbformat": 4,
 "nbformat_minor": 5
}
