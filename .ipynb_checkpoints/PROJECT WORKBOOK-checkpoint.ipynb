{
 "cells": [
  {
   "cell_type": "code",
   "execution_count": 78,
   "id": "468a8e2e",
   "metadata": {},
   "outputs": [],
   "source": [
    "import warnings\n",
    "warnings.filterwarnings(\"ignore\")\n",
    "\n",
    "import pandas as pd\n",
    "import numpy as np\n",
    "import statsmodels.formula.api as smf\n",
    "import statsmodels.api as sm\n",
    "import seaborn as sns\n",
    "import matplotlib.pyplot as plt\n",
    "from patsy import dmatrix\n",
    "from sklearn.metrics import mean_squared_error\n",
    "from pyearth import Earth\n",
    "from sklearn.metrics import roc_curve, precision_recall_curve, auc, make_scorer, recall_score, accuracy_score, precision_score, confusion_matrix\n",
    "from sklearn.linear_model import LinearRegression, LogisticRegression\n",
    "from sklearn.model_selection import train_test_split, cross_val_predict, cross_val_score, cross_validate\n",
    "from patsy import dmatrix\n",
    "import statsmodels.formula.api as smf\n",
    "from sklearn.model_selection import cross_val_predict\n",
    "from sklearn.metrics import accuracy_score, mean_absolute_error, mean_squared_error, r2_score, roc_curve, auc, precision_score, recall_score, confusion_matrix\n",
    "\n",
    "from sklearn.model_selection import KFold, StratifiedKFold\n",
    "from sklearn.tree import DecisionTreeRegressor, DecisionTreeClassifier\n",
    "from sklearn.model_selection import GridSearchCV, ParameterGrid\n",
    "from sklearn.ensemble import BaggingRegressor,BaggingClassifier,RandomForestClassifier, RandomForestRegressor\n",
    "from sklearn.linear_model import LinearRegression\n",
    "from sklearn.metrics import SCORERS\n",
    "\n",
    "#Libraries for visualizing trees\n",
    "from sklearn.tree import export_graphviz\n",
    "from six import StringIO\n",
    "from IPython.display import Image\n",
    "\n",
    "#import pydotplus\n",
    "import time as tm\n",
    "\n",
    "import itertools as it"
   ]
  },
  {
   "cell_type": "code",
   "execution_count": 79,
   "id": "f444cd3d",
   "metadata": {},
   "outputs": [],
   "source": [
    "import pandas as pd\n",
    "import numpy as np\n",
    "import seaborn as sns\n",
    "import matplotlib.pyplot as plt\n",
    "from sklearn.metrics import mean_squared_error\n",
    "from sklearn.model_selection import cross_val_score,train_test_split, KFold, cross_val_predict\n",
    "from sklearn.metrics import mean_squared_error,r2_score,roc_curve,auc,precision_recall_curve, accuracy_score, \\\n",
    "recall_score, precision_score, confusion_matrix\n",
    "from sklearn.tree import DecisionTreeRegressor,DecisionTreeClassifier\n",
    "from sklearn.model_selection import GridSearchCV, ParameterGrid, StratifiedKFold, RandomizedSearchCV\n",
    "from sklearn.ensemble import VotingRegressor, VotingClassifier, StackingRegressor, StackingClassifier, GradientBoostingRegressor,GradientBoostingClassifier, BaggingRegressor,BaggingClassifier,RandomForestRegressor,RandomForestClassifier,AdaBoostRegressor,AdaBoostClassifier\n",
    "from sklearn.linear_model import LinearRegression,LogisticRegression, LassoCV, RidgeCV, ElasticNetCV\n",
    "from sklearn.neighbors import KNeighborsRegressor\n",
    "import itertools as it\n",
    "import time as time\n",
    "import xgboost as xgb"
   ]
  },
  {
   "cell_type": "markdown",
   "id": "6bbc8503",
   "metadata": {},
   "source": [
    "# Data quality check / cleaning / preparation¶"
   ]
  },
  {
   "cell_type": "markdown",
   "id": "e9be700c",
   "metadata": {},
   "source": [
    "### Cleaning - Training Data"
   ]
  },
  {
   "cell_type": "code",
   "execution_count": 80,
   "id": "2cb68a81",
   "metadata": {},
   "outputs": [],
   "source": [
    "train = pd.read_csv('train.csv')\n",
    "test = pd.read_csv('test.csv')\n",
    "\n",
    "\n",
    "\n",
    "# Create Credit Ratings based on Investopedia Values\n",
    "train['Credit_Rating'] = 0\n",
    "train['Credit_Rating'] = np.where(train['Credit_Score'] == 'Good',\n",
    "                          np.random.uniform(670, 730, size=len(train)),\n",
    "                          train['Credit_Rating'])\n",
    "\n",
    "train['Credit_Rating'] = np.where(train['Credit_Score'] == 'Standard',\n",
    "                          np.random.uniform(580, 670, size=len(train)),\n",
    "                          train['Credit_Rating'])\n",
    "\n",
    "train['Credit_Rating'] = np.where(train['Credit_Score'] == 'Poor',\n",
    "                          np.random.uniform(0, 580, size=len(train)),\n",
    "                          train['Credit_Rating'])\n",
    "\n",
    "\n",
    "\n",
    "# Drop irrelevant columns\n",
    "columns_to_drop = ['Customer_ID', 'ID','Month', 'Name', 'SSN', 'Interest_Rate','Occupation',\n",
    "                    'Type_of_Loan', 'Delay_from_due_date', 'Payment_Behaviour', 'Credit_History_Age', 'Credit_Score']\n",
    "\n",
    "train.drop(columns_to_drop, axis=1, inplace=True)\n",
    "\n",
    "\n",
    "\n",
    "# Removing invalid characters from columns\n",
    "mix_type_num_col = ['Age', 'Annual_Income', \n",
    "                    'Num_of_Delayed_Payment','Changed_Credit_Limit',\n",
    "                    'Outstanding_Debt', 'Amount_invested_monthly', 'Monthly_Balance', 'Num_of_Loan']\n",
    "\n",
    "def set_numeric_columns(features,df=None):\n",
    "\n",
    "    df[features]=df[features].apply(lambda x: x.replace('_','',regex=True) )\n",
    "    df[features]=df[features].apply(lambda x: x.str.strip())\n",
    "    df[features]=df[features].apply(lambda x: x.replace('',np.nan))\n",
    "    df[features[1:]]=df[features[1:]].astype('float32')\n",
    "    df[features[0]]=df[features[0]].astype('int32')\n",
    "\n",
    "set_numeric_columns(mix_type_num_col,df=train)"
   ]
  },
  {
   "cell_type": "code",
   "execution_count": 81,
   "id": "c08a5ec2",
   "metadata": {},
   "outputs": [],
   "source": [
    "train = train.dropna()\n",
    "\n",
    "train = train.loc[train.Credit_Mix != \"_\"]\n",
    "train = train.loc[train.Payment_of_Min_Amount != \"NM\"]\n",
    "\n",
    "train_dummies = pd.get_dummies(train)"
   ]
  },
  {
   "cell_type": "code",
   "execution_count": 82,
   "id": "477fc7f4",
   "metadata": {},
   "outputs": [],
   "source": [
    "y = train_dummies.Credit_Rating\n",
    "X = train_dummies.drop(columns = 'Credit_Rating')\n",
    "X_train, X_test, y_train, y_test = train_test_split(X, y, test_size = 0.2, random_state = 45)\n",
    "\n",
    "X = X_train[X_train.columns]\n",
    "y = y_train"
   ]
  },
  {
   "cell_type": "markdown",
   "id": "4437d95b",
   "metadata": {},
   "source": [
    "# Base Model"
   ]
  },
  {
   "cell_type": "code",
   "execution_count": 6,
   "id": "ea61c56f",
   "metadata": {},
   "outputs": [
    {
     "data": {
      "text/plain": [
       "DecisionTreeRegressor(random_state=1)"
      ]
     },
     "execution_count": 6,
     "metadata": {},
     "output_type": "execute_result"
    }
   ],
   "source": [
    "model = DecisionTreeRegressor(random_state=1)\n",
    "model.fit(X, y)"
   ]
  },
  {
   "cell_type": "code",
   "execution_count": 7,
   "id": "cc52dba5",
   "metadata": {},
   "outputs": [],
   "source": [
    "pred = model.predict(X_test)"
   ]
  },
  {
   "cell_type": "code",
   "execution_count": 8,
   "id": "b6d66f91",
   "metadata": {},
   "outputs": [
    {
     "name": "stdout",
     "output_type": "stream",
     "text": [
      "The RMSE of the Base Model is 207.9111736473456\n"
     ]
    }
   ],
   "source": [
    "print(\"The RMSE of the Base Model is\", np.sqrt(mean_squared_error(y_test, pred)))"
   ]
  },
  {
   "cell_type": "markdown",
   "id": "fbf6bc98",
   "metadata": {},
   "source": [
    "# Visualization"
   ]
  },
  {
   "cell_type": "code",
   "execution_count": 9,
   "id": "1bb74556",
   "metadata": {},
   "outputs": [
    {
     "name": "stdout",
     "output_type": "stream",
     "text": [
      "['Age', 'Annual_Income', 'Monthly_Inhand_Salary', 'Num_Bank_Accounts', 'Num_Credit_Card', 'Num_of_Loan', 'Num_of_Delayed_Payment', 'Changed_Credit_Limit', 'Num_Credit_Inquiries', 'Outstanding_Debt', 'Credit_Utilization_Ratio', 'Total_EMI_per_month', 'Amount_invested_monthly', 'Monthly_Balance', 'Credit_Rating']\n"
     ]
    }
   ],
   "source": [
    "# remove outliers\n",
    "\n",
    "numerics = ['int16', 'int32', 'int64', 'float16', 'float32', 'float64']\n",
    "def remove_outliers(df, columns, threshold=3):\n",
    "    print(columns)\n",
    "    outliers_indices = []\n",
    "    for column_name in columns:\n",
    "        # Calculate the Z-scores for the specified column\n",
    "        z_scores = np.abs((df[column_name] - df[column_name].mean()) / df[column_name].std())\n",
    "        # Identify outliers based on the threshold\n",
    "        outliers_indices.extend(z_scores[z_scores > threshold].index)\n",
    "    \n",
    "    df_no_outliers = df.drop(outliers_indices)\n",
    "    return df_no_outliers\n",
    "\n",
    "train = remove_outliers(train, train.select_dtypes(include = numerics).columns.tolist(), threshold = 1)\n"
   ]
  },
  {
   "cell_type": "markdown",
   "id": "ff030171",
   "metadata": {},
   "source": [
    "###  Base Model without outliers"
   ]
  },
  {
   "cell_type": "code",
   "execution_count": 10,
   "id": "02fc88bb",
   "metadata": {},
   "outputs": [],
   "source": [
    "train_final = pd.get_dummies(train)\n",
    "y = train_final.Credit_Rating\n",
    "X = train_final.drop(columns = 'Credit_Rating')\n",
    "X_train, X_test, y_train, y_test = train_test_split(X, y, test_size = 0.2, random_state = 45)\n",
    "\n",
    "X = X_train[X_train.columns]\n",
    "y = y_train"
   ]
  },
  {
   "cell_type": "code",
   "execution_count": 11,
   "id": "51554047",
   "metadata": {},
   "outputs": [
    {
     "data": {
      "text/plain": [
       "DecisionTreeRegressor(random_state=1)"
      ]
     },
     "execution_count": 11,
     "metadata": {},
     "output_type": "execute_result"
    }
   ],
   "source": [
    "model = DecisionTreeRegressor(random_state=1)\n",
    "model.fit(X, y)"
   ]
  },
  {
   "cell_type": "code",
   "execution_count": 12,
   "id": "adbc2037",
   "metadata": {},
   "outputs": [],
   "source": [
    "pred = model.predict(X_test)"
   ]
  },
  {
   "cell_type": "code",
   "execution_count": 13,
   "id": "23638a7c",
   "metadata": {},
   "outputs": [
    {
     "name": "stdout",
     "output_type": "stream",
     "text": [
      "The RMSE of the Base Model is 86.83143201871685\n"
     ]
    }
   ],
   "source": [
    "print(\"The RMSE of the Base Model is\", np.sqrt(mean_squared_error(y_test, pred)))"
   ]
  },
  {
   "cell_type": "markdown",
   "id": "7fbaea4b",
   "metadata": {},
   "source": [
    "### distribution of the response variable"
   ]
  },
  {
   "cell_type": "code",
   "execution_count": 14,
   "id": "54106ac1",
   "metadata": {
    "scrolled": true
   },
   "outputs": [
    {
     "data": {
      "text/plain": [
       "<AxesSubplot:xlabel='Credit_Rating', ylabel='Density'>"
      ]
     },
     "execution_count": 14,
     "metadata": {},
     "output_type": "execute_result"
    },
    {
     "data": {
      "image/png": "[encoded data removed]",
      "text/plain": [
       "<Figure size 432x288 with 1 Axes>"
      ]
     },
     "metadata": {
      "needs_background": "light"
     },
     "output_type": "display_data"
    }
   ],
   "source": [
    "sns.kdeplot(train_final.Credit_Rating)"
   ]
  },
  {
   "cell_type": "markdown",
   "id": "1df8e37e",
   "metadata": {},
   "source": [
    "### distribution of each predictor"
   ]
  },
  {
   "cell_type": "markdown",
   "id": "6aa7c4f6",
   "metadata": {},
   "source": [
    "#### continuous"
   ]
  },
  {
   "cell_type": "code",
   "execution_count": 15,
   "id": "f163f54b",
   "metadata": {},
   "outputs": [
    {
     "data": {
      "text/html": [
       "<div>\n",
       "<style scoped>\n",
       "    .dataframe tbody tr th:only-of-type {\n",
       "        vertical-align: middle;\n",
       "    }\n",
       "\n",
       "    .dataframe tbody tr th {\n",
       "        vertical-align: top;\n",
       "    }\n",
       "\n",
       "    .dataframe thead th {\n",
       "        text-align: right;\n",
       "    }\n",
       "</style>\n",
       "<table border=\"1\" class=\"dataframe\">\n",
       "  <thead>\n",
       "    <tr style=\"text-align: right;\">\n",
       "      <th></th>\n",
       "      <th>Age</th>\n",
       "      <th>Annual_Income</th>\n",
       "      <th>Monthly_Inhand_Salary</th>\n",
       "      <th>Num_Bank_Accounts</th>\n",
       "      <th>Num_Credit_Card</th>\n",
       "      <th>Num_of_Loan</th>\n",
       "      <th>Num_of_Delayed_Payment</th>\n",
       "      <th>Changed_Credit_Limit</th>\n",
       "      <th>Num_Credit_Inquiries</th>\n",
       "      <th>Outstanding_Debt</th>\n",
       "      <th>Credit_Utilization_Ratio</th>\n",
       "      <th>Total_EMI_per_month</th>\n",
       "      <th>Amount_invested_monthly</th>\n",
       "      <th>Monthly_Balance</th>\n",
       "      <th>Credit_Rating</th>\n",
       "      <th>Credit_Mix_Bad</th>\n",
       "      <th>Credit_Mix_Good</th>\n",
       "      <th>Credit_Mix_Standard</th>\n",
       "      <th>Payment_of_Min_Amount_No</th>\n",
       "      <th>Payment_of_Min_Amount_Yes</th>\n",
       "    </tr>\n",
       "  </thead>\n",
       "  <tbody>\n",
       "    <tr>\n",
       "      <th>6</th>\n",
       "      <td>23</td>\n",
       "      <td>19114.119141</td>\n",
       "      <td>1824.843333</td>\n",
       "      <td>3</td>\n",
       "      <td>4</td>\n",
       "      <td>4.0</td>\n",
       "      <td>8.0</td>\n",
       "      <td>11.27</td>\n",
       "      <td>4.0</td>\n",
       "      <td>809.979980</td>\n",
       "      <td>22.537593</td>\n",
       "      <td>49.574949</td>\n",
       "      <td>178.344070</td>\n",
       "      <td>244.565323</td>\n",
       "      <td>688.694864</td>\n",
       "      <td>0</td>\n",
       "      <td>1</td>\n",
       "      <td>0</td>\n",
       "      <td>1</td>\n",
       "      <td>0</td>\n",
       "    </tr>\n",
       "    <tr>\n",
       "      <th>7</th>\n",
       "      <td>23</td>\n",
       "      <td>19114.119141</td>\n",
       "      <td>1824.843333</td>\n",
       "      <td>3</td>\n",
       "      <td>4</td>\n",
       "      <td>4.0</td>\n",
       "      <td>6.0</td>\n",
       "      <td>11.27</td>\n",
       "      <td>4.0</td>\n",
       "      <td>809.979980</td>\n",
       "      <td>23.933795</td>\n",
       "      <td>49.574949</td>\n",
       "      <td>24.785217</td>\n",
       "      <td>358.124176</td>\n",
       "      <td>627.615903</td>\n",
       "      <td>0</td>\n",
       "      <td>1</td>\n",
       "      <td>0</td>\n",
       "      <td>1</td>\n",
       "      <td>0</td>\n",
       "    </tr>\n",
       "    <tr>\n",
       "      <th>8</th>\n",
       "      <td>28</td>\n",
       "      <td>34847.839844</td>\n",
       "      <td>3037.986667</td>\n",
       "      <td>2</td>\n",
       "      <td>4</td>\n",
       "      <td>1.0</td>\n",
       "      <td>4.0</td>\n",
       "      <td>5.42</td>\n",
       "      <td>2.0</td>\n",
       "      <td>605.030029</td>\n",
       "      <td>24.464031</td>\n",
       "      <td>18.816215</td>\n",
       "      <td>104.291824</td>\n",
       "      <td>470.690613</td>\n",
       "      <td>639.463337</td>\n",
       "      <td>0</td>\n",
       "      <td>1</td>\n",
       "      <td>0</td>\n",
       "      <td>1</td>\n",
       "      <td>0</td>\n",
       "    </tr>\n",
       "    <tr>\n",
       "      <th>9</th>\n",
       "      <td>28</td>\n",
       "      <td>34847.839844</td>\n",
       "      <td>3037.986667</td>\n",
       "      <td>2</td>\n",
       "      <td>4</td>\n",
       "      <td>1.0</td>\n",
       "      <td>1.0</td>\n",
       "      <td>7.42</td>\n",
       "      <td>2.0</td>\n",
       "      <td>605.030029</td>\n",
       "      <td>38.550848</td>\n",
       "      <td>18.816215</td>\n",
       "      <td>40.391239</td>\n",
       "      <td>484.591217</td>\n",
       "      <td>700.838845</td>\n",
       "      <td>0</td>\n",
       "      <td>1</td>\n",
       "      <td>0</td>\n",
       "      <td>1</td>\n",
       "      <td>0</td>\n",
       "    </tr>\n",
       "    <tr>\n",
       "      <th>12</th>\n",
       "      <td>28</td>\n",
       "      <td>34847.839844</td>\n",
       "      <td>3037.986667</td>\n",
       "      <td>2</td>\n",
       "      <td>4</td>\n",
       "      <td>1.0</td>\n",
       "      <td>1.0</td>\n",
       "      <td>6.42</td>\n",
       "      <td>2.0</td>\n",
       "      <td>605.030029</td>\n",
       "      <td>34.977895</td>\n",
       "      <td>18.816215</td>\n",
       "      <td>130.115417</td>\n",
       "      <td>444.867035</td>\n",
       "      <td>703.270950</td>\n",
       "      <td>0</td>\n",
       "      <td>1</td>\n",
       "      <td>0</td>\n",
       "      <td>1</td>\n",
       "      <td>0</td>\n",
       "    </tr>\n",
       "  </tbody>\n",
       "</table>\n",
       "</div>"
      ],
      "text/plain": [
       "    Age  Annual_Income  Monthly_Inhand_Salary  Num_Bank_Accounts  \\\n",
       "6    23   19114.119141            1824.843333                  3   \n",
       "7    23   19114.119141            1824.843333                  3   \n",
       "8    28   34847.839844            3037.986667                  2   \n",
       "9    28   34847.839844            3037.986667                  2   \n",
       "12   28   34847.839844            3037.986667                  2   \n",
       "\n",
       "    Num_Credit_Card  Num_of_Loan  Num_of_Delayed_Payment  \\\n",
       "6                 4          4.0                     8.0   \n",
       "7                 4          4.0                     6.0   \n",
       "8                 4          1.0                     4.0   \n",
       "9                 4          1.0                     1.0   \n",
       "12                4          1.0                     1.0   \n",
       "\n",
       "    Changed_Credit_Limit  Num_Credit_Inquiries  Outstanding_Debt  \\\n",
       "6                  11.27                   4.0        809.979980   \n",
       "7                  11.27                   4.0        809.979980   \n",
       "8                   5.42                   2.0        605.030029   \n",
       "9                   7.42                   2.0        605.030029   \n",
       "12                  6.42                   2.0        605.030029   \n",
       "\n",
       "    Credit_Utilization_Ratio  Total_EMI_per_month  Amount_invested_monthly  \\\n",
       "6                  22.537593            49.574949               178.344070   \n",
       "7                  23.933795            49.574949                24.785217   \n",
       "8                  24.464031            18.816215               104.291824   \n",
       "9                  38.550848            18.816215                40.391239   \n",
       "12                 34.977895            18.816215               130.115417   \n",
       "\n",
       "    Monthly_Balance  Credit_Rating  Credit_Mix_Bad  Credit_Mix_Good  \\\n",
       "6        244.565323     688.694864               0                1   \n",
       "7        358.124176     627.615903               0                1   \n",
       "8        470.690613     639.463337               0                1   \n",
       "9        484.591217     700.838845               0                1   \n",
       "12       444.867035     703.270950               0                1   \n",
       "\n",
       "    Credit_Mix_Standard  Payment_of_Min_Amount_No  Payment_of_Min_Amount_Yes  \n",
       "6                     0                         1                          0  \n",
       "7                     0                         1                          0  \n",
       "8                     0                         1                          0  \n",
       "9                     0                         1                          0  \n",
       "12                    0                         1                          0  "
      ]
     },
     "execution_count": 15,
     "metadata": {},
     "output_type": "execute_result"
    }
   ],
   "source": [
    "train_dummies.head()"
   ]
  },
  {
   "cell_type": "code",
   "execution_count": 16,
   "id": "058f9cc0",
   "metadata": {
    "scrolled": false
   },
   "outputs": [
    {
     "data": {
      "text/html": [
       "<div>\n",
       "<style scoped>\n",
       "    .dataframe tbody tr th:only-of-type {\n",
       "        vertical-align: middle;\n",
       "    }\n",
       "\n",
       "    .dataframe tbody tr th {\n",
       "        vertical-align: top;\n",
       "    }\n",
       "\n",
       "    .dataframe thead th {\n",
       "        text-align: right;\n",
       "    }\n",
       "</style>\n",
       "<table border=\"1\" class=\"dataframe\">\n",
       "  <thead>\n",
       "    <tr style=\"text-align: right;\">\n",
       "      <th></th>\n",
       "      <th>Age</th>\n",
       "      <th>Annual_Income</th>\n",
       "      <th>Monthly_Inhand_Salary</th>\n",
       "      <th>Num_Bank_Accounts</th>\n",
       "      <th>Num_Credit_Card</th>\n",
       "      <th>Num_of_Loan</th>\n",
       "      <th>Num_of_Delayed_Payment</th>\n",
       "      <th>Changed_Credit_Limit</th>\n",
       "      <th>Num_Credit_Inquiries</th>\n",
       "      <th>Outstanding_Debt</th>\n",
       "      <th>Credit_Utilization_Ratio</th>\n",
       "      <th>Total_EMI_per_month</th>\n",
       "      <th>Amount_invested_monthly</th>\n",
       "      <th>Monthly_Balance</th>\n",
       "      <th>Credit_Rating</th>\n",
       "      <th>Credit_Mix_Bad</th>\n",
       "      <th>Credit_Mix_Good</th>\n",
       "      <th>Credit_Mix_Standard</th>\n",
       "      <th>Payment_of_Min_Amount_No</th>\n",
       "      <th>Payment_of_Min_Amount_Yes</th>\n",
       "    </tr>\n",
       "  </thead>\n",
       "  <tbody>\n",
       "    <tr>\n",
       "      <th>12</th>\n",
       "      <td>28</td>\n",
       "      <td>34847.839844</td>\n",
       "      <td>3037.986667</td>\n",
       "      <td>2</td>\n",
       "      <td>4</td>\n",
       "      <td>1.0</td>\n",
       "      <td>1.0</td>\n",
       "      <td>6.42</td>\n",
       "      <td>2.0</td>\n",
       "      <td>605.030029</td>\n",
       "      <td>34.977895</td>\n",
       "      <td>18.816215</td>\n",
       "      <td>130.115417</td>\n",
       "      <td>444.867035</td>\n",
       "      <td>703.270950</td>\n",
       "      <td>0</td>\n",
       "      <td>1</td>\n",
       "      <td>0</td>\n",
       "      <td>1</td>\n",
       "      <td>0</td>\n",
       "    </tr>\n",
       "    <tr>\n",
       "      <th>13</th>\n",
       "      <td>28</td>\n",
       "      <td>34847.839844</td>\n",
       "      <td>3037.986667</td>\n",
       "      <td>2</td>\n",
       "      <td>4</td>\n",
       "      <td>1.0</td>\n",
       "      <td>0.0</td>\n",
       "      <td>5.42</td>\n",
       "      <td>2.0</td>\n",
       "      <td>605.030029</td>\n",
       "      <td>33.381010</td>\n",
       "      <td>18.816215</td>\n",
       "      <td>43.477192</td>\n",
       "      <td>481.505249</td>\n",
       "      <td>711.221232</td>\n",
       "      <td>0</td>\n",
       "      <td>1</td>\n",
       "      <td>0</td>\n",
       "      <td>1</td>\n",
       "      <td>0</td>\n",
       "    </tr>\n",
       "    <tr>\n",
       "      <th>15</th>\n",
       "      <td>28</td>\n",
       "      <td>34847.839844</td>\n",
       "      <td>3037.986667</td>\n",
       "      <td>2</td>\n",
       "      <td>4</td>\n",
       "      <td>1.0</td>\n",
       "      <td>4.0</td>\n",
       "      <td>5.42</td>\n",
       "      <td>2.0</td>\n",
       "      <td>605.030029</td>\n",
       "      <td>32.933856</td>\n",
       "      <td>18.816215</td>\n",
       "      <td>218.904343</td>\n",
       "      <td>356.078094</td>\n",
       "      <td>672.203336</td>\n",
       "      <td>0</td>\n",
       "      <td>1</td>\n",
       "      <td>0</td>\n",
       "      <td>1</td>\n",
       "      <td>0</td>\n",
       "    </tr>\n",
       "    <tr>\n",
       "      <th>43</th>\n",
       "      <td>31</td>\n",
       "      <td>73928.460938</td>\n",
       "      <td>5988.705000</td>\n",
       "      <td>4</td>\n",
       "      <td>5</td>\n",
       "      <td>0.0</td>\n",
       "      <td>7.0</td>\n",
       "      <td>10.14</td>\n",
       "      <td>2.0</td>\n",
       "      <td>548.200012</td>\n",
       "      <td>30.201658</td>\n",
       "      <td>0.000000</td>\n",
       "      <td>618.202393</td>\n",
       "      <td>270.668121</td>\n",
       "      <td>673.291471</td>\n",
       "      <td>0</td>\n",
       "      <td>1</td>\n",
       "      <td>0</td>\n",
       "      <td>1</td>\n",
       "      <td>0</td>\n",
       "    </tr>\n",
       "    <tr>\n",
       "      <th>81</th>\n",
       "      <td>40</td>\n",
       "      <td>33751.269531</td>\n",
       "      <td>2948.605833</td>\n",
       "      <td>5</td>\n",
       "      <td>5</td>\n",
       "      <td>3.0</td>\n",
       "      <td>20.0</td>\n",
       "      <td>11.00</td>\n",
       "      <td>4.0</td>\n",
       "      <td>1328.930054</td>\n",
       "      <td>30.908081</td>\n",
       "      <td>65.008174</td>\n",
       "      <td>70.131081</td>\n",
       "      <td>399.721344</td>\n",
       "      <td>624.719286</td>\n",
       "      <td>0</td>\n",
       "      <td>0</td>\n",
       "      <td>1</td>\n",
       "      <td>0</td>\n",
       "      <td>1</td>\n",
       "    </tr>\n",
       "  </tbody>\n",
       "</table>\n",
       "</div>"
      ],
      "text/plain": [
       "    Age  Annual_Income  Monthly_Inhand_Salary  Num_Bank_Accounts  \\\n",
       "12   28   34847.839844            3037.986667                  2   \n",
       "13   28   34847.839844            3037.986667                  2   \n",
       "15   28   34847.839844            3037.986667                  2   \n",
       "43   31   73928.460938            5988.705000                  4   \n",
       "81   40   33751.269531            2948.605833                  5   \n",
       "\n",
       "    Num_Credit_Card  Num_of_Loan  Num_of_Delayed_Payment  \\\n",
       "12                4          1.0                     1.0   \n",
       "13                4          1.0                     0.0   \n",
       "15                4          1.0                     4.0   \n",
       "43                5          0.0                     7.0   \n",
       "81                5          3.0                    20.0   \n",
       "\n",
       "    Changed_Credit_Limit  Num_Credit_Inquiries  Outstanding_Debt  \\\n",
       "12                  6.42                   2.0        605.030029   \n",
       "13                  5.42                   2.0        605.030029   \n",
       "15                  5.42                   2.0        605.030029   \n",
       "43                 10.14                   2.0        548.200012   \n",
       "81                 11.00                   4.0       1328.930054   \n",
       "\n",
       "    Credit_Utilization_Ratio  Total_EMI_per_month  Amount_invested_monthly  \\\n",
       "12                 34.977895            18.816215               130.115417   \n",
       "13                 33.381010            18.816215                43.477192   \n",
       "15                 32.933856            18.816215               218.904343   \n",
       "43                 30.201658             0.000000               618.202393   \n",
       "81                 30.908081            65.008174                70.131081   \n",
       "\n",
       "    Monthly_Balance  Credit_Rating  Credit_Mix_Bad  Credit_Mix_Good  \\\n",
       "12       444.867035     703.270950               0                1   \n",
       "13       481.505249     711.221232               0                1   \n",
       "15       356.078094     672.203336               0                1   \n",
       "43       270.668121     673.291471               0                1   \n",
       "81       399.721344     624.719286               0                0   \n",
       "\n",
       "    Credit_Mix_Standard  Payment_of_Min_Amount_No  Payment_of_Min_Amount_Yes  \n",
       "12                    0                         1                          0  \n",
       "13                    0                         1                          0  \n",
       "15                    0                         1                          0  \n",
       "43                    0                         1                          0  \n",
       "81                    1                         0                          1  "
      ]
     },
     "execution_count": 16,
     "metadata": {},
     "output_type": "execute_result"
    }
   ],
   "source": [
    "train_final.head()"
   ]
  },
  {
   "cell_type": "code",
   "execution_count": 17,
   "id": "3ac7b236",
   "metadata": {},
   "outputs": [
    {
     "data": {
      "text/plain": [
       "<AxesSubplot:xlabel='Age', ylabel='Density'>"
      ]
     },
     "execution_count": 17,
     "metadata": {},
     "output_type": "execute_result"
    },
    {
     "data": {
      "image/png": "[encoded data removed]",
      "text/plain": [
       "<Figure size 432x288 with 1 Axes>"
      ]
     },
     "metadata": {
      "needs_background": "light"
     },
     "output_type": "display_data"
    }
   ],
   "source": [
    "sns.kdeplot(train_final.Age)"
   ]
  },
  {
   "cell_type": "code",
   "execution_count": 18,
   "id": "2da9f707",
   "metadata": {},
   "outputs": [
    {
     "data": {
      "text/plain": [
       "<AxesSubplot:xlabel='Annual_Income', ylabel='Density'>"
      ]
     },
     "execution_count": 18,
     "metadata": {},
     "output_type": "execute_result"
    },
    {
     "data": {
      "image/png": "[encoded data removed]",
      "text/plain": [
       "<Figure size 432x288 with 1 Axes>"
      ]
     },
     "metadata": {
      "needs_background": "light"
     },
     "output_type": "display_data"
    }
   ],
   "source": [
    "sns.kdeplot(train_final.Annual_Income)"
   ]
  },
  {
   "cell_type": "code",
   "execution_count": 19,
   "id": "639bc299",
   "metadata": {},
   "outputs": [
    {
     "data": {
      "text/plain": [
       "<AxesSubplot:xlabel='Monthly_Inhand_Salary', ylabel='Density'>"
      ]
     },
     "execution_count": 19,
     "metadata": {},
     "output_type": "execute_result"
    },
    {
     "data": {
      "image/png": "[encoded data removed]",
      "text/plain": [
       "<Figure size 432x288 with 1 Axes>"
      ]
     },
     "metadata": {
      "needs_background": "light"
     },
     "output_type": "display_data"
    }
   ],
   "source": [
    "sns.kdeplot(train_final.Monthly_Inhand_Salary)"
   ]
  },
  {
   "cell_type": "code",
   "execution_count": 20,
   "id": "f757a198",
   "metadata": {},
   "outputs": [
    {
     "data": {
      "text/plain": [
       "<AxesSubplot:xlabel='Num_Bank_Accounts', ylabel='Density'>"
      ]
     },
     "execution_count": 20,
     "metadata": {},
     "output_type": "execute_result"
    },
    {
     "data": {
      "image/png": "[encoded data removed]",
      "text/plain": [
       "<Figure size 432x288 with 1 Axes>"
      ]
     },
     "metadata": {
      "needs_background": "light"
     },
     "output_type": "display_data"
    }
   ],
   "source": [
    "sns.kdeplot(train_final.Num_Bank_Accounts)"
   ]
  },
  {
   "cell_type": "code",
   "execution_count": 21,
   "id": "a4e55310",
   "metadata": {},
   "outputs": [
    {
     "data": {
      "text/plain": [
       "<AxesSubplot:xlabel='Num_Credit_Card', ylabel='Density'>"
      ]
     },
     "execution_count": 21,
     "metadata": {},
     "output_type": "execute_result"
    },
    {
     "data": {
      "image/png": "[encoded data removed]",
      "text/plain": [
       "<Figure size 432x288 with 1 Axes>"
      ]
     },
     "metadata": {
      "needs_background": "light"
     },
     "output_type": "display_data"
    }
   ],
   "source": [
    "sns.kdeplot(train_final.Num_Credit_Card)"
   ]
  },
  {
   "cell_type": "code",
   "execution_count": 22,
   "id": "d3f67b90",
   "metadata": {},
   "outputs": [
    {
     "data": {
      "text/plain": [
       "<AxesSubplot:xlabel='Num_of_Loan', ylabel='Density'>"
      ]
     },
     "execution_count": 22,
     "metadata": {},
     "output_type": "execute_result"
    },
    {
     "data": {
      "image/png": "[encoded data removed]",
      "text/plain": [
       "<Figure size 432x288 with 1 Axes>"
      ]
     },
     "metadata": {
      "needs_background": "light"
     },
     "output_type": "display_data"
    }
   ],
   "source": [
    "sns.kdeplot(train_final.Num_of_Loan)"
   ]
  },
  {
   "cell_type": "code",
   "execution_count": 23,
   "id": "efd0d3e2",
   "metadata": {},
   "outputs": [
    {
     "data": {
      "text/plain": [
       "<AxesSubplot:xlabel='Num_of_Delayed_Payment', ylabel='Density'>"
      ]
     },
     "execution_count": 23,
     "metadata": {},
     "output_type": "execute_result"
    },
    {
     "data": {
      "image/png": "[encoded data removed]",
      "text/plain": [
       "<Figure size 432x288 with 1 Axes>"
      ]
     },
     "metadata": {
      "needs_background": "light"
     },
     "output_type": "display_data"
    }
   ],
   "source": [
    "sns.kdeplot(train_final.Num_of_Delayed_Payment)"
   ]
  },
  {
   "cell_type": "code",
   "execution_count": 24,
   "id": "547ba9ad",
   "metadata": {},
   "outputs": [
    {
     "data": {
      "text/plain": [
       "<AxesSubplot:xlabel='Changed_Credit_Limit', ylabel='Density'>"
      ]
     },
     "execution_count": 24,
     "metadata": {},
     "output_type": "execute_result"
    },
    {
     "data": {
      "image/png": "[encoded data removed]",
      "text/plain": [
       "<Figure size 432x288 with 1 Axes>"
      ]
     },
     "metadata": {
      "needs_background": "light"
     },
     "output_type": "display_data"
    }
   ],
   "source": [
    "sns.kdeplot(train_final.Changed_Credit_Limit)"
   ]
  },
  {
   "cell_type": "code",
   "execution_count": 25,
   "id": "ec9e30b2",
   "metadata": {},
   "outputs": [
    {
     "data": {
      "text/plain": [
       "<AxesSubplot:xlabel='Num_Credit_Inquiries', ylabel='Density'>"
      ]
     },
     "execution_count": 25,
     "metadata": {},
     "output_type": "execute_result"
    },
    {
     "data": {
      "image/png": "[encoded data removed]",
      "text/plain": [
       "<Figure size 432x288 with 1 Axes>"
      ]
     },
     "metadata": {
      "needs_background": "light"
     },
     "output_type": "display_data"
    }
   ],
   "source": [
    "sns.kdeplot(train_final.Num_Credit_Inquiries)"
   ]
  },
  {
   "cell_type": "code",
   "execution_count": 26,
   "id": "36d9dfd4",
   "metadata": {},
   "outputs": [
    {
     "data": {
      "text/plain": [
       "<AxesSubplot:xlabel='Outstanding_Debt', ylabel='Density'>"
      ]
     },
     "execution_count": 26,
     "metadata": {},
     "output_type": "execute_result"
    },
    {
     "data": {
      "image/png": "[encoded data removed]",
      "text/plain": [
       "<Figure size 432x288 with 1 Axes>"
      ]
     },
     "metadata": {
      "needs_background": "light"
     },
     "output_type": "display_data"
    }
   ],
   "source": [
    "sns.kdeplot(train_final.Outstanding_Debt)"
   ]
  },
  {
   "cell_type": "code",
   "execution_count": 27,
   "id": "a450a209",
   "metadata": {},
   "outputs": [
    {
     "data": {
      "text/plain": [
       "<AxesSubplot:xlabel='Credit_Utilization_Ratio', ylabel='Density'>"
      ]
     },
     "execution_count": 27,
     "metadata": {},
     "output_type": "execute_result"
    },
    {
     "data": {
      "image/png": "[encoded data removed]",
      "text/plain": [
       "<Figure size 432x288 with 1 Axes>"
      ]
     },
     "metadata": {
      "needs_background": "light"
     },
     "output_type": "display_data"
    }
   ],
   "source": [
    "sns.kdeplot(train_final.Credit_Utilization_Ratio)"
   ]
  },
  {
   "cell_type": "code",
   "execution_count": 28,
   "id": "c22753d7",
   "metadata": {
    "scrolled": true
   },
   "outputs": [
    {
     "data": {
      "text/plain": [
       "<AxesSubplot:xlabel='Total_EMI_per_month', ylabel='Density'>"
      ]
     },
     "execution_count": 28,
     "metadata": {},
     "output_type": "execute_result"
    },
    {
     "data": {
      "image/png": "[encoded data removed]",
      "text/plain": [
       "<Figure size 432x288 with 1 Axes>"
      ]
     },
     "metadata": {
      "needs_background": "light"
     },
     "output_type": "display_data"
    }
   ],
   "source": [
    "sns.kdeplot(train_final.Total_EMI_per_month)"
   ]
  },
  {
   "cell_type": "code",
   "execution_count": 29,
   "id": "4d9958a6",
   "metadata": {
    "scrolled": true
   },
   "outputs": [
    {
     "data": {
      "text/plain": [
       "<AxesSubplot:xlabel='Amount_invested_monthly', ylabel='Density'>"
      ]
     },
     "execution_count": 29,
     "metadata": {},
     "output_type": "execute_result"
    },
    {
     "data": {
      "image/png": "[encoded data removed]",
      "text/plain": [
       "<Figure size 432x288 with 1 Axes>"
      ]
     },
     "metadata": {
      "needs_background": "light"
     },
     "output_type": "display_data"
    }
   ],
   "source": [
    "sns.kdeplot(train_final.Amount_invested_monthly)"
   ]
  },
  {
   "cell_type": "code",
   "execution_count": 30,
   "id": "860e0fc3",
   "metadata": {},
   "outputs": [
    {
     "data": {
      "text/plain": [
       "<AxesSubplot:xlabel='Monthly_Balance', ylabel='Density'>"
      ]
     },
     "execution_count": 30,
     "metadata": {},
     "output_type": "execute_result"
    },
    {
     "data": {
      "image/png": "[encoded data removed]",
      "text/plain": [
       "<Figure size 432x288 with 1 Axes>"
      ]
     },
     "metadata": {
      "needs_background": "light"
     },
     "output_type": "display_data"
    }
   ],
   "source": [
    "sns.kdeplot(train_final.Monthly_Balance)"
   ]
  },
  {
   "cell_type": "code",
   "execution_count": 31,
   "id": "fdb1e040",
   "metadata": {},
   "outputs": [
    {
     "data": {
      "text/plain": [
       "<AxesSubplot:xlabel='Credit_Rating', ylabel='Density'>"
      ]
     },
     "execution_count": 31,
     "metadata": {},
     "output_type": "execute_result"
    },
    {
     "data": {
      "image/png": "[encoded data removed]",
      "text/plain": [
       "<Figure size 432x288 with 1 Axes>"
      ]
     },
     "metadata": {
      "needs_background": "light"
     },
     "output_type": "display_data"
    }
   ],
   "source": [
    "sns.kdeplot(train_final.Credit_Rating)"
   ]
  },
  {
   "cell_type": "markdown",
   "id": "e7853e0f",
   "metadata": {},
   "source": [
    "#### categorical"
   ]
  },
  {
   "cell_type": "code",
   "execution_count": 32,
   "id": "5f1678a6",
   "metadata": {},
   "outputs": [
    {
     "data": {
      "image/png": "[encoded data removed]",
      "text/plain": [
       "<Figure size 432x288 with 1 Axes>"
      ]
     },
     "metadata": {
      "needs_background": "light"
     },
     "output_type": "display_data"
    }
   ],
   "source": [
    "# Credit_Mix\n",
    "sns.countplot(x='Credit_Mix', data = train)\n",
    "plt.xlabel('Credit_Mix')\n",
    "plt.ylabel('Count')\n",
    "\n",
    "plt.show()"
   ]
  },
  {
   "cell_type": "code",
   "execution_count": 33,
   "id": "26fdcecc",
   "metadata": {},
   "outputs": [
    {
     "data": {
      "image/png": "[encoded data removed]",
      "text/plain": [
       "<Figure size 432x288 with 1 Axes>"
      ]
     },
     "metadata": {
      "needs_background": "light"
     },
     "output_type": "display_data"
    }
   ],
   "source": [
    "# Payment of Min Amount \n",
    "sns.countplot(x='Payment_of_Min_Amount', data = train)\n",
    "plt.xlabel('Payment_of_Min_Amount')\n",
    "plt.ylabel('Count')\n",
    "\n",
    "plt.show()"
   ]
  },
  {
   "cell_type": "markdown",
   "id": "c2752d01",
   "metadata": {},
   "source": [
    "# TRAIN DATASET IS CALLED train_final*******"
   ]
  },
  {
   "cell_type": "code",
   "execution_count": 86,
   "id": "2dcdbb97",
   "metadata": {},
   "outputs": [],
   "source": [
    "train_final = pd.get_dummies(train)\n",
    "y = train_final.Credit_Rating\n",
    "X = train_final.drop(columns = 'Credit_Rating')\n",
    "X_train, X_test, y_train, y_test = train_test_split(X, y, test_size = 0.2, random_state = 45)\n",
    "\n",
    "X = X_train[X_train.columns]\n",
    "y = y_train"
   ]
  },
  {
   "cell_type": "markdown",
   "id": "78e424f3",
   "metadata": {},
   "source": [
    "## MARS - Luca"
   ]
  },
  {
   "cell_type": "code",
   "execution_count": 35,
   "id": "bae902f4",
   "metadata": {},
   "outputs": [
    {
     "name": "stderr",
     "output_type": "stream",
     "text": [
      "/opt/anaconda3/lib/python3.9/site-packages/pyearth/earth.py:813: FutureWarning: `rcond` parameter will change to the default of machine precision times ``max(M, N)`` where M and N are the input matrix dimensions.\n",
      "To use the future default and silence this warning we advise to pass `rcond=None`, to keep using the old, explicitly pass `rcond=-1`.\n",
      "  pruning_passer.run()\n",
      "/opt/anaconda3/lib/python3.9/site-packages/pyearth/earth.py:813: FutureWarning: `rcond` parameter will change to the default of machine precision times ``max(M, N)`` where M and N are the input matrix dimensions.\n",
      "To use the future default and silence this warning we advise to pass `rcond=None`, to keep using the old, explicitly pass `rcond=-1`.\n",
      "  pruning_passer.run()\n",
      "/opt/anaconda3/lib/python3.9/site-packages/pyearth/earth.py:813: FutureWarning: `rcond` parameter will change to the default of machine precision times ``max(M, N)`` where M and N are the input matrix dimensions.\n",
      "To use the future default and silence this warning we advise to pass `rcond=None`, to keep using the old, explicitly pass `rcond=-1`.\n",
      "  pruning_passer.run()\n",
      "/opt/anaconda3/lib/python3.9/site-packages/pyearth/earth.py:813: FutureWarning: `rcond` parameter will change to the default of machine precision times ``max(M, N)`` where M and N are the input matrix dimensions.\n",
      "To use the future default and silence this warning we advise to pass `rcond=None`, to keep using the old, explicitly pass `rcond=-1`.\n",
      "  pruning_passer.run()\n",
      "/opt/anaconda3/lib/python3.9/site-packages/pyearth/earth.py:813: FutureWarning: `rcond` parameter will change to the default of machine precision times ``max(M, N)`` where M and N are the input matrix dimensions.\n",
      "To use the future default and silence this warning we advise to pass `rcond=None`, to keep using the old, explicitly pass `rcond=-1`.\n",
      "  pruning_passer.run()\n",
      "/opt/anaconda3/lib/python3.9/site-packages/pyearth/earth.py:1066: FutureWarning: `rcond` parameter will change to the default of machine precision times ``max(M, N)`` where M and N are the input matrix dimensions.\n",
      "To use the future default and silence this warning we advise to pass `rcond=None`, to keep using the old, explicitly pass `rcond=-1`.\n",
      "  coef, resid = np.linalg.lstsq(B, weighted_y[:, i])[0:2]\n",
      "/opt/anaconda3/lib/python3.9/site-packages/pyearth/earth.py:1066: FutureWarning: `rcond` parameter will change to the default of machine precision times ``max(M, N)`` where M and N are the input matrix dimensions.\n",
      "To use the future default and silence this warning we advise to pass `rcond=None`, to keep using the old, explicitly pass `rcond=-1`.\n",
      "  coef, resid = np.linalg.lstsq(B, weighted_y[:, i])[0:2]\n",
      "/opt/anaconda3/lib/python3.9/site-packages/pyearth/earth.py:1066: FutureWarning: `rcond` parameter will change to the default of machine precision times ``max(M, N)`` where M and N are the input matrix dimensions.\n",
      "To use the future default and silence this warning we advise to pass `rcond=None`, to keep using the old, explicitly pass `rcond=-1`.\n",
      "  coef, resid = np.linalg.lstsq(B, weighted_y[:, i])[0:2]\n",
      "/opt/anaconda3/lib/python3.9/site-packages/pyearth/earth.py:1066: FutureWarning: `rcond` parameter will change to the default of machine precision times ``max(M, N)`` where M and N are the input matrix dimensions.\n",
      "To use the future default and silence this warning we advise to pass `rcond=None`, to keep using the old, explicitly pass `rcond=-1`.\n",
      "  coef, resid = np.linalg.lstsq(B, weighted_y[:, i])[0:2]\n",
      "/opt/anaconda3/lib/python3.9/site-packages/pyearth/earth.py:1066: FutureWarning: `rcond` parameter will change to the default of machine precision times ``max(M, N)`` where M and N are the input matrix dimensions.\n",
      "To use the future default and silence this warning we advise to pass `rcond=None`, to keep using the old, explicitly pass `rcond=-1`.\n",
      "  coef, resid = np.linalg.lstsq(B, weighted_y[:, i])[0:2]\n",
      "/opt/anaconda3/lib/python3.9/site-packages/pyearth/earth.py:813: FutureWarning: `rcond` parameter will change to the default of machine precision times ``max(M, N)`` where M and N are the input matrix dimensions.\n",
      "To use the future default and silence this warning we advise to pass `rcond=None`, to keep using the old, explicitly pass `rcond=-1`.\n",
      "  pruning_passer.run()\n",
      "/opt/anaconda3/lib/python3.9/site-packages/pyearth/earth.py:813: FutureWarning: `rcond` parameter will change to the default of machine precision times ``max(M, N)`` where M and N are the input matrix dimensions.\n",
      "To use the future default and silence this warning we advise to pass `rcond=None`, to keep using the old, explicitly pass `rcond=-1`.\n",
      "  pruning_passer.run()\n",
      "/opt/anaconda3/lib/python3.9/site-packages/pyearth/earth.py:813: FutureWarning: `rcond` parameter will change to the default of machine precision times ``max(M, N)`` where M and N are the input matrix dimensions.\n",
      "To use the future default and silence this warning we advise to pass `rcond=None`, to keep using the old, explicitly pass `rcond=-1`.\n",
      "  pruning_passer.run()\n",
      "/opt/anaconda3/lib/python3.9/site-packages/pyearth/earth.py:813: FutureWarning: `rcond` parameter will change to the default of machine precision times ``max(M, N)`` where M and N are the input matrix dimensions.\n",
      "To use the future default and silence this warning we advise to pass `rcond=None`, to keep using the old, explicitly pass `rcond=-1`.\n",
      "  pruning_passer.run()\n",
      "/opt/anaconda3/lib/python3.9/site-packages/pyearth/earth.py:1066: FutureWarning: `rcond` parameter will change to the default of machine precision times ``max(M, N)`` where M and N are the input matrix dimensions.\n",
      "To use the future default and silence this warning we advise to pass `rcond=None`, to keep using the old, explicitly pass `rcond=-1`.\n",
      "  coef, resid = np.linalg.lstsq(B, weighted_y[:, i])[0:2]\n",
      "/opt/anaconda3/lib/python3.9/site-packages/pyearth/earth.py:1066: FutureWarning: `rcond` parameter will change to the default of machine precision times ``max(M, N)`` where M and N are the input matrix dimensions.\n",
      "To use the future default and silence this warning we advise to pass `rcond=None`, to keep using the old, explicitly pass `rcond=-1`.\n",
      "  coef, resid = np.linalg.lstsq(B, weighted_y[:, i])[0:2]\n",
      "/opt/anaconda3/lib/python3.9/site-packages/pyearth/earth.py:1066: FutureWarning: `rcond` parameter will change to the default of machine precision times ``max(M, N)`` where M and N are the input matrix dimensions.\n",
      "To use the future default and silence this warning we advise to pass `rcond=None`, to keep using the old, explicitly pass `rcond=-1`.\n",
      "  coef, resid = np.linalg.lstsq(B, weighted_y[:, i])[0:2]\n",
      "/opt/anaconda3/lib/python3.9/site-packages/pyearth/earth.py:1066: FutureWarning: `rcond` parameter will change to the default of machine precision times ``max(M, N)`` where M and N are the input matrix dimensions.\n",
      "To use the future default and silence this warning we advise to pass `rcond=None`, to keep using the old, explicitly pass `rcond=-1`.\n",
      "  coef, resid = np.linalg.lstsq(B, weighted_y[:, i])[0:2]\n",
      "/opt/anaconda3/lib/python3.9/site-packages/pyearth/earth.py:813: FutureWarning: `rcond` parameter will change to the default of machine precision times ``max(M, N)`` where M and N are the input matrix dimensions.\n",
      "To use the future default and silence this warning we advise to pass `rcond=None`, to keep using the old, explicitly pass `rcond=-1`.\n",
      "  pruning_passer.run()\n",
      "/opt/anaconda3/lib/python3.9/site-packages/pyearth/earth.py:1066: FutureWarning: `rcond` parameter will change to the default of machine precision times ``max(M, N)`` where M and N are the input matrix dimensions.\n",
      "To use the future default and silence this warning we advise to pass `rcond=None`, to keep using the old, explicitly pass `rcond=-1`.\n",
      "  coef, resid = np.linalg.lstsq(B, weighted_y[:, i])[0:2]\n",
      "/opt/anaconda3/lib/python3.9/site-packages/pyearth/earth.py:813: FutureWarning: `rcond` parameter will change to the default of machine precision times ``max(M, N)`` where M and N are the input matrix dimensions.\n",
      "To use the future default and silence this warning we advise to pass `rcond=None`, to keep using the old, explicitly pass `rcond=-1`.\n",
      "  pruning_passer.run()\n",
      "/opt/anaconda3/lib/python3.9/site-packages/pyearth/earth.py:1066: FutureWarning: `rcond` parameter will change to the default of machine precision times ``max(M, N)`` where M and N are the input matrix dimensions.\n",
      "To use the future default and silence this warning we advise to pass `rcond=None`, to keep using the old, explicitly pass `rcond=-1`.\n",
      "  coef, resid = np.linalg.lstsq(B, weighted_y[:, i])[0:2]\n"
     ]
    },
    {
     "name": "stderr",
     "output_type": "stream",
     "text": [
      "/opt/anaconda3/lib/python3.9/site-packages/pyearth/earth.py:813: FutureWarning: `rcond` parameter will change to the default of machine precision times ``max(M, N)`` where M and N are the input matrix dimensions.\n",
      "To use the future default and silence this warning we advise to pass `rcond=None`, to keep using the old, explicitly pass `rcond=-1`.\n",
      "  pruning_passer.run()\n",
      "/opt/anaconda3/lib/python3.9/site-packages/pyearth/earth.py:1066: FutureWarning: `rcond` parameter will change to the default of machine precision times ``max(M, N)`` where M and N are the input matrix dimensions.\n",
      "To use the future default and silence this warning we advise to pass `rcond=None`, to keep using the old, explicitly pass `rcond=-1`.\n",
      "  coef, resid = np.linalg.lstsq(B, weighted_y[:, i])[0:2]\n",
      "/opt/anaconda3/lib/python3.9/site-packages/pyearth/earth.py:813: FutureWarning: `rcond` parameter will change to the default of machine precision times ``max(M, N)`` where M and N are the input matrix dimensions.\n",
      "To use the future default and silence this warning we advise to pass `rcond=None`, to keep using the old, explicitly pass `rcond=-1`.\n",
      "  pruning_passer.run()\n",
      "/opt/anaconda3/lib/python3.9/site-packages/pyearth/earth.py:1066: FutureWarning: `rcond` parameter will change to the default of machine precision times ``max(M, N)`` where M and N are the input matrix dimensions.\n",
      "To use the future default and silence this warning we advise to pass `rcond=None`, to keep using the old, explicitly pass `rcond=-1`.\n",
      "  coef, resid = np.linalg.lstsq(B, weighted_y[:, i])[0:2]\n",
      "/opt/anaconda3/lib/python3.9/site-packages/pyearth/earth.py:813: FutureWarning: `rcond` parameter will change to the default of machine precision times ``max(M, N)`` where M and N are the input matrix dimensions.\n",
      "To use the future default and silence this warning we advise to pass `rcond=None`, to keep using the old, explicitly pass `rcond=-1`.\n",
      "  pruning_passer.run()\n",
      "/opt/anaconda3/lib/python3.9/site-packages/pyearth/earth.py:813: FutureWarning: `rcond` parameter will change to the default of machine precision times ``max(M, N)`` where M and N are the input matrix dimensions.\n",
      "To use the future default and silence this warning we advise to pass `rcond=None`, to keep using the old, explicitly pass `rcond=-1`.\n",
      "  pruning_passer.run()\n",
      "/opt/anaconda3/lib/python3.9/site-packages/pyearth/earth.py:1066: FutureWarning: `rcond` parameter will change to the default of machine precision times ``max(M, N)`` where M and N are the input matrix dimensions.\n",
      "To use the future default and silence this warning we advise to pass `rcond=None`, to keep using the old, explicitly pass `rcond=-1`.\n",
      "  coef, resid = np.linalg.lstsq(B, weighted_y[:, i])[0:2]\n",
      "/opt/anaconda3/lib/python3.9/site-packages/pyearth/earth.py:1066: FutureWarning: `rcond` parameter will change to the default of machine precision times ``max(M, N)`` where M and N are the input matrix dimensions.\n",
      "To use the future default and silence this warning we advise to pass `rcond=None`, to keep using the old, explicitly pass `rcond=-1`.\n",
      "  coef, resid = np.linalg.lstsq(B, weighted_y[:, i])[0:2]\n",
      "/opt/anaconda3/lib/python3.9/site-packages/pyearth/earth.py:813: FutureWarning: `rcond` parameter will change to the default of machine precision times ``max(M, N)`` where M and N are the input matrix dimensions.\n",
      "To use the future default and silence this warning we advise to pass `rcond=None`, to keep using the old, explicitly pass `rcond=-1`.\n",
      "  pruning_passer.run()\n",
      "/opt/anaconda3/lib/python3.9/site-packages/pyearth/earth.py:1066: FutureWarning: `rcond` parameter will change to the default of machine precision times ``max(M, N)`` where M and N are the input matrix dimensions.\n",
      "To use the future default and silence this warning we advise to pass `rcond=None`, to keep using the old, explicitly pass `rcond=-1`.\n",
      "  coef, resid = np.linalg.lstsq(B, weighted_y[:, i])[0:2]\n",
      "/opt/anaconda3/lib/python3.9/site-packages/pyearth/earth.py:813: FutureWarning: `rcond` parameter will change to the default of machine precision times ``max(M, N)`` where M and N are the input matrix dimensions.\n",
      "To use the future default and silence this warning we advise to pass `rcond=None`, to keep using the old, explicitly pass `rcond=-1`.\n",
      "  pruning_passer.run()\n",
      "/opt/anaconda3/lib/python3.9/site-packages/pyearth/earth.py:813: FutureWarning: `rcond` parameter will change to the default of machine precision times ``max(M, N)`` where M and N are the input matrix dimensions.\n",
      "To use the future default and silence this warning we advise to pass `rcond=None`, to keep using the old, explicitly pass `rcond=-1`.\n",
      "  pruning_passer.run()\n",
      "/opt/anaconda3/lib/python3.9/site-packages/pyearth/earth.py:1066: FutureWarning: `rcond` parameter will change to the default of machine precision times ``max(M, N)`` where M and N are the input matrix dimensions.\n",
      "To use the future default and silence this warning we advise to pass `rcond=None`, to keep using the old, explicitly pass `rcond=-1`.\n",
      "  coef, resid = np.linalg.lstsq(B, weighted_y[:, i])[0:2]\n",
      "/opt/anaconda3/lib/python3.9/site-packages/pyearth/earth.py:1066: FutureWarning: `rcond` parameter will change to the default of machine precision times ``max(M, N)`` where M and N are the input matrix dimensions.\n",
      "To use the future default and silence this warning we advise to pass `rcond=None`, to keep using the old, explicitly pass `rcond=-1`.\n",
      "  coef, resid = np.linalg.lstsq(B, weighted_y[:, i])[0:2]\n",
      "/opt/anaconda3/lib/python3.9/site-packages/pyearth/earth.py:813: FutureWarning: `rcond` parameter will change to the default of machine precision times ``max(M, N)`` where M and N are the input matrix dimensions.\n",
      "To use the future default and silence this warning we advise to pass `rcond=None`, to keep using the old, explicitly pass `rcond=-1`.\n",
      "  pruning_passer.run()\n",
      "/opt/anaconda3/lib/python3.9/site-packages/pyearth/earth.py:813: FutureWarning: `rcond` parameter will change to the default of machine precision times ``max(M, N)`` where M and N are the input matrix dimensions.\n",
      "To use the future default and silence this warning we advise to pass `rcond=None`, to keep using the old, explicitly pass `rcond=-1`.\n",
      "  pruning_passer.run()\n",
      "/opt/anaconda3/lib/python3.9/site-packages/pyearth/earth.py:1066: FutureWarning: `rcond` parameter will change to the default of machine precision times ``max(M, N)`` where M and N are the input matrix dimensions.\n",
      "To use the future default and silence this warning we advise to pass `rcond=None`, to keep using the old, explicitly pass `rcond=-1`.\n",
      "  coef, resid = np.linalg.lstsq(B, weighted_y[:, i])[0:2]\n",
      "/opt/anaconda3/lib/python3.9/site-packages/pyearth/earth.py:1066: FutureWarning: `rcond` parameter will change to the default of machine precision times ``max(M, N)`` where M and N are the input matrix dimensions.\n",
      "To use the future default and silence this warning we advise to pass `rcond=None`, to keep using the old, explicitly pass `rcond=-1`.\n",
      "  coef, resid = np.linalg.lstsq(B, weighted_y[:, i])[0:2]\n",
      "/opt/anaconda3/lib/python3.9/site-packages/pyearth/earth.py:813: FutureWarning: `rcond` parameter will change to the default of machine precision times ``max(M, N)`` where M and N are the input matrix dimensions.\n",
      "To use the future default and silence this warning we advise to pass `rcond=None`, to keep using the old, explicitly pass `rcond=-1`.\n",
      "  pruning_passer.run()\n",
      "/opt/anaconda3/lib/python3.9/site-packages/pyearth/earth.py:1066: FutureWarning: `rcond` parameter will change to the default of machine precision times ``max(M, N)`` where M and N are the input matrix dimensions.\n",
      "To use the future default and silence this warning we advise to pass `rcond=None`, to keep using the old, explicitly pass `rcond=-1`.\n",
      "  coef, resid = np.linalg.lstsq(B, weighted_y[:, i])[0:2]\n",
      "/opt/anaconda3/lib/python3.9/site-packages/pyearth/earth.py:813: FutureWarning: `rcond` parameter will change to the default of machine precision times ``max(M, N)`` where M and N are the input matrix dimensions.\n",
      "To use the future default and silence this warning we advise to pass `rcond=None`, to keep using the old, explicitly pass `rcond=-1`.\n",
      "  pruning_passer.run()\n",
      "/opt/anaconda3/lib/python3.9/site-packages/pyearth/earth.py:813: FutureWarning: `rcond` parameter will change to the default of machine precision times ``max(M, N)`` where M and N are the input matrix dimensions.\n",
      "To use the future default and silence this warning we advise to pass `rcond=None`, to keep using the old, explicitly pass `rcond=-1`.\n",
      "  pruning_passer.run()\n"
     ]
    },
    {
     "name": "stderr",
     "output_type": "stream",
     "text": [
      "/opt/anaconda3/lib/python3.9/site-packages/pyearth/earth.py:813: FutureWarning: `rcond` parameter will change to the default of machine precision times ``max(M, N)`` where M and N are the input matrix dimensions.\n",
      "To use the future default and silence this warning we advise to pass `rcond=None`, to keep using the old, explicitly pass `rcond=-1`.\n",
      "  pruning_passer.run()\n",
      "/opt/anaconda3/lib/python3.9/site-packages/pyearth/earth.py:1066: FutureWarning: `rcond` parameter will change to the default of machine precision times ``max(M, N)`` where M and N are the input matrix dimensions.\n",
      "To use the future default and silence this warning we advise to pass `rcond=None`, to keep using the old, explicitly pass `rcond=-1`.\n",
      "  coef, resid = np.linalg.lstsq(B, weighted_y[:, i])[0:2]\n",
      "/opt/anaconda3/lib/python3.9/site-packages/pyearth/earth.py:1066: FutureWarning: `rcond` parameter will change to the default of machine precision times ``max(M, N)`` where M and N are the input matrix dimensions.\n",
      "To use the future default and silence this warning we advise to pass `rcond=None`, to keep using the old, explicitly pass `rcond=-1`.\n",
      "  coef, resid = np.linalg.lstsq(B, weighted_y[:, i])[0:2]\n",
      "/opt/anaconda3/lib/python3.9/site-packages/pyearth/earth.py:1066: FutureWarning: `rcond` parameter will change to the default of machine precision times ``max(M, N)`` where M and N are the input matrix dimensions.\n",
      "To use the future default and silence this warning we advise to pass `rcond=None`, to keep using the old, explicitly pass `rcond=-1`.\n",
      "  coef, resid = np.linalg.lstsq(B, weighted_y[:, i])[0:2]\n",
      "/opt/anaconda3/lib/python3.9/site-packages/pyearth/earth.py:813: FutureWarning: `rcond` parameter will change to the default of machine precision times ``max(M, N)`` where M and N are the input matrix dimensions.\n",
      "To use the future default and silence this warning we advise to pass `rcond=None`, to keep using the old, explicitly pass `rcond=-1`.\n",
      "  pruning_passer.run()\n",
      "/opt/anaconda3/lib/python3.9/site-packages/pyearth/earth.py:1066: FutureWarning: `rcond` parameter will change to the default of machine precision times ``max(M, N)`` where M and N are the input matrix dimensions.\n",
      "To use the future default and silence this warning we advise to pass `rcond=None`, to keep using the old, explicitly pass `rcond=-1`.\n",
      "  coef, resid = np.linalg.lstsq(B, weighted_y[:, i])[0:2]\n",
      "/opt/anaconda3/lib/python3.9/site-packages/pyearth/earth.py:813: FutureWarning: `rcond` parameter will change to the default of machine precision times ``max(M, N)`` where M and N are the input matrix dimensions.\n",
      "To use the future default and silence this warning we advise to pass `rcond=None`, to keep using the old, explicitly pass `rcond=-1`.\n",
      "  pruning_passer.run()\n",
      "/opt/anaconda3/lib/python3.9/site-packages/pyearth/earth.py:1066: FutureWarning: `rcond` parameter will change to the default of machine precision times ``max(M, N)`` where M and N are the input matrix dimensions.\n",
      "To use the future default and silence this warning we advise to pass `rcond=None`, to keep using the old, explicitly pass `rcond=-1`.\n",
      "  coef, resid = np.linalg.lstsq(B, weighted_y[:, i])[0:2]\n",
      "/opt/anaconda3/lib/python3.9/site-packages/pyearth/earth.py:813: FutureWarning: `rcond` parameter will change to the default of machine precision times ``max(M, N)`` where M and N are the input matrix dimensions.\n",
      "To use the future default and silence this warning we advise to pass `rcond=None`, to keep using the old, explicitly pass `rcond=-1`.\n",
      "  pruning_passer.run()\n",
      "/opt/anaconda3/lib/python3.9/site-packages/pyearth/earth.py:813: FutureWarning: `rcond` parameter will change to the default of machine precision times ``max(M, N)`` where M and N are the input matrix dimensions.\n",
      "To use the future default and silence this warning we advise to pass `rcond=None`, to keep using the old, explicitly pass `rcond=-1`.\n",
      "  pruning_passer.run()\n",
      "/opt/anaconda3/lib/python3.9/site-packages/pyearth/earth.py:1066: FutureWarning: `rcond` parameter will change to the default of machine precision times ``max(M, N)`` where M and N are the input matrix dimensions.\n",
      "To use the future default and silence this warning we advise to pass `rcond=None`, to keep using the old, explicitly pass `rcond=-1`.\n",
      "  coef, resid = np.linalg.lstsq(B, weighted_y[:, i])[0:2]\n",
      "/opt/anaconda3/lib/python3.9/site-packages/pyearth/earth.py:1066: FutureWarning: `rcond` parameter will change to the default of machine precision times ``max(M, N)`` where M and N are the input matrix dimensions.\n",
      "To use the future default and silence this warning we advise to pass `rcond=None`, to keep using the old, explicitly pass `rcond=-1`.\n",
      "  coef, resid = np.linalg.lstsq(B, weighted_y[:, i])[0:2]\n",
      "/opt/anaconda3/lib/python3.9/site-packages/pyearth/earth.py:813: FutureWarning: `rcond` parameter will change to the default of machine precision times ``max(M, N)`` where M and N are the input matrix dimensions.\n",
      "To use the future default and silence this warning we advise to pass `rcond=None`, to keep using the old, explicitly pass `rcond=-1`.\n",
      "  pruning_passer.run()\n",
      "/opt/anaconda3/lib/python3.9/site-packages/pyearth/earth.py:813: FutureWarning: `rcond` parameter will change to the default of machine precision times ``max(M, N)`` where M and N are the input matrix dimensions.\n",
      "To use the future default and silence this warning we advise to pass `rcond=None`, to keep using the old, explicitly pass `rcond=-1`.\n",
      "  pruning_passer.run()\n",
      "/opt/anaconda3/lib/python3.9/site-packages/pyearth/earth.py:1066: FutureWarning: `rcond` parameter will change to the default of machine precision times ``max(M, N)`` where M and N are the input matrix dimensions.\n",
      "To use the future default and silence this warning we advise to pass `rcond=None`, to keep using the old, explicitly pass `rcond=-1`.\n",
      "  coef, resid = np.linalg.lstsq(B, weighted_y[:, i])[0:2]\n",
      "/opt/anaconda3/lib/python3.9/site-packages/pyearth/earth.py:1066: FutureWarning: `rcond` parameter will change to the default of machine precision times ``max(M, N)`` where M and N are the input matrix dimensions.\n",
      "To use the future default and silence this warning we advise to pass `rcond=None`, to keep using the old, explicitly pass `rcond=-1`.\n",
      "  coef, resid = np.linalg.lstsq(B, weighted_y[:, i])[0:2]\n",
      "/opt/anaconda3/lib/python3.9/site-packages/pyearth/earth.py:813: FutureWarning: `rcond` parameter will change to the default of machine precision times ``max(M, N)`` where M and N are the input matrix dimensions.\n",
      "To use the future default and silence this warning we advise to pass `rcond=None`, to keep using the old, explicitly pass `rcond=-1`.\n",
      "  pruning_passer.run()\n",
      "/opt/anaconda3/lib/python3.9/site-packages/pyearth/earth.py:1066: FutureWarning: `rcond` parameter will change to the default of machine precision times ``max(M, N)`` where M and N are the input matrix dimensions.\n",
      "To use the future default and silence this warning we advise to pass `rcond=None`, to keep using the old, explicitly pass `rcond=-1`.\n",
      "  coef, resid = np.linalg.lstsq(B, weighted_y[:, i])[0:2]\n",
      "/opt/anaconda3/lib/python3.9/site-packages/pyearth/earth.py:813: FutureWarning: `rcond` parameter will change to the default of machine precision times ``max(M, N)`` where M and N are the input matrix dimensions.\n",
      "To use the future default and silence this warning we advise to pass `rcond=None`, to keep using the old, explicitly pass `rcond=-1`.\n",
      "  pruning_passer.run()\n",
      "/opt/anaconda3/lib/python3.9/site-packages/pyearth/earth.py:813: FutureWarning: `rcond` parameter will change to the default of machine precision times ``max(M, N)`` where M and N are the input matrix dimensions.\n",
      "To use the future default and silence this warning we advise to pass `rcond=None`, to keep using the old, explicitly pass `rcond=-1`.\n",
      "  pruning_passer.run()\n",
      "/opt/anaconda3/lib/python3.9/site-packages/pyearth/earth.py:1066: FutureWarning: `rcond` parameter will change to the default of machine precision times ``max(M, N)`` where M and N are the input matrix dimensions.\n",
      "To use the future default and silence this warning we advise to pass `rcond=None`, to keep using the old, explicitly pass `rcond=-1`.\n",
      "  coef, resid = np.linalg.lstsq(B, weighted_y[:, i])[0:2]\n",
      "/opt/anaconda3/lib/python3.9/site-packages/pyearth/earth.py:813: FutureWarning: `rcond` parameter will change to the default of machine precision times ``max(M, N)`` where M and N are the input matrix dimensions.\n",
      "To use the future default and silence this warning we advise to pass `rcond=None`, to keep using the old, explicitly pass `rcond=-1`.\n",
      "  pruning_passer.run()\n"
     ]
    },
    {
     "name": "stderr",
     "output_type": "stream",
     "text": [
      "/opt/anaconda3/lib/python3.9/site-packages/pyearth/earth.py:1066: FutureWarning: `rcond` parameter will change to the default of machine precision times ``max(M, N)`` where M and N are the input matrix dimensions.\n",
      "To use the future default and silence this warning we advise to pass `rcond=None`, to keep using the old, explicitly pass `rcond=-1`.\n",
      "  coef, resid = np.linalg.lstsq(B, weighted_y[:, i])[0:2]\n",
      "/opt/anaconda3/lib/python3.9/site-packages/pyearth/earth.py:1066: FutureWarning: `rcond` parameter will change to the default of machine precision times ``max(M, N)`` where M and N are the input matrix dimensions.\n",
      "To use the future default and silence this warning we advise to pass `rcond=None`, to keep using the old, explicitly pass `rcond=-1`.\n",
      "  coef, resid = np.linalg.lstsq(B, weighted_y[:, i])[0:2]\n",
      "/opt/anaconda3/lib/python3.9/site-packages/pyearth/earth.py:813: FutureWarning: `rcond` parameter will change to the default of machine precision times ``max(M, N)`` where M and N are the input matrix dimensions.\n",
      "To use the future default and silence this warning we advise to pass `rcond=None`, to keep using the old, explicitly pass `rcond=-1`.\n",
      "  pruning_passer.run()\n",
      "/opt/anaconda3/lib/python3.9/site-packages/pyearth/earth.py:1066: FutureWarning: `rcond` parameter will change to the default of machine precision times ``max(M, N)`` where M and N are the input matrix dimensions.\n",
      "To use the future default and silence this warning we advise to pass `rcond=None`, to keep using the old, explicitly pass `rcond=-1`.\n",
      "  coef, resid = np.linalg.lstsq(B, weighted_y[:, i])[0:2]\n",
      "/opt/anaconda3/lib/python3.9/site-packages/pyearth/earth.py:813: FutureWarning: `rcond` parameter will change to the default of machine precision times ``max(M, N)`` where M and N are the input matrix dimensions.\n",
      "To use the future default and silence this warning we advise to pass `rcond=None`, to keep using the old, explicitly pass `rcond=-1`.\n",
      "  pruning_passer.run()\n",
      "/opt/anaconda3/lib/python3.9/site-packages/pyearth/earth.py:1066: FutureWarning: `rcond` parameter will change to the default of machine precision times ``max(M, N)`` where M and N are the input matrix dimensions.\n",
      "To use the future default and silence this warning we advise to pass `rcond=None`, to keep using the old, explicitly pass `rcond=-1`.\n",
      "  coef, resid = np.linalg.lstsq(B, weighted_y[:, i])[0:2]\n",
      "/opt/anaconda3/lib/python3.9/site-packages/pyearth/earth.py:813: FutureWarning: `rcond` parameter will change to the default of machine precision times ``max(M, N)`` where M and N are the input matrix dimensions.\n",
      "To use the future default and silence this warning we advise to pass `rcond=None`, to keep using the old, explicitly pass `rcond=-1`.\n",
      "  pruning_passer.run()\n",
      "/opt/anaconda3/lib/python3.9/site-packages/pyearth/earth.py:813: FutureWarning: `rcond` parameter will change to the default of machine precision times ``max(M, N)`` where M and N are the input matrix dimensions.\n",
      "To use the future default and silence this warning we advise to pass `rcond=None`, to keep using the old, explicitly pass `rcond=-1`.\n",
      "  pruning_passer.run()\n",
      "/opt/anaconda3/lib/python3.9/site-packages/pyearth/earth.py:1066: FutureWarning: `rcond` parameter will change to the default of machine precision times ``max(M, N)`` where M and N are the input matrix dimensions.\n",
      "To use the future default and silence this warning we advise to pass `rcond=None`, to keep using the old, explicitly pass `rcond=-1`.\n",
      "  coef, resid = np.linalg.lstsq(B, weighted_y[:, i])[0:2]\n",
      "/opt/anaconda3/lib/python3.9/site-packages/pyearth/earth.py:1066: FutureWarning: `rcond` parameter will change to the default of machine precision times ``max(M, N)`` where M and N are the input matrix dimensions.\n",
      "To use the future default and silence this warning we advise to pass `rcond=None`, to keep using the old, explicitly pass `rcond=-1`.\n",
      "  coef, resid = np.linalg.lstsq(B, weighted_y[:, i])[0:2]\n",
      "/opt/anaconda3/lib/python3.9/site-packages/pyearth/earth.py:813: FutureWarning: `rcond` parameter will change to the default of machine precision times ``max(M, N)`` where M and N are the input matrix dimensions.\n",
      "To use the future default and silence this warning we advise to pass `rcond=None`, to keep using the old, explicitly pass `rcond=-1`.\n",
      "  pruning_passer.run()\n",
      "/opt/anaconda3/lib/python3.9/site-packages/pyearth/earth.py:1066: FutureWarning: `rcond` parameter will change to the default of machine precision times ``max(M, N)`` where M and N are the input matrix dimensions.\n",
      "To use the future default and silence this warning we advise to pass `rcond=None`, to keep using the old, explicitly pass `rcond=-1`.\n",
      "  coef, resid = np.linalg.lstsq(B, weighted_y[:, i])[0:2]\n",
      "/opt/anaconda3/lib/python3.9/site-packages/pyearth/earth.py:813: FutureWarning: `rcond` parameter will change to the default of machine precision times ``max(M, N)`` where M and N are the input matrix dimensions.\n",
      "To use the future default and silence this warning we advise to pass `rcond=None`, to keep using the old, explicitly pass `rcond=-1`.\n",
      "  pruning_passer.run()\n",
      "/opt/anaconda3/lib/python3.9/site-packages/pyearth/earth.py:1066: FutureWarning: `rcond` parameter will change to the default of machine precision times ``max(M, N)`` where M and N are the input matrix dimensions.\n",
      "To use the future default and silence this warning we advise to pass `rcond=None`, to keep using the old, explicitly pass `rcond=-1`.\n",
      "  coef, resid = np.linalg.lstsq(B, weighted_y[:, i])[0:2]\n",
      "/opt/anaconda3/lib/python3.9/site-packages/pyearth/earth.py:813: FutureWarning: `rcond` parameter will change to the default of machine precision times ``max(M, N)`` where M and N are the input matrix dimensions.\n",
      "To use the future default and silence this warning we advise to pass `rcond=None`, to keep using the old, explicitly pass `rcond=-1`.\n",
      "  pruning_passer.run()\n",
      "/opt/anaconda3/lib/python3.9/site-packages/pyearth/earth.py:1066: FutureWarning: `rcond` parameter will change to the default of machine precision times ``max(M, N)`` where M and N are the input matrix dimensions.\n",
      "To use the future default and silence this warning we advise to pass `rcond=None`, to keep using the old, explicitly pass `rcond=-1`.\n",
      "  coef, resid = np.linalg.lstsq(B, weighted_y[:, i])[0:2]\n",
      "/opt/anaconda3/lib/python3.9/site-packages/pyearth/earth.py:813: FutureWarning: `rcond` parameter will change to the default of machine precision times ``max(M, N)`` where M and N are the input matrix dimensions.\n",
      "To use the future default and silence this warning we advise to pass `rcond=None`, to keep using the old, explicitly pass `rcond=-1`.\n",
      "  pruning_passer.run()\n",
      "/opt/anaconda3/lib/python3.9/site-packages/pyearth/earth.py:1066: FutureWarning: `rcond` parameter will change to the default of machine precision times ``max(M, N)`` where M and N are the input matrix dimensions.\n",
      "To use the future default and silence this warning we advise to pass `rcond=None`, to keep using the old, explicitly pass `rcond=-1`.\n",
      "  coef, resid = np.linalg.lstsq(B, weighted_y[:, i])[0:2]\n",
      "/opt/anaconda3/lib/python3.9/site-packages/pyearth/earth.py:813: FutureWarning: `rcond` parameter will change to the default of machine precision times ``max(M, N)`` where M and N are the input matrix dimensions.\n",
      "To use the future default and silence this warning we advise to pass `rcond=None`, to keep using the old, explicitly pass `rcond=-1`.\n",
      "  pruning_passer.run()\n",
      "/opt/anaconda3/lib/python3.9/site-packages/pyearth/earth.py:813: FutureWarning: `rcond` parameter will change to the default of machine precision times ``max(M, N)`` where M and N are the input matrix dimensions.\n",
      "To use the future default and silence this warning we advise to pass `rcond=None`, to keep using the old, explicitly pass `rcond=-1`.\n",
      "  pruning_passer.run()\n",
      "/opt/anaconda3/lib/python3.9/site-packages/pyearth/earth.py:1066: FutureWarning: `rcond` parameter will change to the default of machine precision times ``max(M, N)`` where M and N are the input matrix dimensions.\n",
      "To use the future default and silence this warning we advise to pass `rcond=None`, to keep using the old, explicitly pass `rcond=-1`.\n",
      "  coef, resid = np.linalg.lstsq(B, weighted_y[:, i])[0:2]\n",
      "/opt/anaconda3/lib/python3.9/site-packages/pyearth/earth.py:813: FutureWarning: `rcond` parameter will change to the default of machine precision times ``max(M, N)`` where M and N are the input matrix dimensions.\n",
      "To use the future default and silence this warning we advise to pass `rcond=None`, to keep using the old, explicitly pass `rcond=-1`.\n",
      "  pruning_passer.run()\n"
     ]
    },
    {
     "name": "stderr",
     "output_type": "stream",
     "text": [
      "/opt/anaconda3/lib/python3.9/site-packages/pyearth/earth.py:1066: FutureWarning: `rcond` parameter will change to the default of machine precision times ``max(M, N)`` where M and N are the input matrix dimensions.\n",
      "To use the future default and silence this warning we advise to pass `rcond=None`, to keep using the old, explicitly pass `rcond=-1`.\n",
      "  coef, resid = np.linalg.lstsq(B, weighted_y[:, i])[0:2]\n",
      "/opt/anaconda3/lib/python3.9/site-packages/pyearth/earth.py:1066: FutureWarning: `rcond` parameter will change to the default of machine precision times ``max(M, N)`` where M and N are the input matrix dimensions.\n",
      "To use the future default and silence this warning we advise to pass `rcond=None`, to keep using the old, explicitly pass `rcond=-1`.\n",
      "  coef, resid = np.linalg.lstsq(B, weighted_y[:, i])[0:2]\n"
     ]
    }
   ],
   "source": [
    "rmse_df = pd.DataFrame(columns = {'degree', 'RMSE'})\n",
    "cv = KFold(n_splits=5, random_state=1, shuffle=True)\n",
    "counter = 0\n",
    "for degree in np.arange(1, 10, 1):\n",
    "    rmse_df.loc[counter, 'RMSE'] = np.sqrt(np.mean(-cross_val_score(Earth(max_terms=1000, max_degree = degree),\n",
    "                                 X_train, y_train, scoring='neg_mean_squared_error', cv=cv, n_jobs=-1)))\n",
    "    rmse_df.loc[counter, 'degree'] = degree\n",
    "    counter = counter + 1"
   ]
  },
  {
   "cell_type": "code",
   "execution_count": 36,
   "id": "4c6d8afd",
   "metadata": {},
   "outputs": [
    {
     "data": {
      "text/plain": [
       "degree            2\n",
       "RMSE      64.422911\n",
       "Name: 1, dtype: object"
      ]
     },
     "execution_count": 36,
     "metadata": {},
     "output_type": "execute_result"
    }
   ],
   "source": [
    "rmse_df.loc[np.argmin(rmse_df.RMSE),:]"
   ]
  },
  {
   "cell_type": "code",
   "execution_count": 37,
   "id": "21c47c41",
   "metadata": {},
   "outputs": [
    {
     "name": "stdout",
     "output_type": "stream",
     "text": [
      "Earth Model\n",
      "--------------------------------------------------------------------------------------\n",
      "Basis Function                                                  Pruned  Coefficient   \n",
      "--------------------------------------------------------------------------------------\n",
      "(Intercept)                                                     No      679.861       \n",
      "h(Outstanding_Debt-557.04)                                      No      -0.102257     \n",
      "h(557.04-Outstanding_Debt)                                      Yes     None          \n",
      "Credit_Mix_Good*h(Outstanding_Debt-557.04)                      Yes     None          \n",
      "Credit_Mix_Bad                                                  No      -208.373      \n",
      "Credit_Mix_Good                                                 No      -221.362      \n",
      "h(Num_Credit_Inquiries-17)*h(Outstanding_Debt-557.04)           Yes     None          \n",
      "h(17-Num_Credit_Inquiries)*h(Outstanding_Debt-557.04)           No      0.00326517    \n",
      "Credit_Mix_Bad*h(Outstanding_Debt-557.04)                       No      0.0489406     \n",
      "h(Amount_invested_monthly-118.348)*h(Outstanding_Debt-557.04)   No      3.64831e-05   \n",
      "h(118.348-Amount_invested_monthly)*h(Outstanding_Debt-557.04)   No      0.000238452   \n",
      "h(Num_Credit_Card-51)                                           Yes     None          \n",
      "h(51-Num_Credit_Card)                                           Yes     None          \n",
      "h(Outstanding_Debt-1852.86)*h(Outstanding_Debt-557.04)          No      0.00115222    \n",
      "h(1852.86-Outstanding_Debt)*h(Outstanding_Debt-557.04)          No      3.36135e-05   \n",
      "h(Total_EMI_per_month-756.884)                                  No      -0.00695715   \n",
      "h(756.884-Total_EMI_per_month)                                  No      -0.0538261    \n",
      "Num_Credit_Card*h(51-Num_Credit_Card)                           No      -0.0680292    \n",
      "Num_Credit_Inquiries*Credit_Mix_Bad                             No      6.42297       \n",
      "h(Outstanding_Debt-1873.81)*h(Outstanding_Debt-557.04)          No      -0.00112006   \n",
      "h(1873.81-Outstanding_Debt)*h(Outstanding_Debt-557.04)          Yes     None          \n",
      "Num_Credit_Card*Credit_Mix_Bad                                  No      5.72444       \n",
      "Num_of_Delayed_Payment*Credit_Mix_Good                          No      1.22159       \n",
      "h(Monthly_Balance-527.86)*h(Outstanding_Debt-557.04)            No      0.000181251   \n",
      "h(527.86-Monthly_Balance)*h(Outstanding_Debt-557.04)            Yes     None          \n",
      "h(Credit_Utilization_Ratio-37.3907)*h(Outstanding_Debt-557.04)  No      -7.26795      \n",
      "h(37.3907-Credit_Utilization_Ratio)*h(Outstanding_Debt-557.04)  Yes     None          \n",
      "Credit_Mix_Good*h(51-Num_Credit_Card)                           No      5.90742       \n",
      "Num_Credit_Card*Credit_Mix_Good                                 No      2.52778       \n",
      "h(Annual_Income-90292.3)*h(Outstanding_Debt-557.04)             Yes     None          \n",
      "h(90292.3-Annual_Income)*h(Outstanding_Debt-557.04)             No      3.90407e-07   \n",
      "h(Outstanding_Debt-1570.56)*h(756.884-Total_EMI_per_month)      No      -0.000100088  \n",
      "h(1570.56-Outstanding_Debt)*h(756.884-Total_EMI_per_month)      Yes     None          \n",
      "h(Monthly_Inhand_Salary-1745.23)*h(51-Num_Credit_Card)          Yes     None          \n",
      "h(1745.23-Monthly_Inhand_Salary)*h(51-Num_Credit_Card)          No      -0.00037665   \n",
      "Credit_Utilization_Ratio*Credit_Mix_Good                        No      -1.48008      \n",
      "--------------------------------------------------------------------------------------\n",
      "MSE: 4014.4064, GCV: 4092.3232, RSQ: 0.2754, GRSQ: 0.2616\n"
     ]
    }
   ],
   "source": [
    "model = Earth(max_terms=1000, max_degree=2, feature_importance_type= 'rss') \n",
    "model.fit(X_train,y_train)\n",
    "print(model.summary())"
   ]
  },
  {
   "cell_type": "code",
   "execution_count": 38,
   "id": "b17edede",
   "metadata": {
    "scrolled": false
   },
   "outputs": [
    {
     "data": {
      "text/html": [
       "<div>\n",
       "<style scoped>\n",
       "    .dataframe tbody tr th:only-of-type {\n",
       "        vertical-align: middle;\n",
       "    }\n",
       "\n",
       "    .dataframe tbody tr th {\n",
       "        vertical-align: top;\n",
       "    }\n",
       "\n",
       "    .dataframe thead th {\n",
       "        text-align: right;\n",
       "    }\n",
       "</style>\n",
       "<table border=\"1\" class=\"dataframe\">\n",
       "  <thead>\n",
       "    <tr style=\"text-align: right;\">\n",
       "      <th></th>\n",
       "      <th>predictor</th>\n",
       "      <th>importance</th>\n",
       "    </tr>\n",
       "  </thead>\n",
       "  <tbody>\n",
       "    <tr>\n",
       "      <th>14</th>\n",
       "      <td>Credit_Mix_Bad</td>\n",
       "      <td>0.364271</td>\n",
       "    </tr>\n",
       "    <tr>\n",
       "      <th>4</th>\n",
       "      <td>Num_Credit_Card</td>\n",
       "      <td>0.190146</td>\n",
       "    </tr>\n",
       "    <tr>\n",
       "      <th>15</th>\n",
       "      <td>Credit_Mix_Good</td>\n",
       "      <td>0.189447</td>\n",
       "    </tr>\n",
       "    <tr>\n",
       "      <th>9</th>\n",
       "      <td>Outstanding_Debt</td>\n",
       "      <td>0.172981</td>\n",
       "    </tr>\n",
       "    <tr>\n",
       "      <th>8</th>\n",
       "      <td>Num_Credit_Inquiries</td>\n",
       "      <td>0.038291</td>\n",
       "    </tr>\n",
       "    <tr>\n",
       "      <th>12</th>\n",
       "      <td>Amount_invested_monthly</td>\n",
       "      <td>0.013273</td>\n",
       "    </tr>\n",
       "  </tbody>\n",
       "</table>\n",
       "</div>"
      ],
      "text/plain": [
       "                  predictor  importance\n",
       "14           Credit_Mix_Bad    0.364271\n",
       "4           Num_Credit_Card    0.190146\n",
       "15          Credit_Mix_Good    0.189447\n",
       "9          Outstanding_Debt    0.172981\n",
       "8      Num_Credit_Inquiries    0.038291\n",
       "12  Amount_invested_monthly    0.013273"
      ]
     },
     "execution_count": 38,
     "metadata": {},
     "output_type": "execute_result"
    }
   ],
   "source": [
    "pd.concat([pd.Series(X.columns, name = 'predictor'), \n",
    "           pd.Series(model.feature_importances_, \n",
    "                     name = 'importance')], axis = 1).sort_values(by = 'importance', ascending=False)[0:6]"
   ]
  },
  {
   "cell_type": "markdown",
   "id": "f97246b8",
   "metadata": {},
   "source": [
    "## Bagging - Nicket"
   ]
  },
  {
   "cell_type": "markdown",
   "id": "8b15c3ca",
   "metadata": {},
   "source": [
    "### grid search"
   ]
  },
  {
   "cell_type": "code",
   "execution_count": 39,
   "id": "1c21097f",
   "metadata": {},
   "outputs": [
    {
     "name": "stdout",
     "output_type": "stream",
     "text": [
      "Fitting 5 folds for each of 96 candidates, totalling 480 fits\n"
     ]
    },
    {
     "data": {
      "text/plain": [
       "GridSearchCV(cv=KFold(n_splits=5, random_state=1, shuffle=True),\n",
       "             estimator=BaggingRegressor(n_jobs=-1, random_state=1), n_jobs=-1,\n",
       "             param_grid={'base_estimator': [DecisionTreeRegressor(random_state=1),\n",
       "                                            LinearRegression()],\n",
       "                         'bootstrap': [True, False],\n",
       "                         'bootstrap_features': [True, False],\n",
       "                         'max_features': [0.5, 1.0], 'max_samples': [0.5, 1.0],\n",
       "                         'n_estimators': [150, 200, 250]},\n",
       "             verbose=1)"
      ]
     },
     "execution_count": 39,
     "metadata": {},
     "output_type": "execute_result"
    }
   ],
   "source": [
    "n_samples = train.shape[0]\n",
    "n_features = train.shape[1]\n",
    "\n",
    "params = {'base_estimator': [DecisionTreeRegressor(random_state = 1),LinearRegression()],#Comparing bagging with a linear regression model as well\n",
    "          'n_estimators': [150,200,250],\n",
    "          'max_samples': [0.5,1.0],\n",
    "          'max_features': [0.5,1.0],\n",
    "          'bootstrap': [True, False],\n",
    "          'bootstrap_features': [True, False]}\n",
    "\n",
    "cv = KFold(n_splits=5,shuffle=True,random_state=1)\n",
    "bagging_regressor_grid = GridSearchCV(BaggingRegressor(random_state=1, n_jobs=-1), \n",
    "                                      param_grid =params, cv=cv, n_jobs=-1, verbose=1)\n",
    "bagging_regressor_grid.fit(X, y)"
   ]
  },
  {
   "cell_type": "code",
   "execution_count": 40,
   "id": "4e04fd72",
   "metadata": {},
   "outputs": [
    {
     "name": "stdout",
     "output_type": "stream",
     "text": [
      "Best Parameters :  {'base_estimator': DecisionTreeRegressor(random_state=1), 'bootstrap': True, 'bootstrap_features': False, 'max_features': 0.5, 'max_samples': 1.0, 'n_estimators': 250}\n"
     ]
    }
   ],
   "source": [
    "print('Best Parameters : ',bagging_regressor_grid.best_params_)"
   ]
  },
  {
   "cell_type": "code",
   "execution_count": 41,
   "id": "fce428a5",
   "metadata": {},
   "outputs": [
    {
     "name": "stdout",
     "output_type": "stream",
     "text": [
      "60.800324584496636\n"
     ]
    }
   ],
   "source": [
    "#Model with optimal parameters\n",
    "model = BaggingRegressor(base_estimator=DecisionTreeRegressor(), n_estimators=250, random_state=1,\n",
    "                        oob_score=True,n_jobs=-1,bootstrap_features=True,bootstrap=True,\n",
    "                        max_features=1.0,max_samples=1.0).fit(X, y)\n",
    "\n",
    "#RMSE on test data\n",
    "RMSE = np.sqrt(mean_squared_error(y_test, model.predict(X_test)))\n",
    "print(RMSE)\n"
   ]
  },
  {
   "cell_type": "markdown",
   "id": "30a2af8e",
   "metadata": {},
   "source": [
    "### finer grid search 1"
   ]
  },
  {
   "cell_type": "code",
   "execution_count": 42,
   "id": "0024982d",
   "metadata": {},
   "outputs": [
    {
     "name": "stdout",
     "output_type": "stream",
     "text": [
      "Fitting 5 folds for each of 24 candidates, totalling 120 fits\n",
      "Best Parameters :  {'base_estimator': DecisionTreeRegressor(random_state=1), 'bootstrap': True, 'bootstrap_features': True, 'max_features': 1.0, 'max_samples': 1.0, 'n_estimators': 350}\n"
     ]
    }
   ],
   "source": [
    "n_samples = train.shape[0]\n",
    "n_features = train.shape[1]\n",
    "\n",
    "finer_params1 = {'base_estimator': [DecisionTreeRegressor(random_state = 1),LinearRegression()],#Comparing bagging with a linear regression model as well\n",
    "          'n_estimators': [250, 300, 350],\n",
    "          'max_samples': [1.0, 1.5],\n",
    "          'max_features': [1.0, 1.5],\n",
    "          'bootstrap': [True],\n",
    "          'bootstrap_features': [True]}\n",
    "\n",
    "cv = KFold(n_splits=5,shuffle=True,random_state=1)\n",
    "bagging_regressor_grid_finer1 = GridSearchCV(BaggingRegressor(random_state=1, n_jobs=-1), \n",
    "                                      param_grid =finer_params1, cv=cv, n_jobs=-1, verbose=1)\n",
    "bagging_regressor_grid_finer1.fit(X, y)\n",
    "\n",
    "print('Best Parameters : ',bagging_regressor_grid_finer1.best_params_)"
   ]
  },
  {
   "cell_type": "code",
   "execution_count": 43,
   "id": "32a84a2c",
   "metadata": {},
   "outputs": [
    {
     "name": "stdout",
     "output_type": "stream",
     "text": [
      "60.800324584496636\n"
     ]
    }
   ],
   "source": [
    "#Model with optimal parameters\n",
    "model_finer1 = BaggingRegressor(base_estimator=DecisionTreeRegressor(), n_estimators=250, random_state=1,\n",
    "                        oob_score=True,n_jobs=-1,bootstrap_features=True,bootstrap=True,\n",
    "                        max_features=1.0,max_samples=1.0).fit(X, y)\n",
    "\n",
    "#RMSE on test data\n",
    "RMSE = np.sqrt(mean_squared_error(y_test, model_finer1.predict(X_test)))\n",
    "print(RMSE)\n"
   ]
  },
  {
   "cell_type": "markdown",
   "id": "8e78b372",
   "metadata": {},
   "source": [
    "### finer grid search 2"
   ]
  },
  {
   "cell_type": "code",
   "execution_count": 44,
   "id": "315e6745",
   "metadata": {},
   "outputs": [
    {
     "name": "stdout",
     "output_type": "stream",
     "text": [
      "Fitting 5 folds for each of 54 candidates, totalling 270 fits\n",
      "Best Parameters :  {'base_estimator': DecisionTreeRegressor(random_state=1), 'bootstrap': True, 'bootstrap_features': True, 'max_features': 1.0, 'max_samples': 1.0, 'n_estimators': 350}\n"
     ]
    }
   ],
   "source": [
    "n_samples = train.shape[0]\n",
    "n_features = train.shape[1]\n",
    "\n",
    "finer_params2 = {'base_estimator': [DecisionTreeRegressor(random_state = 1),LinearRegression()],#Comparing bagging with a linear regression model as well\n",
    "          'n_estimators': [250, 300, 350],\n",
    "          'max_samples': [.75, 1.0, 1.25],\n",
    "          'max_features': [.75, 1.0, 1.25],\n",
    "          'bootstrap': [True],\n",
    "          'bootstrap_features': [True]}\n",
    "\n",
    "cv = KFold(n_splits=5,shuffle=True,random_state=1)\n",
    "bagging_regressor_grid_finer2 = GridSearchCV(BaggingRegressor(random_state=1, n_jobs=-1), \n",
    "                                      param_grid =finer_params2, cv=cv, n_jobs=-1, verbose=1)\n",
    "bagging_regressor_grid_finer2.fit(X_train, y_train)\n",
    "\n",
    "print('Best Parameters : ',bagging_regressor_grid_finer1.best_params_)"
   ]
  },
  {
   "cell_type": "code",
   "execution_count": 45,
   "id": "1d6d5990",
   "metadata": {},
   "outputs": [
    {
     "name": "stdout",
     "output_type": "stream",
     "text": [
      "60.82198386022294\n"
     ]
    }
   ],
   "source": [
    "#Model with optimal parameters\n",
    "model_finer2 = BaggingRegressor(base_estimator=DecisionTreeRegressor(), n_estimators=300, random_state=1,\n",
    "                        oob_score=True,n_jobs=-1,bootstrap_features=True,bootstrap=True,\n",
    "                        max_features=1.0,max_samples=1.0).fit(X, y)\n",
    "\n",
    "#RMSE on test data\n",
    "RMSE = np.sqrt(mean_squared_error(y_test, model_finer2.predict(X_test)))\n",
    "print(RMSE)\n"
   ]
  },
  {
   "cell_type": "markdown",
   "id": "cbc4a411",
   "metadata": {},
   "source": [
    "## Random Forest - Kaylee"
   ]
  },
  {
   "cell_type": "code",
   "execution_count": 46,
   "id": "f9cff5a2",
   "metadata": {},
   "outputs": [],
   "source": [
    "rmse = {}\n",
    "\n",
    "for i in np.linspace(10, 500, 40,dtype=int):\n",
    "    model = RandomForestRegressor(n_estimators=i, random_state=1,\n",
    "                        n_jobs=-1, oob_score=True).fit(X, y)\n",
    "    pred = model.predict(X_test)\n",
    "    rmse[i] = np.sqrt(mean_squared_error(y_test, pred))"
   ]
  },
  {
   "cell_type": "code",
   "execution_count": 47,
   "id": "7da464e6",
   "metadata": {},
   "outputs": [
    {
     "data": {
      "text/plain": [
       "<matplotlib.legend.Legend at 0x7f8242e5c7f0>"
      ]
     },
     "execution_count": 47,
     "metadata": {},
     "output_type": "execute_result"
    },
    {
     "data": {
      "image/png": "[encoded data removed]",
      "text/plain": [
       "<Figure size 640x480 with 1 Axes>"
      ]
     },
     "metadata": {
      "needs_background": "light"
     },
     "output_type": "display_data"
    }
   ],
   "source": [
    "plt.rcParams.update({'font.size': 15})\n",
    "plt.figure(figsize=(8, 6), dpi=80)\n",
    "plt.plot(rmse.keys(),rmse.values(),label = 'RMSE')\n",
    "plt.plot(rmse.keys(),rmse.values(),'o', color = 'blue')\n",
    "plt.xlabel('Number of trees')\n",
    "plt.ylabel('RMSE')\n",
    "plt.legend()"
   ]
  },
  {
   "cell_type": "markdown",
   "id": "1db87e4a",
   "metadata": {},
   "source": [
    "### course grid"
   ]
  },
  {
   "cell_type": "code",
   "execution_count": 48,
   "id": "0ac2dcc0",
   "metadata": {},
   "outputs": [
    {
     "name": "stdout",
     "output_type": "stream",
     "text": [
      "Best params =  (18, 1300, 3)\n",
      "Best score (R-squared) =  0.2995563092351461\n"
     ]
    }
   ],
   "source": [
    "# seems to slow down between 400 and 500\n",
    "\n",
    "n_samples = train_final.shape[0]\n",
    "n_features = train_final.shape[1]\n",
    "\n",
    "params = {'max_depth': [12,15,18],\n",
    "          'max_leaf_nodes':[1100,1200,1300],\n",
    "          'max_features': list(range(1,20))}\n",
    "\n",
    "param_list=list(it.product(*(params[Name] for Name in params)))\n",
    "\n",
    "oob_score = [0]*len(param_list)\n",
    "\n",
    "i=0\n",
    "for pr in param_list:\n",
    "    model = RandomForestRegressor(random_state = 1, oob_score = True,\n",
    "                                  verbose = False, n_estimators = 450,\n",
    "                                  max_depth = pr[0],\n",
    "                                  max_leaf_nodes = pr[1], \n",
    "                                  max_features = pr[2],\n",
    "                                  n_jobs = -1).fit(X, y)\n",
    "    oob_score[i] = model.oob_score_\n",
    "    i=i+1\n",
    "    \n",
    "\n",
    "print(\"Best params = \", param_list[np.argmax(oob_score)])\n",
    "print(\"Best score (R-squared) = \", np.max(oob_score))"
   ]
  },
  {
   "cell_type": "code",
   "execution_count": 49,
   "id": "8810e390",
   "metadata": {},
   "outputs": [
    {
     "name": "stdout",
     "output_type": "stream",
     "text": [
      "The RMSE on test data is 60.882776590004646\n"
     ]
    }
   ],
   "source": [
    "model_rf = RandomForestRegressor(random_state = 1,\n",
    "                                n_estimators = 450,\n",
    "                                max_depth = 18,\n",
    "                                max_leaf_nodes = 1300,\n",
    "                                max_features = 3,\n",
    "                                n_jobs = -1)\n",
    "\n",
    "model_rf.fit(X, y)\n",
    "\n",
    "pred_rf = model_rf.predict(X_test)\n",
    "\n",
    "print(\"The RMSE on test data is\", np.sqrt(mean_squared_error(y_test, pred_rf)))"
   ]
  },
  {
   "cell_type": "markdown",
   "id": "dd359eeb",
   "metadata": {},
   "source": [
    "### finer grid 1"
   ]
  },
  {
   "cell_type": "code",
   "execution_count": 50,
   "id": "903a4304",
   "metadata": {},
   "outputs": [
    {
     "name": "stdout",
     "output_type": "stream",
     "text": [
      "Best params =  (21, 1300, 2)\n",
      "Best score (R-squared) =  0.30226750924662593\n"
     ]
    }
   ],
   "source": [
    "n_samples = train_final.shape[0]\n",
    "n_features = train_final.shape[1]\n",
    "\n",
    "params = {'max_depth': range(15, 25, 3),\n",
    "          'max_leaf_nodes':range(1300, 1600, 100),\n",
    "          'max_features': list(range(1,5))}\n",
    "\n",
    "param_list=list(it.product(*(params[Name] for Name in params)))\n",
    "\n",
    "oob_score = [0]*len(param_list)\n",
    "\n",
    "i=0\n",
    "for pr in param_list:\n",
    "    model = RandomForestRegressor(random_state = 1, oob_score = True,\n",
    "                                  verbose = False, n_estimators = 450,\n",
    "                                  max_depth = pr[0],\n",
    "                                  max_leaf_nodes = pr[1], \n",
    "                                  max_features = pr[2],\n",
    "                                  n_jobs = -1).fit(X, y)\n",
    "    oob_score[i] = model.oob_score_\n",
    "    i=i+1\n",
    "    \n",
    "\n",
    "print(\"Best params = \", param_list[np.argmax(oob_score)])\n",
    "print(\"Best score (R-squared) = \", np.max(oob_score))"
   ]
  },
  {
   "cell_type": "code",
   "execution_count": 51,
   "id": "c8e98a1d",
   "metadata": {},
   "outputs": [
    {
     "name": "stdout",
     "output_type": "stream",
     "text": [
      "The RMSE on test data is 60.7957186940251\n"
     ]
    }
   ],
   "source": [
    "model_rf2 = RandomForestRegressor(random_state = 1,\n",
    "                                n_estimators = 450,\n",
    "                                max_depth = 21,\n",
    "                                max_leaf_nodes = 1400,\n",
    "                                max_features = 3,\n",
    "                                n_jobs = -1)\n",
    "\n",
    "model_rf2.fit(X, y)\n",
    "\n",
    "pred_rf2 = model_rf2.predict(X_test)\n",
    "\n",
    "print(\"The RMSE on test data is\", np.sqrt(mean_squared_error(y_test, pred_rf2)))"
   ]
  },
  {
   "cell_type": "markdown",
   "id": "a3f2f981",
   "metadata": {},
   "source": [
    "### finer grid 2"
   ]
  },
  {
   "cell_type": "code",
   "execution_count": 52,
   "id": "e3175256",
   "metadata": {},
   "outputs": [
    {
     "name": "stdout",
     "output_type": "stream",
     "text": [
      "Fitting 5 folds for each of 96 candidates, totalling 480 fits\n",
      "-44.627455720949385 {'bootstrap': False, 'max_depth': 24, 'max_features': 2, 'max_leaf_nodes': 1300}\n"
     ]
    }
   ],
   "source": [
    "params = {'max_depth': range(15, 25, 3),\n",
    "          'max_leaf_nodes':range(1300, 1600, 100),\n",
    "          'max_features': list(range(1,5)),\n",
    "          'bootstrap': [True, False]}\n",
    "\n",
    "cv = KFold(n_splits=5,shuffle=True,random_state=1)\n",
    "\n",
    "\n",
    "rf = RandomForestRegressor(n_estimators = 450, random_state = 1)\n",
    "\n",
    "\n",
    "grid_search = GridSearchCV(rf, \n",
    "                           params, \n",
    "                           cv = cv, \n",
    "                           n_jobs = -1, \n",
    "                           verbose = 1,\n",
    "                           scoring='neg_mean_absolute_error')\n",
    "\n",
    "\n",
    "grid_search.fit(X_train, y_train)\n",
    "\n",
    "\n",
    "\n",
    "print (grid_search.best_score_, grid_search.best_params_) "
   ]
  },
  {
   "cell_type": "code",
   "execution_count": 53,
   "id": "ea78376b",
   "metadata": {},
   "outputs": [
    {
     "name": "stdout",
     "output_type": "stream",
     "text": [
      "The RMSE on test data is 60.703715587990146\n"
     ]
    }
   ],
   "source": [
    "model_rf_final = RandomForestRegressor(random_state = 1,\n",
    "                                n_estimators = 450,\n",
    "                                max_depth = 24,\n",
    "                                max_leaf_nodes = 1500,\n",
    "                                max_features = 2,\n",
    "                                bootstrap = False,\n",
    "                                n_jobs = -1)\n",
    "\n",
    "model_rf_final.fit(X, y)\n",
    "\n",
    "pred_rf_final = model_rf_final.predict(X_test)\n",
    "\n",
    "print(\"The RMSE on test data is\", np.sqrt(mean_squared_error(y_test, pred_rf_final)))"
   ]
  },
  {
   "cell_type": "markdown",
   "id": "5584efe5",
   "metadata": {},
   "source": [
    "## XG Boost - Ashley"
   ]
  },
  {
   "cell_type": "code",
   "execution_count": 54,
   "id": "963454eb",
   "metadata": {},
   "outputs": [],
   "source": [
    "import warnings\n",
    "warnings.filterwarnings(\"ignore\")"
   ]
  },
  {
   "cell_type": "markdown",
   "id": "56222631",
   "metadata": {},
   "source": [
    "### course grid"
   ]
  },
  {
   "cell_type": "code",
   "execution_count": null,
   "id": "b7e546b5",
   "metadata": {},
   "outputs": [
    {
     "name": "stdout",
     "output_type": "stream",
     "text": [
      "Fitting 2 folds for each of 200 candidates, totalling 400 fits\n",
      "Optimal parameter values = {'subsample': 0.75, 'reg_lambda': 1, 'n_estimators': 3000, 'max_depth': 7, 'learning_rate': 0.01, 'gamma': 50, 'colsample_bytree': 0.4}\n",
      "Optimal cross validation R-squared =  0.31025758222603267\n",
      "Time taken =  223  minutes\n"
     ]
    }
   ],
   "source": [
    "start_time = time.time()\n",
    "param_grid = {'max_depth': [5,6,7],\n",
    "              'learning_rate': [0.01,0.1],\n",
    "               'reg_lambda':[0,1,10],\n",
    "                'n_estimators':[1000, 2000, 3000],\n",
    "                'gamma': [50,100],\n",
    "                'subsample': [0.5,0.75,1.0],\n",
    "                'colsample_bytree': [0.2,0.4]}\n",
    "\n",
    "cv = KFold(n_splits=2,shuffle=True,random_state=1)\n",
    "optimal_params = RandomizedSearchCV(estimator=xgb.XGBRegressor(random_state=1),                                                       \n",
    "                             param_distributions = param_grid, n_iter = 200,\n",
    "                             verbose = 1,n_jobs=-1,cv=cv)\n",
    "optimal_params.fit(X_train,y_train)\n",
    "print(\"Optimal parameter values =\", optimal_params.best_params_)\n",
    "print(\"Optimal cross validation R-squared = \",optimal_params.best_score_)\n",
    "print(\"Time taken = \", round((time.time()-start_time)/60), \" minutes\")"
   ]
  },
  {
   "cell_type": "code",
   "execution_count": 89,
   "id": "8b891a2f",
   "metadata": {},
   "outputs": [],
   "source": [
    "means = optimal_params.cv_results_['mean_test_score']\n",
    "stds = optimal_params.cv_results_['std_test_score']\n",
    "params = optimal_params.cv_results_['params']"
   ]
  },
  {
   "cell_type": "code",
   "execution_count": 91,
   "id": "00edac84",
   "metadata": {
    "scrolled": false
   },
   "outputs": [
    {
     "data": {
      "image/png": "[encoded data removed]",
      "text/plain": [
       "<Figure size 640x480 with 1 Axes>"
      ]
     },
     "metadata": {},
     "output_type": "display_data"
    },
    {
     "data": {
      "image/png": "[encoded data removed]",
      "text/plain": [
       "<Figure size 640x480 with 1 Axes>"
      ]
     },
     "metadata": {},
     "output_type": "display_data"
    },
    {
     "data": {
      "image/png": "[encoded data removed]",
      "text/plain": [
       "<Figure size 640x480 with 1 Axes>"
      ]
     },
     "metadata": {},
     "output_type": "display_data"
    },
    {
     "data": {
      "image/png": "[encoded data removed]",
      "text/plain": [
       "<Figure size 640x480 with 1 Axes>"
      ]
     },
     "metadata": {},
     "output_type": "display_data"
    },
    {
     "data": {
      "image/png": "[encoded data removed]",
      "text/plain": [
       "<Figure size 640x480 with 1 Axes>"
      ]
     },
     "metadata": {},
     "output_type": "display_data"
    },
    {
     "data": {
      "image/png": "[encoded data removed]",
      "text/plain": [
       "<Figure size 640x480 with 1 Axes>"
      ]
     },
     "metadata": {},
     "output_type": "display_data"
    },
    {
     "data": {
      "image/png": "[encoded data removed]",
      "text/plain": [
       "<Figure size 640x480 with 1 Axes>"
      ]
     },
     "metadata": {},
     "output_type": "display_data"
    }
   ],
   "source": [
    "param_names = ['subsample', 'reg_lambda', 'n_estimators', 'max_depth', 'learning_rate', 'gamma', 'colsample_bytree']\n",
    "\n",
    "for i in range(len(param_names)):\n",
    "    values = []\n",
    "    for j in range(len(params)):\n",
    "        values.append(params[j][param_names[i]])    \n",
    "    fig, ax = plt.subplots()\n",
    "    ax.scatter(values, -means)\n",
    "    ax.set_xlabel(param_names[i])\n",
    "    ax.set_ylabel('Score')  \n",
    "    ax.set_title(param_names)\n",
    "    plt.show()"
   ]
  },
  {
   "cell_type": "code",
   "execution_count": 60,
   "id": "8bb30c10",
   "metadata": {},
   "outputs": [
    {
     "data": {
      "text/plain": [
       "62.135337369834204"
      ]
     },
     "execution_count": 60,
     "metadata": {},
     "output_type": "execute_result"
    }
   ],
   "source": [
    "np.sqrt(mean_squared_error(optimal_params.best_estimator_.predict(X_test),y_test))"
   ]
  },
  {
   "cell_type": "markdown",
   "id": "7109c149",
   "metadata": {},
   "source": [
    "### finer grid 1"
   ]
  },
  {
   "cell_type": "code",
   "execution_count": 55,
   "id": "124cc6b6",
   "metadata": {
    "scrolled": true
   },
   "outputs": [
    {
     "name": "stdout",
     "output_type": "stream",
     "text": [
      "Fitting 5 folds for each of 200 candidates, totalling 1000 fits\n",
      "Optimal parameter values = {'subsample': 0.75, 'reg_lambda': 0, 'n_estimators': 1000, 'max_depth': 6, 'learning_rate': 0.01, 'gamma': 10, 'colsample_bytree': 0.5}\n",
      "Optimal cross validation R-squared =  0.27642024006172805\n",
      "Time taken =  22  minutes\n"
     ]
    }
   ],
   "source": [
    "#K-fold cross validation to find optimal parameters for XGBoost\n",
    "start_time = time.time()\n",
    "param_grid = {'max_depth': [4,6,8],\n",
    "              'learning_rate': [0.01, 0.05, 0.1],\n",
    "               'reg_lambda':[0, 1, 10],\n",
    "                'n_estimators':[100, 500, 1000],\n",
    "                'gamma': [0, 10, 100],\n",
    "                'subsample': [0.5, 0.75, 1.0],\n",
    "                'colsample_bytree': [0.5, 0.75, 1.0]}\n",
    "\n",
    "cv = KFold(n_splits=5,shuffle=True,random_state=1)\n",
    "optimal_params = RandomizedSearchCV(estimator=xgb.XGBRegressor(random_state=1),                                                       \n",
    "                             param_distributions = param_grid, n_iter = 200,\n",
    "                             verbose = 1,\n",
    "                             n_jobs=-1,\n",
    "                             cv = cv)\n",
    "optimal_params.fit(X_train,y_train)\n",
    "print(\"Optimal parameter values =\", optimal_params.best_params_)\n",
    "print(\"Optimal cross validation R-squared = \",optimal_params.best_score_)\n",
    "print(\"Time taken = \", round((time.time()-start_time)/60), \" minutes\")"
   ]
  },
  {
   "cell_type": "code",
   "execution_count": 57,
   "id": "e53c2e7b",
   "metadata": {},
   "outputs": [
    {
     "data": {
      "text/plain": [
       "61.391631996452666"
      ]
     },
     "execution_count": 57,
     "metadata": {},
     "output_type": "execute_result"
    }
   ],
   "source": [
    "np.sqrt(mean_squared_error(optimal_params.best_estimator_.predict(X_test),y_test))"
   ]
  },
  {
   "cell_type": "markdown",
   "id": "ceb686a1",
   "metadata": {},
   "source": [
    "### finer grid 2"
   ]
  },
  {
   "cell_type": "code",
   "execution_count": 84,
   "id": "9f26fee8",
   "metadata": {
    "scrolled": true
   },
   "outputs": [
    {
     "name": "stdout",
     "output_type": "stream",
     "text": [
      "Fitting 2 folds for each of 16 candidates, totalling 32 fits\n",
      "Optimal parameter values = {'subsample': 0.75, 'reg_lambda': 0.4, 'n_estimators': 1650, 'max_depth': 7, 'learning_rate': 0.01, 'gamma': 10, 'colsample_bytree': 0.4}\n",
      "Optimal cross validation R-squared =  0.3040592074747846\n",
      "Time taken =  17  minutes\n"
     ]
    }
   ],
   "source": [
    "start_time = time.time()\n",
    "param_grid = {'max_depth': [7],\n",
    "              'learning_rate': [0.01,0.0088],\n",
    "               'reg_lambda':[0.4],\n",
    "                'n_estimators':[1000,1650],\n",
    "                'gamma': [10,15],\n",
    "                'subsample': [0.5,0.75],\n",
    "                'colsample_bytree': [0.4]}\n",
    "\n",
    "cv = KFold(n_splits=5,shuffle=True,random_state=1)\n",
    "optimal_params = RandomizedSearchCV(estimator=xgb.XGBRegressor(random_state=1),                                                       \n",
    "                             param_distributions = param_grid, n_iter = 200,\n",
    "                             verbose = 1,n_jobs=-1,cv=cv)\n",
    "optimal_params.fit(X_train,y_train)\n",
    "print(\"Optimal parameter values =\", optimal_params.best_params_)\n",
    "print(\"Optimal cross validation R-squared = \",optimal_params.best_score_)\n",
    "print(\"Time taken = \", round((time.time()-start_time)/60), \" minutes\")"
   ]
  },
  {
   "cell_type": "code",
   "execution_count": 62,
   "id": "546b961e",
   "metadata": {},
   "outputs": [
    {
     "data": {
      "text/plain": [
       "60.96223023570642"
      ]
     },
     "execution_count": 62,
     "metadata": {},
     "output_type": "execute_result"
    }
   ],
   "source": [
    "## hopefully this gives the params below bc it gives the lowest rmse out of everything i've tried \n",
    "\n",
    "model = xgb.XGBRegressor(random_state=1,\n",
    "                         subsample=0.75,\n",
    "                         reg_lambda=0.4,\n",
    "                         n_estimators=1650,\n",
    "                         max_depth=7,\n",
    "                         learning_rate=0.0088,\n",
    "                         gamma=10,\n",
    "                         colsample_bytree=0.4).fit(X_train,y_train)\n",
    "\n",
    "np.sqrt(mean_squared_error(model.predict(X_test),y_test))"
   ]
  },
  {
   "cell_type": "markdown",
   "id": "ecf65cff",
   "metadata": {},
   "source": [
    "### change n_estimators"
   ]
  },
  {
   "cell_type": "code",
   "execution_count": 63,
   "id": "53785e38",
   "metadata": {},
   "outputs": [],
   "source": [
    "model = xgb.XGBRegressor(random_state=1,\n",
    "                         subsample=0.55,\n",
    "                         reg_lambda=0.4,\n",
    "                         n_estimators=1500,\n",
    "                         max_depth=7,\n",
    "                         learning_rate=0.01,\n",
    "                         gamma=50,\n",
    "                         colsample_bytree=0.4).fit(X_train,y_train)"
   ]
  },
  {
   "cell_type": "code",
   "execution_count": 64,
   "id": "c083f2a7",
   "metadata": {},
   "outputs": [
    {
     "data": {
      "text/plain": [
       "61.053702579039566"
      ]
     },
     "execution_count": 64,
     "metadata": {},
     "output_type": "execute_result"
    }
   ],
   "source": [
    "np.sqrt(mean_squared_error(model.predict(X_test),y_test))"
   ]
  },
  {
   "cell_type": "markdown",
   "id": "c101c7ba",
   "metadata": {},
   "source": [
    "### change gamma"
   ]
  },
  {
   "cell_type": "code",
   "execution_count": 65,
   "id": "935a2c89",
   "metadata": {},
   "outputs": [],
   "source": [
    "model = xgb.XGBRegressor(random_state=1,\n",
    "                         subsample=0.55,\n",
    "                         reg_lambda=0.4,\n",
    "                         n_estimators=1700,\n",
    "                         max_depth=7,\n",
    "                         learning_rate=0.01,\n",
    "                         gamma=50,\n",
    "                         colsample_bytree=0.4).fit(X_train,y_train)"
   ]
  },
  {
   "cell_type": "code",
   "execution_count": 66,
   "id": "a85c353e",
   "metadata": {},
   "outputs": [
    {
     "data": {
      "text/plain": [
       "60.97268656628568"
      ]
     },
     "execution_count": 66,
     "metadata": {},
     "output_type": "execute_result"
    }
   ],
   "source": [
    "np.sqrt(mean_squared_error(model.predict(X_test),y_test))"
   ]
  },
  {
   "cell_type": "code",
   "execution_count": 67,
   "id": "d7f06a8d",
   "metadata": {},
   "outputs": [],
   "source": [
    "model = xgb.XGBRegressor(random_state=1,\n",
    "                         subsample=0.55,\n",
    "                         reg_lambda=0.4,\n",
    "                         n_estimators=1700,\n",
    "                         max_depth=7,\n",
    "                         learning_rate=0.01,\n",
    "                         gamma=10,\n",
    "                         colsample_bytree=0.4).fit(X_train,y_train)"
   ]
  },
  {
   "cell_type": "code",
   "execution_count": 68,
   "id": "8173a059",
   "metadata": {},
   "outputs": [
    {
     "data": {
      "text/plain": [
       "61.00310420333116"
      ]
     },
     "execution_count": 68,
     "metadata": {},
     "output_type": "execute_result"
    }
   ],
   "source": [
    "np.sqrt(mean_squared_error(model.predict(X_test),y_test))"
   ]
  },
  {
   "cell_type": "code",
   "execution_count": 69,
   "id": "aea0320f",
   "metadata": {},
   "outputs": [],
   "source": [
    "model = xgb.XGBRegressor(random_state=1,\n",
    "                         subsample=0.55,\n",
    "                         reg_lambda=0.4,\n",
    "                         n_estimators=1700,\n",
    "                         max_depth=7,\n",
    "                         learning_rate=0.01,\n",
    "                         gamma=15,\n",
    "                         colsample_bytree=0.4).fit(X_train,y_train)"
   ]
  },
  {
   "cell_type": "code",
   "execution_count": 70,
   "id": "f32a142c",
   "metadata": {},
   "outputs": [
    {
     "data": {
      "text/plain": [
       "60.90637844213821"
      ]
     },
     "execution_count": 70,
     "metadata": {},
     "output_type": "execute_result"
    }
   ],
   "source": [
    "np.sqrt(mean_squared_error(model.predict(X_test),y_test))"
   ]
  },
  {
   "cell_type": "markdown",
   "id": "7dd40e2e",
   "metadata": {},
   "source": [
    "### change subsample"
   ]
  },
  {
   "cell_type": "code",
   "execution_count": 71,
   "id": "08d78a12",
   "metadata": {},
   "outputs": [],
   "source": [
    "model = xgb.XGBRegressor(random_state=1,\n",
    "                         subsample=0.5,\n",
    "                         reg_lambda=0.4,\n",
    "                         n_estimators=1700,\n",
    "                         max_depth=7,\n",
    "                         learning_rate=0.01,\n",
    "                         gamma=15,\n",
    "                         colsample_bytree=0.4).fit(X_train,y_train)"
   ]
  },
  {
   "cell_type": "code",
   "execution_count": 72,
   "id": "cf5830bf",
   "metadata": {},
   "outputs": [
    {
     "data": {
      "text/plain": [
       "61.17963460869356"
      ]
     },
     "execution_count": 72,
     "metadata": {},
     "output_type": "execute_result"
    }
   ],
   "source": [
    "np.sqrt(mean_squared_error(model.predict(X_test),y_test))"
   ]
  },
  {
   "cell_type": "markdown",
   "id": "aebd515b",
   "metadata": {},
   "source": [
    "### change learning_rate"
   ]
  },
  {
   "cell_type": "code",
   "execution_count": 73,
   "id": "e614ba2c",
   "metadata": {},
   "outputs": [],
   "source": [
    "model = xgb.XGBRegressor(random_state=1,\n",
    "                         subsample=0.5,\n",
    "                         reg_lambda=0.4,\n",
    "                         n_estimators=1700,\n",
    "                         max_depth=7,\n",
    "                         learning_rate=0.0088,\n",
    "                         gamma=15,\n",
    "                         colsample_bytree=0.4).fit(X_train,y_train)"
   ]
  },
  {
   "cell_type": "code",
   "execution_count": 74,
   "id": "2a19fec8",
   "metadata": {},
   "outputs": [
    {
     "data": {
      "text/plain": [
       "60.92889577956893"
      ]
     },
     "execution_count": 74,
     "metadata": {},
     "output_type": "execute_result"
    }
   ],
   "source": [
    "np.sqrt(mean_squared_error(model.predict(X_test),y_test))"
   ]
  },
  {
   "cell_type": "markdown",
   "id": "6e7f0a94",
   "metadata": {},
   "source": [
    "# FINAL MODELS"
   ]
  },
  {
   "cell_type": "markdown",
   "id": "3d72bfc9",
   "metadata": {},
   "source": [
    "#### MARS"
   ]
  },
  {
   "cell_type": "code",
   "execution_count": 75,
   "id": "5e5eb993",
   "metadata": {},
   "outputs": [
    {
     "name": "stdout",
     "output_type": "stream",
     "text": [
      "Earth Model\n",
      "--------------------------------------------------------------------------------------\n",
      "Basis Function                                                  Pruned  Coefficient   \n",
      "--------------------------------------------------------------------------------------\n",
      "(Intercept)                                                     No      679.861       \n",
      "h(Outstanding_Debt-557.04)                                      No      -0.102257     \n",
      "h(557.04-Outstanding_Debt)                                      Yes     None          \n",
      "Credit_Mix_Good*h(Outstanding_Debt-557.04)                      Yes     None          \n",
      "Credit_Mix_Bad                                                  No      -208.373      \n",
      "Credit_Mix_Good                                                 No      -221.362      \n",
      "h(Num_Credit_Inquiries-17)*h(Outstanding_Debt-557.04)           Yes     None          \n",
      "h(17-Num_Credit_Inquiries)*h(Outstanding_Debt-557.04)           No      0.00326517    \n",
      "Credit_Mix_Bad*h(Outstanding_Debt-557.04)                       No      0.0489406     \n",
      "h(Amount_invested_monthly-118.348)*h(Outstanding_Debt-557.04)   No      3.64831e-05   \n",
      "h(118.348-Amount_invested_monthly)*h(Outstanding_Debt-557.04)   No      0.000238452   \n",
      "h(Num_Credit_Card-51)                                           Yes     None          \n",
      "h(51-Num_Credit_Card)                                           Yes     None          \n",
      "h(Outstanding_Debt-1852.86)*h(Outstanding_Debt-557.04)          No      0.00115222    \n",
      "h(1852.86-Outstanding_Debt)*h(Outstanding_Debt-557.04)          No      3.36135e-05   \n",
      "h(Total_EMI_per_month-756.884)                                  No      -0.00695715   \n",
      "h(756.884-Total_EMI_per_month)                                  No      -0.0538261    \n",
      "Num_Credit_Card*h(51-Num_Credit_Card)                           No      -0.0680292    \n",
      "Num_Credit_Inquiries*Credit_Mix_Bad                             No      6.42297       \n",
      "h(Outstanding_Debt-1873.81)*h(Outstanding_Debt-557.04)          No      -0.00112006   \n",
      "h(1873.81-Outstanding_Debt)*h(Outstanding_Debt-557.04)          Yes     None          \n",
      "Num_Credit_Card*Credit_Mix_Bad                                  No      5.72444       \n",
      "Num_of_Delayed_Payment*Credit_Mix_Good                          No      1.22159       \n",
      "h(Monthly_Balance-527.86)*h(Outstanding_Debt-557.04)            No      0.000181251   \n",
      "h(527.86-Monthly_Balance)*h(Outstanding_Debt-557.04)            Yes     None          \n",
      "h(Credit_Utilization_Ratio-37.3907)*h(Outstanding_Debt-557.04)  No      -7.26795      \n",
      "h(37.3907-Credit_Utilization_Ratio)*h(Outstanding_Debt-557.04)  Yes     None          \n",
      "Credit_Mix_Good*h(51-Num_Credit_Card)                           No      5.90742       \n",
      "Num_Credit_Card*Credit_Mix_Good                                 No      2.52778       \n",
      "h(Annual_Income-90292.3)*h(Outstanding_Debt-557.04)             Yes     None          \n",
      "h(90292.3-Annual_Income)*h(Outstanding_Debt-557.04)             No      3.90407e-07   \n",
      "h(Outstanding_Debt-1570.56)*h(756.884-Total_EMI_per_month)      No      -0.000100088  \n",
      "h(1570.56-Outstanding_Debt)*h(756.884-Total_EMI_per_month)      Yes     None          \n",
      "h(Monthly_Inhand_Salary-1745.23)*h(51-Num_Credit_Card)          Yes     None          \n",
      "h(1745.23-Monthly_Inhand_Salary)*h(51-Num_Credit_Card)          No      -0.00037665   \n",
      "Credit_Utilization_Ratio*Credit_Mix_Good                        No      -1.48008      \n",
      "--------------------------------------------------------------------------------------\n",
      "MSE: 4014.4064, GCV: 4092.3232, RSQ: 0.2754, GRSQ: 0.2616\n"
     ]
    }
   ],
   "source": [
    "MARS_model = Earth(max_terms=1000, max_degree = 2, feature_importance_type= 'rss').fit(X, y)\n",
    "print(MARS_model.summary())"
   ]
  },
  {
   "cell_type": "code",
   "execution_count": 76,
   "id": "c37ef2dc",
   "metadata": {},
   "outputs": [
    {
     "data": {
      "text/plain": [
       "64.24252965347189"
      ]
     },
     "execution_count": 76,
     "metadata": {},
     "output_type": "execute_result"
    }
   ],
   "source": [
    "np.sqrt(mean_squared_error(y_test, MARS_model.predict(X_test)))"
   ]
  },
  {
   "cell_type": "code",
   "execution_count": 77,
   "id": "d018a7ff",
   "metadata": {},
   "outputs": [
    {
     "data": {
      "text/html": [
       "<div>\n",
       "<style scoped>\n",
       "    .dataframe tbody tr th:only-of-type {\n",
       "        vertical-align: middle;\n",
       "    }\n",
       "\n",
       "    .dataframe tbody tr th {\n",
       "        vertical-align: top;\n",
       "    }\n",
       "\n",
       "    .dataframe thead th {\n",
       "        text-align: right;\n",
       "    }\n",
       "</style>\n",
       "<table border=\"1\" class=\"dataframe\">\n",
       "  <thead>\n",
       "    <tr style=\"text-align: right;\">\n",
       "      <th></th>\n",
       "      <th>predictor</th>\n",
       "      <th>importance</th>\n",
       "    </tr>\n",
       "  </thead>\n",
       "  <tbody>\n",
       "    <tr>\n",
       "      <th>14</th>\n",
       "      <td>Credit_Mix_Bad</td>\n",
       "      <td>0.364271</td>\n",
       "    </tr>\n",
       "    <tr>\n",
       "      <th>4</th>\n",
       "      <td>Num_Credit_Card</td>\n",
       "      <td>0.190146</td>\n",
       "    </tr>\n",
       "    <tr>\n",
       "      <th>15</th>\n",
       "      <td>Credit_Mix_Good</td>\n",
       "      <td>0.189447</td>\n",
       "    </tr>\n",
       "    <tr>\n",
       "      <th>9</th>\n",
       "      <td>Outstanding_Debt</td>\n",
       "      <td>0.172981</td>\n",
       "    </tr>\n",
       "    <tr>\n",
       "      <th>8</th>\n",
       "      <td>Num_Credit_Inquiries</td>\n",
       "      <td>0.038291</td>\n",
       "    </tr>\n",
       "    <tr>\n",
       "      <th>12</th>\n",
       "      <td>Amount_invested_monthly</td>\n",
       "      <td>0.013273</td>\n",
       "    </tr>\n",
       "  </tbody>\n",
       "</table>\n",
       "</div>"
      ],
      "text/plain": [
       "                  predictor  importance\n",
       "14           Credit_Mix_Bad    0.364271\n",
       "4           Num_Credit_Card    0.190146\n",
       "15          Credit_Mix_Good    0.189447\n",
       "9          Outstanding_Debt    0.172981\n",
       "8      Num_Credit_Inquiries    0.038291\n",
       "12  Amount_invested_monthly    0.013273"
      ]
     },
     "execution_count": 77,
     "metadata": {},
     "output_type": "execute_result"
    }
   ],
   "source": [
    "pd.concat([pd.Series(X.columns, name = 'predictor'), \n",
    "           pd.Series(MARS_model.feature_importances_, \n",
    "                     name = 'importance')], axis = 1).sort_values(by = 'importance', ascending=False)[0:6]"
   ]
  },
  {
   "cell_type": "markdown",
   "id": "61c4bdb9",
   "metadata": {},
   "source": [
    "#### BAGGING"
   ]
  },
  {
   "cell_type": "code",
   "execution_count": 78,
   "id": "f75585be",
   "metadata": {},
   "outputs": [
    {
     "name": "stdout",
     "output_type": "stream",
     "text": [
      "60.82198386022294\n"
     ]
    }
   ],
   "source": [
    "bagging_model = BaggingRegressor(base_estimator=DecisionTreeRegressor(), n_estimators=300, random_state=1,\n",
    "                        oob_score=True,n_jobs=-1,bootstrap_features=True,bootstrap=True,\n",
    "                        max_features=1.0,max_samples=1.0).fit(X, y)\n",
    "\n",
    "RMSE = np.sqrt(mean_squared_error(y_test, bagging_model.predict(X_test)))\n",
    "print(RMSE)"
   ]
  },
  {
   "cell_type": "code",
   "execution_count": 79,
   "id": "63fc3d6e",
   "metadata": {},
   "outputs": [
    {
     "data": {
      "text/html": [
       "<div>\n",
       "<style scoped>\n",
       "    .dataframe tbody tr th:only-of-type {\n",
       "        vertical-align: middle;\n",
       "    }\n",
       "\n",
       "    .dataframe tbody tr th {\n",
       "        vertical-align: top;\n",
       "    }\n",
       "\n",
       "    .dataframe thead th {\n",
       "        text-align: right;\n",
       "    }\n",
       "</style>\n",
       "<table border=\"1\" class=\"dataframe\">\n",
       "  <thead>\n",
       "    <tr style=\"text-align: right;\">\n",
       "      <th></th>\n",
       "      <th>predictors</th>\n",
       "      <th>importance</th>\n",
       "    </tr>\n",
       "  </thead>\n",
       "  <tbody>\n",
       "    <tr>\n",
       "      <th>17</th>\n",
       "      <td>Payment_of_Min_Amount_No</td>\n",
       "      <td>0.057049</td>\n",
       "    </tr>\n",
       "    <tr>\n",
       "      <th>9</th>\n",
       "      <td>Outstanding_Debt</td>\n",
       "      <td>0.055422</td>\n",
       "    </tr>\n",
       "    <tr>\n",
       "      <th>4</th>\n",
       "      <td>Num_Credit_Card</td>\n",
       "      <td>0.055303</td>\n",
       "    </tr>\n",
       "    <tr>\n",
       "      <th>1</th>\n",
       "      <td>Annual_Income</td>\n",
       "      <td>0.055268</td>\n",
       "    </tr>\n",
       "    <tr>\n",
       "      <th>13</th>\n",
       "      <td>Monthly_Balance</td>\n",
       "      <td>0.054388</td>\n",
       "    </tr>\n",
       "    <tr>\n",
       "      <th>0</th>\n",
       "      <td>Age</td>\n",
       "      <td>0.054223</td>\n",
       "    </tr>\n",
       "    <tr>\n",
       "      <th>15</th>\n",
       "      <td>Credit_Mix_Good</td>\n",
       "      <td>0.053836</td>\n",
       "    </tr>\n",
       "    <tr>\n",
       "      <th>14</th>\n",
       "      <td>Credit_Mix_Bad</td>\n",
       "      <td>0.053269</td>\n",
       "    </tr>\n",
       "    <tr>\n",
       "      <th>7</th>\n",
       "      <td>Changed_Credit_Limit</td>\n",
       "      <td>0.053102</td>\n",
       "    </tr>\n",
       "    <tr>\n",
       "      <th>16</th>\n",
       "      <td>Credit_Mix_Standard</td>\n",
       "      <td>0.052928</td>\n",
       "    </tr>\n",
       "    <tr>\n",
       "      <th>6</th>\n",
       "      <td>Num_of_Delayed_Payment</td>\n",
       "      <td>0.052824</td>\n",
       "    </tr>\n",
       "    <tr>\n",
       "      <th>11</th>\n",
       "      <td>Total_EMI_per_month</td>\n",
       "      <td>0.051784</td>\n",
       "    </tr>\n",
       "    <tr>\n",
       "      <th>3</th>\n",
       "      <td>Num_Bank_Accounts</td>\n",
       "      <td>0.051616</td>\n",
       "    </tr>\n",
       "    <tr>\n",
       "      <th>18</th>\n",
       "      <td>Payment_of_Min_Amount_Yes</td>\n",
       "      <td>0.051326</td>\n",
       "    </tr>\n",
       "    <tr>\n",
       "      <th>2</th>\n",
       "      <td>Monthly_Inhand_Salary</td>\n",
       "      <td>0.051157</td>\n",
       "    </tr>\n",
       "    <tr>\n",
       "      <th>10</th>\n",
       "      <td>Credit_Utilization_Ratio</td>\n",
       "      <td>0.050741</td>\n",
       "    </tr>\n",
       "    <tr>\n",
       "      <th>8</th>\n",
       "      <td>Num_Credit_Inquiries</td>\n",
       "      <td>0.050289</td>\n",
       "    </tr>\n",
       "    <tr>\n",
       "      <th>12</th>\n",
       "      <td>Amount_invested_monthly</td>\n",
       "      <td>0.048015</td>\n",
       "    </tr>\n",
       "    <tr>\n",
       "      <th>5</th>\n",
       "      <td>Num_of_Loan</td>\n",
       "      <td>0.047459</td>\n",
       "    </tr>\n",
       "  </tbody>\n",
       "</table>\n",
       "</div>"
      ],
      "text/plain": [
       "                   predictors  importance\n",
       "17   Payment_of_Min_Amount_No    0.057049\n",
       "9            Outstanding_Debt    0.055422\n",
       "4             Num_Credit_Card    0.055303\n",
       "1               Annual_Income    0.055268\n",
       "13            Monthly_Balance    0.054388\n",
       "0                         Age    0.054223\n",
       "15            Credit_Mix_Good    0.053836\n",
       "14             Credit_Mix_Bad    0.053269\n",
       "7        Changed_Credit_Limit    0.053102\n",
       "16        Credit_Mix_Standard    0.052928\n",
       "6      Num_of_Delayed_Payment    0.052824\n",
       "11        Total_EMI_per_month    0.051784\n",
       "3           Num_Bank_Accounts    0.051616\n",
       "18  Payment_of_Min_Amount_Yes    0.051326\n",
       "2       Monthly_Inhand_Salary    0.051157\n",
       "10   Credit_Utilization_Ratio    0.050741\n",
       "8        Num_Credit_Inquiries    0.050289\n",
       "12    Amount_invested_monthly    0.048015\n",
       "5                 Num_of_Loan    0.047459"
      ]
     },
     "execution_count": 79,
     "metadata": {},
     "output_type": "execute_result"
    }
   ],
   "source": [
    "predictors = np.array(X.columns)\n",
    "\n",
    "feature_importances = np.mean([\n",
    "    tree.feature_importances_ for tree in bagging_model.estimators_\n",
    "], axis=0)\n",
    "\n",
    "importances = pd.DataFrame(columns = {'predictors', 'importance'})\n",
    "\n",
    "importances['predictors'] = pd.Series(predictors)\n",
    "importances['importance'] = pd.Series(feature_importances)\n",
    "\n",
    "importances.sort_values(by = \"importance\", ascending = False)"
   ]
  },
  {
   "cell_type": "markdown",
   "id": "3734835f",
   "metadata": {},
   "source": [
    "#### RANDOM FOREST "
   ]
  },
  {
   "cell_type": "code",
   "execution_count": 80,
   "id": "4ef6470c",
   "metadata": {},
   "outputs": [
    {
     "name": "stdout",
     "output_type": "stream",
     "text": [
      "The RMSE on test data is 60.70371558799015\n"
     ]
    }
   ],
   "source": [
    "rf_model = RandomForestRegressor(random_state = 1,\n",
    "                                n_estimators = 450,\n",
    "                                max_depth = 24,\n",
    "                                max_leaf_nodes = 1500,\n",
    "                                max_features = 2,\n",
    "                                bootstrap = False,\n",
    "                                n_jobs = -1)\n",
    "rf_model.fit(X, y)\n",
    "\n",
    "pred_rf_final = rf_model.predict(X_test)\n",
    "\n",
    "print(\"The RMSE on test data is\", np.sqrt(mean_squared_error(y_test, pred_rf_final)))"
   ]
  },
  {
   "cell_type": "code",
   "execution_count": 81,
   "id": "c2d03a37",
   "metadata": {},
   "outputs": [
    {
     "data": {
      "text/html": [
       "<div>\n",
       "<style scoped>\n",
       "    .dataframe tbody tr th:only-of-type {\n",
       "        vertical-align: middle;\n",
       "    }\n",
       "\n",
       "    .dataframe tbody tr th {\n",
       "        vertical-align: top;\n",
       "    }\n",
       "\n",
       "    .dataframe thead th {\n",
       "        text-align: right;\n",
       "    }\n",
       "</style>\n",
       "<table border=\"1\" class=\"dataframe\">\n",
       "  <thead>\n",
       "    <tr style=\"text-align: right;\">\n",
       "      <th></th>\n",
       "      <th>predictors</th>\n",
       "      <th>importance</th>\n",
       "    </tr>\n",
       "  </thead>\n",
       "  <tbody>\n",
       "    <tr>\n",
       "      <th>9</th>\n",
       "      <td>Outstanding_Debt</td>\n",
       "      <td>0.127571</td>\n",
       "    </tr>\n",
       "    <tr>\n",
       "      <th>8</th>\n",
       "      <td>Num_Credit_Inquiries</td>\n",
       "      <td>0.068257</td>\n",
       "    </tr>\n",
       "    <tr>\n",
       "      <th>10</th>\n",
       "      <td>Credit_Utilization_Ratio</td>\n",
       "      <td>0.063304</td>\n",
       "    </tr>\n",
       "    <tr>\n",
       "      <th>12</th>\n",
       "      <td>Amount_invested_monthly</td>\n",
       "      <td>0.062384</td>\n",
       "    </tr>\n",
       "    <tr>\n",
       "      <th>13</th>\n",
       "      <td>Monthly_Balance</td>\n",
       "      <td>0.062064</td>\n",
       "    </tr>\n",
       "    <tr>\n",
       "      <th>4</th>\n",
       "      <td>Num_Credit_Card</td>\n",
       "      <td>0.062019</td>\n",
       "    </tr>\n",
       "    <tr>\n",
       "      <th>2</th>\n",
       "      <td>Monthly_Inhand_Salary</td>\n",
       "      <td>0.059852</td>\n",
       "    </tr>\n",
       "    <tr>\n",
       "      <th>7</th>\n",
       "      <td>Changed_Credit_Limit</td>\n",
       "      <td>0.059236</td>\n",
       "    </tr>\n",
       "    <tr>\n",
       "      <th>1</th>\n",
       "      <td>Annual_Income</td>\n",
       "      <td>0.058276</td>\n",
       "    </tr>\n",
       "    <tr>\n",
       "      <th>11</th>\n",
       "      <td>Total_EMI_per_month</td>\n",
       "      <td>0.057548</td>\n",
       "    </tr>\n",
       "    <tr>\n",
       "      <th>6</th>\n",
       "      <td>Num_of_Delayed_Payment</td>\n",
       "      <td>0.054229</td>\n",
       "    </tr>\n",
       "    <tr>\n",
       "      <th>0</th>\n",
       "      <td>Age</td>\n",
       "      <td>0.051184</td>\n",
       "    </tr>\n",
       "    <tr>\n",
       "      <th>3</th>\n",
       "      <td>Num_Bank_Accounts</td>\n",
       "      <td>0.045848</td>\n",
       "    </tr>\n",
       "    <tr>\n",
       "      <th>14</th>\n",
       "      <td>Credit_Mix_Bad</td>\n",
       "      <td>0.040257</td>\n",
       "    </tr>\n",
       "    <tr>\n",
       "      <th>5</th>\n",
       "      <td>Num_of_Loan</td>\n",
       "      <td>0.034251</td>\n",
       "    </tr>\n",
       "    <tr>\n",
       "      <th>15</th>\n",
       "      <td>Credit_Mix_Good</td>\n",
       "      <td>0.027644</td>\n",
       "    </tr>\n",
       "    <tr>\n",
       "      <th>18</th>\n",
       "      <td>Payment_of_Min_Amount_Yes</td>\n",
       "      <td>0.024116</td>\n",
       "    </tr>\n",
       "    <tr>\n",
       "      <th>16</th>\n",
       "      <td>Credit_Mix_Standard</td>\n",
       "      <td>0.022634</td>\n",
       "    </tr>\n",
       "    <tr>\n",
       "      <th>17</th>\n",
       "      <td>Payment_of_Min_Amount_No</td>\n",
       "      <td>0.019326</td>\n",
       "    </tr>\n",
       "  </tbody>\n",
       "</table>\n",
       "</div>"
      ],
      "text/plain": [
       "                   predictors  importance\n",
       "9            Outstanding_Debt    0.127571\n",
       "8        Num_Credit_Inquiries    0.068257\n",
       "10   Credit_Utilization_Ratio    0.063304\n",
       "12    Amount_invested_monthly    0.062384\n",
       "13            Monthly_Balance    0.062064\n",
       "4             Num_Credit_Card    0.062019\n",
       "2       Monthly_Inhand_Salary    0.059852\n",
       "7        Changed_Credit_Limit    0.059236\n",
       "1               Annual_Income    0.058276\n",
       "11        Total_EMI_per_month    0.057548\n",
       "6      Num_of_Delayed_Payment    0.054229\n",
       "0                         Age    0.051184\n",
       "3           Num_Bank_Accounts    0.045848\n",
       "14             Credit_Mix_Bad    0.040257\n",
       "5                 Num_of_Loan    0.034251\n",
       "15            Credit_Mix_Good    0.027644\n",
       "18  Payment_of_Min_Amount_Yes    0.024116\n",
       "16        Credit_Mix_Standard    0.022634\n",
       "17   Payment_of_Min_Amount_No    0.019326"
      ]
     },
     "execution_count": 81,
     "metadata": {},
     "output_type": "execute_result"
    }
   ],
   "source": [
    "predictors = np.array(X.columns)\n",
    "\n",
    "feature_importances = np.mean([\n",
    "    tree.feature_importances_ for tree in rf_model.estimators_\n",
    "], axis=0)\n",
    "\n",
    "importances = pd.DataFrame(columns = {'predictors', 'importance'})\n",
    "\n",
    "importances['predictors'] = pd.Series(predictors)\n",
    "importances['importance'] = pd.Series(feature_importances)\n",
    "\n",
    "importances.sort_values(by = \"importance\", ascending = False)"
   ]
  },
  {
   "cell_type": "markdown",
   "id": "1396957c",
   "metadata": {},
   "source": [
    "#### XGBOOST"
   ]
  },
  {
   "cell_type": "code",
   "execution_count": 82,
   "id": "c9fbba1f",
   "metadata": {},
   "outputs": [
    {
     "data": {
      "text/plain": [
       "61.19630566677543"
      ]
     },
     "execution_count": 82,
     "metadata": {},
     "output_type": "execute_result"
    }
   ],
   "source": [
    "xgb_model = xgb.XGBRegressor(random_state=1,\n",
    "                         subsample=0.75,\n",
    "                         reg_lambda=0.4,\n",
    "                         n_estimators=1650,\n",
    "                         max_depth=7,\n",
    "                         learning_rate=0.0088,\n",
    "                         gamma=10,\n",
    "                         colsample_bytree=0.4).fit(X_train,y_train)\n",
    "\n",
    "np.sqrt(mean_squared_error(y_test, xgb_model.predict(X_test)))"
   ]
  },
  {
   "cell_type": "code",
   "execution_count": 83,
   "id": "b4071e62",
   "metadata": {},
   "outputs": [
    {
     "data": {
      "text/html": [
       "<div>\n",
       "<style scoped>\n",
       "    .dataframe tbody tr th:only-of-type {\n",
       "        vertical-align: middle;\n",
       "    }\n",
       "\n",
       "    .dataframe tbody tr th {\n",
       "        vertical-align: top;\n",
       "    }\n",
       "\n",
       "    .dataframe thead th {\n",
       "        text-align: right;\n",
       "    }\n",
       "</style>\n",
       "<table border=\"1\" class=\"dataframe\">\n",
       "  <thead>\n",
       "    <tr style=\"text-align: right;\">\n",
       "      <th></th>\n",
       "      <th>predictors</th>\n",
       "      <th>importance</th>\n",
       "    </tr>\n",
       "  </thead>\n",
       "  <tbody>\n",
       "    <tr>\n",
       "      <th>14</th>\n",
       "      <td>Credit_Mix_Bad</td>\n",
       "      <td>0.217700</td>\n",
       "    </tr>\n",
       "    <tr>\n",
       "      <th>15</th>\n",
       "      <td>Credit_Mix_Good</td>\n",
       "      <td>0.119893</td>\n",
       "    </tr>\n",
       "    <tr>\n",
       "      <th>18</th>\n",
       "      <td>Payment_of_Min_Amount_Yes</td>\n",
       "      <td>0.111035</td>\n",
       "    </tr>\n",
       "    <tr>\n",
       "      <th>16</th>\n",
       "      <td>Credit_Mix_Standard</td>\n",
       "      <td>0.100350</td>\n",
       "    </tr>\n",
       "    <tr>\n",
       "      <th>17</th>\n",
       "      <td>Payment_of_Min_Amount_No</td>\n",
       "      <td>0.072706</td>\n",
       "    </tr>\n",
       "    <tr>\n",
       "      <th>9</th>\n",
       "      <td>Outstanding_Debt</td>\n",
       "      <td>0.056428</td>\n",
       "    </tr>\n",
       "    <tr>\n",
       "      <th>8</th>\n",
       "      <td>Num_Credit_Inquiries</td>\n",
       "      <td>0.042490</td>\n",
       "    </tr>\n",
       "    <tr>\n",
       "      <th>4</th>\n",
       "      <td>Num_Credit_Card</td>\n",
       "      <td>0.034276</td>\n",
       "    </tr>\n",
       "    <tr>\n",
       "      <th>11</th>\n",
       "      <td>Total_EMI_per_month</td>\n",
       "      <td>0.026748</td>\n",
       "    </tr>\n",
       "    <tr>\n",
       "      <th>12</th>\n",
       "      <td>Amount_invested_monthly</td>\n",
       "      <td>0.025079</td>\n",
       "    </tr>\n",
       "    <tr>\n",
       "      <th>13</th>\n",
       "      <td>Monthly_Balance</td>\n",
       "      <td>0.024168</td>\n",
       "    </tr>\n",
       "    <tr>\n",
       "      <th>7</th>\n",
       "      <td>Changed_Credit_Limit</td>\n",
       "      <td>0.023911</td>\n",
       "    </tr>\n",
       "    <tr>\n",
       "      <th>10</th>\n",
       "      <td>Credit_Utilization_Ratio</td>\n",
       "      <td>0.023465</td>\n",
       "    </tr>\n",
       "    <tr>\n",
       "      <th>2</th>\n",
       "      <td>Monthly_Inhand_Salary</td>\n",
       "      <td>0.022364</td>\n",
       "    </tr>\n",
       "    <tr>\n",
       "      <th>1</th>\n",
       "      <td>Annual_Income</td>\n",
       "      <td>0.021520</td>\n",
       "    </tr>\n",
       "    <tr>\n",
       "      <th>6</th>\n",
       "      <td>Num_of_Delayed_Payment</td>\n",
       "      <td>0.021209</td>\n",
       "    </tr>\n",
       "    <tr>\n",
       "      <th>3</th>\n",
       "      <td>Num_Bank_Accounts</td>\n",
       "      <td>0.020743</td>\n",
       "    </tr>\n",
       "    <tr>\n",
       "      <th>5</th>\n",
       "      <td>Num_of_Loan</td>\n",
       "      <td>0.019921</td>\n",
       "    </tr>\n",
       "    <tr>\n",
       "      <th>0</th>\n",
       "      <td>Age</td>\n",
       "      <td>0.015996</td>\n",
       "    </tr>\n",
       "  </tbody>\n",
       "</table>\n",
       "</div>"
      ],
      "text/plain": [
       "                   predictors  importance\n",
       "14             Credit_Mix_Bad    0.217700\n",
       "15            Credit_Mix_Good    0.119893\n",
       "18  Payment_of_Min_Amount_Yes    0.111035\n",
       "16        Credit_Mix_Standard    0.100350\n",
       "17   Payment_of_Min_Amount_No    0.072706\n",
       "9            Outstanding_Debt    0.056428\n",
       "8        Num_Credit_Inquiries    0.042490\n",
       "4             Num_Credit_Card    0.034276\n",
       "11        Total_EMI_per_month    0.026748\n",
       "12    Amount_invested_monthly    0.025079\n",
       "13            Monthly_Balance    0.024168\n",
       "7        Changed_Credit_Limit    0.023911\n",
       "10   Credit_Utilization_Ratio    0.023465\n",
       "2       Monthly_Inhand_Salary    0.022364\n",
       "1               Annual_Income    0.021520\n",
       "6      Num_of_Delayed_Payment    0.021209\n",
       "3           Num_Bank_Accounts    0.020743\n",
       "5                 Num_of_Loan    0.019921\n",
       "0                         Age    0.015996"
      ]
     },
     "execution_count": 83,
     "metadata": {},
     "output_type": "execute_result"
    }
   ],
   "source": [
    "predictors = np.array(X.columns)\n",
    "\n",
    "feature_importances = xgb_model.feature_importances_\n",
    "\n",
    "importances = pd.DataFrame(columns = {'predictors', 'importance'})\n",
    "\n",
    "importances['predictors'] = pd.Series(predictors)\n",
    "importances['importance'] = pd.Series(feature_importances)\n",
    "\n",
    "importances.sort_values(by = \"importance\", ascending = False)"
   ]
  },
  {
   "cell_type": "markdown",
   "id": "ae2a9a26",
   "metadata": {},
   "source": [
    "## Ensemble Model"
   ]
  },
  {
   "cell_type": "markdown",
   "id": "88147571",
   "metadata": {},
   "source": [
    "#### STACKING"
   ]
  },
  {
   "cell_type": "code",
   "execution_count": 84,
   "id": "5d89f09b",
   "metadata": {},
   "outputs": [
    {
     "name": "stdout",
     "output_type": "stream",
     "text": [
      "The Final Model RMSE  is  61.00519641755346\n"
     ]
    }
   ],
   "source": [
    "#LinearRegression as the metamodel\n",
    "\n",
    "final_model = StackingRegressor(estimators = [('xgb', xgb_model),('rf', rf_model), \n",
    "                                              ('bagging', bagging_model), ('MARS', MARS_model)],\n",
    "                                final_estimator=LinearRegression(),                                          \n",
    "                                cv = KFold(n_splits = 5, shuffle = True, random_state=1))\n",
    "\n",
    "final_model.fit(X,y)\n",
    "\n",
    "print(\"The Final Model RMSE  is \", np.sqrt(mean_squared_error(final_model.predict(X_test), y_test)))"
   ]
  },
  {
   "cell_type": "code",
   "execution_count": 85,
   "id": "9664d473",
   "metadata": {},
   "outputs": [
    {
     "data": {
      "text/plain": [
       "array([ 0.09460757,  0.91751716, -0.23489145,  0.22234387])"
      ]
     },
     "execution_count": 85,
     "metadata": {},
     "output_type": "execute_result"
    }
   ],
   "source": [
    "#Co-efficients \n",
    "final_model.final_estimator_.coef_"
   ]
  },
  {
   "cell_type": "markdown",
   "id": "2e5485db",
   "metadata": {},
   "source": [
    "#### VOTING"
   ]
  },
  {
   "cell_type": "code",
   "execution_count": 86,
   "id": "1342d398",
   "metadata": {},
   "outputs": [
    {
     "name": "stdout",
     "output_type": "stream",
     "text": [
      "Ensemble model RMSE =  61.091817107561596\n"
     ]
    }
   ],
   "source": [
    "from sklearn.ensemble import VotingRegressor, VotingClassifier, StackingRegressor, StackingClassifier, GradientBoostingRegressor,GradientBoostingClassifier, BaggingRegressor,BaggingClassifier,RandomForestRegressor,RandomForestClassifier,AdaBoostRegressor,AdaBoostClassifier\n",
    "\n",
    "\n",
    "#Voting ensemble: Averaging the predictions of all models\n",
    "en = VotingRegressor(estimators = [('xgb', xgb_model),('rf', rf_model), \n",
    "                                              ('bagging', bagging_model), ('MARS', MARS_model)])\n",
    "en.fit(X,y)\n",
    "print(\"Ensemble model RMSE = \", np.sqrt(mean_squared_error(en.predict(X_test),y_test)))"
   ]
  },
  {
   "cell_type": "code",
   "execution_count": null,
   "id": "a955fe97",
   "metadata": {},
   "outputs": [],
   "source": []
  }
 ],
 "metadata": {
  "kernelspec": {
   "display_name": "Python 3 (ipykernel)",
   "language": "python",
   "name": "python3"
  },
  "language_info": {
   "codemirror_mode": {
    "name": "ipython",
    "version": 3
   },
   "file_extension": ".py",
   "mimetype": "text/x-python",
   "name": "python",
   "nbconvert_exporter": "python",
   "pygments_lexer": "ipython3",
   "version": "3.8.8"
  }
 },
 "nbformat": 4,
 "nbformat_minor": 5
}
