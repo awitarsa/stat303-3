{
 "cells": [
  {
   "cell_type": "raw",
   "id": "33dd6c4c",
   "metadata": {},
   "source": [
    "---\n",
    "title: \"Project Code\"\n",
    "subtitle: Ashley's Found Phone\n",
    "author: Luca Moretti, Luca Moretti, Nicket Mauskar, Ashley Witarsa, and Kaylee Mo \n",
    "date: 05/30/2023\n",
    "number-sections: true\n",
    "abstract: _This file contains the code for the project on <>, as part of the STAT303-3 course in Spring 2023_.\n",
    "format: \n",
    "  html:\n",
    "    toc: true\n",
    "    toc-title: Contents\n",
    "    self-contained: true\n",
    "    font-size: 100%\n",
    "    toc-depth: 4\n",
    "    mainfont: serif\n",
    "jupyter: python3\n",
    "---"
   ]
  },
  {
   "cell_type": "markdown",
   "id": "fe7ea9bb",
   "metadata": {},
   "source": [
    "## Data quality check / cleaning / preparation \n",
    "\n",
    "Put code with comments. The comments should explain the code such that it can be easily understood. You may put text *(in a markdown cell)* before a large chunk of code to explain the overall purpose of the code, if it is not intuitive. **Put the name of the person / persons who contributed to each code chunk / set of code chunks.** An example is given below."
   ]
  },
  {
   "cell_type": "code",
   "execution_count": 2,
   "id": "19f1fd56",
   "metadata": {},
   "outputs": [],
   "source": [
    "import warnings\n",
    "warnings.filterwarnings(\"ignore\")\n",
    "\n",
    "import pandas as pd\n",
    "import numpy as np\n",
    "import statsmodels.formula.api as smf\n",
    "import statsmodels.api as sm\n",
    "import seaborn as sns\n",
    "import matplotlib.pyplot as plt\n",
    "from patsy import dmatrix\n",
    "from sklearn.metrics import mean_squared_error\n",
    "from pyearth import Earth\n",
    "from sklearn.metrics import roc_curve, precision_recall_curve, auc, make_scorer, recall_score, accuracy_score, precision_score, confusion_matrix\n",
    "from sklearn.linear_model import LinearRegression, LogisticRegression\n",
    "from sklearn.model_selection import train_test_split, cross_val_predict, cross_val_score, cross_validate\n",
    "from patsy import dmatrix\n",
    "import statsmodels.formula.api as smf\n",
    "from sklearn.model_selection import cross_val_predict\n",
    "from sklearn.metrics import accuracy_score, mean_absolute_error, mean_squared_error, r2_score, roc_curve, auc, precision_score, recall_score, confusion_matrix\n",
    "\n",
    "from sklearn.model_selection import KFold, StratifiedKFold\n",
    "from sklearn.tree import DecisionTreeRegressor, DecisionTreeClassifier\n",
    "from sklearn.model_selection import GridSearchCV, ParameterGrid\n",
    "from sklearn.ensemble import BaggingRegressor,BaggingClassifier,RandomForestClassifier, RandomForestRegressor\n",
    "from sklearn.linear_model import LinearRegression\n",
    "from sklearn.metrics import SCORERS\n",
    "\n",
    "#Libraries for visualizing trees\n",
    "from sklearn.tree import export_graphviz\n",
    "from six import StringIO\n",
    "from IPython.display import Image\n",
    "\n",
    "#import pydotplus\n",
    "import time as tm\n",
    "\n",
    "import itertools as it\n",
    "\n",
    "import pandas as pd\n",
    "import numpy as np\n",
    "import seaborn as sns\n",
    "import matplotlib.pyplot as plt\n",
    "from sklearn.metrics import mean_squared_error\n",
    "from sklearn.model_selection import cross_val_score,train_test_split, KFold, cross_val_predict\n",
    "from sklearn.metrics import mean_squared_error,r2_score,roc_curve,auc,precision_recall_curve, accuracy_score, \\\n",
    "recall_score, precision_score, confusion_matrix\n",
    "from sklearn.tree import DecisionTreeRegressor,DecisionTreeClassifier\n",
    "from sklearn.model_selection import GridSearchCV, ParameterGrid, StratifiedKFold, RandomizedSearchCV\n",
    "from sklearn.ensemble import VotingRegressor, VotingClassifier, StackingRegressor, StackingClassifier, GradientBoostingRegressor,GradientBoostingClassifier, BaggingRegressor,BaggingClassifier,RandomForestRegressor,RandomForestClassifier,AdaBoostRegressor,AdaBoostClassifier\n",
    "from sklearn.linear_model import LinearRegression,LogisticRegression, LassoCV, RidgeCV, ElasticNetCV\n",
    "from sklearn.neighbors import KNeighborsRegressor\n",
    "import itertools as it\n",
    "import time as time\n",
    "import xgboost as xgb"
   ]
  },
  {
   "cell_type": "markdown",
   "id": "371a5a4a",
   "metadata": {},
   "source": [
    "### Distribution of response\n",
    "*By Luca Moretti*"
   ]
  },
  {
   "cell_type": "code",
   "execution_count": 4,
   "id": "b868f6b5",
   "metadata": {},
   "outputs": [
    {
     "data": {
      "image/png": "[encoded data removed]",
      "text/plain": [
       "<Figure size 576x432 with 1 Axes>"
      ]
     },
     "metadata": {
      "needs_background": "light"
     },
     "output_type": "display_data"
    },
    {
     "name": "stdout",
     "output_type": "stream",
     "text": [
      "Statistical Summary of Response \"Credit_Rating\":\n"
     ]
    },
    {
     "data": {
      "text/plain": [
       "count    8034.000000\n",
       "mean      618.481320\n",
       "std        75.088475\n",
       "min       353.837009\n",
       "25%       594.377473\n",
       "50%       630.049322\n",
       "75%       664.552099\n",
       "max       728.753781\n",
       "Name: Credit_Rating, dtype: float64"
      ]
     },
     "execution_count": 4,
     "metadata": {},
     "output_type": "execute_result"
    }
   ],
   "source": [
    "#Plot for distribution of response\n",
    "fig, ax = plt.subplots(figsize=(8, 6))\n",
    "\n",
    "sns.kdeplot(train_final['Credit_Rating'], ax=ax)\n",
    "\n",
    "ax.set_title(\"Distribution of the response 'Credit_Rating'\")\n",
    "ax.set_xlabel('Credit Rating')\n",
    "ax.set_ylabel('Density')\n",
    "plt.show()\n",
    "\n",
    "# Mean and standard deviation of response\n",
    "print('Statistical Summary of Response \"Credit_Rating\":')\n",
    "train_final['Credit_Rating'].describe().T"
   ]
  },
  {
   "cell_type": "markdown",
   "id": "ff6b5e83",
   "metadata": {},
   "source": [
    "### Data cleaning\n",
    "*By Luca Moretti & Kaylee Mo*"
   ]
  },
  {
   "cell_type": "code",
   "execution_count": null,
   "id": "25ddf4d3",
   "metadata": {},
   "outputs": [],
   "source": [
    "# Drop irrelevant columns\n",
    "columns_to_drop = ['Customer_ID', 'ID','Month', 'Name', 'SSN', 'Interest_Rate','Occupation',\n",
    "                    'Type_of_Loan', 'Delay_from_due_date', 'Payment_Behaviour', 'Credit_History_Age', 'Credit_Score']\n",
    "\n",
    "train.drop(columns_to_drop, axis=1, inplace=True)\n",
    "\n",
    "\n",
    "\n",
    "# Removing invalid characters from columns\n",
    "mix_type_num_col = ['Age', 'Annual_Income', \n",
    "                    'Num_of_Delayed_Payment','Changed_Credit_Limit',\n",
    "                    'Outstanding_Debt', 'Amount_invested_monthly', 'Monthly_Balance', 'Num_of_Loan']\n",
    "\n",
    "def set_numeric_columns(features,df=None):\n",
    "\n",
    "    df[features]=df[features].apply(lambda x: x.replace('_','',regex=True) )\n",
    "    df[features]=df[features].apply(lambda x: x.str.strip())\n",
    "    df[features]=df[features].apply(lambda x: x.replace('',np.nan))\n",
    "    df[features[1:]]=df[features[1:]].astype('float32')\n",
    "    df[features[0]]=df[features[0]].astype('int32')\n",
    "\n",
    "set_numeric_columns(mix_type_num_col,df=train)\n",
    "\n",
    "\n",
    "\n",
    "# Removing outliers\n",
    "numerics = ['int16', 'int32', 'int64', 'float16', 'float32', 'float64']\n",
    "def remove_outliers(df, columns, threshold=3):\n",
    "    print(columns)\n",
    "    outliers_indices = []\n",
    "    for column_name in columns:\n",
    "        # Calculate the Z-scores for the specified column\n",
    "        z_scores = np.abs((df[column_name] - df[column_name].mean()) / df[column_name].std())\n",
    "        # Identify outliers based on the threshold\n",
    "        outliers_indices.extend(z_scores[z_scores > threshold].index)\n",
    "    \n",
    "    df_no_outliers = df.drop(outliers_indices)\n",
    "    return df_no_outliers\n",
    "\n",
    "train = remove_outliers(train, train.select_dtypes(include = numerics).columns.tolist(), threshold = 1)\n"
   ]
  },
  {
   "cell_type": "markdown",
   "id": "424479b5",
   "metadata": {},
   "source": [
    "### Data preparation\n",
    "*By Luca Moretti*\n",
    "\n",
    "The following data preparation steps helped us to prepare our data for implementing various modeling / validation techniques:\n",
    "\n",
    "1. Since we wanted to frame our problem as regression, we needed to create a new continuous variable \"Credit_Rating\" by assigned ranged random values based on \"Poor,\" \"Standard,\" and \"Good\" credit scores found in the column \"Credit_Score\". \n",
    "\n",
    "2. NAN values and outliers were removed to improve model accuracy and RMSE scores.\n",
    "\n",
    "3. The training dataset was split with test_size = 0.2 and random_state = 45"
   ]
  },
  {
   "cell_type": "code",
   "execution_count": 3,
   "id": "bde6859d",
   "metadata": {},
   "outputs": [],
   "source": [
    "######---------------Creating new response 'Credit_Rating'----------------#########\n",
    "\n",
    "train['Credit_Rating'] = 0\n",
    "train['Credit_Rating'] = np.where(train['Credit_Score'] == 'Good',\n",
    "                          np.random.uniform(670, 730, size=len(train)),\n",
    "                          train['Credit_Rating'])\n",
    "\n",
    "train['Credit_Rating'] = np.where(train['Credit_Score'] == 'Standard',\n",
    "                          np.random.uniform(580, 670, size=len(train)),\n",
    "                          train['Credit_Rating'])\n",
    "\n",
    "train['Credit_Rating'] = np.where(train['Credit_Score'] == 'Poor',\n",
    "                          np.random.uniform(0, 580, size=len(train)),\n",
    "                          train['Credit_Rating'])\n",
    "\n",
    "\n",
    "\n",
    "######---------------Split dataset----------------#########\n",
    "train = pd.read_csv('train_final.csv')\n",
    "train_final = pd.get_dummies(train)\n",
    "y = train_final.Credit_Rating\n",
    "X = train_final.drop(columns = 'Credit_Rating')\n",
    "X_train, X_test, y_train, y_test = train_test_split(X, y, test_size = 0.2, random_state = 45)\n",
    "\n",
    "X = X_train[X_train.columns]\n",
    "y = y_train"
   ]
  },
  {
   "cell_type": "markdown",
   "id": "fbb11c9b",
   "metadata": {},
   "source": [
    "## Exploratory data analysis"
   ]
  },
  {
   "cell_type": "markdown",
   "id": "e4bd74a9",
   "metadata": {},
   "source": [
    "Put code with comments. The comments should explain the code such that it can be easily understood. You may put text *(in a markdown cell)* before a large chunk of code to explain the overall purpose of the code, if it is not intuitive. **Put the name of the person / persons who contributed to each code chunk / set of code chunks.**"
   ]
  },
  {
   "cell_type": "markdown",
   "id": "acab331a",
   "metadata": {},
   "source": [
    "## Developing the model: Hyperparameter tuning"
   ]
  },
  {
   "cell_type": "markdown",
   "id": "ae5ec4c9",
   "metadata": {},
   "source": [
    "Put code with comments. The comments should explain the code such that it can be easily understood. You may put text *(in a markdown cell)* before a large chunk of code to explain the overall purpose of the code, if it is not intuitive. **Put the name of the person / persons who contributed to each code chunk / set of code chunks.**\n",
    "\n",
    "Put each model in a section of its name and mention the name of the team-member tuning the model. Below is an example:"
   ]
  },
  {
   "cell_type": "markdown",
   "id": "21bc9dcc",
   "metadata": {},
   "source": [
    "### MARS and Bagged MARS\n",
    "*By Luca Moretti*"
   ]
  },
  {
   "cell_type": "code",
   "execution_count": 5,
   "id": "111fa69d",
   "metadata": {},
   "outputs": [
    {
     "name": "stdout",
     "output_type": "stream",
     "text": [
      "degree            2\n",
      "RMSE      64.582452\n",
      "Name: 1, dtype: object\n"
     ]
    }
   ],
   "source": [
    "# 5-fold cross validation finding optimal degree\n",
    "rmse_df = pd.DataFrame(columns = {'degree', 'RMSE'})\n",
    "cv = KFold(n_splits=5, random_state=1, shuffle=True)\n",
    "counter = 0\n",
    "for degree in np.arange(1, 10, 1):\n",
    "    rmse_df.loc[counter, 'RMSE'] = np.sqrt(np.mean(-cross_val_score(Earth(max_terms=1000, max_degree = degree),\n",
    "                                 X_train, y_train, scoring='neg_mean_squared_error', cv=cv, n_jobs=-1)))\n",
    "    rmse_df.loc[counter, 'degree'] = degree\n",
    "    counter = counter + 1\n",
    "    \n",
    "rmse_df.loc[np.argmin(rmse_df.RMSE),:]"
   ]
  },
  {
   "cell_type": "code",
   "execution_count": 6,
   "id": "428fb8b7",
   "metadata": {
    "scrolled": false
   },
   "outputs": [
    {
     "name": "stdout",
     "output_type": "stream",
     "text": [
      "Earth Model\n",
      "---------------------------------------------------------------------------------------\n",
      "Basis Function                                                   Pruned  Coefficient   \n",
      "---------------------------------------------------------------------------------------\n",
      "(Intercept)                                                      No      674.193       \n",
      "h(Outstanding_Debt-844.81)                                       No      25.5192       \n",
      "h(844.81-Outstanding_Debt)                                       Yes     None          \n",
      "Credit_Mix_Good                                                  No      19.9238       \n",
      "Credit_Mix_Bad                                                   No      -128.351      \n",
      "h(Outstanding_Debt-1820.55)*h(Outstanding_Debt-844.81)           Yes     None          \n",
      "h(1820.55-Outstanding_Debt)*h(Outstanding_Debt-844.81)           No      0.00090613    \n",
      "Credit_Mix_Bad*h(Outstanding_Debt-844.81)                        No      0.0534639     \n",
      "h(Num_Credit_Inquiries-17)*h(Outstanding_Debt-844.81)            Yes     None          \n",
      "h(17-Num_Credit_Inquiries)*h(Outstanding_Debt-844.81)            No      0.00414525    \n",
      "h(Amount_invested_monthly-85.4081)*h(Outstanding_Debt-844.81)    Yes     None          \n",
      "h(85.4081-Amount_invested_monthly)*h(Outstanding_Debt-844.81)    No      0.000426799   \n",
      "Num_Credit_Inquiries*Credit_Mix_Bad                              No      5.83753       \n",
      "h(Total_EMI_per_month-672.677)                                   Yes     None          \n",
      "h(672.677-Total_EMI_per_month)                                   No      -0.200719     \n",
      "h(Unnamed: 0-2395)*h(Outstanding_Debt-844.81)                    No      1.21312e-07   \n",
      "h(2395-Unnamed: 0)*h(Outstanding_Debt-844.81)                    No      1.93275e-05   \n",
      "h(Num_of_Delayed_Payment-26)*Credit_Mix_Bad                      No      -61.8677      \n",
      "h(26-Num_of_Delayed_Payment)*Credit_Mix_Bad                      Yes     None          \n",
      "Num_of_Delayed_Payment*Credit_Mix_Good                           No      1.2682        \n",
      "h(Credit_Utilization_Ratio-37.3907)*h(Outstanding_Debt-844.81)   Yes     None          \n",
      "h(37.3907-Credit_Utilization_Ratio)*h(Outstanding_Debt-844.81)   No      -14.981       \n",
      "Num_of_Loan                                                      Yes     None          \n",
      "h(Monthly_Inhand_Salary-1911.83)*Num_of_Loan                     No      -0.000820389  \n",
      "h(1911.83-Monthly_Inhand_Salary)*Num_of_Loan                     No      -0.00322946   \n",
      "h(Credit_Utilization_Ratio-35.6798)*h(Outstanding_Debt-844.81)   No      -14.9657      \n",
      "h(35.6798-Credit_Utilization_Ratio)*h(Outstanding_Debt-844.81)   No      14.982        \n",
      "h(Outstanding_Debt-1846.37)*h(Outstanding_Debt-844.81)           No      3.07275e-05   \n",
      "h(1846.37-Outstanding_Debt)*h(Outstanding_Debt-844.81)           No      -0.000816249  \n",
      "h(Num_Credit_Card-80)*h(672.677-Total_EMI_per_month)             No      0.00243093    \n",
      "h(80-Num_Credit_Card)*h(672.677-Total_EMI_per_month)             No      0.00170634    \n",
      "Annual_Income*Credit_Mix_Bad                                     No      -0.000445691  \n",
      "h(Monthly_Inhand_Salary-5888.27)*h(672.677-Total_EMI_per_month)  No      1.80309e-05   \n",
      "h(5888.27-Monthly_Inhand_Salary)*h(672.677-Total_EMI_per_month)  Yes     None          \n",
      "---------------------------------------------------------------------------------------\n",
      "MSE: 3987.1585, GCV: 4063.9357, RSQ: 0.2977, GRSQ: 0.2844\n"
     ]
    }
   ],
   "source": [
    "# MARS model summary\n",
    "model = Earth(max_terms=1000, max_degree=2, feature_importance_type= 'rss') \n",
    "model.fit(X_train,y_train)\n",
    "print(model.summary())"
   ]
  },
  {
   "cell_type": "code",
   "execution_count": 12,
   "id": "69900b02",
   "metadata": {},
   "outputs": [
    {
     "name": "stdout",
     "output_type": "stream",
     "text": [
      "Fitting 5 folds for each of 18 candidates, totalling 90 fits\n",
      "Best Parameters :  {'max_features': 0.5, 'max_samples': 1.0, 'n_estimators': 400}\n"
     ]
    }
   ],
   "source": [
    "# Initial 5-fold grid search using the following parameters\n",
    "params = {'n_estimators': [200, 300, 400],\n",
    "          'max_samples': [1.0, 1.5],\n",
    "          'max_features': [0.25, 0.5, 0.75]}\n",
    "\n",
    "cv = KFold(n_splits=5,shuffle=True,random_state=1)\n",
    "bagging_regressor_grid_finer1 = GridSearchCV(BaggingRegressor(random_state=1, n_jobs=-1), \n",
    "                                      param_grid =finer_params1, cv=cv, n_jobs=-1, verbose=1)\n",
    "bagging_regressor_grid_finer1.fit(X, y)\n",
    "\n",
    "print('Best Parameters : ',bagging_regressor_grid_finer1.best_params_)"
   ]
  },
  {
   "cell_type": "code",
   "execution_count": 13,
   "id": "3301c5e7",
   "metadata": {},
   "outputs": [
    {
     "name": "stdout",
     "output_type": "stream",
     "text": [
      "Test RMSE: 65.18251923571461\n"
     ]
    }
   ],
   "source": [
    "model = BaggingRegressor(base_estimator=model, n_estimators=400, random_state=1,\n",
    "                        oob_score=True,n_jobs=-1,bootstrap_features=True,bootstrap=True,\n",
    "                        max_features=1.0,max_samples=1.0).fit(X, y)\n",
    "\n",
    "RMSE = np.sqrt(mean_squared_error(y_test, model.predict(X_test)))\n",
    "print(RMSE)"
   ]
  },
  {
   "cell_type": "code",
   "execution_count": 25,
   "id": "dea86975",
   "metadata": {},
   "outputs": [
    {
     "name": "stdout",
     "output_type": "stream",
     "text": [
      "Fitting 5 folds for each of 12 candidates, totalling 60 fits\n",
      "Best Parameters :  {'max_features': 0.5, 'max_samples': 1.0, 'n_estimators': 250}\n"
     ]
    }
   ],
   "source": [
    "# Alternate 5-fold grid search using the following parameters\n",
    "params = {'n_estimators': [250,300,350],\n",
    "          'max_samples': [0.5,0.4],\n",
    "          'max_features': [0.5,1.0],}\n",
    "\n",
    "cv = KFold(n_splits=5,shuffle=True,random_state=1)\n",
    "bagging_regressor_grid = GridSearchCV(BaggingRegressor(random_state=1, n_jobs=-1), \n",
    "                                      param_grid =params, cv=cv, n_jobs=-1, verbose=1)\n",
    "\n",
    "print('Best Parameters : ',bagging_regressor_grid.best_params_)"
   ]
  },
  {
   "cell_type": "code",
   "execution_count": 18,
   "id": "7ae9cbad",
   "metadata": {},
   "outputs": [
    {
     "name": "stdout",
     "output_type": "stream",
     "text": [
      "Test RMSE: 64.97269572938473\n"
     ]
    }
   ],
   "source": [
    "model = BaggingRegressor(base_estimator=model, n_estimators=250, random_state=1,\n",
    "                        oob_score=True,n_jobs=-1,bootstrap_features=True,bootstrap=True,\n",
    "                        max_features=0.5,max_samples=1.0).fit(X, y)\n",
    "\n",
    "RMSE = np.sqrt(mean_squared_error(y_test, model.predict(X_test)))\n",
    "print(\"Test RMSE:\",RMSE)"
   ]
  },
  {
   "cell_type": "code",
   "execution_count": 24,
   "id": "0e0f78f5",
   "metadata": {},
   "outputs": [
    {
     "name": "stdout",
     "output_type": "stream",
     "text": [
      "Fitting 5 folds for each of 12 candidates, totalling 60 fits\n",
      "Best Parameters :  {'max_features': 0.5, 'max_samples': 1.0, 'n_estimators': 200}\n"
     ]
    }
   ],
   "source": [
    "# BEST 5-fold grid search using the following parameters\n",
    "params = {'n_estimators': [200,225,250],\n",
    "          'max_samples': [0.5,0.6],\n",
    "          'max_features': [0.5,1.0],}\n",
    "\n",
    "cv = KFold(n_splits=5,shuffle=True,random_state=1)\n",
    "bagging_regressor_grid = GridSearchCV(BaggingRegressor(random_state=1, n_jobs=-1), \n",
    "                                      param_grid =params, cv=cv, n_jobs=-1, verbose=1)\n",
    "\n",
    "print('Best Parameters : ',bagging_regressor_grid.best_params_)"
   ]
  },
  {
   "cell_type": "code",
   "execution_count": 10,
   "id": "5ade1694",
   "metadata": {},
   "outputs": [
    {
     "name": "stdout",
     "output_type": "stream",
     "text": [
      "Test RMSE: 61.90342908024614\n"
     ]
    }
   ],
   "source": [
    "model1 = BaggingRegressor(base_estimator=model, n_estimators=200, random_state=1,\n",
    "                        oob_score=True,n_jobs=-1,bootstrap_features=True,bootstrap=True,\n",
    "                        max_features=0.5,max_samples=1.0).fit(X, y)\n",
    "\n",
    "RMSE = np.sqrt(mean_squared_error(y_test, model.predict(X_test)))\n",
    "print(\"Test RMSE:\",RMSE)"
   ]
  },
  {
   "cell_type": "markdown",
   "id": "a67c9ff7",
   "metadata": {},
   "source": [
    "### Bagged Trees\n",
    "*By Nicket Mauskar*"
   ]
  },
  {
   "cell_type": "markdown",
   "id": "017ca069",
   "metadata": {},
   "source": [
    "### Random forest\n",
    "*By Kaylee Mo*"
   ]
  },
  {
   "cell_type": "markdown",
   "id": "8182968b",
   "metadata": {},
   "source": [
    "### XGBoost\n",
    "*By Ashley Witarsa*"
   ]
  },
  {
   "cell_type": "markdown",
   "id": "a221dcc6",
   "metadata": {},
   "source": [
    "## Model Ensemble "
   ]
  },
  {
   "cell_type": "markdown",
   "id": "9dc8b3d9",
   "metadata": {},
   "source": [
    "Put code with comments. The comments should explain the code such that it can be easily understood. You may put text *(in a markdown cell)* before a large chunk of code to explain the overall purpose of the code, if it is not intuitive. **Put the name of the person / persons who contributed to each code chunk / set of code chunks.**\n"
   ]
  },
  {
   "cell_type": "code",
   "execution_count": null,
   "id": "bfe33b01",
   "metadata": {},
   "outputs": [],
   "source": [
    "# MARS MODEL\n",
    "model = Earth(max_terms=1000, max_degree=2, feature_importance_type= 'rss') \n",
    "MARS = BaggingRegressor(base_estimator=model, n_estimators=200, random_state=1,\n",
    "                        oob_score=True,n_jobs=-1,bootstrap_features=True,bootstrap=True,\n",
    "                        max_features=0.5,max_samples=1.0).fit(X, y)"
   ]
  },
  {
   "cell_type": "markdown",
   "id": "961bcb1d",
   "metadata": {},
   "source": [
    "### Voting ensemble"
   ]
  },
  {
   "cell_type": "markdown",
   "id": "ca651ba0",
   "metadata": {},
   "source": [
    "### Stacking ensemble(s)"
   ]
  },
  {
   "cell_type": "markdown",
   "id": "ddff3adf",
   "metadata": {},
   "source": [
    "### Ensemble of ensembled models"
   ]
  }
 ],
 "metadata": {
  "kernelspec": {
   "display_name": "Python 3 (ipykernel)",
   "language": "python",
   "name": "python3"
  },
  "language_info": {
   "codemirror_mode": {
    "name": "ipython",
    "version": 3
   },
   "file_extension": ".py",
   "mimetype": "text/x-python",
   "name": "python",
   "nbconvert_exporter": "python",
   "pygments_lexer": "ipython3",
   "version": "3.9.12"
  }
 },
 "nbformat": 4,
 "nbformat_minor": 5
}
